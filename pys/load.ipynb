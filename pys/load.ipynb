{
 "cells": [
  {
   "cell_type": "code",
   "execution_count": 164,
   "metadata": {},
   "outputs": [],
   "source": [
    "import numpy as np\n",
    "\n",
    "import pandas as pd\n",
    "\n",
    "from sklearn.model_selection import KFold\n",
    "\n",
    "from sklearn.metrics import mean_squared_error\n",
    "\n",
    "import xgboost as xgb\n",
    "\n",
    "import math"
   ]
  },
  {
   "cell_type": "code",
   "execution_count": 165,
   "metadata": {
    "collapsed": true
   },
   "outputs": [],
   "source": [
    "INPUT_PATH = '../input/'\n",
    "OUTPUT_PATH = '../output/'\n",
    "\n",
    "\n",
    "def load_data():\n",
    "    train = pd.read_csv(INPUT_PATH + 'trainv1.csv')\n",
    "    train['target'] = train['target'].map(lambda x: data_log(x))\n",
    "    submit = pd.read_csv(INPUT_PATH + 'submitv1.csv')\n",
    "    return train, submit\n",
    "\n",
    "\n",
    "def get_xgb_imp(xgb, feat_names):\n",
    "    from numpy import array\n",
    "    imp_vals = xgb.get_fscore()\n",
    "    imp_dict = {feat_names[i]:float(imp_vals.get('f'+str(i),0.)) for i in range(len(feat_names))}\n",
    "    total = array(imp_dict.values()).sum()\n",
    "    return {k:v/total for k,v in imp_dict.items()}\n",
    "\n",
    "\n",
    "def merge_dic(dicts):\n",
    "    ret = {}\n",
    "    for dict in dicts:\n",
    "        for key in dict:\n",
    "            val = dict[key]\n",
    "            ret[key] = ret[key]+val if key in ret else val\n",
    "    return ret\n",
    "\n",
    "def data_log(x):\n",
    "    if x <= 0:\n",
    "        return 0\n",
    "    else:\n",
    "        return np.math.log(x + 1, 5)"
   ]
  },
  {
   "cell_type": "code",
   "execution_count": 166,
   "metadata": {},
   "outputs": [
    {
     "name": "stdout",
     "output_type": "stream",
     "text": [
      "begin to load data\n"
     ]
    }
   ],
   "source": [
    "print('begin to load data')\n",
    "train, submit = load_data()\n",
    "\n",
    "kfold = 10\n",
    "skf = KFold(n_splits=kfold,shuffle=True, random_state=42)"
   ]
  },
  {
   "cell_type": "code",
   "execution_count": 167,
   "metadata": {
    "collapsed": true
   },
   "outputs": [],
   "source": [
    "params = {\n",
    "        'objective': 'reg:linear',\n",
    "        'max_depth': 6,\n",
    "        'colsample_bytree': 0.8,\n",
    "        'subsample': 0.8,\n",
    "        'eta': 0.025,\n",
    "        'gamma': 1,\n",
    "        'reg_alpha': 0.5,\n",
    "        'reg_lambda': 0.8,\n",
    "        'eval_metric': 'rmse',\n",
    "        'min_child_weight': 2,\n",
    "        'silent': 1,\n",
    "        'nthread': 6\n",
    "    }\n",
    "\n"
   ]
  },
  {
   "cell_type": "code",
   "execution_count": 168,
   "metadata": {},
   "outputs": [],
   "source": [
    "# cum = get_column_by_cum(train)\n",
    "cum= ['comsume_counts_sum','comsume_amounts_sum','click_counts_sum']\n",
    "#actives = [ 'limit_get_promoted','limit_get_promoted_ever']\n",
    "#actives = ['dev_comsume_count', 'dev_consume_amount', 'dev_loan_amount', 'dev_loan_count', 'dev_plannum', 'dev_click_count']\n",
    "#cum= []\n",
    "actives =[]\n",
    "all_features = [x for x in train.columns if not x in ['uid', 'target', 'active_date' ]+cum+actives]\n",
    "\n",
    "X = train.drop(['uid', 'target', 'active_date']+cum+actives, axis=1).values\n",
    "y = train.target.values\n",
    "\n",
    "sub_id = submit.uid.values\n",
    "to_submit = submit.drop(['uid', 'active_date']+cum+actives, axis=1)\n",
    "\n",
    "sub = pd.DataFrame()\n",
    "sub['uid'] = sub_id\n",
    "sub['target'] = np.zeros_like(sub_id)\n",
    "\n",
    "scores = []\n",
    "\n",
    "importances = []"
   ]
  },
  {
   "cell_type": "code",
   "execution_count": 169,
   "metadata": {},
   "outputs": [
    {
     "name": "stdout",
     "output_type": "stream",
     "text": [
      "[0]\ttrain-rmse:2.45869\tvalid-rmse:2.47464\n",
      "Multiple eval metrics have been passed: 'valid-rmse' will be used for early stopping.\n",
      "\n",
      "Will train until valid-rmse hasn't improved in 70 rounds.\n",
      "[50]\ttrain-rmse:1.91\tvalid-rmse:1.90872\n",
      "[100]\ttrain-rmse:1.84815\tvalid-rmse:1.84705\n",
      "[150]\ttrain-rmse:1.83603\tvalid-rmse:1.83912\n",
      "[200]\ttrain-rmse:1.82996\tvalid-rmse:1.83739\n",
      "[250]\ttrain-rmse:1.82559\tvalid-rmse:1.83668\n",
      "[300]\ttrain-rmse:1.82178\tvalid-rmse:1.83662\n",
      "[350]\ttrain-rmse:1.81817\tvalid-rmse:1.8364\n",
      "[400]\ttrain-rmse:1.81455\tvalid-rmse:1.83613\n",
      "[450]\ttrain-rmse:1.81116\tvalid-rmse:1.83602\n",
      "[500]\ttrain-rmse:1.80784\tvalid-rmse:1.83592\n",
      "[550]\ttrain-rmse:1.80408\tvalid-rmse:1.83585\n",
      "[600]\ttrain-rmse:1.80076\tvalid-rmse:1.83582\n",
      "[650]\ttrain-rmse:1.79734\tvalid-rmse:1.83564\n",
      "[700]\ttrain-rmse:1.79422\tvalid-rmse:1.83554\n",
      "[750]\ttrain-rmse:1.79083\tvalid-rmse:1.83579\n",
      "Stopping. Best iteration:\n",
      "[691]\ttrain-rmse:1.79484\tvalid-rmse:1.83553\n",
      "\n",
      "{'plannum': 0.0417042832781623, 'sex': 0.0035359614805898286, 'limit_get_promoted_ever': 0.003109639883639282, 'loan_amount_cum': 0.06389808406058782, 'consume_amount': 0.069590731266927469, 'dev_loan_amount': 0.056249373056475073, 'limit_get_promoted': 0.0057929581703280173, 'loan_count': 0.036187180258802285, 'limit': 0.021667168221486607, 'consume_amount_cum': 0.061916942521817633, 'click_count_cum': 0.060637977730965992, 'comsume_count_cum': 0.056274450797472161, 'loan_amount': 0.057152171732370347, 'dev_consume_amount_cum': 0.060487511284983447, 'plannum_cum': 0.043058481292005214, 'active_month': 0.027836292506770988, 'active_year': 0.001379275754840004, 'actived_months': 0.027309659945832079, 'click_count': 0.060587822248971815, 'comsume_count': 0.046368743103621227, 'age': 0.018933694452803691, 'loan_count_cum': 0.032927073929180463, 'dev_loan_amount_cum': 0.074556123984351491, 'dev_click_count_cum': 0.068838399037014747}\n",
      "1.83552674465\n",
      "[Fold 1/10 Prediciton:]\n",
      "[0]\ttrain-rmse:2.45934\tvalid-rmse:2.46878\n",
      "Multiple eval metrics have been passed: 'valid-rmse' will be used for early stopping.\n",
      "\n",
      "Will train until valid-rmse hasn't improved in 70 rounds.\n",
      "[50]\ttrain-rmse:1.908\tvalid-rmse:1.92195\n",
      "[100]\ttrain-rmse:1.84581\tvalid-rmse:1.86502\n",
      "[150]\ttrain-rmse:1.83358\tvalid-rmse:1.8582\n",
      "[200]\ttrain-rmse:1.82757\tvalid-rmse:1.85684\n",
      "[250]\ttrain-rmse:1.8229\tvalid-rmse:1.85617\n",
      "[300]\ttrain-rmse:1.81879\tvalid-rmse:1.85586\n",
      "[350]\ttrain-rmse:1.81525\tvalid-rmse:1.85565\n",
      "[400]\ttrain-rmse:1.81149\tvalid-rmse:1.85571\n",
      "[450]\ttrain-rmse:1.80787\tvalid-rmse:1.85553\n",
      "[500]\ttrain-rmse:1.80449\tvalid-rmse:1.85554\n",
      "[550]\ttrain-rmse:1.80131\tvalid-rmse:1.85548\n",
      "[600]\ttrain-rmse:1.79807\tvalid-rmse:1.85529\n",
      "[650]\ttrain-rmse:1.79448\tvalid-rmse:1.85522\n",
      "[700]\ttrain-rmse:1.79112\tvalid-rmse:1.85526\n",
      "Stopping. Best iteration:\n",
      "[670]\ttrain-rmse:1.7931\tvalid-rmse:1.85512\n",
      "\n",
      "{'plannum': 0.040244924921873017, 'sex': 0.0037094438374958715, 'limit_get_promoted_ever': 0.0039127010340709876, 'loan_amount_cum': 0.066388881831347335, 'consume_amount': 0.065931553139053328, 'dev_loan_amount': 0.054320485784699814, 'limit_get_promoted': 0.0063517873929723823, 'loan_count': 0.035341345054498333, 'limit': 0.023908127747148046, 'consume_amount_cum': 0.060951751822962981, 'click_count_cum': 0.062069666404126124, 'comsume_count_cum': 0.056734164994029321, 'loan_amount': 0.055540028964150515, 'dev_consume_amount_cum': 0.058538072613633474, 'plannum_cum': 0.043166747122640313, 'active_month': 0.027261871490637465, 'active_year': 0.0010416931324474707, 'actived_months': 0.027770014482075257, 'click_count': 0.061358266216113212, 'comsume_count': 0.045377169135394697, 'age': 0.018166111943901015, 'loan_count_cum': 0.03310551589217206, 'dev_loan_amount_cum': 0.076729591707106373, 'dev_click_count_cum': 0.072080083335450601}\n",
      "1.85511537804\n",
      "[Fold 2/10 Prediciton:]\n",
      "[0]\ttrain-rmse:2.45905\tvalid-rmse:2.47142\n",
      "Multiple eval metrics have been passed: 'valid-rmse' will be used for early stopping.\n",
      "\n",
      "Will train until valid-rmse hasn't improved in 70 rounds.\n",
      "[50]\ttrain-rmse:1.90764\tvalid-rmse:1.92489\n",
      "[100]\ttrain-rmse:1.84529\tvalid-rmse:1.86997\n",
      "[150]\ttrain-rmse:1.83325\tvalid-rmse:1.86431\n",
      "[200]\ttrain-rmse:1.82738\tvalid-rmse:1.86334\n",
      "[250]\ttrain-rmse:1.82251\tvalid-rmse:1.86286\n",
      "[300]\ttrain-rmse:1.81852\tvalid-rmse:1.86253\n",
      "[350]\ttrain-rmse:1.81494\tvalid-rmse:1.86248\n",
      "[400]\ttrain-rmse:1.81165\tvalid-rmse:1.86231\n",
      "[450]\ttrain-rmse:1.80811\tvalid-rmse:1.8621\n",
      "[500]\ttrain-rmse:1.80435\tvalid-rmse:1.86206\n",
      "[550]\ttrain-rmse:1.80116\tvalid-rmse:1.86194\n",
      "[600]\ttrain-rmse:1.79796\tvalid-rmse:1.86203\n",
      "Stopping. Best iteration:\n",
      "[553]\ttrain-rmse:1.80095\tvalid-rmse:1.86192\n",
      "\n",
      "{'plannum': 0.042059878795187987, 'sex': 0.0033165495824162569, 'limit_get_promoted_ever': 0.0032562486809177798, 'loan_amount_cum': 0.065155124069104828, 'consume_amount': 0.063014442065908879, 'dev_loan_amount': 0.055597431181596164, 'limit_get_promoted': 0.0069647541230741404, 'loan_count': 0.037115204872312839, 'limit': 0.022462085808182833, 'consume_amount_cum': 0.058793378961015469, 'click_count_cum': 0.061989326740434766, 'comsume_count_cum': 0.054391413151626614, 'loan_amount': 0.056773298760816472, 'dev_consume_amount_cum': 0.057316006874302772, 'plannum_cum': 0.044652817559622519, 'active_month': 0.028431875056532094, 'active_year': 0.0014773720867126963, 'actived_months': 0.028733379564024483, 'click_count': 0.06099436186570989, 'comsume_count': 0.044260861699882414, 'age': 0.020321403804986884, 'loan_count_cum': 0.033406699430156478, 'dev_loan_amount_cum': 0.076551994452317057, 'dev_click_count_cum': 0.072964090813157662}\n",
      "1.86191663244\n",
      "[Fold 3/10 Prediciton:]\n",
      "[0]\ttrain-rmse:2.4604\tvalid-rmse:2.45998\n",
      "Multiple eval metrics have been passed: 'valid-rmse' will be used for early stopping.\n",
      "\n",
      "Will train until valid-rmse hasn't improved in 70 rounds.\n",
      "[50]\ttrain-rmse:1.9097\tvalid-rmse:1.91027\n",
      "[100]\ttrain-rmse:1.84759\tvalid-rmse:1.85116\n",
      "[150]\ttrain-rmse:1.83562\tvalid-rmse:1.84374\n",
      "[200]\ttrain-rmse:1.82953\tvalid-rmse:1.84219\n",
      "[250]\ttrain-rmse:1.82506\tvalid-rmse:1.84167\n",
      "[300]\ttrain-rmse:1.82128\tvalid-rmse:1.84139\n",
      "[350]\ttrain-rmse:1.81742\tvalid-rmse:1.84125\n",
      "[400]\ttrain-rmse:1.81417\tvalid-rmse:1.84124\n",
      "Stopping. Best iteration:\n",
      "[344]\ttrain-rmse:1.81785\tvalid-rmse:1.84115\n",
      "\n",
      "{'plannum': 0.046494896353253296, 'sex': 0.0029227932910652456, 'limit_get_promoted_ever': 0.0038670803543324789, 'loan_amount_cum': 0.064841045011016687, 'consume_amount': 0.061108862808579523, 'dev_loan_amount': 0.053014973694860378, 'limit_get_promoted': 0.0085435496200368718, 'loan_count': 0.041908359188812444, 'limit': 0.0271594945815909, 'consume_amount_cum': 0.051935788479697827, 'click_count_cum': 0.063581995593327043, 'comsume_count_cum': 0.05355456630244166, 'loan_amount': 0.056432393542875131, 'dev_consume_amount_cum': 0.055667970682134992, 'plannum_cum': 0.042807680201447908, 'active_month': 0.031746031746031744, 'active_year': 0.0018436080759026935, 'actived_months': 0.031251405189082246, 'click_count': 0.057691442960564776, 'comsume_count': 0.036467467062367913, 'age': 0.019740096227348351, 'loan_count_cum': 0.039615090606592025, 'dev_loan_amount_cum': 0.079185215162552267, 'dev_click_count_cum': 0.068618193264085608}\n",
      "1.84114685798\n",
      "[Fold 4/10 Prediciton:]\n",
      "[0]\ttrain-rmse:2.46147\tvalid-rmse:2.45007\n",
      "Multiple eval metrics have been passed: 'valid-rmse' will be used for early stopping.\n",
      "\n",
      "Will train until valid-rmse hasn't improved in 70 rounds.\n",
      "[50]\ttrain-rmse:1.90845\tvalid-rmse:1.9162\n",
      "[100]\ttrain-rmse:1.84598\tvalid-rmse:1.86276\n",
      "[150]\ttrain-rmse:1.83401\tvalid-rmse:1.85677\n",
      "[200]\ttrain-rmse:1.82764\tvalid-rmse:1.85516\n",
      "[250]\ttrain-rmse:1.82315\tvalid-rmse:1.85473\n",
      "[300]\ttrain-rmse:1.81929\tvalid-rmse:1.85456\n",
      "[350]\ttrain-rmse:1.81581\tvalid-rmse:1.85442\n",
      "[400]\ttrain-rmse:1.8123\tvalid-rmse:1.8543\n",
      "[450]\ttrain-rmse:1.80891\tvalid-rmse:1.85427\n",
      "Stopping. Best iteration:\n",
      "[380]\ttrain-rmse:1.81358\tvalid-rmse:1.85422\n",
      "\n",
      "{'plannum': 0.047126247216953902, 'sex': 0.0032571946895357468, 'limit_get_promoted_ever': 0.0036694978147934361, 'loan_amount_cum': 0.064649130040405706, 'consume_amount': 0.059701492537313432, 'dev_loan_amount': 0.056897831285561147, 'limit_get_promoted': 0.0082872928176795577, 'loan_count': 0.039374948462109344, 'limit': 0.024119732827574833, 'consume_amount_cum': 0.052733569720458479, 'click_count_cum': 0.064030675352519176, 'comsume_count_cum': 0.056732910035458071, 'loan_amount': 0.057433825348396139, 'dev_consume_amount_cum': 0.055990764409994224, 'plannum_cum': 0.04337428877710893, 'active_month': 0.030840273769275173, 'active_year': 0.0016904428135565267, 'actived_months': 0.031087655644429786, 'click_count': 0.059330419724581515, 'comsume_count': 0.037725735961078588, 'age': 0.017193040323245649, 'loan_count_cum': 0.036983590335614741, 'dev_loan_amount_cum': 0.077100684423187932, 'dev_click_count_cum': 0.070668755669167971}\n"
     ]
    },
    {
     "name": "stdout",
     "output_type": "stream",
     "text": [
      "1.85422122877\n",
      "[Fold 5/10 Prediciton:]\n",
      "[0]\ttrain-rmse:2.46133\tvalid-rmse:2.45159\n",
      "Multiple eval metrics have been passed: 'valid-rmse' will be used for early stopping.\n",
      "\n",
      "Will train until valid-rmse hasn't improved in 70 rounds.\n",
      "[50]\ttrain-rmse:1.91005\tvalid-rmse:1.90472\n",
      "[100]\ttrain-rmse:1.84761\tvalid-rmse:1.84822\n",
      "[150]\ttrain-rmse:1.83539\tvalid-rmse:1.84166\n",
      "[200]\ttrain-rmse:1.82953\tvalid-rmse:1.84062\n",
      "[250]\ttrain-rmse:1.82462\tvalid-rmse:1.84008\n",
      "[300]\ttrain-rmse:1.82085\tvalid-rmse:1.83992\n",
      "[350]\ttrain-rmse:1.81715\tvalid-rmse:1.83987\n",
      "[400]\ttrain-rmse:1.81362\tvalid-rmse:1.83982\n",
      "Stopping. Best iteration:\n",
      "[371]\ttrain-rmse:1.81561\tvalid-rmse:1.83969\n",
      "\n",
      "{'plannum': 0.04625046791165828, 'sex': 0.0036601089714261947, 'limit_get_promoted_ever': 0.0043671754772698912, 'loan_amount_cum': 0.064592604916191829, 'consume_amount': 0.060433390175934784, 'dev_loan_amount': 0.056814873351911162, 'limit_get_promoted': 0.0080688765960986574, 'loan_count': 0.039138210705818743, 'limit': 0.026078276421411639, 'consume_amount_cum': 0.05290521149606954, 'click_count_cum': 0.062097076072037599, 'comsume_count_cum': 0.05178222351620014, 'loan_amount': 0.05361227800191324, 'dev_consume_amount_cum': 0.055192779603210916, 'plannum_cum': 0.04400449195191948, 'active_month': 0.029197687476604416, 'active_year': 0.0015389094538951046, 'actived_months': 0.030362267603876388, 'click_count': 0.061556378155804184, 'comsume_count': 0.037848854136339059, 'age': 0.019340348542195233, 'loan_count_cum': 0.037058603335690221, 'dev_loan_amount_cum': 0.082809965478517655, 'dev_click_count_cum': 0.071288940648005658}\n",
      "1.83968454632\n",
      "[Fold 6/10 Prediciton:]\n",
      "[0]\ttrain-rmse:2.4617\tvalid-rmse:2.44747\n",
      "Multiple eval metrics have been passed: 'valid-rmse' will be used for early stopping.\n",
      "\n",
      "Will train until valid-rmse hasn't improved in 70 rounds.\n",
      "[50]\ttrain-rmse:1.90757\tvalid-rmse:1.92294\n",
      "[100]\ttrain-rmse:1.84481\tvalid-rmse:1.87149\n",
      "[150]\ttrain-rmse:1.83261\tvalid-rmse:1.86622\n",
      "[200]\ttrain-rmse:1.82671\tvalid-rmse:1.86533\n",
      "[250]\ttrain-rmse:1.82237\tvalid-rmse:1.86497\n",
      "[300]\ttrain-rmse:1.81845\tvalid-rmse:1.86468\n",
      "[350]\ttrain-rmse:1.81479\tvalid-rmse:1.86451\n",
      "[400]\ttrain-rmse:1.81105\tvalid-rmse:1.86456\n",
      "[450]\ttrain-rmse:1.80748\tvalid-rmse:1.86441\n",
      "[500]\ttrain-rmse:1.80382\tvalid-rmse:1.86441\n",
      "[550]\ttrain-rmse:1.8004\tvalid-rmse:1.86417\n",
      "[600]\ttrain-rmse:1.79693\tvalid-rmse:1.86424\n",
      "[650]\ttrain-rmse:1.79381\tvalid-rmse:1.86419\n",
      "Stopping. Best iteration:\n",
      "[617]\ttrain-rmse:1.79581\tvalid-rmse:1.86406\n",
      "\n",
      "{'plannum': 0.042013812760359572, 'sex': 0.004028721771541329, 'limit_get_promoted_ever': 0.0034531900898925674, 'loan_amount_cum': 0.069474895856171892, 'consume_amount': 0.063198859899144921, 'dev_loan_amount': 0.056073229554922166, 'limit_get_promoted': 0.0062760359570269673, 'loan_count': 0.03612146459109844, 'limit': 0.022171672878754659, 'consume_amount_cum': 0.059087919315939486, 'click_count_cum': 0.061225608419206316, 'comsume_count_cum': 0.056128042096031575, 'loan_amount': 0.056840605130453845, 'dev_consume_amount_cum': 0.059279763209822409, 'plannum_cum': 0.042945625959219469, 'active_month': 0.026995176496382372, 'active_year': 0.0016717825038368779, 'actived_months': 0.028173646130234598, 'click_count': 0.060184170138127602, 'comsume_count': 0.045138127603595701, 'age': 0.018608857706643282, 'loan_count_cum': 0.034093400570050426, 'dev_loan_amount_cum': 0.078217496163122124, 'dev_click_count_cum': 0.068597895198421396}\n",
      "1.86406105981\n",
      "[Fold 7/10 Prediciton:]\n",
      "[0]\ttrain-rmse:2.4606\tvalid-rmse:2.45765\n",
      "Multiple eval metrics have been passed: 'valid-rmse' will be used for early stopping.\n",
      "\n",
      "Will train until valid-rmse hasn't improved in 70 rounds.\n",
      "[50]\ttrain-rmse:1.90943\tvalid-rmse:1.90959\n",
      "[100]\ttrain-rmse:1.84724\tvalid-rmse:1.85153\n",
      "[150]\ttrain-rmse:1.83526\tvalid-rmse:1.84417\n",
      "[200]\ttrain-rmse:1.82931\tvalid-rmse:1.84267\n",
      "[250]\ttrain-rmse:1.8249\tvalid-rmse:1.84202\n",
      "[300]\ttrain-rmse:1.82087\tvalid-rmse:1.84151\n",
      "[350]\ttrain-rmse:1.8174\tvalid-rmse:1.84136\n",
      "[400]\ttrain-rmse:1.81376\tvalid-rmse:1.84121\n",
      "[450]\ttrain-rmse:1.81033\tvalid-rmse:1.84108\n",
      "[500]\ttrain-rmse:1.80697\tvalid-rmse:1.84089\n",
      "[550]\ttrain-rmse:1.80373\tvalid-rmse:1.84095\n",
      "[600]\ttrain-rmse:1.80049\tvalid-rmse:1.8409\n",
      "[650]\ttrain-rmse:1.79714\tvalid-rmse:1.84087\n",
      "Stopping. Best iteration:\n",
      "[582]\ttrain-rmse:1.8017\tvalid-rmse:1.8408\n",
      "\n",
      "{'plannum': 0.042355882438442981, 'sex': 0.0033140498270298555, 'limit_get_promoted_ever': 0.0037210384022791361, 'loan_amount_cum': 0.065844937352830021, 'consume_amount': 0.063751853251548016, 'dev_loan_amount': 0.054827175208581644, 'limit_get_promoted': 0.0063083229163638475, 'loan_count': 0.037472019535451609, 'limit': 0.024535596965028054, 'consume_amount_cum': 0.058461001773307361, 'click_count_cum': 0.060641297712142793, 'comsume_count_cum': 0.053402715195209165, 'loan_amount': 0.056135352771882904, 'dev_consume_amount_cum': 0.058955202186110063, 'plannum_cum': 0.043286142039012765, 'active_month': 0.02892525945521672, 'active_year': 0.001627954300997122, 'actived_months': 0.028547341492485247, 'click_count': 0.061019215674874269, 'comsume_count': 0.041919823250675892, 'age': 0.019390098549376435, 'loan_count_cum': 0.036134771359632549, 'dev_loan_amount_cum': 0.0773859705223989, 'dev_click_count_cum': 0.072036977819122647}\n",
      "1.84079701513\n",
      "[Fold 8/10 Prediciton:]\n",
      "[0]\ttrain-rmse:2.4607\tvalid-rmse:2.4573\n",
      "Multiple eval metrics have been passed: 'valid-rmse' will be used for early stopping.\n",
      "\n",
      "Will train until valid-rmse hasn't improved in 70 rounds.\n",
      "[50]\ttrain-rmse:1.91021\tvalid-rmse:1.9054\n",
      "[100]\ttrain-rmse:1.84807\tvalid-rmse:1.84561\n",
      "[150]\ttrain-rmse:1.83602\tvalid-rmse:1.83821\n",
      "[200]\ttrain-rmse:1.83028\tvalid-rmse:1.83679\n",
      "[250]\ttrain-rmse:1.82556\tvalid-rmse:1.83634\n",
      "[300]\ttrain-rmse:1.82194\tvalid-rmse:1.83612\n",
      "[350]\ttrain-rmse:1.81842\tvalid-rmse:1.83593\n",
      "[400]\ttrain-rmse:1.81486\tvalid-rmse:1.83587\n",
      "[450]\ttrain-rmse:1.81137\tvalid-rmse:1.83596\n",
      "Stopping. Best iteration:\n",
      "[416]\ttrain-rmse:1.8139\tvalid-rmse:1.83582\n",
      "\n",
      "{'plannum': 0.044763481005350061, 'sex': 0.0035410492282822062, 'limit_get_promoted_ever': 0.0031561525730341403, 'loan_amount_cum': 0.06281513413648436, 'consume_amount': 0.063392479119356457, 'dev_loan_amount': 0.056002463338593586, 'limit_get_promoted': 0.0074285054462876719, 'loan_count': 0.039374927831877141, 'limit': 0.024825834263500251, 'consume_amount_cum': 0.054616835379700551, 'click_count_cum': 0.061237057849967282, 'comsume_count_cum': 0.054770794041799777, 'loan_amount': 0.056348870328316848, 'dev_consume_amount_cum': 0.055425118355721489, 'plannum_cum': 0.043608791039605868, 'active_month': 0.03025287710249798, 'active_year': 0.0015780762865170701, 'actived_months': 0.029136676802278588, 'click_count': 0.060236326546322314, 'comsume_count': 0.040298679804472499, 'age': 0.020091605403949039, 'loan_count_cum': 0.035141064624148413, 'dev_loan_amount_cum': 0.079211731650051964, 'dev_click_count_cum': 0.072745467841884459}\n",
      "1.83582092059\n",
      "[Fold 9/10 Prediciton:]\n",
      "[0]\ttrain-rmse:2.4597\tvalid-rmse:2.46458\n",
      "Multiple eval metrics have been passed: 'valid-rmse' will be used for early stopping.\n",
      "\n",
      "Will train until valid-rmse hasn't improved in 70 rounds.\n",
      "[50]\ttrain-rmse:1.90887\tvalid-rmse:1.91843\n",
      "[100]\ttrain-rmse:1.84635\tvalid-rmse:1.86015\n",
      "[150]\ttrain-rmse:1.83468\tvalid-rmse:1.85299\n",
      "[200]\ttrain-rmse:1.82851\tvalid-rmse:1.85117\n",
      "[250]\ttrain-rmse:1.82374\tvalid-rmse:1.85034\n",
      "[300]\ttrain-rmse:1.8198\tvalid-rmse:1.84996\n",
      "[350]\ttrain-rmse:1.81587\tvalid-rmse:1.84974\n",
      "[400]\ttrain-rmse:1.81227\tvalid-rmse:1.84957\n",
      "[450]\ttrain-rmse:1.80867\tvalid-rmse:1.84957\n",
      "Stopping. Best iteration:\n",
      "[385]\ttrain-rmse:1.81329\tvalid-rmse:1.84946\n",
      "\n",
      "{'plannum': 0.044672147746142317, 'sex': 0.003402049329715281, 'limit_get_promoted_ever': 0.0031185452189056743, 'loan_amount_cum': 0.068648495403183352, 'consume_amount': 0.060021870317119599, 'dev_loan_amount': 0.054027783402859339, 'limit_get_promoted': 0.0074926086428253212, 'loan_count': 0.038070552023004335, 'limit': 0.024867360576728361, 'consume_amount_cum': 0.056376817463853229, 'click_count_cum': 0.060872382649548418, 'comsume_count_cum': 0.053703778704791219, 'loan_amount': 0.056255315702077681, 'dev_consume_amount_cum': 0.056174314527560651, 'plannum_cum': 0.0462111700619659, 'active_month': 0.025920375845449758, 'active_year': 0.0022275322992183389, 'actived_months': 0.031306953950832286, 'click_count': 0.063788424932161511, 'comsume_count': 0.039528573164310882, 'age': 0.017415252521161557, 'loan_count_cum': 0.034790004455064596, 'dev_loan_amount_cum': 0.080312664533635739, 'dev_click_count_cum': 0.07079502652788465}\n"
     ]
    },
    {
     "name": "stdout",
     "output_type": "stream",
     "text": [
      "1.84946371427\n",
      "[Fold 10/10 Prediciton:]\n"
     ]
    }
   ],
   "source": [
    "for i, (train_index, test_index) in enumerate(skf.split(X, y)):\n",
    "    X_train, X_valid = X[train_index], X[test_index]\n",
    "    y_train, y_valid = y[train_index], y[test_index]\n",
    "    # Convert our data into XGBoost format\n",
    "    d_train = xgb.DMatrix(X_train, y_train)\n",
    "    d_valid = xgb.DMatrix(X_valid, y_valid)\n",
    "    d_submit = xgb.DMatrix(to_submit.values)\n",
    "    watchlist = [(d_train, 'train'), (d_valid, 'valid')]\n",
    "    mdl = xgb.train(params, d_train, 4000, watchlist, early_stopping_rounds = 70, verbose_eval = 50)\n",
    "\n",
    "    f_importance = get_xgb_imp(mdl,all_features)\n",
    "    print(f_importance)\n",
    "    importances.append(f_importance)\n",
    "\n",
    "    score_this = np.sqrt(mean_squared_error(mdl.predict(d_valid, ntree_limit = mdl.best_ntree_limit), y_valid))\n",
    "    print(score_this)\n",
    "    scores.append(score_this)\n",
    "\n",
    "    print('[Fold %d/%d Prediciton:]' % (i + 1, kfold))\n",
    "    # Predict on our test data\n",
    "    p_test = mdl.predict(d_submit, ntree_limit=mdl.best_ntree_limit)\n",
    "\n",
    "    sub['target'] += p_test / kfold"
   ]
  },
  {
   "cell_type": "code",
   "execution_count": 171,
   "metadata": {
    "scrolled": true
   },
   "outputs": [
    {
     "name": "stdout",
     "output_type": "stream",
     "text": [
      "[('active_year', 0.016076646707923907), ('sex', 0.034687922009097809), ('limit_get_promoted_ever', 0.035631269529135375), ('limit_get_promoted', 0.071514691682693435), ('age', 0.18920050947561112), ('limit', 0.24179535029140614), ('active_month', 0.28740772094539868), ('actived_months', 0.29367900080515097), ('loan_count_cum', 0.3532558145383019), ('loan_count', 0.38010421252378551), ('comsume_count', 0.41493403492173886), ('plannum_cum', 0.43711623600454835), ('plannum', 0.43768602242738369), ('comsume_count_cum', 0.54747505883505976), ('dev_loan_amount', 0.55382561986006051), ('loan_amount', 0.56252414028325315), ('consume_amount_cum', 0.56777921693482258), ('dev_consume_amount_cum', 0.57302750374747435), ('click_count', 0.60674682846323114), ('click_count_cum', 0.61838306452427549), ('consume_amount', 0.6301455345808864), ('loan_amount_cum', 0.6563083326773238), ('dev_click_count_cum', 0.70863383015419534), ('dev_loan_amount_cum', 0.7820614380772416)]\n",
      "cv avg scores 1.8477754098\n"
     ]
    }
   ],
   "source": [
    "imp_sum = merge_dic(importances)\n",
    "sort_rec = sorted(imp_sum.items(), key=lambda x:x[1])\n",
    "print(sort_rec)\n",
    "\n",
    "print('cv avg scores %s' % np.mean(scores))"
   ]
  },
  {
   "cell_type": "code",
   "execution_count": 153,
   "metadata": {},
   "outputs": [
    {
     "data": {
      "text/plain": [
       "[1.8390787554421544,\n",
       " 1.8475016540169513,\n",
       " 1.8236955621642075,\n",
       " 1.8263216332859971,\n",
       " 1.8438928088074051,\n",
       " 1.8237335786571609,\n",
       " 1.8005292591168336,\n",
       " 1.8154897544551583,\n",
       " 1.7843487756625094,\n",
       " 1.8217104675132709]"
      ]
     },
     "execution_count": 153,
     "metadata": {},
     "output_type": "execute_result"
    }
   ],
   "source": [
    "scores"
   ]
  },
  {
   "cell_type": "code",
   "execution_count": 154,
   "metadata": {
    "collapsed": true
   },
   "outputs": [],
   "source": [
    "from datetime import datetime\n",
    "sub.loc[sub.target < 0, 'target'] = 0\n",
    "sub.to_csv(OUTPUT_PATH +\"sub{}.csv\".format(datetime.now().strftime('%Y%m%d_%H%M%S')), index=False)"
   ]
  },
  {
   "cell_type": "code",
   "execution_count": 326,
   "metadata": {
    "collapsed": true
   },
   "outputs": [],
   "source": [
    "all_features = [x for x in train.columns if not x in ['uid', 'target', 'active_date']]\n",
    "\n",
    "X = train.drop(['uid', 'target', 'active_date'], axis=1)\n",
    "y = train.target"
   ]
  },
  {
   "cell_type": "code",
   "execution_count": 348,
   "metadata": {
    "collapsed": true
   },
   "outputs": [],
   "source": [
    "xgb_params = {\n",
    "        'objective': ['reg:linear'],\n",
    "        'learning_rate': [0.025],\n",
    "        'max_depth': [6],\n",
    "        'min_child_weight': [2],\n",
    "        'silent': [1],\n",
    "        'subsample': [ 0.8],\n",
    "        'colsample_bytree': [0.8],\n",
    "        'n_estimators': [400],\n",
    "        'gamma': [1,3],\n",
    "        'reg_alpha': [0.5,0.8],\n",
    "        'reg_lambda': [0.8,1.3] \n",
    "    }"
   ]
  },
  {
   "cell_type": "code",
   "execution_count": 349,
   "metadata": {
    "collapsed": true
   },
   "outputs": [],
   "source": [
    "\n",
    "from sklearn.model_selection import GridSearchCV\n",
    "\n",
    "import xgboost as xgb\n"
   ]
  },
  {
   "cell_type": "code",
   "execution_count": 350,
   "metadata": {
    "scrolled": true
   },
   "outputs": [
    {
     "name": "stdout",
     "output_type": "stream",
     "text": [
      "Fitting 5 folds for each of 8 candidates, totalling 40 fits\n",
      "[CV] reg_alpha=0.5, colsample_bytree=0.8, silent=1, learning_rate=0.025, min_child_weight=2, n_estimators=400, subsample=0.8, reg_lambda=0.8, objective=reg:linear, max_depth=6, gamma=1 \n",
      "[CV] reg_alpha=0.5, colsample_bytree=0.8, silent=1, learning_rate=0.025, min_child_weight=2, n_estimators=400, subsample=0.8, reg_lambda=0.8, objective=reg:linear, max_depth=6, gamma=1 \n"
     ]
    },
    {
     "name": "stderr",
     "output_type": "stream",
     "text": [
      "/Library/Python/2.7/site-packages/sklearn/metrics/scorer.py:90: DeprecationWarning: Scoring method mean_squared_error was renamed to neg_mean_squared_error in version 0.18 and will be removed in 0.20.\n",
      "  sample_weight=sample_weight)\n",
      "/Library/Python/2.7/site-packages/sklearn/metrics/scorer.py:90: DeprecationWarning: Scoring method mean_squared_error was renamed to neg_mean_squared_error in version 0.18 and will be removed in 0.20.\n",
      "  sample_weight=sample_weight)\n",
      "/Library/Python/2.7/site-packages/sklearn/metrics/scorer.py:90: DeprecationWarning: Scoring method mean_squared_error was renamed to neg_mean_squared_error in version 0.18 and will be removed in 0.20.\n",
      "  sample_weight=sample_weight)\n",
      "/Library/Python/2.7/site-packages/sklearn/metrics/scorer.py:90: DeprecationWarning: Scoring method mean_squared_error was renamed to neg_mean_squared_error in version 0.18 and will be removed in 0.20.\n",
      "  sample_weight=sample_weight)\n"
     ]
    },
    {
     "name": "stdout",
     "output_type": "stream",
     "text": [
      "[CV]  reg_alpha=0.5, colsample_bytree=0.8, silent=1, learning_rate=0.025, min_child_weight=2, n_estimators=400, subsample=0.8, reg_lambda=0.8, objective=reg:linear, max_depth=6, gamma=1, total= 1.4min\n",
      "[CV] reg_alpha=0.5, colsample_bytree=0.8, silent=1, learning_rate=0.025, min_child_weight=2, n_estimators=400, subsample=0.8, reg_lambda=0.8, objective=reg:linear, max_depth=6, gamma=1 \n",
      "[CV]  reg_alpha=0.5, colsample_bytree=0.8, silent=1, learning_rate=0.025, min_child_weight=2, n_estimators=400, subsample=0.8, reg_lambda=0.8, objective=reg:linear, max_depth=6, gamma=1, total= 1.4min\n",
      "[CV] reg_alpha=0.5, colsample_bytree=0.8, silent=1, learning_rate=0.025, min_child_weight=2, n_estimators=400, subsample=0.8, reg_lambda=0.8, objective=reg:linear, max_depth=6, gamma=1 \n"
     ]
    },
    {
     "name": "stderr",
     "output_type": "stream",
     "text": [
      "/Library/Python/2.7/site-packages/sklearn/metrics/scorer.py:90: DeprecationWarning: Scoring method mean_squared_error was renamed to neg_mean_squared_error in version 0.18 and will be removed in 0.20.\n",
      "  sample_weight=sample_weight)\n",
      "/Library/Python/2.7/site-packages/sklearn/metrics/scorer.py:90: DeprecationWarning: Scoring method mean_squared_error was renamed to neg_mean_squared_error in version 0.18 and will be removed in 0.20.\n",
      "  sample_weight=sample_weight)\n",
      "/Library/Python/2.7/site-packages/sklearn/metrics/scorer.py:90: DeprecationWarning: Scoring method mean_squared_error was renamed to neg_mean_squared_error in version 0.18 and will be removed in 0.20.\n",
      "  sample_weight=sample_weight)\n",
      "/Library/Python/2.7/site-packages/sklearn/metrics/scorer.py:90: DeprecationWarning: Scoring method mean_squared_error was renamed to neg_mean_squared_error in version 0.18 and will be removed in 0.20.\n",
      "  sample_weight=sample_weight)\n"
     ]
    },
    {
     "name": "stdout",
     "output_type": "stream",
     "text": [
      "[CV]  reg_alpha=0.5, colsample_bytree=0.8, silent=1, learning_rate=0.025, min_child_weight=2, n_estimators=400, subsample=0.8, reg_lambda=0.8, objective=reg:linear, max_depth=6, gamma=1, total= 1.5min\n",
      "[CV] reg_alpha=0.5, colsample_bytree=0.8, silent=1, learning_rate=0.025, min_child_weight=2, n_estimators=400, subsample=0.8, reg_lambda=0.8, objective=reg:linear, max_depth=6, gamma=1 \n",
      "[CV]  reg_alpha=0.5, colsample_bytree=0.8, silent=1, learning_rate=0.025, min_child_weight=2, n_estimators=400, subsample=0.8, reg_lambda=0.8, objective=reg:linear, max_depth=6, gamma=1, total= 1.5min\n",
      "[CV] reg_alpha=0.5, colsample_bytree=0.8, silent=1, learning_rate=0.025, min_child_weight=2, n_estimators=400, subsample=0.8, reg_lambda=1.3, objective=reg:linear, max_depth=6, gamma=1 \n"
     ]
    },
    {
     "name": "stderr",
     "output_type": "stream",
     "text": [
      "/Library/Python/2.7/site-packages/sklearn/metrics/scorer.py:90: DeprecationWarning: Scoring method mean_squared_error was renamed to neg_mean_squared_error in version 0.18 and will be removed in 0.20.\n",
      "  sample_weight=sample_weight)\n",
      "/Library/Python/2.7/site-packages/sklearn/metrics/scorer.py:90: DeprecationWarning: Scoring method mean_squared_error was renamed to neg_mean_squared_error in version 0.18 and will be removed in 0.20.\n",
      "  sample_weight=sample_weight)\n"
     ]
    },
    {
     "name": "stdout",
     "output_type": "stream",
     "text": [
      "[CV]  reg_alpha=0.5, colsample_bytree=0.8, silent=1, learning_rate=0.025, min_child_weight=2, n_estimators=400, subsample=0.8, reg_lambda=0.8, objective=reg:linear, max_depth=6, gamma=1, total= 1.4min\n",
      "[CV] reg_alpha=0.5, colsample_bytree=0.8, silent=1, learning_rate=0.025, min_child_weight=2, n_estimators=400, subsample=0.8, reg_lambda=1.3, objective=reg:linear, max_depth=6, gamma=1 \n"
     ]
    },
    {
     "name": "stderr",
     "output_type": "stream",
     "text": [
      "/Library/Python/2.7/site-packages/sklearn/metrics/scorer.py:90: DeprecationWarning: Scoring method mean_squared_error was renamed to neg_mean_squared_error in version 0.18 and will be removed in 0.20.\n",
      "  sample_weight=sample_weight)\n",
      "/Library/Python/2.7/site-packages/sklearn/metrics/scorer.py:90: DeprecationWarning: Scoring method mean_squared_error was renamed to neg_mean_squared_error in version 0.18 and will be removed in 0.20.\n",
      "  sample_weight=sample_weight)\n"
     ]
    },
    {
     "name": "stdout",
     "output_type": "stream",
     "text": [
      "[CV]  reg_alpha=0.5, colsample_bytree=0.8, silent=1, learning_rate=0.025, min_child_weight=2, n_estimators=400, subsample=0.8, reg_lambda=1.3, objective=reg:linear, max_depth=6, gamma=1, total= 1.5min\n",
      "[CV] reg_alpha=0.5, colsample_bytree=0.8, silent=1, learning_rate=0.025, min_child_weight=2, n_estimators=400, subsample=0.8, reg_lambda=1.3, objective=reg:linear, max_depth=6, gamma=1 \n"
     ]
    },
    {
     "name": "stderr",
     "output_type": "stream",
     "text": [
      "/Library/Python/2.7/site-packages/sklearn/metrics/scorer.py:90: DeprecationWarning: Scoring method mean_squared_error was renamed to neg_mean_squared_error in version 0.18 and will be removed in 0.20.\n",
      "  sample_weight=sample_weight)\n",
      "/Library/Python/2.7/site-packages/sklearn/metrics/scorer.py:90: DeprecationWarning: Scoring method mean_squared_error was renamed to neg_mean_squared_error in version 0.18 and will be removed in 0.20.\n",
      "  sample_weight=sample_weight)\n",
      "/Library/Python/2.7/site-packages/sklearn/metrics/scorer.py:90: DeprecationWarning: Scoring method mean_squared_error was renamed to neg_mean_squared_error in version 0.18 and will be removed in 0.20.\n",
      "  sample_weight=sample_weight)\n",
      "/Library/Python/2.7/site-packages/sklearn/metrics/scorer.py:90: DeprecationWarning: Scoring method mean_squared_error was renamed to neg_mean_squared_error in version 0.18 and will be removed in 0.20.\n",
      "  sample_weight=sample_weight)\n"
     ]
    },
    {
     "name": "stdout",
     "output_type": "stream",
     "text": [
      "[CV]  reg_alpha=0.5, colsample_bytree=0.8, silent=1, learning_rate=0.025, min_child_weight=2, n_estimators=400, subsample=0.8, reg_lambda=1.3, objective=reg:linear, max_depth=6, gamma=1, total= 1.6min\n",
      "[CV] reg_alpha=0.5, colsample_bytree=0.8, silent=1, learning_rate=0.025, min_child_weight=2, n_estimators=400, subsample=0.8, reg_lambda=1.3, objective=reg:linear, max_depth=6, gamma=1 \n",
      "[CV]  reg_alpha=0.5, colsample_bytree=0.8, silent=1, learning_rate=0.025, min_child_weight=2, n_estimators=400, subsample=0.8, reg_lambda=1.3, objective=reg:linear, max_depth=6, gamma=1, total= 1.5min\n",
      "[CV] reg_alpha=0.5, colsample_bytree=0.8, silent=1, learning_rate=0.025, min_child_weight=2, n_estimators=400, subsample=0.8, reg_lambda=1.3, objective=reg:linear, max_depth=6, gamma=1 \n"
     ]
    },
    {
     "name": "stderr",
     "output_type": "stream",
     "text": [
      "/Library/Python/2.7/site-packages/sklearn/metrics/scorer.py:90: DeprecationWarning: Scoring method mean_squared_error was renamed to neg_mean_squared_error in version 0.18 and will be removed in 0.20.\n",
      "  sample_weight=sample_weight)\n",
      "/Library/Python/2.7/site-packages/sklearn/metrics/scorer.py:90: DeprecationWarning: Scoring method mean_squared_error was renamed to neg_mean_squared_error in version 0.18 and will be removed in 0.20.\n",
      "  sample_weight=sample_weight)\n",
      "/Library/Python/2.7/site-packages/sklearn/metrics/scorer.py:90: DeprecationWarning: Scoring method mean_squared_error was renamed to neg_mean_squared_error in version 0.18 and will be removed in 0.20.\n",
      "  sample_weight=sample_weight)\n",
      "/Library/Python/2.7/site-packages/sklearn/metrics/scorer.py:90: DeprecationWarning: Scoring method mean_squared_error was renamed to neg_mean_squared_error in version 0.18 and will be removed in 0.20.\n",
      "  sample_weight=sample_weight)\n"
     ]
    },
    {
     "name": "stdout",
     "output_type": "stream",
     "text": [
      "[CV]  reg_alpha=0.5, colsample_bytree=0.8, silent=1, learning_rate=0.025, min_child_weight=2, n_estimators=400, subsample=0.8, reg_lambda=1.3, objective=reg:linear, max_depth=6, gamma=1, total= 1.5min\n",
      "[CV] reg_alpha=0.8, colsample_bytree=0.8, silent=1, learning_rate=0.025, min_child_weight=2, n_estimators=400, subsample=0.8, reg_lambda=0.8, objective=reg:linear, max_depth=6, gamma=1 \n",
      "[CV]  reg_alpha=0.5, colsample_bytree=0.8, silent=1, learning_rate=0.025, min_child_weight=2, n_estimators=400, subsample=0.8, reg_lambda=1.3, objective=reg:linear, max_depth=6, gamma=1, total= 1.4min\n",
      "[CV] reg_alpha=0.8, colsample_bytree=0.8, silent=1, learning_rate=0.025, min_child_weight=2, n_estimators=400, subsample=0.8, reg_lambda=0.8, objective=reg:linear, max_depth=6, gamma=1 \n"
     ]
    },
    {
     "name": "stderr",
     "output_type": "stream",
     "text": [
      "/Library/Python/2.7/site-packages/sklearn/metrics/scorer.py:90: DeprecationWarning: Scoring method mean_squared_error was renamed to neg_mean_squared_error in version 0.18 and will be removed in 0.20.\n",
      "  sample_weight=sample_weight)\n",
      "/Library/Python/2.7/site-packages/sklearn/metrics/scorer.py:90: DeprecationWarning: Scoring method mean_squared_error was renamed to neg_mean_squared_error in version 0.18 and will be removed in 0.20.\n",
      "  sample_weight=sample_weight)\n",
      "/Library/Python/2.7/site-packages/sklearn/metrics/scorer.py:90: DeprecationWarning: Scoring method mean_squared_error was renamed to neg_mean_squared_error in version 0.18 and will be removed in 0.20.\n",
      "  sample_weight=sample_weight)\n",
      "/Library/Python/2.7/site-packages/sklearn/metrics/scorer.py:90: DeprecationWarning: Scoring method mean_squared_error was renamed to neg_mean_squared_error in version 0.18 and will be removed in 0.20.\n",
      "  sample_weight=sample_weight)\n"
     ]
    },
    {
     "name": "stdout",
     "output_type": "stream",
     "text": [
      "[CV]  reg_alpha=0.8, colsample_bytree=0.8, silent=1, learning_rate=0.025, min_child_weight=2, n_estimators=400, subsample=0.8, reg_lambda=0.8, objective=reg:linear, max_depth=6, gamma=1, total= 1.4min\n",
      "[CV] reg_alpha=0.8, colsample_bytree=0.8, silent=1, learning_rate=0.025, min_child_weight=2, n_estimators=400, subsample=0.8, reg_lambda=0.8, objective=reg:linear, max_depth=6, gamma=1 \n",
      "[CV]  reg_alpha=0.8, colsample_bytree=0.8, silent=1, learning_rate=0.025, min_child_weight=2, n_estimators=400, subsample=0.8, reg_lambda=0.8, objective=reg:linear, max_depth=6, gamma=1, total= 1.4min\n",
      "[CV] reg_alpha=0.8, colsample_bytree=0.8, silent=1, learning_rate=0.025, min_child_weight=2, n_estimators=400, subsample=0.8, reg_lambda=0.8, objective=reg:linear, max_depth=6, gamma=1 \n"
     ]
    },
    {
     "name": "stderr",
     "output_type": "stream",
     "text": [
      "/Library/Python/2.7/site-packages/sklearn/metrics/scorer.py:90: DeprecationWarning: Scoring method mean_squared_error was renamed to neg_mean_squared_error in version 0.18 and will be removed in 0.20.\n",
      "  sample_weight=sample_weight)\n",
      "/Library/Python/2.7/site-packages/sklearn/metrics/scorer.py:90: DeprecationWarning: Scoring method mean_squared_error was renamed to neg_mean_squared_error in version 0.18 and will be removed in 0.20.\n",
      "  sample_weight=sample_weight)\n",
      "/Library/Python/2.7/site-packages/sklearn/metrics/scorer.py:90: DeprecationWarning: Scoring method mean_squared_error was renamed to neg_mean_squared_error in version 0.18 and will be removed in 0.20.\n",
      "  sample_weight=sample_weight)\n",
      "/Library/Python/2.7/site-packages/sklearn/metrics/scorer.py:90: DeprecationWarning: Scoring method mean_squared_error was renamed to neg_mean_squared_error in version 0.18 and will be removed in 0.20.\n",
      "  sample_weight=sample_weight)\n"
     ]
    },
    {
     "name": "stdout",
     "output_type": "stream",
     "text": [
      "[CV]  reg_alpha=0.8, colsample_bytree=0.8, silent=1, learning_rate=0.025, min_child_weight=2, n_estimators=400, subsample=0.8, reg_lambda=0.8, objective=reg:linear, max_depth=6, gamma=1, total= 1.3min\n",
      "[CV] reg_alpha=0.8, colsample_bytree=0.8, silent=1, learning_rate=0.025, min_child_weight=2, n_estimators=400, subsample=0.8, reg_lambda=0.8, objective=reg:linear, max_depth=6, gamma=1 \n",
      "[CV]  reg_alpha=0.8, colsample_bytree=0.8, silent=1, learning_rate=0.025, min_child_weight=2, n_estimators=400, subsample=0.8, reg_lambda=0.8, objective=reg:linear, max_depth=6, gamma=1, total= 1.3min\n",
      "[CV] reg_alpha=0.8, colsample_bytree=0.8, silent=1, learning_rate=0.025, min_child_weight=2, n_estimators=400, subsample=0.8, reg_lambda=1.3, objective=reg:linear, max_depth=6, gamma=1 \n"
     ]
    },
    {
     "name": "stderr",
     "output_type": "stream",
     "text": [
      "/Library/Python/2.7/site-packages/sklearn/metrics/scorer.py:90: DeprecationWarning: Scoring method mean_squared_error was renamed to neg_mean_squared_error in version 0.18 and will be removed in 0.20.\n",
      "  sample_weight=sample_weight)\n",
      "/Library/Python/2.7/site-packages/sklearn/metrics/scorer.py:90: DeprecationWarning: Scoring method mean_squared_error was renamed to neg_mean_squared_error in version 0.18 and will be removed in 0.20.\n",
      "  sample_weight=sample_weight)\n",
      "/Library/Python/2.7/site-packages/sklearn/metrics/scorer.py:90: DeprecationWarning: Scoring method mean_squared_error was renamed to neg_mean_squared_error in version 0.18 and will be removed in 0.20.\n",
      "  sample_weight=sample_weight)\n",
      "/Library/Python/2.7/site-packages/sklearn/metrics/scorer.py:90: DeprecationWarning: Scoring method mean_squared_error was renamed to neg_mean_squared_error in version 0.18 and will be removed in 0.20.\n",
      "  sample_weight=sample_weight)\n"
     ]
    },
    {
     "name": "stdout",
     "output_type": "stream",
     "text": [
      "[CV]  reg_alpha=0.8, colsample_bytree=0.8, silent=1, learning_rate=0.025, min_child_weight=2, n_estimators=400, subsample=0.8, reg_lambda=0.8, objective=reg:linear, max_depth=6, gamma=1, total= 1.4min\n",
      "[CV] reg_alpha=0.8, colsample_bytree=0.8, silent=1, learning_rate=0.025, min_child_weight=2, n_estimators=400, subsample=0.8, reg_lambda=1.3, objective=reg:linear, max_depth=6, gamma=1 \n",
      "[CV]  reg_alpha=0.8, colsample_bytree=0.8, silent=1, learning_rate=0.025, min_child_weight=2, n_estimators=400, subsample=0.8, reg_lambda=1.3, objective=reg:linear, max_depth=6, gamma=1, total= 1.5min\n",
      "[CV] reg_alpha=0.8, colsample_bytree=0.8, silent=1, learning_rate=0.025, min_child_weight=2, n_estimators=400, subsample=0.8, reg_lambda=1.3, objective=reg:linear, max_depth=6, gamma=1 \n"
     ]
    },
    {
     "name": "stderr",
     "output_type": "stream",
     "text": [
      "/Library/Python/2.7/site-packages/sklearn/metrics/scorer.py:90: DeprecationWarning: Scoring method mean_squared_error was renamed to neg_mean_squared_error in version 0.18 and will be removed in 0.20.\n",
      "  sample_weight=sample_weight)\n",
      "/Library/Python/2.7/site-packages/sklearn/metrics/scorer.py:90: DeprecationWarning: Scoring method mean_squared_error was renamed to neg_mean_squared_error in version 0.18 and will be removed in 0.20.\n",
      "  sample_weight=sample_weight)\n",
      "/Library/Python/2.7/site-packages/sklearn/metrics/scorer.py:90: DeprecationWarning: Scoring method mean_squared_error was renamed to neg_mean_squared_error in version 0.18 and will be removed in 0.20.\n",
      "  sample_weight=sample_weight)\n",
      "/Library/Python/2.7/site-packages/sklearn/metrics/scorer.py:90: DeprecationWarning: Scoring method mean_squared_error was renamed to neg_mean_squared_error in version 0.18 and will be removed in 0.20.\n",
      "  sample_weight=sample_weight)\n"
     ]
    },
    {
     "name": "stdout",
     "output_type": "stream",
     "text": [
      "[CV]  reg_alpha=0.8, colsample_bytree=0.8, silent=1, learning_rate=0.025, min_child_weight=2, n_estimators=400, subsample=0.8, reg_lambda=1.3, objective=reg:linear, max_depth=6, gamma=1, total= 1.3min\n",
      "[CV] reg_alpha=0.8, colsample_bytree=0.8, silent=1, learning_rate=0.025, min_child_weight=2, n_estimators=400, subsample=0.8, reg_lambda=1.3, objective=reg:linear, max_depth=6, gamma=1 \n",
      "[CV]  reg_alpha=0.8, colsample_bytree=0.8, silent=1, learning_rate=0.025, min_child_weight=2, n_estimators=400, subsample=0.8, reg_lambda=1.3, objective=reg:linear, max_depth=6, gamma=1, total= 1.3min\n",
      "[CV] reg_alpha=0.8, colsample_bytree=0.8, silent=1, learning_rate=0.025, min_child_weight=2, n_estimators=400, subsample=0.8, reg_lambda=1.3, objective=reg:linear, max_depth=6, gamma=1 \n"
     ]
    },
    {
     "name": "stderr",
     "output_type": "stream",
     "text": [
      "/Library/Python/2.7/site-packages/sklearn/metrics/scorer.py:90: DeprecationWarning: Scoring method mean_squared_error was renamed to neg_mean_squared_error in version 0.18 and will be removed in 0.20.\n",
      "  sample_weight=sample_weight)\n",
      "/Library/Python/2.7/site-packages/sklearn/metrics/scorer.py:90: DeprecationWarning: Scoring method mean_squared_error was renamed to neg_mean_squared_error in version 0.18 and will be removed in 0.20.\n",
      "  sample_weight=sample_weight)\n",
      "/Library/Python/2.7/site-packages/sklearn/metrics/scorer.py:90: DeprecationWarning: Scoring method mean_squared_error was renamed to neg_mean_squared_error in version 0.18 and will be removed in 0.20.\n",
      "  sample_weight=sample_weight)\n",
      "/Library/Python/2.7/site-packages/sklearn/metrics/scorer.py:90: DeprecationWarning: Scoring method mean_squared_error was renamed to neg_mean_squared_error in version 0.18 and will be removed in 0.20.\n",
      "  sample_weight=sample_weight)\n"
     ]
    },
    {
     "name": "stdout",
     "output_type": "stream",
     "text": [
      "[CV]  reg_alpha=0.8, colsample_bytree=0.8, silent=1, learning_rate=0.025, min_child_weight=2, n_estimators=400, subsample=0.8, reg_lambda=1.3, objective=reg:linear, max_depth=6, gamma=1, total= 1.3min\n",
      "[CV] reg_alpha=0.5, colsample_bytree=0.8, silent=1, learning_rate=0.025, min_child_weight=2, n_estimators=400, subsample=0.8, reg_lambda=0.8, objective=reg:linear, max_depth=6, gamma=3 \n",
      "[CV]  reg_alpha=0.8, colsample_bytree=0.8, silent=1, learning_rate=0.025, min_child_weight=2, n_estimators=400, subsample=0.8, reg_lambda=1.3, objective=reg:linear, max_depth=6, gamma=1, total= 1.3min\n",
      "[CV] reg_alpha=0.5, colsample_bytree=0.8, silent=1, learning_rate=0.025, min_child_weight=2, n_estimators=400, subsample=0.8, reg_lambda=0.8, objective=reg:linear, max_depth=6, gamma=3 \n"
     ]
    },
    {
     "name": "stderr",
     "output_type": "stream",
     "text": [
      "/Library/Python/2.7/site-packages/sklearn/metrics/scorer.py:90: DeprecationWarning: Scoring method mean_squared_error was renamed to neg_mean_squared_error in version 0.18 and will be removed in 0.20.\n",
      "  sample_weight=sample_weight)\n",
      "/Library/Python/2.7/site-packages/sklearn/metrics/scorer.py:90: DeprecationWarning: Scoring method mean_squared_error was renamed to neg_mean_squared_error in version 0.18 and will be removed in 0.20.\n",
      "  sample_weight=sample_weight)\n",
      "/Library/Python/2.7/site-packages/sklearn/metrics/scorer.py:90: DeprecationWarning: Scoring method mean_squared_error was renamed to neg_mean_squared_error in version 0.18 and will be removed in 0.20.\n",
      "  sample_weight=sample_weight)\n",
      "/Library/Python/2.7/site-packages/sklearn/metrics/scorer.py:90: DeprecationWarning: Scoring method mean_squared_error was renamed to neg_mean_squared_error in version 0.18 and will be removed in 0.20.\n",
      "  sample_weight=sample_weight)\n"
     ]
    },
    {
     "name": "stdout",
     "output_type": "stream",
     "text": [
      "[CV]  reg_alpha=0.5, colsample_bytree=0.8, silent=1, learning_rate=0.025, min_child_weight=2, n_estimators=400, subsample=0.8, reg_lambda=0.8, objective=reg:linear, max_depth=6, gamma=3, total= 1.5min\n",
      "[CV] reg_alpha=0.5, colsample_bytree=0.8, silent=1, learning_rate=0.025, min_child_weight=2, n_estimators=400, subsample=0.8, reg_lambda=0.8, objective=reg:linear, max_depth=6, gamma=3 \n",
      "[CV]  reg_alpha=0.5, colsample_bytree=0.8, silent=1, learning_rate=0.025, min_child_weight=2, n_estimators=400, subsample=0.8, reg_lambda=0.8, objective=reg:linear, max_depth=6, gamma=3, total= 1.5min\n",
      "[CV] reg_alpha=0.5, colsample_bytree=0.8, silent=1, learning_rate=0.025, min_child_weight=2, n_estimators=400, subsample=0.8, reg_lambda=0.8, objective=reg:linear, max_depth=6, gamma=3 \n"
     ]
    },
    {
     "name": "stderr",
     "output_type": "stream",
     "text": [
      "/Library/Python/2.7/site-packages/sklearn/metrics/scorer.py:90: DeprecationWarning: Scoring method mean_squared_error was renamed to neg_mean_squared_error in version 0.18 and will be removed in 0.20.\n",
      "  sample_weight=sample_weight)\n",
      "/Library/Python/2.7/site-packages/sklearn/metrics/scorer.py:90: DeprecationWarning: Scoring method mean_squared_error was renamed to neg_mean_squared_error in version 0.18 and will be removed in 0.20.\n",
      "  sample_weight=sample_weight)\n",
      "/Library/Python/2.7/site-packages/sklearn/metrics/scorer.py:90: DeprecationWarning: Scoring method mean_squared_error was renamed to neg_mean_squared_error in version 0.18 and will be removed in 0.20.\n",
      "  sample_weight=sample_weight)\n",
      "/Library/Python/2.7/site-packages/sklearn/metrics/scorer.py:90: DeprecationWarning: Scoring method mean_squared_error was renamed to neg_mean_squared_error in version 0.18 and will be removed in 0.20.\n",
      "  sample_weight=sample_weight)\n"
     ]
    },
    {
     "name": "stdout",
     "output_type": "stream",
     "text": [
      "[CV]  reg_alpha=0.5, colsample_bytree=0.8, silent=1, learning_rate=0.025, min_child_weight=2, n_estimators=400, subsample=0.8, reg_lambda=0.8, objective=reg:linear, max_depth=6, gamma=3, total= 1.4min\n",
      "[CV] reg_alpha=0.5, colsample_bytree=0.8, silent=1, learning_rate=0.025, min_child_weight=2, n_estimators=400, subsample=0.8, reg_lambda=0.8, objective=reg:linear, max_depth=6, gamma=3 \n",
      "[CV]  reg_alpha=0.5, colsample_bytree=0.8, silent=1, learning_rate=0.025, min_child_weight=2, n_estimators=400, subsample=0.8, reg_lambda=0.8, objective=reg:linear, max_depth=6, gamma=3, total= 1.4min\n",
      "[CV] reg_alpha=0.5, colsample_bytree=0.8, silent=1, learning_rate=0.025, min_child_weight=2, n_estimators=400, subsample=0.8, reg_lambda=1.3, objective=reg:linear, max_depth=6, gamma=3 \n"
     ]
    },
    {
     "name": "stderr",
     "output_type": "stream",
     "text": [
      "/Library/Python/2.7/site-packages/sklearn/metrics/scorer.py:90: DeprecationWarning: Scoring method mean_squared_error was renamed to neg_mean_squared_error in version 0.18 and will be removed in 0.20.\n",
      "  sample_weight=sample_weight)\n",
      "/Library/Python/2.7/site-packages/sklearn/metrics/scorer.py:90: DeprecationWarning: Scoring method mean_squared_error was renamed to neg_mean_squared_error in version 0.18 and will be removed in 0.20.\n",
      "  sample_weight=sample_weight)\n",
      "/Library/Python/2.7/site-packages/sklearn/metrics/scorer.py:90: DeprecationWarning: Scoring method mean_squared_error was renamed to neg_mean_squared_error in version 0.18 and will be removed in 0.20.\n",
      "  sample_weight=sample_weight)\n"
     ]
    },
    {
     "name": "stdout",
     "output_type": "stream",
     "text": [
      "[CV]  reg_alpha=0.5, colsample_bytree=0.8, silent=1, learning_rate=0.025, min_child_weight=2, n_estimators=400, subsample=0.8, reg_lambda=0.8, objective=reg:linear, max_depth=6, gamma=3, total= 1.5min\n",
      "[CV] reg_alpha=0.5, colsample_bytree=0.8, silent=1, learning_rate=0.025, min_child_weight=2, n_estimators=400, subsample=0.8, reg_lambda=1.3, objective=reg:linear, max_depth=6, gamma=3 \n"
     ]
    },
    {
     "name": "stderr",
     "output_type": "stream",
     "text": [
      "/Library/Python/2.7/site-packages/sklearn/metrics/scorer.py:90: DeprecationWarning: Scoring method mean_squared_error was renamed to neg_mean_squared_error in version 0.18 and will be removed in 0.20.\n",
      "  sample_weight=sample_weight)\n"
     ]
    },
    {
     "name": "stdout",
     "output_type": "stream",
     "text": [
      "[CV]  reg_alpha=0.5, colsample_bytree=0.8, silent=1, learning_rate=0.025, min_child_weight=2, n_estimators=400, subsample=0.8, reg_lambda=1.3, objective=reg:linear, max_depth=6, gamma=3, total= 1.6min\n",
      "[CV] reg_alpha=0.5, colsample_bytree=0.8, silent=1, learning_rate=0.025, min_child_weight=2, n_estimators=400, subsample=0.8, reg_lambda=1.3, objective=reg:linear, max_depth=6, gamma=3 \n"
     ]
    },
    {
     "name": "stderr",
     "output_type": "stream",
     "text": [
      "/Library/Python/2.7/site-packages/sklearn/metrics/scorer.py:90: DeprecationWarning: Scoring method mean_squared_error was renamed to neg_mean_squared_error in version 0.18 and will be removed in 0.20.\n",
      "  sample_weight=sample_weight)\n",
      "/Library/Python/2.7/site-packages/sklearn/metrics/scorer.py:90: DeprecationWarning: Scoring method mean_squared_error was renamed to neg_mean_squared_error in version 0.18 and will be removed in 0.20.\n",
      "  sample_weight=sample_weight)\n",
      "/Library/Python/2.7/site-packages/sklearn/metrics/scorer.py:90: DeprecationWarning: Scoring method mean_squared_error was renamed to neg_mean_squared_error in version 0.18 and will be removed in 0.20.\n",
      "  sample_weight=sample_weight)\n",
      "/Library/Python/2.7/site-packages/sklearn/metrics/scorer.py:90: DeprecationWarning: Scoring method mean_squared_error was renamed to neg_mean_squared_error in version 0.18 and will be removed in 0.20.\n",
      "  sample_weight=sample_weight)\n"
     ]
    },
    {
     "name": "stdout",
     "output_type": "stream",
     "text": [
      "[CV]  reg_alpha=0.5, colsample_bytree=0.8, silent=1, learning_rate=0.025, min_child_weight=2, n_estimators=400, subsample=0.8, reg_lambda=1.3, objective=reg:linear, max_depth=6, gamma=3, total= 1.5min\n",
      "[CV] reg_alpha=0.5, colsample_bytree=0.8, silent=1, learning_rate=0.025, min_child_weight=2, n_estimators=400, subsample=0.8, reg_lambda=1.3, objective=reg:linear, max_depth=6, gamma=3 \n",
      "[CV]  reg_alpha=0.5, colsample_bytree=0.8, silent=1, learning_rate=0.025, min_child_weight=2, n_estimators=400, subsample=0.8, reg_lambda=1.3, objective=reg:linear, max_depth=6, gamma=3, total= 1.5min\n",
      "[CV] reg_alpha=0.5, colsample_bytree=0.8, silent=1, learning_rate=0.025, min_child_weight=2, n_estimators=400, subsample=0.8, reg_lambda=1.3, objective=reg:linear, max_depth=6, gamma=3 \n"
     ]
    },
    {
     "name": "stderr",
     "output_type": "stream",
     "text": [
      "/Library/Python/2.7/site-packages/sklearn/metrics/scorer.py:90: DeprecationWarning: Scoring method mean_squared_error was renamed to neg_mean_squared_error in version 0.18 and will be removed in 0.20.\n",
      "  sample_weight=sample_weight)\n",
      "/Library/Python/2.7/site-packages/sklearn/metrics/scorer.py:90: DeprecationWarning: Scoring method mean_squared_error was renamed to neg_mean_squared_error in version 0.18 and will be removed in 0.20.\n",
      "  sample_weight=sample_weight)\n",
      "/Library/Python/2.7/site-packages/sklearn/metrics/scorer.py:90: DeprecationWarning: Scoring method mean_squared_error was renamed to neg_mean_squared_error in version 0.18 and will be removed in 0.20.\n",
      "  sample_weight=sample_weight)\n",
      "/Library/Python/2.7/site-packages/sklearn/metrics/scorer.py:90: DeprecationWarning: Scoring method mean_squared_error was renamed to neg_mean_squared_error in version 0.18 and will be removed in 0.20.\n",
      "  sample_weight=sample_weight)\n"
     ]
    },
    {
     "name": "stdout",
     "output_type": "stream",
     "text": [
      "[CV]  reg_alpha=0.5, colsample_bytree=0.8, silent=1, learning_rate=0.025, min_child_weight=2, n_estimators=400, subsample=0.8, reg_lambda=1.3, objective=reg:linear, max_depth=6, gamma=3, total= 1.5min\n",
      "[CV] reg_alpha=0.8, colsample_bytree=0.8, silent=1, learning_rate=0.025, min_child_weight=2, n_estimators=400, subsample=0.8, reg_lambda=0.8, objective=reg:linear, max_depth=6, gamma=3 \n",
      "[CV]  reg_alpha=0.5, colsample_bytree=0.8, silent=1, learning_rate=0.025, min_child_weight=2, n_estimators=400, subsample=0.8, reg_lambda=1.3, objective=reg:linear, max_depth=6, gamma=3, total= 1.5min\n",
      "[CV] reg_alpha=0.8, colsample_bytree=0.8, silent=1, learning_rate=0.025, min_child_weight=2, n_estimators=400, subsample=0.8, reg_lambda=0.8, objective=reg:linear, max_depth=6, gamma=3 \n"
     ]
    },
    {
     "name": "stderr",
     "output_type": "stream",
     "text": [
      "/Library/Python/2.7/site-packages/sklearn/metrics/scorer.py:90: DeprecationWarning: Scoring method mean_squared_error was renamed to neg_mean_squared_error in version 0.18 and will be removed in 0.20.\n",
      "  sample_weight=sample_weight)\n",
      "/Library/Python/2.7/site-packages/sklearn/metrics/scorer.py:90: DeprecationWarning: Scoring method mean_squared_error was renamed to neg_mean_squared_error in version 0.18 and will be removed in 0.20.\n",
      "  sample_weight=sample_weight)\n",
      "/Library/Python/2.7/site-packages/sklearn/metrics/scorer.py:90: DeprecationWarning: Scoring method mean_squared_error was renamed to neg_mean_squared_error in version 0.18 and will be removed in 0.20.\n",
      "  sample_weight=sample_weight)\n",
      "/Library/Python/2.7/site-packages/sklearn/metrics/scorer.py:90: DeprecationWarning: Scoring method mean_squared_error was renamed to neg_mean_squared_error in version 0.18 and will be removed in 0.20.\n",
      "  sample_weight=sample_weight)\n"
     ]
    },
    {
     "name": "stdout",
     "output_type": "stream",
     "text": [
      "[CV]  reg_alpha=0.8, colsample_bytree=0.8, silent=1, learning_rate=0.025, min_child_weight=2, n_estimators=400, subsample=0.8, reg_lambda=0.8, objective=reg:linear, max_depth=6, gamma=3, total= 1.6min\n",
      "[CV] reg_alpha=0.8, colsample_bytree=0.8, silent=1, learning_rate=0.025, min_child_weight=2, n_estimators=400, subsample=0.8, reg_lambda=0.8, objective=reg:linear, max_depth=6, gamma=3 \n",
      "[CV]  reg_alpha=0.8, colsample_bytree=0.8, silent=1, learning_rate=0.025, min_child_weight=2, n_estimators=400, subsample=0.8, reg_lambda=0.8, objective=reg:linear, max_depth=6, gamma=3, total= 1.6min\n",
      "[CV] reg_alpha=0.8, colsample_bytree=0.8, silent=1, learning_rate=0.025, min_child_weight=2, n_estimators=400, subsample=0.8, reg_lambda=0.8, objective=reg:linear, max_depth=6, gamma=3 \n"
     ]
    },
    {
     "name": "stderr",
     "output_type": "stream",
     "text": [
      "/Library/Python/2.7/site-packages/sklearn/metrics/scorer.py:90: DeprecationWarning: Scoring method mean_squared_error was renamed to neg_mean_squared_error in version 0.18 and will be removed in 0.20.\n",
      "  sample_weight=sample_weight)\n",
      "/Library/Python/2.7/site-packages/sklearn/metrics/scorer.py:90: DeprecationWarning: Scoring method mean_squared_error was renamed to neg_mean_squared_error in version 0.18 and will be removed in 0.20.\n",
      "  sample_weight=sample_weight)\n",
      "/Library/Python/2.7/site-packages/sklearn/metrics/scorer.py:90: DeprecationWarning: Scoring method mean_squared_error was renamed to neg_mean_squared_error in version 0.18 and will be removed in 0.20.\n",
      "  sample_weight=sample_weight)\n",
      "/Library/Python/2.7/site-packages/sklearn/metrics/scorer.py:90: DeprecationWarning: Scoring method mean_squared_error was renamed to neg_mean_squared_error in version 0.18 and will be removed in 0.20.\n",
      "  sample_weight=sample_weight)\n"
     ]
    },
    {
     "name": "stdout",
     "output_type": "stream",
     "text": [
      "[CV]  reg_alpha=0.8, colsample_bytree=0.8, silent=1, learning_rate=0.025, min_child_weight=2, n_estimators=400, subsample=0.8, reg_lambda=0.8, objective=reg:linear, max_depth=6, gamma=3, total= 1.2min\n",
      "[CV] reg_alpha=0.8, colsample_bytree=0.8, silent=1, learning_rate=0.025, min_child_weight=2, n_estimators=400, subsample=0.8, reg_lambda=0.8, objective=reg:linear, max_depth=6, gamma=3 \n",
      "[CV]  reg_alpha=0.8, colsample_bytree=0.8, silent=1, learning_rate=0.025, min_child_weight=2, n_estimators=400, subsample=0.8, reg_lambda=0.8, objective=reg:linear, max_depth=6, gamma=3, total= 1.2min\n",
      "[CV] reg_alpha=0.8, colsample_bytree=0.8, silent=1, learning_rate=0.025, min_child_weight=2, n_estimators=400, subsample=0.8, reg_lambda=1.3, objective=reg:linear, max_depth=6, gamma=3 \n"
     ]
    },
    {
     "name": "stderr",
     "output_type": "stream",
     "text": [
      "/Library/Python/2.7/site-packages/sklearn/metrics/scorer.py:90: DeprecationWarning: Scoring method mean_squared_error was renamed to neg_mean_squared_error in version 0.18 and will be removed in 0.20.\n",
      "  sample_weight=sample_weight)\n",
      "/Library/Python/2.7/site-packages/sklearn/metrics/scorer.py:90: DeprecationWarning: Scoring method mean_squared_error was renamed to neg_mean_squared_error in version 0.18 and will be removed in 0.20.\n",
      "  sample_weight=sample_weight)\n",
      "/Library/Python/2.7/site-packages/sklearn/metrics/scorer.py:90: DeprecationWarning: Scoring method mean_squared_error was renamed to neg_mean_squared_error in version 0.18 and will be removed in 0.20.\n",
      "  sample_weight=sample_weight)\n"
     ]
    },
    {
     "name": "stdout",
     "output_type": "stream",
     "text": [
      "[CV]  reg_alpha=0.8, colsample_bytree=0.8, silent=1, learning_rate=0.025, min_child_weight=2, n_estimators=400, subsample=0.8, reg_lambda=0.8, objective=reg:linear, max_depth=6, gamma=3, total= 1.2min\n",
      "[CV] reg_alpha=0.8, colsample_bytree=0.8, silent=1, learning_rate=0.025, min_child_weight=2, n_estimators=400, subsample=0.8, reg_lambda=1.3, objective=reg:linear, max_depth=6, gamma=3 \n"
     ]
    },
    {
     "name": "stderr",
     "output_type": "stream",
     "text": [
      "/Library/Python/2.7/site-packages/sklearn/metrics/scorer.py:90: DeprecationWarning: Scoring method mean_squared_error was renamed to neg_mean_squared_error in version 0.18 and will be removed in 0.20.\n",
      "  sample_weight=sample_weight)\n"
     ]
    },
    {
     "name": "stdout",
     "output_type": "stream",
     "text": [
      "[CV]  reg_alpha=0.8, colsample_bytree=0.8, silent=1, learning_rate=0.025, min_child_weight=2, n_estimators=400, subsample=0.8, reg_lambda=1.3, objective=reg:linear, max_depth=6, gamma=3, total= 1.3min\n",
      "[CV] reg_alpha=0.8, colsample_bytree=0.8, silent=1, learning_rate=0.025, min_child_weight=2, n_estimators=400, subsample=0.8, reg_lambda=1.3, objective=reg:linear, max_depth=6, gamma=3 \n"
     ]
    },
    {
     "name": "stderr",
     "output_type": "stream",
     "text": [
      "/Library/Python/2.7/site-packages/sklearn/metrics/scorer.py:90: DeprecationWarning: Scoring method mean_squared_error was renamed to neg_mean_squared_error in version 0.18 and will be removed in 0.20.\n",
      "  sample_weight=sample_weight)\n",
      "/Library/Python/2.7/site-packages/sklearn/metrics/scorer.py:90: DeprecationWarning: Scoring method mean_squared_error was renamed to neg_mean_squared_error in version 0.18 and will be removed in 0.20.\n",
      "  sample_weight=sample_weight)\n",
      "/Library/Python/2.7/site-packages/sklearn/metrics/scorer.py:90: DeprecationWarning: Scoring method mean_squared_error was renamed to neg_mean_squared_error in version 0.18 and will be removed in 0.20.\n",
      "  sample_weight=sample_weight)\n",
      "/Library/Python/2.7/site-packages/sklearn/metrics/scorer.py:90: DeprecationWarning: Scoring method mean_squared_error was renamed to neg_mean_squared_error in version 0.18 and will be removed in 0.20.\n",
      "  sample_weight=sample_weight)\n"
     ]
    },
    {
     "name": "stdout",
     "output_type": "stream",
     "text": [
      "[CV]  reg_alpha=0.8, colsample_bytree=0.8, silent=1, learning_rate=0.025, min_child_weight=2, n_estimators=400, subsample=0.8, reg_lambda=1.3, objective=reg:linear, max_depth=6, gamma=3, total= 1.5min\n",
      "[CV] reg_alpha=0.8, colsample_bytree=0.8, silent=1, learning_rate=0.025, min_child_weight=2, n_estimators=400, subsample=0.8, reg_lambda=1.3, objective=reg:linear, max_depth=6, gamma=3 \n"
     ]
    },
    {
     "name": "stderr",
     "output_type": "stream",
     "text": [
      "[Parallel(n_jobs=2)]: Done  37 tasks      | elapsed: 28.4min\n"
     ]
    },
    {
     "name": "stdout",
     "output_type": "stream",
     "text": [
      "[CV]  reg_alpha=0.8, colsample_bytree=0.8, silent=1, learning_rate=0.025, min_child_weight=2, n_estimators=400, subsample=0.8, reg_lambda=1.3, objective=reg:linear, max_depth=6, gamma=3, total= 1.4min\n",
      "[CV] reg_alpha=0.8, colsample_bytree=0.8, silent=1, learning_rate=0.025, min_child_weight=2, n_estimators=400, subsample=0.8, reg_lambda=1.3, objective=reg:linear, max_depth=6, gamma=3 \n"
     ]
    },
    {
     "name": "stderr",
     "output_type": "stream",
     "text": [
      "/Library/Python/2.7/site-packages/sklearn/metrics/scorer.py:90: DeprecationWarning: Scoring method mean_squared_error was renamed to neg_mean_squared_error in version 0.18 and will be removed in 0.20.\n",
      "  sample_weight=sample_weight)\n",
      "/Library/Python/2.7/site-packages/sklearn/metrics/scorer.py:90: DeprecationWarning: Scoring method mean_squared_error was renamed to neg_mean_squared_error in version 0.18 and will be removed in 0.20.\n",
      "  sample_weight=sample_weight)\n",
      "/Library/Python/2.7/site-packages/sklearn/metrics/scorer.py:90: DeprecationWarning: Scoring method mean_squared_error was renamed to neg_mean_squared_error in version 0.18 and will be removed in 0.20.\n",
      "  sample_weight=sample_weight)\n",
      "/Library/Python/2.7/site-packages/sklearn/metrics/scorer.py:90: DeprecationWarning: Scoring method mean_squared_error was renamed to neg_mean_squared_error in version 0.18 and will be removed in 0.20.\n",
      "  sample_weight=sample_weight)\n"
     ]
    },
    {
     "name": "stdout",
     "output_type": "stream",
     "text": [
      "[CV]  reg_alpha=0.8, colsample_bytree=0.8, silent=1, learning_rate=0.025, min_child_weight=2, n_estimators=400, subsample=0.8, reg_lambda=1.3, objective=reg:linear, max_depth=6, gamma=3, total= 1.2min\n",
      "[CV]  reg_alpha=0.8, colsample_bytree=0.8, silent=1, learning_rate=0.025, min_child_weight=2, n_estimators=400, subsample=0.8, reg_lambda=1.3, objective=reg:linear, max_depth=6, gamma=3, total= 1.2min\n"
     ]
    },
    {
     "name": "stderr",
     "output_type": "stream",
     "text": [
      "[Parallel(n_jobs=2)]: Done  40 out of  40 | elapsed: 29.7min finished\n"
     ]
    }
   ],
   "source": [
    "modelXgboost = xgb.XGBRegressor()\n",
    "\n",
    "    # Run the grid search\n",
    "grid_obj_xgb = GridSearchCV(modelXgboost, xgb_params, cv=KFold(n_splits=5, shuffle=True, random_state=42), n_jobs=2, verbose=2, refit=True,scoring='mean_squared_error')\n",
    "grid_obj_xgb = grid_obj_xgb.fit(X, y)\n"
   ]
  },
  {
   "cell_type": "code",
   "execution_count": 351,
   "metadata": {},
   "outputs": [
    {
     "data": {
      "text/plain": [
       "{'colsample_bytree': 0.8,\n",
       " 'gamma': 1,\n",
       " 'learning_rate': 0.025,\n",
       " 'max_depth': 6,\n",
       " 'min_child_weight': 2,\n",
       " 'n_estimators': 400,\n",
       " 'objective': 'reg:linear',\n",
       " 'reg_alpha': 0.5,\n",
       " 'reg_lambda': 0.8,\n",
       " 'silent': 1,\n",
       " 'subsample': 0.8}"
      ]
     },
     "execution_count": 351,
     "metadata": {},
     "output_type": "execute_result"
    }
   ],
   "source": [
    "clf = grid_obj_xgb.best_estimator_\n",
    "grid_obj_xgb.best_params_"
   ]
  },
  {
   "cell_type": "code",
   "execution_count": 59,
   "metadata": {
    "collapsed": true
   },
   "outputs": [],
   "source": [
    "\n",
    "users = pd.read_csv(INPUT_PATH + 't_user.csv')\n",
    "orders = pd.read_csv(INPUT_PATH + 't_order.csv')\n",
    "loans = pd.read_csv(INPUT_PATH + 't_loan.csv')\n",
    "loans_sum = pd.read_csv(INPUT_PATH + 't_loan_sum.csv')\n",
    "clicks = pd.read_csv(INPUT_PATH + 't_click.csv')"
   ]
  },
  {
   "cell_type": "code",
   "execution_count": 64,
   "metadata": {
    "collapsed": true
   },
   "outputs": [],
   "source": [
    "loans.loan_amount = 5**loans.loan_amount\n",
    "loans_sum.loan_sum = 5 ** loans_sum.loan_sum - 1\n",
    "orders.price = 5 ** orders.price\n",
    "orders.discount = 5 ** orders.discount - 1\n",
    "users.limit = 5 ** users.limit -1\n"
   ]
  },
  {
   "cell_type": "code",
   "execution_count": 65,
   "metadata": {
    "collapsed": true
   },
   "outputs": [],
   "source": [
    "orders[\"consume_amount\"] = orders[\"price\"] * orders[\"qty\"] - orders[\"discount\"]"
   ]
  },
  {
   "cell_type": "code",
   "execution_count": 68,
   "metadata": {
    "collapsed": true
   },
   "outputs": [],
   "source": [
    "import matplotlib.pyplot as plt"
   ]
  },
  {
   "cell_type": "code",
   "execution_count": 69,
   "metadata": {},
   "outputs": [
    {
     "name": "stderr",
     "output_type": "stream",
     "text": [
      "/System/Library/Frameworks/Python.framework/Versions/2.7/Extras/lib/python/matplotlib/collections.py:548: FutureWarning: elementwise comparison failed; returning scalar instead, but in the future will perform elementwise comparison\n",
      "  if self._edgecolors == 'face':\n"
     ]
    }
   ],
   "source": [
    "plt.figure(figsize=(8,6))\n",
    "plt.scatter(range(orders.shape[0]), np.sort(orders.consume_amount.values))\n",
    "plt.xlabel('index', fontsize=12)\n",
    "plt.ylabel('consume_amount', fontsize=12)\n",
    "plt.show()"
   ]
  },
  {
   "cell_type": "code",
   "execution_count": 91,
   "metadata": {
    "collapsed": true
   },
   "outputs": [],
   "source": [
    "ulimit = np.percentile(orders.consume_amount.values, 99.9)\n",
    "llimit = 0\n"
   ]
  },
  {
   "cell_type": "code",
   "execution_count": 81,
   "metadata": {},
   "outputs": [
    {
     "data": {
      "text/plain": [
       "False"
      ]
     },
     "execution_count": 81,
     "metadata": {},
     "output_type": "execute_result"
    }
   ],
   "source": [
    "orders.consume_amount.isnull().values.any()"
   ]
  },
  {
   "cell_type": "code",
   "execution_count": 94,
   "metadata": {
    "collapsed": true
   },
   "outputs": [],
   "source": [
    "orders = orders[ orders.consume_amount > llimit ]\n",
    "orders = orders[ orders.consume_amount < ulimit ]"
   ]
  },
  {
   "cell_type": "code",
   "execution_count": 80,
   "metadata": {
    "collapsed": true
   },
   "outputs": [],
   "source": [
    "orders.consume_amount = orders.consume_amount.fillna(0)"
   ]
  },
  {
   "cell_type": "code",
   "execution_count": 79,
   "metadata": {},
   "outputs": [
    {
     "data": {
      "text/plain": [
       "count    395972.000000\n",
       "mean        999.471488\n",
       "std        1802.303636\n",
       "min           1.000000\n",
       "25%          30.000000\n",
       "50%          89.000000\n",
       "75%        1100.000000\n",
       "max       69888.999996\n",
       "Name: price, dtype: float64"
      ]
     },
     "execution_count": 79,
     "metadata": {},
     "output_type": "execute_result"
    }
   ],
   "source": [
    "orders[orders.cate_id==33].price.describe()"
   ]
  },
  {
   "cell_type": "code",
   "execution_count": 92,
   "metadata": {},
   "outputs": [
    {
     "data": {
      "text/plain": [
       "44036.000002161658"
      ]
     },
     "execution_count": 92,
     "metadata": {},
     "output_type": "execute_result"
    }
   ],
   "source": [
    "ulimit"
   ]
  },
  {
   "cell_type": "code",
   "execution_count": 93,
   "metadata": {},
   "outputs": [
    {
     "data": {
      "text/plain": [
       "0"
      ]
     },
     "execution_count": 93,
     "metadata": {},
     "output_type": "execute_result"
    }
   ],
   "source": [
    "llimit"
   ]
  },
  {
   "cell_type": "code",
   "execution_count": 162,
   "metadata": {},
   "outputs": [
    {
     "data": {
      "text/plain": [
       "['age',\n",
       " 'sex',\n",
       " 'limit',\n",
       " 'active_month',\n",
       " 'active_year',\n",
       " 'comsume_count',\n",
       " 'consume_amount',\n",
       " 'loan_amount',\n",
       " 'loan_count',\n",
       " 'plannum',\n",
       " 'click_count',\n",
       " 'limit_get_promoted',\n",
       " 'limit_get_promoted_ever',\n",
       " 'comsume_count_cum',\n",
       " 'consume_amount_cum',\n",
       " 'loan_amount_cum',\n",
       " 'loan_count_cum',\n",
       " 'click_count_cum',\n",
       " 'plannum_cum',\n",
       " 'actived_months',\n",
       " 'dev_consume_amount_cum',\n",
       " 'dev_loan_amount_cum',\n",
       " 'dev_loan_amount',\n",
       " 'dev_click_count_cum']"
      ]
     },
     "execution_count": 162,
     "metadata": {},
     "output_type": "execute_result"
    }
   ],
   "source": [
    "all_features"
   ]
  },
  {
   "cell_type": "code",
   "execution_count": 43,
   "metadata": {},
   "outputs": [
    {
     "data": {
      "text/html": [
       "<div>\n",
       "<style>\n",
       "    .dataframe thead tr:only-child th {\n",
       "        text-align: right;\n",
       "    }\n",
       "\n",
       "    .dataframe thead th {\n",
       "        text-align: left;\n",
       "    }\n",
       "\n",
       "    .dataframe tbody tr th {\n",
       "        vertical-align: top;\n",
       "    }\n",
       "</style>\n",
       "<table border=\"1\" class=\"dataframe\">\n",
       "  <thead>\n",
       "    <tr style=\"text-align: right;\">\n",
       "      <th></th>\n",
       "      <th>uid</th>\n",
       "      <th>age</th>\n",
       "      <th>sex</th>\n",
       "      <th>active_date</th>\n",
       "      <th>limit</th>\n",
       "      <th>active_month</th>\n",
       "      <th>active_year</th>\n",
       "      <th>comsume_count</th>\n",
       "      <th>consume_amount</th>\n",
       "      <th>loan_amount</th>\n",
       "      <th>...</th>\n",
       "      <th>consume_amount_cum</th>\n",
       "      <th>loan_amount_cum</th>\n",
       "      <th>loan_count_cum</th>\n",
       "      <th>click_count_cum</th>\n",
       "      <th>plannum_cum</th>\n",
       "      <th>actived_months</th>\n",
       "      <th>comsume_counts_sum</th>\n",
       "      <th>comsume_amounts_sum</th>\n",
       "      <th>click_counts_sum</th>\n",
       "      <th>target</th>\n",
       "    </tr>\n",
       "  </thead>\n",
       "  <tbody>\n",
       "    <tr>\n",
       "      <th>0</th>\n",
       "      <td>26308</td>\n",
       "      <td>30</td>\n",
       "      <td>1</td>\n",
       "      <td>2016-02-16</td>\n",
       "      <td>15000.000001</td>\n",
       "      <td>2</td>\n",
       "      <td>1</td>\n",
       "      <td>1.0</td>\n",
       "      <td>700.000000</td>\n",
       "      <td>2500.0</td>\n",
       "      <td>...</td>\n",
       "      <td>0.0</td>\n",
       "      <td>0.0</td>\n",
       "      <td>0.0</td>\n",
       "      <td>0.0</td>\n",
       "      <td>0.0</td>\n",
       "      <td>6</td>\n",
       "      <td>3.0</td>\n",
       "      <td>1283.000000</td>\n",
       "      <td>213.0</td>\n",
       "      <td>5.070593</td>\n",
       "    </tr>\n",
       "    <tr>\n",
       "      <th>1</th>\n",
       "      <td>78209</td>\n",
       "      <td>40</td>\n",
       "      <td>1</td>\n",
       "      <td>2016-02-21</td>\n",
       "      <td>5000.000000</td>\n",
       "      <td>2</td>\n",
       "      <td>1</td>\n",
       "      <td>38.0</td>\n",
       "      <td>8429.100000</td>\n",
       "      <td>0.0</td>\n",
       "      <td>...</td>\n",
       "      <td>0.0</td>\n",
       "      <td>0.0</td>\n",
       "      <td>0.0</td>\n",
       "      <td>0.0</td>\n",
       "      <td>0.0</td>\n",
       "      <td>6</td>\n",
       "      <td>86.0</td>\n",
       "      <td>12510.600000</td>\n",
       "      <td>0.0</td>\n",
       "      <td>0.000000</td>\n",
       "    </tr>\n",
       "    <tr>\n",
       "      <th>2</th>\n",
       "      <td>51930</td>\n",
       "      <td>35</td>\n",
       "      <td>1</td>\n",
       "      <td>2016-04-19</td>\n",
       "      <td>24999.999999</td>\n",
       "      <td>4</td>\n",
       "      <td>1</td>\n",
       "      <td>2.0</td>\n",
       "      <td>790.000000</td>\n",
       "      <td>0.0</td>\n",
       "      <td>...</td>\n",
       "      <td>0.0</td>\n",
       "      <td>0.0</td>\n",
       "      <td>0.0</td>\n",
       "      <td>0.0</td>\n",
       "      <td>0.0</td>\n",
       "      <td>4</td>\n",
       "      <td>3.0</td>\n",
       "      <td>830.900000</td>\n",
       "      <td>35.0</td>\n",
       "      <td>6.405333</td>\n",
       "    </tr>\n",
       "    <tr>\n",
       "      <th>3</th>\n",
       "      <td>10113</td>\n",
       "      <td>25</td>\n",
       "      <td>1</td>\n",
       "      <td>2016-03-12</td>\n",
       "      <td>24999.999999</td>\n",
       "      <td>3</td>\n",
       "      <td>1</td>\n",
       "      <td>23.0</td>\n",
       "      <td>2251.800000</td>\n",
       "      <td>0.0</td>\n",
       "      <td>...</td>\n",
       "      <td>0.0</td>\n",
       "      <td>0.0</td>\n",
       "      <td>0.0</td>\n",
       "      <td>0.0</td>\n",
       "      <td>0.0</td>\n",
       "      <td>5</td>\n",
       "      <td>34.0</td>\n",
       "      <td>2775.000000</td>\n",
       "      <td>154.0</td>\n",
       "      <td>0.000000</td>\n",
       "    </tr>\n",
       "    <tr>\n",
       "      <th>4</th>\n",
       "      <td>17067</td>\n",
       "      <td>35</td>\n",
       "      <td>1</td>\n",
       "      <td>2016-02-16</td>\n",
       "      <td>15000.000001</td>\n",
       "      <td>2</td>\n",
       "      <td>1</td>\n",
       "      <td>51.0</td>\n",
       "      <td>19244.299999</td>\n",
       "      <td>0.0</td>\n",
       "      <td>...</td>\n",
       "      <td>0.0</td>\n",
       "      <td>0.0</td>\n",
       "      <td>0.0</td>\n",
       "      <td>0.0</td>\n",
       "      <td>0.0</td>\n",
       "      <td>6</td>\n",
       "      <td>148.0</td>\n",
       "      <td>33788.489999</td>\n",
       "      <td>62.0</td>\n",
       "      <td>0.000000</td>\n",
       "    </tr>\n",
       "  </tbody>\n",
       "</table>\n",
       "<p>5 rows × 24 columns</p>\n",
       "</div>"
      ],
      "text/plain": [
       "     uid  age  sex active_date         limit  active_month  active_year  \\\n",
       "0  26308   30    1  2016-02-16  15000.000001             2            1   \n",
       "1  78209   40    1  2016-02-21   5000.000000             2            1   \n",
       "2  51930   35    1  2016-04-19  24999.999999             4            1   \n",
       "3  10113   25    1  2016-03-12  24999.999999             3            1   \n",
       "4  17067   35    1  2016-02-16  15000.000001             2            1   \n",
       "\n",
       "   comsume_count  consume_amount  loan_amount    ...     consume_amount_cum  \\\n",
       "0            1.0      700.000000       2500.0    ...                    0.0   \n",
       "1           38.0     8429.100000          0.0    ...                    0.0   \n",
       "2            2.0      790.000000          0.0    ...                    0.0   \n",
       "3           23.0     2251.800000          0.0    ...                    0.0   \n",
       "4           51.0    19244.299999          0.0    ...                    0.0   \n",
       "\n",
       "   loan_amount_cum  loan_count_cum  click_count_cum  plannum_cum  \\\n",
       "0              0.0             0.0              0.0          0.0   \n",
       "1              0.0             0.0              0.0          0.0   \n",
       "2              0.0             0.0              0.0          0.0   \n",
       "3              0.0             0.0              0.0          0.0   \n",
       "4              0.0             0.0              0.0          0.0   \n",
       "\n",
       "   actived_months  comsume_counts_sum  comsume_amounts_sum  click_counts_sum  \\\n",
       "0               6                 3.0          1283.000000             213.0   \n",
       "1               6                86.0         12510.600000               0.0   \n",
       "2               4                 3.0           830.900000              35.0   \n",
       "3               5                34.0          2775.000000             154.0   \n",
       "4               6               148.0         33788.489999              62.0   \n",
       "\n",
       "     target  \n",
       "0  5.070593  \n",
       "1  0.000000  \n",
       "2  6.405333  \n",
       "3  0.000000  \n",
       "4  0.000000  \n",
       "\n",
       "[5 rows x 24 columns]"
      ]
     },
     "execution_count": 43,
     "metadata": {},
     "output_type": "execute_result"
    }
   ],
   "source": [
    "train.head()"
   ]
  },
  {
   "cell_type": "code",
   "execution_count": 59,
   "metadata": {},
   "outputs": [
    {
     "data": {
      "text/plain": [
       "['uid',\n",
       " 'age',\n",
       " 'sex',\n",
       " 'active_date',\n",
       " 'limit',\n",
       " 'active_month',\n",
       " 'active_year',\n",
       " 'comsume_count',\n",
       " 'consume_amount',\n",
       " 'loan_amount',\n",
       " 'loan_count',\n",
       " 'plannum',\n",
       " 'click_count',\n",
       " 'comsume_count_cum',\n",
       " 'consume_amount_cum',\n",
       " 'loan_amount_cum',\n",
       " 'loan_count_cum',\n",
       " 'click_count_cum',\n",
       " 'plannum_cum',\n",
       " 'actived_months',\n",
       " 'comsume_counts_sum',\n",
       " 'comsume_amounts_sum',\n",
       " 'click_counts_sum',\n",
       " 'target']"
      ]
     },
     "execution_count": 59,
     "metadata": {},
     "output_type": "execute_result"
    }
   ],
   "source": [
    "list(train)"
   ]
  },
  {
   "cell_type": "code",
   "execution_count": 163,
   "metadata": {},
   "outputs": [
    {
     "data": {
      "text/plain": [
       "(181986, 30)"
      ]
     },
     "execution_count": 163,
     "metadata": {},
     "output_type": "execute_result"
    }
   ],
   "source": [
    "train.shape"
   ]
  },
  {
   "cell_type": "code",
   "execution_count": null,
   "metadata": {
    "collapsed": true
   },
   "outputs": [],
   "source": []
  }
 ],
 "metadata": {
  "kernelspec": {
   "display_name": "Python 2",
   "language": "python",
   "name": "python2"
  },
  "language_info": {
   "codemirror_mode": {
    "name": "ipython",
    "version": 2
   },
   "file_extension": ".py",
   "mimetype": "text/x-python",
   "name": "python",
   "nbconvert_exporter": "python",
   "pygments_lexer": "ipython2",
   "version": "2.7.10"
  }
 },
 "nbformat": 4,
 "nbformat_minor": 2
}
