{
 "cells": [
  {
   "cell_type": "code",
   "execution_count": 1,
   "metadata": {},
   "outputs": [
    {
     "name": "stderr",
     "output_type": "stream",
     "text": [
      "/Library/Python/2.7/site-packages/sklearn/cross_validation.py:44: DeprecationWarning: This module was deprecated in version 0.18 in favor of the model_selection module into which all the refactored classes and functions are moved. Also note that the interface of the new CV iterators are different from that of this module. This module will be removed in 0.20.\n",
      "  \"This module will be removed in 0.20.\", DeprecationWarning)\n"
     ]
    }
   ],
   "source": [
    "import numpy as np\n",
    "\n",
    "import pandas as pd\n",
    "\n",
    "from sklearn.model_selection import KFold\n",
    "\n",
    "from sklearn.metrics import mean_squared_error\n",
    "\n",
    "import xgboost as xgb\n",
    "\n",
    "import math\n",
    "import feature_engineering as fe\n",
    "\n",
    "import matplotlib.pyplot as plt\n",
    "import seaborn as sns"
   ]
  },
  {
   "cell_type": "code",
   "execution_count": 11,
   "metadata": {
    "collapsed": true
   },
   "outputs": [],
   "source": [
    "INPUT_PATH = '../input/'\n",
    "OUTPUT_PATH = '../output/'\n",
    "\n",
    "\n",
    "def load_data():\n",
    "    train = pd.read_csv(INPUT_PATH + 'trainv1.csv')\n",
    "    train['target'] = train['target'].map(lambda x: data_log(x))\n",
    "    submit = pd.read_csv(INPUT_PATH + 'submitv1.csv')\n",
    "    return train, submit\n",
    "\n",
    "\n",
    "def get_xgb_imp(xgb, feat_names):\n",
    "    from numpy import array\n",
    "    imp_vals = xgb.get_fscore()\n",
    "    imp_dict = {feat_names[i]:float(imp_vals.get('f'+str(i),0.)) for i in range(len(feat_names))}\n",
    "    total = array(imp_dict.values()).sum()\n",
    "    return {k:v/total for k,v in imp_dict.items()}\n",
    "\n",
    "\n",
    "def merge_dic(dicts):\n",
    "    ret = {}\n",
    "    for dict in dicts:\n",
    "        for key in dict:\n",
    "            val = dict[key]\n",
    "            ret[key] = ret[key]+val if key in ret else val\n",
    "    return ret\n",
    "\n",
    "def data_log(x):\n",
    "    if x <= 0:\n",
    "        return 0\n",
    "    else:\n",
    "        return np.math.log(x + 1, 5)"
   ]
  },
  {
   "cell_type": "code",
   "execution_count": 12,
   "metadata": {},
   "outputs": [
    {
     "name": "stdout",
     "output_type": "stream",
     "text": [
      "begin to load data\n"
     ]
    }
   ],
   "source": [
    "print('begin to load data')\n",
    "train, submit = load_data()\n",
    "train, submit = fe.add_cate_features(train, submit)\n",
    "train, submit = fe.add_param_features(train, submit)\n",
    "train, submit = fe.add_dow_features(train, submit)\n",
    "kfold = 10\n",
    "skf = KFold(n_splits=kfold,shuffle=True, random_state=42)"
   ]
  },
  {
   "cell_type": "code",
   "execution_count": 13,
   "metadata": {
    "collapsed": true
   },
   "outputs": [],
   "source": [
    "params = {\n",
    "        'objective': 'reg:linear',\n",
    "        'max_depth': 6,\n",
    "        'colsample_bytree': 0.8,\n",
    "        'subsample': 0.8,\n",
    "        'eta': 0.025,\n",
    "        'gamma': 1,\n",
    "        'reg_alpha': 0.5,\n",
    "        'reg_lambda': 0.8,\n",
    "        'eval_metric': 'rmse',\n",
    "        'min_child_weight': 2,\n",
    "        'silent': 1,\n",
    "        'nthread': 6\n",
    "    }\n",
    "\n"
   ]
  },
  {
   "cell_type": "code",
   "execution_count": 14,
   "metadata": {
    "collapsed": true
   },
   "outputs": [],
   "source": [
    "\n",
    "cum= ['consume_counts_sum','consume_amounts_sum','click_counts_sum','workdays','weekends']\n",
    "   \n",
    "actives = ['dev_median_loan_amount_cum','median_loan_amount_cum','dev_median_loan_amount','median_loan_amount'\n",
    ",'median_three_loan_amount','dev_three_median_loan_amount','dev_three_median_limit']    \n",
    "features_to_remove = ['uid', 'active_date' ]+cum+actives\n",
    "# features_to_remove = ['active_date' ]+cum+actives\n",
    "all_features = [x for x in train.columns if not x in features_to_remove+['target']]\n",
    "\n",
    "# remove uid, try\n",
    "X = train.drop(features_to_remove+['target'], axis=1).values\n",
    "y = train.target.values\n",
    "\n",
    "sub_id = submit.uid.values\n",
    "to_submit = submit.drop(features_to_remove, axis=1)\n",
    "\n",
    "sub = pd.DataFrame()\n",
    "sub['uid'] = sub_id\n",
    "sub['target'] = np.zeros_like(sub_id)\n",
    "\n",
    "scores = []\n",
    "\n",
    "importances = []"
   ]
  },
  {
   "cell_type": "code",
   "execution_count": 15,
   "metadata": {},
   "outputs": [
    {
     "name": "stdout",
     "output_type": "stream",
     "text": [
      "[0]\ttrain-rmse:2.45704\tvalid-rmse:2.47308\n",
      "Multiple eval metrics have been passed: 'valid-rmse' will be used for early stopping.\n",
      "\n",
      "Will train until valid-rmse hasn't improved in 70 rounds.\n",
      "[50]\ttrain-rmse:1.86977\tvalid-rmse:1.87404\n",
      "[100]\ttrain-rmse:1.7999\tvalid-rmse:1.80911\n",
      "[150]\ttrain-rmse:1.7858\tvalid-rmse:1.80153\n",
      "[200]\ttrain-rmse:1.77864\tvalid-rmse:1.80034\n",
      "[250]\ttrain-rmse:1.77318\tvalid-rmse:1.79995\n",
      "[300]\ttrain-rmse:1.76836\tvalid-rmse:1.79983\n",
      "[350]\ttrain-rmse:1.76449\tvalid-rmse:1.79966\n",
      "[400]\ttrain-rmse:1.75998\tvalid-rmse:1.79956\n",
      "[450]\ttrain-rmse:1.75607\tvalid-rmse:1.7996\n",
      "Stopping. Best iteration:\n",
      "[421]\ttrain-rmse:1.75846\tvalid-rmse:1.79956\n",
      "\n",
      "{'dev_three_click_count_cum': 0.010880469172004012, 'active_day_of_week': 0.0089127247472798824, 'avg_click_count_cum': 0.0086426421791804924, 'avg_loan_amount': 0.0055945674820588008, 'plannum': 0.032641407516012036, 'sex': 0.00054016513619878077, 'dow_2': 0.032718573964040439, 'dev_actived_months': 0.011690716876302184, 'dev_click_count_cum': 0.012616714252642951, 'limit_get_promoted_ever': 0.00196774442472413, 'avg_actived_months': 0.0065977313064279654, 'dev_three_click_count': 0.010803302723975615, 'dev_median_actived_months': 0.0039740720734624587, 'dow_0': 0.022378269928235203, 'consume_amount': 0.025001929161200712, 'loan_amount_cum': 0.034686318388764563, 'dev_loan_amount': 0.018828613318928929, 'dev_three_loan_amount_cum': 0.039586387838567792, 'median_three_actived_months': 0.00096458060035496565, 'avg_loan_amount_cum': 0.0042055714175476501, 'median_three_click_count_cum': 0.0063662319623427732, 'avg_three_consume_amount_cum': 0.0077552280268539239, 'median_three_consume_amount_cum': 0.0072150628906551429, 'median_click_count': 0.0018519947526815341, 'dev_three_actived_months': 0.017092368238289992, 'median_three_loan_amount_cum': 3.8583224014198629e-05, 'avg_three_loan_amount': 0.010841885947989814, 'avg_three_limit': 0.00015433289605679452, 'median_limit': 3.8583224014198629e-05, 'avg_three_actived_months': 0.0096458060035496569, 'limit_get_promoted': 0.00069449803225557526, 'dev_median_consume_amount_cum': 0.011729300100316382, 'median_three_loan_amount': 0.0, 'consume_count_cum': 0.020642024847596266, 'loan_count_cum': 0.033027239756154021, 'limit': 0.0025079095609229106, 'dev_three_median_loan_amount_cum': 0.0011960799444401574, 'cate_2': 0.023188517632533375, 'dev_median_click_count_cum': 0.0079095609229107178, 'cate_0': 0.024770429817115518, 'cate_1': 0.026198009105640869, 'dev_three_median_loan_amount': 0.0, 'median_three_limit': 3.8583224014198629e-05, 'consume_amount_cum': 0.017593950150474574, 'avg_consume_amount_cum': 0.0071764796666409442, 'dev_median_limit': 0.0010803302723975615, 'dev_three_loan_amount': 0.035998148005247317, 'dev_limit': 0.0063276487383285744, 'loan_count': 0.030905162435373099, 'click_count_cum': 0.017092368238289992, 'median_actived_months': 0.00027008256809939039, 'avg_limit': 0.0021606605447951231, 'dev_consume_amount_cum': 0.010726136275947219, 'dev_click_count': 0.0086812254031946902, 'avg_click_count': 0.004475653985647041, 'plannum_cum': 0.030287830851145923, 'active_year': 0.00027008256809939039, 'dev_median_click_count': 0.0079095609229107178, 'dev_three_limit': 0.0062890655143143757, 'dev_three_median_click_count_cum': 0.011536383980245389, 'active_month': 0.012771047148699746, 'actived_months': 0.0045528204336754375, 'dev_three_median_limit': 0.0, 'consume_count': 0.013388378732926923, 'dev_three_median_click_count': 0.0094914731074928621, 'median_three_click_count': 0.0035496566093062738, 'click_count': 0.012925380044756541, 'loan_amount': 0.021568022223937031, 'dev_three_consume_amount_cum': 0.0091442240913650746, 'avg_three_click_count_cum': 0.0061733158422717805, 'avg_three_loan_amount_cum': 0.005285901689945212, 'pid_param_2': 0.034686318388764563, 'pid_param_1': 0.034339069372636775, 'pid_param_0': 0.020294775831468478, 'dow_1': 0.027818504514237209, 'avg_three_click_count': 0.0081796434910101096, 'dev_three_median_actived_months': 0.0048614862257890272, 'dev_three_median_consume_amount_cum': 0.011420634308202794, 'median_consume_amount_cum': 0.0091442240913650746, 'age': 0.0038583224014198626, 'dev_loan_amount_cum': 0.035998148005247317, 'median_click_count_cum': 0.0056331507060729995}\n",
      "1.79955467982\n",
      "[Fold 1/10 Prediciton:]\n",
      "[0]\ttrain-rmse:2.45781\tvalid-rmse:2.46712\n",
      "Multiple eval metrics have been passed: 'valid-rmse' will be used for early stopping.\n",
      "\n",
      "Will train until valid-rmse hasn't improved in 70 rounds.\n",
      "[50]\ttrain-rmse:1.8687\tvalid-rmse:1.88051\n",
      "[100]\ttrain-rmse:1.79884\tvalid-rmse:1.81707\n",
      "[150]\ttrain-rmse:1.78487\tvalid-rmse:1.80955\n",
      "[200]\ttrain-rmse:1.77778\tvalid-rmse:1.80821\n",
      "[250]\ttrain-rmse:1.77203\tvalid-rmse:1.80798\n",
      "Stopping. Best iteration:\n",
      "[226]\ttrain-rmse:1.77462\tvalid-rmse:1.80782\n",
      "\n",
      "{'dev_three_click_count_cum': 0.012228983281148461, 'active_day_of_week': 0.0072664973119867665, 'avg_click_count_cum': 0.010988361788858038, 'avg_loan_amount': 0.0051397176109174688, 'plannum': 0.041590358598688489, 'sex': 0.00053169492526732444, 'dow_2': 0.029184143675784251, 'dev_actived_months': 0.011106516216695221, 'dev_click_count_cum': 0.011992674425474095, 'limit_get_promoted_ever': 0.0022449341289064806, 'avg_actived_months': 0.0090978909434631071, 'dev_three_click_count': 0.0097477402965676137, 'dev_median_actived_months': 0.003662787262952679, 'dow_0': 0.022035800791634665, 'consume_amount': 0.019141017309623677, 'loan_amount_cum': 0.032787853724818336, 'dev_loan_amount': 0.020381638801914102, 'dev_three_loan_amount_cum': 0.043835292727594968, 'median_three_actived_months': 0.00070892656702309918, 'avg_loan_amount_cum': 0.0044898682578129612, 'median_three_click_count_cum': 0.0062031074614521181, 'avg_three_consume_amount_cum': 0.0074437289537425417, 'median_three_consume_amount_cum': 0.009511431440893248, 'median_click_count': 0.0011224670644532403, 'dev_three_actived_months': 0.014119454126543392, 'median_three_loan_amount_cum': 5.9077213918591598e-05, 'avg_three_loan_amount': 0.011047439002776629, 'avg_three_limit': 5.9077213918591598e-05, 'median_limit': 0.0, 'avg_three_actived_months': 0.01033851243575353, 'limit_get_promoted': 0.00064984935310450763, 'dev_median_consume_amount_cum': 0.0088615820877887396, 'median_three_loan_amount': 0.0, 'consume_count_cum': 0.019495480593135227, 'loan_count_cum': 0.041826667454362851, 'limit': 0.0020677024871507059, 'dev_three_median_loan_amount_cum': 0.0010633898505346489, 'cate_2': 0.019968098304483959, 'dev_median_click_count_cum': 0.0086843504460329644, 'cate_0': 0.020617947657588467, 'cate_1': 0.024635198204052695, 'dev_three_median_loan_amount': 0.0, 'median_three_limit': 0.0, 'consume_amount_cum': 0.015241921190996632, 'avg_consume_amount_cum': 0.008802504873870149, 'dev_median_limit': 0.0010043126366160572, 'dev_three_loan_amount': 0.036391563773852428, 'dev_limit': 0.0056714125361847934, 'loan_count': 0.036273409346015244, 'click_count_cum': 0.016600697111124239, 'median_actived_months': 0.00017723164175577479, 'avg_limit': 0.0021858569149878892, 'dev_consume_amount_cum': 0.0086843504460329644, 'dev_click_count': 0.0090388137295445148, 'avg_click_count': 0.0040763277603828203, 'plannum_cum': 0.033792166361434395, 'active_year': 0.00053169492526732444, 'dev_median_click_count': 0.0097477402965676137, 'dev_three_limit': 0.0040763277603828203, 'dev_three_median_click_count_cum': 0.0090978909434631071, 'active_month': 0.014946535121403674, 'actived_months': 0.0051987948248360611, 'dev_three_median_limit': 0.0, 'consume_count': 0.012288060495067053, 'dev_three_median_click_count': 0.0086252732321143739, 'median_three_click_count': 0.0027175518402552134, 'click_count': 0.010515744077509305, 'loan_amount': 0.020617947657588467, 'dev_three_consume_amount_cum': 0.0075028061676611331, 'avg_three_click_count_cum': 0.0075618833815797246, 'avg_three_loan_amount_cum': 0.0066757251728008504, 'pid_param_2': 0.033555857505760026, 'pid_param_1': 0.034323861286701722, 'pid_param_0': 0.020795179299344244, 'dow_1': 0.022744727358657766, 'avg_three_click_count': 0.0077391150233354997, 'dev_three_median_actived_months': 0.0047261771134873279, 'dev_three_median_consume_amount_cum': 0.0086252732321143739, 'median_consume_amount_cum': 0.012228983281148461, 'age': 0.0031310923376853548, 'dev_loan_amount_cum': 0.039995273822886514, 'median_click_count_cum': 0.0081526555207656407}\n"
     ]
    },
    {
     "name": "stdout",
     "output_type": "stream",
     "text": [
      "1.80782321297\n",
      "[Fold 2/10 Prediciton:]\n",
      "[0]\ttrain-rmse:2.45745\tvalid-rmse:2.46976\n",
      "Multiple eval metrics have been passed: 'valid-rmse' will be used for early stopping.\n",
      "\n",
      "Will train until valid-rmse hasn't improved in 70 rounds.\n",
      "[50]\ttrain-rmse:1.8677\tvalid-rmse:1.88692\n",
      "[100]\ttrain-rmse:1.79783\tvalid-rmse:1.82642\n",
      "[150]\ttrain-rmse:1.78396\tvalid-rmse:1.81998\n",
      "[200]\ttrain-rmse:1.77639\tvalid-rmse:1.81899\n",
      "[250]\ttrain-rmse:1.77102\tvalid-rmse:1.81863\n",
      "[300]\ttrain-rmse:1.76639\tvalid-rmse:1.81858\n",
      "[350]\ttrain-rmse:1.76192\tvalid-rmse:1.81842\n",
      "[400]\ttrain-rmse:1.75771\tvalid-rmse:1.8185\n",
      "Stopping. Best iteration:\n",
      "[347]\ttrain-rmse:1.76221\tvalid-rmse:1.81839\n",
      "\n",
      "{'dev_three_click_count_cum': 0.011972137570744449, 'active_day_of_week': 0.0089246843709185897, 'avg_click_count_cum': 0.0088376142794949937, 'avg_loan_amount': 0.0047017849368741838, 'plannum': 0.035263387026556375, 'sex': 0.00043535045711797995, 'dow_2': 0.029690901175446233, 'dev_actived_months': 0.013321723987810187, 'dev_click_count_cum': 0.012451023073574227, 'limit_get_promoted_ever': 0.0021767522855898999, 'avg_actived_months': 0.0069220722681758813, 'dev_three_click_count': 0.010883761427949499, 'dev_median_actived_months': 0.0042228994340444059, 'dow_0': 0.022464083587287766, 'consume_amount': 0.02329124945581193, 'loan_amount_cum': 0.033696125380931648, 'dev_loan_amount': 0.019242490204614715, 'dev_three_loan_amount_cum': 0.040835872877666525, 'median_three_actived_months': 0.00060949063996517197, 'avg_loan_amount_cum': 0.0048323900740095778, 'median_three_click_count_cum': 0.0058336961253809315, 'avg_three_consume_amount_cum': 0.0063125816282107094, 'median_three_consume_amount_cum': 0.0093164997823247716, 'median_click_count': 0.0014801915542011319, 'dev_three_actived_months': 0.016020896821941664, 'median_three_loan_amount_cum': 8.7070091423595994e-05, 'avg_three_loan_amount': 0.012625163256421419, 'avg_three_limit': 0.000130605137135394, 'median_limit': 0.0, 'avg_three_actived_months': 0.0096647801480191555, 'limit_get_promoted': 0.00069656073138876795, 'dev_median_consume_amount_cum': 0.0099259904222899435, 'median_three_loan_amount': 0.0, 'consume_count_cum': 0.021332172398781019, 'loan_count_cum': 0.035306922072268175, 'limit': 0.0022202873313016979, 'dev_three_median_loan_amount_cum': 0.001044841097083152, 'cate_2': 0.021506312581628211, 'dev_median_click_count_cum': 0.010013060513713539, 'cate_0': 0.025076186329995646, 'cate_1': 0.027514148889856333, 'dev_three_median_loan_amount': 0.0, 'median_three_limit': 0.0, 'consume_amount_cum': 0.015585546364823684, 'avg_consume_amount_cum': 0.0073138876795820632, 'dev_median_limit': 0.0016107966913365258, 'dev_three_loan_amount': 0.034044405746626032, 'dev_limit': 0.0053983456682629516, 'loan_count': 0.031954723552459728, 'click_count_cum': 0.016020896821941664, 'median_actived_months': 0.00052242054854157599, 'avg_limit': 0.0024379625598606879, 'dev_consume_amount_cum': 0.011275576839355681, 'dev_click_count': 0.0094906399651719636, 'avg_click_count': 0.0041793643883326079, 'plannum_cum': 0.033347845015237264, 'active_year': 0.00065302568567696996, 'dev_median_click_count': 0.0090552895080539837, 'dev_three_limit': 0.0054418807139747496, 'dev_three_median_click_count_cum': 0.010230735742272529, 'active_month': 0.013147583804962995, 'actived_months': 0.0048759251197213757, 'dev_three_median_limit': 0.0, 'consume_count': 0.012276882890727035, 'dev_three_median_click_count': 0.0087070091423595997, 'median_three_click_count': 0.0033086634740966477, 'click_count': 0.012581628210709621, 'loan_amount': 0.022594688724423162, 'dev_three_consume_amount_cum': 0.0093164997823247716, 'avg_three_click_count_cum': 0.0075315629081410531, 'avg_three_loan_amount_cum': 0.0065302568567696994, 'pid_param_2': 0.033347845015237264, 'pid_param_1': 0.032825424466695688, 'pid_param_0': 0.019939050936003483, 'dow_1': 0.026033957335655201, 'avg_three_click_count': 0.0069220722681758813, 'dev_three_median_actived_months': 0.0040922942969090119, 'dev_three_median_consume_amount_cum': 0.011101436656508489, 'median_consume_amount_cum': 0.010056595559425337, 'age': 0.0036569438397910316, 'dev_loan_amount_cum': 0.035481062255115367, 'median_click_count_cum': 0.0062255115367871134}\n",
      "1.81839496333\n",
      "[Fold 3/10 Prediciton:]\n",
      "[0]\ttrain-rmse:2.45885\tvalid-rmse:2.45852\n",
      "Multiple eval metrics have been passed: 'valid-rmse' will be used for early stopping.\n",
      "\n",
      "Will train until valid-rmse hasn't improved in 70 rounds.\n",
      "[50]\ttrain-rmse:1.86989\tvalid-rmse:1.87368\n",
      "[100]\ttrain-rmse:1.80021\tvalid-rmse:1.80893\n",
      "[150]\ttrain-rmse:1.78629\tvalid-rmse:1.80083\n",
      "[200]\ttrain-rmse:1.77892\tvalid-rmse:1.79947\n",
      "[250]\ttrain-rmse:1.77365\tvalid-rmse:1.79932\n",
      "[300]\ttrain-rmse:1.76926\tvalid-rmse:1.79918\n",
      "[350]\ttrain-rmse:1.76499\tvalid-rmse:1.79905\n",
      "[400]\ttrain-rmse:1.76037\tvalid-rmse:1.79901\n",
      "[450]\ttrain-rmse:1.75646\tvalid-rmse:1.7991\n",
      "Stopping. Best iteration:\n",
      "[383]\ttrain-rmse:1.76196\tvalid-rmse:1.79891\n",
      "\n",
      "{'dev_three_click_count_cum': 0.011578557006881207, 'active_day_of_week': 0.0098479541802299238, 'avg_click_count_cum': 0.0081173513535786387, 'avg_loan_amount': 0.005150603650747868, 'plannum': 0.034529646874613705, 'sex': 0.00049445795047179525, 'dow_2': 0.031686513659400881, 'dev_actived_months': 0.012361448761794883, 'dev_click_count_cum': 0.011496147348469241, 'limit_get_promoted_ever': 0.0020190366310931639, 'avg_actived_months': 0.0074580740862829125, 'dev_three_click_count': 0.010507231447525651, 'dev_median_actived_months': 0.0040792780913923108, 'dow_0': 0.022827475380114551, 'consume_amount': 0.023898800939470107, 'loan_amount_cum': 0.034776875849849599, 'dev_loan_amount': 0.018706992459516254, 'dev_three_loan_amount_cum': 0.038732539453623968, 'median_three_actived_months': 0.00070048209650171004, 'avg_loan_amount_cum': 0.0043677118958341914, 'median_three_click_count_cum': 0.0056450616012196633, 'avg_three_consume_amount_cum': 0.0069224113066051344, 'median_three_consume_amount_cum': 0.0072932547694589808, 'median_click_count': 0.0017306028266512836, 'dev_three_actived_months': 0.014504099880505996, 'median_three_loan_amount_cum': 0.00012361448761794881, 'avg_three_loan_amount': 0.011207713544027361, 'avg_three_limit': 0.00028843380444188056, 'median_limit': 0.0, 'avg_three_actived_months': 0.0086942189624623998, 'limit_get_promoted': 0.00086530141332564179, 'dev_median_consume_amount_cum': 0.011784581152911122, 'median_three_loan_amount': 0.0, 'consume_count_cum': 0.019613498702047882, 'loan_count_cum': 0.033787959948906009, 'limit': 0.0024722897523589767, 'dev_three_median_loan_amount_cum': 0.0012361448761794883, 'cate_2': 0.022497836746466687, 'dev_median_click_count_cum': 0.010466026618319668, 'cate_0': 0.023569162305822244, 'cate_1': 0.025423379620091474, 'dev_three_median_loan_amount': 0.0, 'median_three_limit': 8.2409658411965888e-05, 'consume_amount_cum': 0.01598747373192138, 'avg_consume_amount_cum': 0.0081173513535786387, 'dev_median_limit': 0.0015245786806213689, 'dev_three_loan_amount': 0.036260249701264985, 'dev_limit': 0.0063455436977213732, 'loan_count': 0.029255428736247889, 'click_count_cum': 0.01598747373192138, 'median_actived_months': 0.00028843380444188056, 'avg_limit': 0.0016069883390333348, 'dev_consume_amount_cum': 0.011743376323705139, 'dev_click_count': 0.0093947010589641097, 'avg_click_count': 0.0045325312126581231, 'plannum_cum': 0.032716634389550456, 'active_year': 0.00053566277967777819, 'dev_median_click_count': 0.0083645803288145363, 'dev_three_limit': 0.0066339775021632538, 'dev_three_median_click_count_cum': 0.0097655445218179579, 'active_month': 0.013803617784004286, 'actived_months': 0.0053978326259837657, 'dev_three_median_limit': 0.0, 'consume_count': 0.012691087395442746, 'dev_three_median_click_count': 0.0089826527669042804, 'median_three_click_count': 0.0033375911656846184, 'click_count': 0.013309159833532491, 'loan_amount': 0.021632535333141044, 'dev_three_consume_amount_cum': 0.0098891590094359067, 'avg_three_click_count_cum': 0.0070460257942230832, 'avg_three_loan_amount_cum': 0.0066339775021632538, 'pid_param_2': 0.036054225555235075, 'pid_param_1': 0.034776875849849599, 'pid_param_0': 0.020973258065845317, 'dow_1': 0.026535910008653015, 'avg_three_click_count': 0.0081585561827846216, 'dev_three_median_actived_months': 0.0051093988215418851, 'dev_three_median_consume_amount_cum': 0.01021879764308377, 'median_consume_amount_cum': 0.0091474720837282121, 'age': 0.0035436153117145331, 'dev_loan_amount_cum': 0.036260249701264985, 'median_click_count_cum': 0.0058922905764555609}\n"
     ]
    },
    {
     "name": "stdout",
     "output_type": "stream",
     "text": [
      "1.79890996119\n",
      "[Fold 4/10 Prediciton:]\n",
      "[0]\ttrain-rmse:2.45994\tvalid-rmse:2.44849\n",
      "Multiple eval metrics have been passed: 'valid-rmse' will be used for early stopping.\n",
      "\n",
      "Will train until valid-rmse hasn't improved in 70 rounds.\n",
      "[50]\ttrain-rmse:1.86952\tvalid-rmse:1.87264\n",
      "[100]\ttrain-rmse:1.79943\tvalid-rmse:1.81225\n",
      "[150]\ttrain-rmse:1.78536\tvalid-rmse:1.8056\n",
      "[200]\ttrain-rmse:1.77788\tvalid-rmse:1.80418\n",
      "[250]\ttrain-rmse:1.77255\tvalid-rmse:1.80362\n",
      "[300]\ttrain-rmse:1.76816\tvalid-rmse:1.8032\n",
      "[350]\ttrain-rmse:1.7641\tvalid-rmse:1.80331\n",
      "[400]\ttrain-rmse:1.75963\tvalid-rmse:1.803\n",
      "[450]\ttrain-rmse:1.75533\tvalid-rmse:1.80323\n",
      "Stopping. Best iteration:\n",
      "[406]\ttrain-rmse:1.75908\tvalid-rmse:1.80297\n",
      "\n",
      "{'dev_three_click_count_cum': 0.012489690114292447, 'active_day_of_week': 0.0082479085660421819, 'avg_click_count_cum': 0.0078158752602018773, 'avg_loan_amount': 0.0050665724048544834, 'plannum': 0.033973528141078513, 'sex': 0.00058913632614587016, 'dow_2': 0.030949295000196379, 'dev_actived_months': 0.012411138604139664, 'dev_click_count_cum': 0.013353756725973057, 'limit_get_promoted_ever': 0.0013353756725973057, 'avg_actived_months': 0.0066768783629865287, 'dev_three_click_count': 0.0095047327284867051, 'dev_median_actived_months': 0.0047916421193197438, 'dow_0': 0.022072974352931936, 'consume_amount': 0.024036762106751503, 'loan_amount_cum': 0.032638152468481209, 'dev_loan_amount': 0.020266289619417933, 'dev_three_loan_amount_cum': 0.041318094340363695, 'median_three_actived_months': 0.00098189387690978368, 'avg_loan_amount_cum': 0.0040454027728683084, 'median_three_click_count_cum': 0.0066768783629865287, 'avg_three_consume_amount_cum': 0.007423117709437964, 'median_three_consume_amount_cum': 0.0076587722398963123, 'median_click_count': 0.0014139271827500884, 'dev_three_actived_months': 0.016299438356702407, 'median_three_loan_amount_cum': 0.0, 'avg_three_loan_amount': 0.012018381053375752, 'avg_three_limit': 7.8551510152782689e-05, 'median_limit': 0.0, 'avg_three_actived_months': 0.0081693570558893994, 'limit_get_promoted': 0.00070696359137504422, 'dev_median_consume_amount_cum': 0.010918659911236793, 'median_three_loan_amount': 0.0, 'consume_count_cum': 0.020187738109265149, 'loan_count_cum': 0.033305840304779857, 'limit': 0.0025136483248890461, 'dev_three_median_loan_amount_cum': 0.00070696359137504422, 'cate_2': 0.024468795412591806, 'dev_median_click_count_cum': 0.0090726994226464006, 'cate_0': 0.025921998350418286, 'cate_1': 0.025607792309807156, 'dev_three_median_loan_amount': 0.0, 'median_three_limit': 3.9275755076391345e-05, 'consume_amount_cum': 0.01661364439731354, 'avg_consume_amount_cum': 0.0067947056282157024, 'dev_median_limit': 0.00074623934645143557, 'dev_three_loan_amount': 0.034327009936766031, 'dev_limit': 0.0058913632614587012, 'loan_count': 0.027885786104237854, 'click_count_cum': 0.015121165704410668, 'median_actived_months': 0.00035348179568752211, 'avg_limit': 0.0021994422842779152, 'dev_consume_amount_cum': 0.011193590196771533, 'dev_click_count': 0.010133144809708967, 'avg_click_count': 0.0041239542830210909, 'plannum_cum': 0.029535367817446291, 'active_year': 0.00051058481599308746, 'dev_median_click_count': 0.0086013903617297039, 'dev_three_limit': 0.0064019480774517891, 'dev_three_median_click_count_cum': 0.010840108401084011, 'active_month': 0.013550135501355014, 'actived_months': 0.0051451239150072658, 'dev_three_median_limit': 0.0, 'consume_count': 0.014374926357959231, 'dev_three_median_click_count': 0.0093869054632575305, 'median_three_click_count': 0.0033777149365696556, 'click_count': 0.012371862849063274, 'loan_amount': 0.022505007658772239, 'dev_three_consume_amount_cum': 0.011272141706924315, 'avg_three_click_count_cum': 0.0065983268528337453, 'avg_three_loan_amount_cum': 0.0059306390165350933, 'pid_param_2': 0.033030910019245123, 'pid_param_1': 0.035073249283217471, 'pid_param_0': 0.022976316719688937, 'dow_1': 0.027807234594085073, 'avg_three_click_count': 0.0077373237500490948, 'dev_three_median_actived_months': 0.004477436078708613, 'dev_three_median_consume_amount_cum': 0.011547071992459055, 'median_consume_amount_cum': 0.0091119751777227909, 'age': 0.0029849573858057423, 'dev_loan_amount_cum': 0.036722830996425905, 'median_click_count_cum': 0.0069910844035976595}\n",
      "1.80297505866\n",
      "[Fold 5/10 Prediciton:]\n",
      "[0]\ttrain-rmse:2.45968\tvalid-rmse:2.4502\n",
      "Multiple eval metrics have been passed: 'valid-rmse' will be used for early stopping.\n",
      "\n",
      "Will train until valid-rmse hasn't improved in 70 rounds.\n",
      "[50]\ttrain-rmse:1.86978\tvalid-rmse:1.87011\n",
      "[100]\ttrain-rmse:1.7998\tvalid-rmse:1.80864\n",
      "[150]\ttrain-rmse:1.78568\tvalid-rmse:1.80187\n",
      "[200]\ttrain-rmse:1.77841\tvalid-rmse:1.80088\n",
      "[250]\ttrain-rmse:1.77293\tvalid-rmse:1.80062\n",
      "[300]\ttrain-rmse:1.76785\tvalid-rmse:1.80061\n",
      "[350]\ttrain-rmse:1.76351\tvalid-rmse:1.80063\n",
      "Stopping. Best iteration:\n",
      "[290]\ttrain-rmse:1.7689\tvalid-rmse:1.80055\n",
      "\n",
      "{'dev_three_click_count_cum': 0.010991207034372502, 'active_day_of_week': 0.0093924860111910466, 'avg_click_count_cum': 0.010541566746602718, 'avg_loan_amount': 0.0057953637090327739, 'plannum': 0.03692046362909672, 'sex': 0.0003996802557953637, 'dow_2': 0.028277378097521982, 'dev_actived_months': 0.013739008792965628, 'dev_click_count_cum': 0.011340927258193445, 'limit_get_promoted_ever': 0.0019984012789768186, 'avg_actived_months': 0.0082933653077537969, 'dev_three_click_count': 0.011440847322142286, 'dev_median_actived_months': 0.0043964828137490006, 'dow_0': 0.022831734612310153, 'consume_amount': 0.021982414068745005, 'loan_amount_cum': 0.032723820943245406, 'dev_loan_amount': 0.019684252597921663, 'dev_three_loan_amount_cum': 0.042715827338129495, 'median_three_actived_months': 0.00094924060751398883, 'avg_loan_amount_cum': 0.0038968824940047962, 'median_three_click_count_cum': 0.0058952837729816148, 'avg_three_consume_amount_cum': 0.0069944044764188645, 'median_three_consume_amount_cum': 0.0082434052757793773, 'median_click_count': 0.0015487609912070344, 'dev_three_actived_months': 0.016936450839328536, 'median_three_loan_amount_cum': 4.9960031974420462e-05, 'avg_three_loan_amount': 0.011440847322142286, 'avg_three_limit': 4.9960031974420462e-05, 'median_limit': 9.9920063948840925e-05, 'avg_three_actived_months': 0.011241007194244604, 'limit_get_promoted': 0.00089928057553956839, 'dev_median_consume_amount_cum': 0.010341726618705036, 'median_three_loan_amount': 0.0, 'consume_count_cum': 0.019184652278177457, 'loan_count_cum': 0.037819744204636289, 'limit': 0.0021482813749000799, 'dev_three_median_loan_amount_cum': 0.0010491606714628297, 'cate_2': 0.021982414068745005, 'dev_median_click_count_cum': 0.0094424460431654679, 'cate_0': 0.024530375699440447, 'cate_1': 0.023281374900079935, 'dev_three_median_loan_amount': 0.0, 'median_three_limit': 4.9960031974420462e-05, 'consume_amount_cum': 0.015537569944044764, 'avg_consume_amount_cum': 0.0081434852118305364, 'dev_median_limit': 0.0014988009592326139, 'dev_three_loan_amount': 0.037170263788968823, 'dev_limit': 0.0060951239008792965, 'loan_count': 0.033772981614708236, 'click_count_cum': 0.015737410071942445, 'median_actived_months': 0.0003996802557953637, 'avg_limit': 0.0018485211830535572, 'dev_consume_amount_cum': 0.010991207034372502, 'dev_click_count': 0.0089928057553956831, 'avg_click_count': 0.0046462829736211029, 'plannum_cum': 0.033073541167066345, 'active_year': 0.00054956035171862508, 'dev_median_click_count': 0.0082933653077537969, 'dev_three_limit': 0.0046462829736211029, 'dev_three_median_click_count_cum': 0.0099420463629096723, 'active_month': 0.012190247801758593, 'actived_months': 0.0059952038369304557, 'dev_three_median_limit': 0.0, 'consume_count': 0.010941247002398081, 'dev_three_median_click_count': 0.0079936051159072742, 'median_three_click_count': 0.0031974420463629096, 'click_count': 0.011990407673860911, 'loan_amount': 0.02153277378097522, 'dev_three_consume_amount_cum': 0.0095923261390887284, 'avg_three_click_count_cum': 0.0068944844124700236, 'avg_three_loan_amount_cum': 0.0055955235811350921, 'pid_param_2': 0.032274180655475618, 'pid_param_1': 0.032673860911270981, 'pid_param_0': 0.021682653876898481, 'dow_1': 0.024180655475619504, 'avg_three_click_count': 0.0069444444444444441, 'dev_three_median_actived_months': 0.0033972821742605914, 'dev_three_median_consume_amount_cum': 0.010941247002398081, 'median_consume_amount_cum': 0.0099920063948840919, 'age': 0.0035971223021582736, 'dev_loan_amount_cum': 0.038419264588329338, 'median_click_count_cum': 0.0070943245403677063}\n"
     ]
    },
    {
     "name": "stdout",
     "output_type": "stream",
     "text": [
      "1.80054590097\n",
      "[Fold 6/10 Prediciton:]\n",
      "[0]\ttrain-rmse:2.46003\tvalid-rmse:2.44591\n",
      "Multiple eval metrics have been passed: 'valid-rmse' will be used for early stopping.\n",
      "\n",
      "Will train until valid-rmse hasn't improved in 70 rounds.\n",
      "[50]\ttrain-rmse:1.86789\tvalid-rmse:1.88562\n",
      "[100]\ttrain-rmse:1.79767\tvalid-rmse:1.82858\n",
      "[150]\ttrain-rmse:1.78361\tvalid-rmse:1.82261\n",
      "[200]\ttrain-rmse:1.77605\tvalid-rmse:1.82183\n",
      "[250]\ttrain-rmse:1.77046\tvalid-rmse:1.82143\n",
      "[300]\ttrain-rmse:1.76619\tvalid-rmse:1.82137\n",
      "[350]\ttrain-rmse:1.7619\tvalid-rmse:1.82146\n",
      "Stopping. Best iteration:\n",
      "[305]\ttrain-rmse:1.76568\tvalid-rmse:1.8213\n",
      "\n",
      "{'dev_three_click_count_cum': 0.01221946351200039, 'active_day_of_week': 0.0087629618811158171, 'avg_click_count_cum': 0.012024731025753372, 'avg_loan_amount': 0.0044788471836814175, 'plannum': 0.036901806143809938, 'sex': 0.00043814809405579085, 'dow_2': 0.029794070395793779, 'dev_actived_months': 0.011829998539506352, 'dev_click_count_cum': 0.010710286743585999, 'limit_get_promoted_ever': 0.0020446911055936909, 'avg_actived_months': 0.0077406163283189715, 'dev_three_click_count': 0.0091524268536098529, 'dev_median_actived_months': 0.0036512341171315906, 'dow_0': 0.022296869675283579, 'consume_amount': 0.021858721581227789, 'loan_amount_cum': 0.03495448128133976, 'dev_loan_amount': 0.019035100530646026, 'dev_three_loan_amount_cum': 0.040358307774694513, 'median_three_actived_months': 0.00058419745874105442, 'avg_loan_amount_cum': 0.0042841146974343996, 'median_three_click_count_cum': 0.0053551433717929997, 'avg_three_consume_amount_cum': 0.0071564188695779169, 'median_three_consume_amount_cum': 0.007789299449880726, 'median_click_count': 0.0014604936468526361, 'dev_three_actived_months': 0.014994401441020398, 'median_three_loan_amount_cum': 4.868312156175454e-05, 'avg_three_loan_amount': 0.012316829755123899, 'avg_three_limit': 9.736624312350908e-05, 'median_limit': 0.0, 'avg_three_actived_months': 0.0094932087045421359, 'limit_get_promoted': 0.00097366243123509074, 'dev_median_consume_amount_cum': 0.0096392580692273994, 'median_three_loan_amount': 0.0, 'consume_count_cum': 0.019375882381578308, 'loan_count_cum': 0.036171559320383621, 'limit': 0.0022881067134024632, 'dev_three_median_loan_amount_cum': 0.0014604936468526361, 'cate_2': 0.022637651526215861, 'dev_median_click_count_cum': 0.0079353488145659894, 'cate_0': 0.023903412686821481, 'cate_1': 0.026045470035538677, 'dev_three_median_loan_amount': 0.0, 'median_three_limit': 0.0, 'consume_amount_cum': 0.014848352076335135, 'avg_consume_amount_cum': 0.007691933206757217, 'dev_median_limit': 0.001898641740908427, 'dev_three_loan_amount': 0.040066209045323986, 'dev_limit': 0.0060367070736575632, 'loan_count': 0.034321600701036951, 'click_count_cum': 0.015822014507570224, 'median_actived_months': 0.00024341560780877269, 'avg_limit': 0.0015578598899761453, 'dev_consume_amount_cum': 0.0088603281242393261, 'dev_click_count': 0.0083734969086217814, 'avg_click_count': 0.0037486003602550996, 'plannum_cum': 0.033640036999172389, 'active_year': 0.00068156370186456359, 'dev_median_click_count': 0.0074485175989484446, 'dev_three_limit': 0.0065235382892751079, 'dev_three_median_click_count_cum': 0.010174772406406699, 'active_month': 0.013826006523538289, 'actived_months': 0.0045762134268049265, 'dev_three_median_limit': 0.0, 'consume_count': 0.01221946351200039, 'dev_three_median_click_count': 0.0097853074339126628, 'median_three_click_count': 0.0037486003602550996, 'click_count': 0.011781315417944598, 'loan_amount': 0.023806046443697972, 'dev_three_consume_amount_cum': 0.0088603281242393261, 'avg_three_click_count_cum': 0.0073511513558249357, 'avg_three_loan_amount_cum': 0.0061340733167810722, 'pid_param_2': 0.032909790175746072, 'pid_param_1': 0.032861107054184317, 'pid_param_0': 0.021858721581227789, 'dow_1': 0.023124482741833405, 'avg_three_click_count': 0.0079353488145659894, 'dev_three_median_actived_months': 0.0042841146974343996, 'dev_three_median_consume_amount_cum': 0.0096879411907891538, 'median_consume_amount_cum': 0.011391850445450562, 'age': 0.003164402901514045, 'dev_loan_amount_cum': 0.039530694708144687, 'median_click_count_cum': 0.0069616863833308991}\n",
      "1.82130250815\n",
      "[Fold 7/10 Prediciton:]\n",
      "[0]\ttrain-rmse:2.45903\tvalid-rmse:2.45597\n",
      "Multiple eval metrics have been passed: 'valid-rmse' will be used for early stopping.\n",
      "\n",
      "Will train until valid-rmse hasn't improved in 70 rounds.\n",
      "[50]\ttrain-rmse:1.87056\tvalid-rmse:1.86847\n",
      "[100]\ttrain-rmse:1.8008\tvalid-rmse:1.8039\n",
      "[150]\ttrain-rmse:1.78664\tvalid-rmse:1.79621\n",
      "[200]\ttrain-rmse:1.77935\tvalid-rmse:1.79477\n",
      "[250]\ttrain-rmse:1.77429\tvalid-rmse:1.79434\n",
      "[300]\ttrain-rmse:1.7693\tvalid-rmse:1.79401\n",
      "[350]\ttrain-rmse:1.76489\tvalid-rmse:1.79382\n",
      "[400]\ttrain-rmse:1.76079\tvalid-rmse:1.79374\n",
      "[450]\ttrain-rmse:1.75629\tvalid-rmse:1.79396\n",
      "Stopping. Best iteration:\n",
      "[403]\ttrain-rmse:1.76053\tvalid-rmse:1.79373\n",
      "\n",
      "{'dev_three_click_count_cum': 0.01165757349766456, 'active_day_of_week': 0.0093417592338187385, 'avg_click_count_cum': 0.0080857243788515134, 'avg_loan_amount': 0.0057306590257879654, 'plannum': 0.035129724849864583, 'sex': 0.0003925108921772579, 'dow_2': 0.032460650783059229, 'dev_actived_months': 0.013031361620284962, 'dev_click_count_cum': 0.012050084389841818, 'limit_get_promoted_ever': 0.0014522903010558543, 'avg_actived_months': 0.0065549318993602069, 'dev_three_click_count': 0.010715547356439141, 'dev_median_actived_months': 0.0048671350629979982, 'dow_0': 0.021077834909918752, 'consume_amount': 0.025984221062134473, 'loan_amount_cum': 0.030223338697648861, 'dev_loan_amount': 0.020253562036346508, 'dev_three_loan_amount_cum': 0.037916552184323112, 'median_three_actived_months': 0.00094202614122541905, 'avg_loan_amount_cum': 0.0045923774384739177, 'median_three_click_count_cum': 0.0052988970443929818, 'avg_three_consume_amount_cum': 0.0073792047729324493, 'median_three_consume_amount_cum': 0.0085567374494642228, 'median_click_count': 0.0018055501040153865, 'dev_three_actived_months': 0.014954664991953527, 'median_three_loan_amount_cum': 0.0, 'avg_three_loan_amount': 0.011736075676100011, 'avg_three_limit': 0.00015700435687090317, 'median_limit': 0.0, 'avg_three_actived_months': 0.0087922439847705775, 'limit_get_promoted': 0.00070651960591906423, 'dev_median_consume_amount_cum': 0.0098127723044314479, 'median_three_loan_amount': 0.0, 'consume_count_cum': 0.01931153589512109, 'loan_count_cum': 0.034815716136122776, 'limit': 0.0021980609961926444, 'dev_three_median_loan_amount_cum': 0.0015700435687090316, 'cate_2': 0.024100168779683635, 'dev_median_click_count_cum': 0.009616516858342819, 'cate_0': 0.024257173136554538, 'cate_1': 0.023040389370805041, 'dev_three_median_loan_amount': 0.0, 'median_three_limit': 3.9251089217725792e-05, 'consume_amount_cum': 0.0173489814342348, 'avg_consume_amount_cum': 0.0075362091298033524, 'dev_median_limit': 0.0013345370334026769, 'dev_three_loan_amount': 0.035325980295953213, 'dev_limit': 0.0057699101150056912, 'loan_count': 0.031832633355575617, 'click_count_cum': 0.017270479255799349, 'median_actived_months': 0.00015700435687090317, 'avg_limit': 0.0019625544608862897, 'dev_consume_amount_cum': 0.010323036464261883, 'dev_click_count': 0.0099697766613023511, 'avg_click_count': 0.0038466067433371278, 'plannum_cum': 0.032617655139930132, 'active_year': 0.00074577069513679002, 'dev_median_click_count': 0.0084389841818110455, 'dev_three_limit': 0.0064371786317070296, 'dev_three_median_click_count_cum': 0.010951053891745496, 'active_month': 0.012717352906543156, 'actived_months': 0.0051026415983043529, 'dev_three_median_limit': 0.0, 'consume_count': 0.013306119244809043, 'dev_three_median_click_count': 0.0091455037877301096, 'median_three_click_count': 0.0032578404050712406, 'click_count': 0.01314911488793814, 'loan_amount': 0.020567570750088315, 'dev_three_consume_amount_cum': 0.0094202614122541901, 'avg_three_click_count_cum': 0.0063979275424893038, 'avg_three_loan_amount_cum': 0.0051418926875220787, 'pid_param_2': 0.033245672567413745, 'pid_param_1': 0.035482984652824116, 'pid_param_0': 0.021980609961926443, 'dow_1': 0.027161753738666247, 'avg_three_click_count': 0.006908191702319739, 'dev_three_median_actived_months': 0.0048671350629979982, 'dev_three_median_consume_amount_cum': 0.011108058248616399, 'median_consume_amount_cum': 0.0086352396278996744, 'age': 0.0043176198139498372, 'dev_loan_amount_cum': 0.0383483141657181, 'median_click_count_cum': 0.0072614515052792719}\n"
     ]
    },
    {
     "name": "stdout",
     "output_type": "stream",
     "text": [
      "1.79372570209\n",
      "[Fold 8/10 Prediciton:]\n",
      "[0]\ttrain-rmse:2.45915\tvalid-rmse:2.45572\n",
      "Multiple eval metrics have been passed: 'valid-rmse' will be used for early stopping.\n",
      "\n",
      "Will train until valid-rmse hasn't improved in 70 rounds.\n",
      "[50]\ttrain-rmse:1.87066\tvalid-rmse:1.86642\n",
      "[100]\ttrain-rmse:1.80075\tvalid-rmse:1.80098\n",
      "[150]\ttrain-rmse:1.78693\tvalid-rmse:1.79337\n",
      "[200]\ttrain-rmse:1.77948\tvalid-rmse:1.79192\n",
      "[250]\ttrain-rmse:1.77416\tvalid-rmse:1.79146\n",
      "[300]\ttrain-rmse:1.76918\tvalid-rmse:1.79137\n",
      "[350]\ttrain-rmse:1.76496\tvalid-rmse:1.79139\n",
      "Stopping. Best iteration:\n",
      "[318]\ttrain-rmse:1.7676\tvalid-rmse:1.79131\n",
      "\n",
      "{'dev_three_click_count_cum': 0.011089883975583617, 'active_day_of_week': 0.008946461022319557, 'avg_click_count_cum': 0.0097385955920041012, 'avg_loan_amount': 0.0047994035692651791, 'plannum': 0.035599459484646566, 'sex': 0.00032617305810540051, 'dow_2': 0.027538325334327384, 'dev_actived_months': 0.011136480126741531, 'dev_click_count_cum': 0.012021806998741905, 'limit_get_promoted_ever': 0.0015376729882111738, 'avg_actived_months': 0.0071292111271608963, 'dev_three_click_count': 0.010064768650109501, 'dev_median_actived_months': 0.0041470574530543779, 'dow_0': 0.023437864032430922, 'consume_amount': 0.023484460183588837, 'loan_amount_cum': 0.033409440380224593, 'dev_loan_amount': 0.018032710498112857, 'dev_three_loan_amount_cum': 0.043846978239597406, 'median_three_actived_months': 0.00088532687200037282, 'avg_loan_amount_cum': 0.0040072689995806349, 'median_three_click_count_cum': 0.0067564419178975819, 'avg_three_consume_amount_cum': 0.0089930571734774707, 'median_three_consume_amount_cum': 0.008527095661898328, 'median_click_count': 0.0016774614416849168, 'dev_three_actived_months': 0.016867806719164997, 'median_three_loan_amount_cum': 0.00013978845347374308, 'avg_three_loan_amount': 0.012254787754531475, 'avg_three_limit': 9.3192302315828714e-05, 'median_limit': 0.0, 'avg_three_actived_months': 0.0088998648711616415, 'limit_get_promoted': 0.00097851917431620141, 'dev_median_consume_amount_cum': 0.011322864731373188, 'median_three_loan_amount': 0.0, 'consume_count_cum': 0.01957038348632403, 'loan_count_cum': 0.037416709379805228, 'limit': 0.0019104421974744886, 'dev_three_median_loan_amount_cum': 0.00097851917431620141, 'cate_2': 0.019383998881692371, 'dev_median_click_count_cum': 0.0090862494757933, 'cate_0': 0.02450957550906295, 'cate_1': 0.02362424863706258, 'dev_three_median_loan_amount': 0.0, 'median_three_limit': 4.6596151157914357e-05, 'consume_amount_cum': 0.015609710637901309, 'avg_consume_amount_cum': 0.0082475187549508402, 'dev_median_limit': 0.0010251153254741158, 'dev_three_loan_amount': 0.035599459484646566, 'dev_limit': 0.0065700573132659243, 'loan_count': 0.032617305810540051, 'click_count_cum': 0.01677461441684917, 'median_actived_months': 0.00023298075578957178, 'avg_limit': 0.0017706537440007456, 'dev_consume_amount_cum': 0.010903499370951959, 'dev_click_count': 0.010344345557056987, 'avg_click_count': 0.0044266343600018639, 'plannum_cum': 0.033502632682540424, 'active_year': 0.00069894226736871531, 'dev_median_click_count': 0.0081543264526350127, 'dev_three_limit': 0.0062438842551605237, 'dev_three_median_click_count_cum': 0.010344345557056987, 'active_month': 0.013885653045058477, 'actived_months': 0.0050323843250547505, 'dev_three_median_limit': 0.0, 'consume_count': 0.01155584548716276, 'dev_three_median_click_count': 0.0081077303014770973, 'median_three_click_count': 0.0032617305810540048, 'click_count': 0.012580960812636877, 'loan_amount': 0.02311169097432552, 'dev_three_consume_amount_cum': 0.0097385955920041012, 'avg_three_click_count_cum': 0.0067098457667396673, 'avg_three_loan_amount_cum': 0.0055449419877918087, 'pid_param_2': 0.032244536601276734, 'pid_param_1': 0.036298401752015284, 'pid_param_0': 0.019989748846745259, 'dow_1': 0.026326825404221613, 'avg_three_click_count': 0.0069428265225292387, 'dev_three_median_actived_months': 0.0044266343600018639, 'dev_three_median_consume_amount_cum': 0.0090396533246353845, 'median_consume_amount_cum': 0.010064768650109501, 'age': 0.0034481151856856625, 'dev_loan_amount_cum': 0.038069055496016031, 'median_click_count_cum': 0.0063370765574763521}\n",
      "1.79131060246\n",
      "[Fold 9/10 Prediciton:]\n",
      "[0]\ttrain-rmse:2.45894\tvalid-rmse:2.46383\n",
      "Multiple eval metrics have been passed: 'valid-rmse' will be used for early stopping.\n",
      "\n",
      "Will train until valid-rmse hasn't improved in 70 rounds.\n",
      "[50]\ttrain-rmse:1.86924\tvalid-rmse:1.87892\n",
      "[100]\ttrain-rmse:1.79985\tvalid-rmse:1.81494\n",
      "[150]\ttrain-rmse:1.78584\tvalid-rmse:1.80683\n",
      "[200]\ttrain-rmse:1.77854\tvalid-rmse:1.80491\n",
      "[250]\ttrain-rmse:1.7731\tvalid-rmse:1.80458\n",
      "[300]\ttrain-rmse:1.76867\tvalid-rmse:1.80423\n",
      "[350]\ttrain-rmse:1.76416\tvalid-rmse:1.80407\n",
      "[400]\ttrain-rmse:1.75986\tvalid-rmse:1.80402\n",
      "[450]\ttrain-rmse:1.75551\tvalid-rmse:1.8039\n",
      "[500]\ttrain-rmse:1.75156\tvalid-rmse:1.80379\n",
      "[550]\ttrain-rmse:1.74733\tvalid-rmse:1.8038\n",
      "[600]\ttrain-rmse:1.74309\tvalid-rmse:1.80406\n",
      "Stopping. Best iteration:\n",
      "[535]\ttrain-rmse:1.74877\tvalid-rmse:1.8037\n",
      "\n",
      "{'dev_three_click_count_cum': 0.010330386226151698, 'active_day_of_week': 0.0095548317046688386, 'avg_click_count_cum': 0.0072281681402202574, 'avg_loan_amount': 0.0051186598417868774, 'plannum': 0.03012253761439429, 'sex': 0.0005583992554676594, 'dow_2': 0.032325112455405612, 'dev_actived_months': 0.012563983248022336, 'dev_click_count_cum': 0.013556693035520397, 'limit_get_promoted_ever': 0.0026058631921824105, 'avg_actived_months': 0.0053668372886613927, 'dev_three_click_count': 0.010051186598417869, 'dev_median_actived_months': 0.0047463936714751045, 'dow_0': 0.020629750271444081, 'consume_amount': 0.023731968357375524, 'loan_amount_cum': 0.0322940902745463, 'dev_loan_amount': 0.018861485962463162, 'dev_three_loan_amount_cum': 0.038901814797580272, 'median_three_actived_months': 0.0011788428726539476, 'avg_loan_amount_cum': 0.0040949278734295023, 'median_three_click_count_cum': 0.0060183030867069958, 'avg_three_consume_amount_cum': 0.0072281681402202574, 'median_three_consume_amount_cum': 0.0078796339382658596, 'median_click_count': 0.0013959981386691485, 'dev_three_actived_months': 0.015666201333953775, 'median_three_loan_amount_cum': 3.1022180859314411e-05, 'avg_three_loan_amount': 0.011167985109353188, 'avg_three_limit': 9.3066542577943234e-05, 'median_limit': 9.3066542577943234e-05, 'avg_three_actived_months': 0.0081588335659996906, 'limit_get_promoted': 0.00074453234062354587, 'dev_median_consume_amount_cum': 0.011012874205056615, 'median_three_loan_amount': 0.0, 'consume_count_cum': 0.021777570963238714, 'loan_count_cum': 0.029440049635489376, 'limit': 0.0022956413835892664, 'dev_three_median_loan_amount_cum': 0.001209865053513262, 'cate_2': 0.023762990538234836, 'dev_median_click_count_cum': 0.01132309601364976, 'cate_0': 0.02664805335815108, 'cate_1': 0.026430898092135877, 'dev_three_median_loan_amount': 0.0, 'median_three_limit': 0.0, 'consume_amount_cum': 0.016410733674577321, 'avg_consume_amount_cum': 0.0069179463316271133, 'dev_median_limit': 0.0017682643089809214, 'dev_three_loan_amount': 0.032883511710873274, 'dev_limit': 0.0064836357995967115, 'loan_count': 0.028726539475725142, 'click_count_cum': 0.017496510004653326, 'median_actived_months': 0.0002791996277338297, 'avg_limit': 0.0025748410113230961, 'dev_consume_amount_cum': 0.013401582131223826, 'dev_click_count': 0.010051186598417869, 'avg_click_count': 0.0043120831394447027, 'plannum_cum': 0.029440049635489376, 'active_year': 0.00040328835117108735, 'dev_median_click_count': 0.0099581200558399256, 'dev_three_limit': 0.0074143012253761438, 'dev_three_median_click_count_cum': 0.01104389638591593, 'active_month': 0.012005583992554676, 'actived_months': 0.0054288816503800215, 'dev_three_median_limit': 0.0, 'consume_count': 0.014735535908174344, 'dev_three_median_click_count': 0.01104389638591593, 'median_three_click_count': 0.0035675507988211573, 'click_count': 0.014022025748410114, 'loan_amount': 0.022242903676128432, 'dev_three_consume_amount_cum': 0.012129672715991933, 'avg_three_click_count_cum': 0.0064836357995967115, 'avg_three_loan_amount_cum': 0.005583992554676594, 'pid_param_2': 0.032107957189390413, 'pid_param_1': 0.034496665115557622, 'pid_param_0': 0.020939972080037228, 'dow_1': 0.029967426710097719, 'avg_three_click_count': 0.0075073677679540875, 'dev_three_median_actived_months': 0.0049635489374903058, 'dev_three_median_consume_amount_cum': 0.011540251279664961, 'median_consume_amount_cum': 0.0088723437257639207, 'age': 0.0041879944160074451, 'dev_loan_amount_cum': 0.037319683573755237, 'median_click_count_cum': 0.0050876376609275634}\n"
     ]
    },
    {
     "name": "stdout",
     "output_type": "stream",
     "text": [
      "1.80369518636\n",
      "[Fold 10/10 Prediciton:]\n"
     ]
    }
   ],
   "source": [
    "kfold = 10\n",
    "skf = KFold(n_splits=kfold,shuffle=True, random_state=42)\n",
    "\n",
    "for i, (train_index, test_index) in enumerate(skf.split(X, y)):\n",
    "    X_train, X_valid = X[train_index], X[test_index]\n",
    "    y_train, y_valid = y[train_index], y[test_index]\n",
    "    # Convert our data into XGBoost format\n",
    "    d_train = xgb.DMatrix(X_train, y_train)\n",
    "    d_valid = xgb.DMatrix(X_valid, y_valid)\n",
    "    d_submit = xgb.DMatrix(to_submit.values)\n",
    "    watchlist = [(d_train, 'train'), (d_valid, 'valid')]\n",
    "    mdl = xgb.train(params, d_train, 4000, watchlist, early_stopping_rounds = 70, verbose_eval = 50)\n",
    "\n",
    "    f_importance = get_xgb_imp(mdl,all_features)\n",
    "    print(f_importance)\n",
    "    importances.append(f_importance)\n",
    "\n",
    "    valid_pred = mdl.predict(d_valid, ntree_limit = mdl.best_ntree_limit)\n",
    "    score_this = np.sqrt(mean_squared_error(valid_pred, y_valid))\n",
    "    print(score_this)\n",
    "    scores.append(score_this)\n",
    "\n",
    "    print('[Fold %d/%d Prediciton:]' % (i + 1, kfold))\n",
    "    # Predict on our test data\n",
    "    p_test = mdl.predict(d_submit, ntree_limit=mdl.best_ntree_limit)\n",
    "\n",
    "    sub['target'] += p_test / kfold"
   ]
  },
  {
   "cell_type": "code",
   "execution_count": 16,
   "metadata": {
    "scrolled": true
   },
   "outputs": [
    {
     "name": "stdout",
     "output_type": "stream",
     "text": [
      "[('median_three_loan_amount', 0.0), ('dev_three_median_loan_amount', 0.0), ('dev_three_median_limit', 0.0), ('median_limit', 0.00023156983054098279), ('median_three_limit', 0.00029607590985261651), ('median_three_loan_amount_cum', 0.00057779880484356747), ('avg_three_limit', 0.0012015900385680481), ('median_actived_months', 0.0029239309625245847), ('sex', 0.004705716350803222), ('active_year', 0.0055801761419743308), ('limit_get_promoted', 0.0079156872490830071), ('median_three_actived_months', 0.0085050077328895114), ('dev_three_median_loan_amount_cum', 0.011515501474466451), ('dev_median_limit', 0.013491616995421703), ('median_click_count', 0.015487447703166398), ('limit_get_promoted_ever', 0.01938276200893093), ('avg_limit', 0.020305340932194785), ('limit', 0.022622370122182277), ('median_three_click_count', 0.033324342217476821), ('age', 0.035890185895731785), ('avg_click_count', 0.042368039206701583), ('dev_median_actived_months', 0.042538982099579674), ('avg_loan_amount_cum', 0.042816515920995939), ('dev_three_median_actived_months', 0.04520550776862102), ('actived_months', 0.051305821756698414), ('avg_loan_amount', 0.051576179415007015), ('avg_three_loan_amount_cum', 0.059056924366120749), ('median_three_click_count_cum', 0.060049044707154185), ('dev_three_limit', 0.0601083849434269), ('dev_limit', 0.060589748104361574), ('median_click_count_cum', 0.065636869391060768), ('avg_three_click_count_cum', 0.068748159656170024), ('avg_actived_months', 0.071837608918591672), ('avg_three_consume_amount_cum', 0.073608321057477236), ('avg_three_click_count', 0.074974889967168709), ('avg_consume_amount_cum', 0.076742021836856536), ('median_three_consume_amount_cum', 0.081991192898516974), ('dev_median_click_count', 0.085971875015064786), ('active_day_of_week', 0.089198269029571342), ('dev_three_median_click_count', 0.091269356737071733), ('avg_click_count_cum', 0.092020630744746007), ('avg_three_actived_months', 0.093097832926392787), ('dev_median_click_count_cum', 0.093549355129140643), ('dev_click_count', 0.094470136447378922), ('dev_three_consume_amount_cum', 0.096866014741289475), ('median_consume_amount_cum', 0.098645459037497635), ('dev_three_click_count', 0.10287154540522374), ('dev_three_median_click_count_cum', 0.10392677819291779), ('dev_three_median_consume_amount_cum', 0.10523036487847245), ('dev_median_consume_amount_cum', 0.10534960960333667), ('dev_consume_amount_cum', 0.10810268320686203), ('dev_three_click_count_cum', 0.11543835139084335), ('avg_three_loan_amount', 0.11665710842184182), ('dev_click_count_cum', 0.12159011425201713), ('dev_actived_months', 0.12319237677426297), ('click_count', 0.12522759955636187), ('consume_count', 0.1277775470266676), ('active_month', 0.1328437636298789), ('dev_three_actived_months', 0.15745578274940467), ('consume_amount_cum', 0.16077788360262313), ('click_count_cum', 0.16392362986450243), ('dev_loan_amount', 0.19329313602988218), ('consume_count_cum', 0.20049093965526513), ('pid_param_0', 0.21143028719918566), ('loan_amount', 0.22017918722307739), ('dow_0', 0.22205265754159159), ('cate_2', 0.22349678447227575), ('consume_amount', 0.23241154422592952), ('cate_0', 0.24380431485097065), ('cate_1', 0.25180090916507064), ('dow_1', 0.26170147788172676), ('dow_2', 0.30462496454097615), ('loan_count', 0.31754557113191983), ('plannum_cum', 0.32195376005901299), ('loan_amount_cum', 0.33219049738985029), ('pid_param_2', 0.33345729367354465), ('pid_param_1', 0.34315149974495351), ('plannum', 0.35267231987876124), ('loan_count_cum', 0.35291840821290821), ('dev_three_loan_amount', 0.35806680148952263), ('dev_loan_amount_cum', 0.37614457731290346), ('dev_three_loan_amount_cum', 0.40804766757214173)]\n",
      "cv avg scores 1.8038237776\n"
     ]
    }
   ],
   "source": [
    "imp_sum = merge_dic(importances)\n",
    "sort_rec = sorted(imp_sum.items(), key=lambda x:x[1])\n",
    "print(sort_rec)\n",
    "\n",
    "print('cv avg scores %s' % np.mean(scores))"
   ]
  },
  {
   "cell_type": "code",
   "execution_count": 8,
   "metadata": {},
   "outputs": [
    {
     "data": {
      "text/plain": [
       "[1.7997760837305647,\n",
       " 1.8081780599470274,\n",
       " 1.8174306407601386,\n",
       " 1.7980952193745952,\n",
       " 1.803293675072575,\n",
       " 1.7991284354408601,\n",
       " 1.8202622970552014,\n",
       " 1.7940496112707014,\n",
       " 1.7897634416506685,\n",
       " 1.8031774497461537]"
      ]
     },
     "execution_count": 8,
     "metadata": {},
     "output_type": "execute_result"
    }
   ],
   "source": [
    "scores"
   ]
  },
  {
   "cell_type": "code",
   "execution_count": 9,
   "metadata": {
    "collapsed": true
   },
   "outputs": [],
   "source": [
    "from datetime import datetime\n",
    "sub.loc[sub.target < 0, 'target'] = 0\n",
    "sub.to_csv(OUTPUT_PATH +\"subByXgb{}.csv\".format(datetime.now().strftime('%Y%m%d_%H%M%S')), index=False)"
   ]
  },
  {
   "cell_type": "code",
   "execution_count": 326,
   "metadata": {
    "collapsed": true
   },
   "outputs": [],
   "source": [
    "all_features = [x for x in train.columns if not x in ['uid', 'target', 'active_date']]\n",
    "\n",
    "X = train.drop(['uid', 'target', 'active_date'], axis=1)\n",
    "y = train.target"
   ]
  },
  {
   "cell_type": "code",
   "execution_count": 348,
   "metadata": {
    "collapsed": true
   },
   "outputs": [],
   "source": [
    "xgb_params = {\n",
    "        'objective': ['reg:linear'],\n",
    "        'learning_rate': [0.025],\n",
    "        'max_depth': [6],\n",
    "        'min_child_weight': [2],\n",
    "        'silent': [1],\n",
    "        'subsample': [ 0.8],\n",
    "        'colsample_bytree': [0.8],\n",
    "        'n_estimators': [400],\n",
    "        'gamma': [1,3],\n",
    "        'reg_alpha': [0.5,0.8],\n",
    "        'reg_lambda': [0.8,1.3] \n",
    "    }"
   ]
  },
  {
   "cell_type": "code",
   "execution_count": 349,
   "metadata": {
    "collapsed": true
   },
   "outputs": [],
   "source": [
    "\n",
    "from sklearn.model_selection import GridSearchCV\n",
    "\n",
    "import xgboost as xgb\n"
   ]
  },
  {
   "cell_type": "code",
   "execution_count": 350,
   "metadata": {
    "scrolled": true
   },
   "outputs": [
    {
     "name": "stdout",
     "output_type": "stream",
     "text": [
      "Fitting 5 folds for each of 8 candidates, totalling 40 fits\n",
      "[CV] reg_alpha=0.5, colsample_bytree=0.8, silent=1, learning_rate=0.025, min_child_weight=2, n_estimators=400, subsample=0.8, reg_lambda=0.8, objective=reg:linear, max_depth=6, gamma=1 \n",
      "[CV] reg_alpha=0.5, colsample_bytree=0.8, silent=1, learning_rate=0.025, min_child_weight=2, n_estimators=400, subsample=0.8, reg_lambda=0.8, objective=reg:linear, max_depth=6, gamma=1 \n"
     ]
    },
    {
     "name": "stderr",
     "output_type": "stream",
     "text": [
      "/Library/Python/2.7/site-packages/sklearn/metrics/scorer.py:90: DeprecationWarning: Scoring method mean_squared_error was renamed to neg_mean_squared_error in version 0.18 and will be removed in 0.20.\n",
      "  sample_weight=sample_weight)\n",
      "/Library/Python/2.7/site-packages/sklearn/metrics/scorer.py:90: DeprecationWarning: Scoring method mean_squared_error was renamed to neg_mean_squared_error in version 0.18 and will be removed in 0.20.\n",
      "  sample_weight=sample_weight)\n",
      "/Library/Python/2.7/site-packages/sklearn/metrics/scorer.py:90: DeprecationWarning: Scoring method mean_squared_error was renamed to neg_mean_squared_error in version 0.18 and will be removed in 0.20.\n",
      "  sample_weight=sample_weight)\n",
      "/Library/Python/2.7/site-packages/sklearn/metrics/scorer.py:90: DeprecationWarning: Scoring method mean_squared_error was renamed to neg_mean_squared_error in version 0.18 and will be removed in 0.20.\n",
      "  sample_weight=sample_weight)\n"
     ]
    },
    {
     "name": "stdout",
     "output_type": "stream",
     "text": [
      "[CV]  reg_alpha=0.5, colsample_bytree=0.8, silent=1, learning_rate=0.025, min_child_weight=2, n_estimators=400, subsample=0.8, reg_lambda=0.8, objective=reg:linear, max_depth=6, gamma=1, total= 1.4min\n",
      "[CV] reg_alpha=0.5, colsample_bytree=0.8, silent=1, learning_rate=0.025, min_child_weight=2, n_estimators=400, subsample=0.8, reg_lambda=0.8, objective=reg:linear, max_depth=6, gamma=1 \n",
      "[CV]  reg_alpha=0.5, colsample_bytree=0.8, silent=1, learning_rate=0.025, min_child_weight=2, n_estimators=400, subsample=0.8, reg_lambda=0.8, objective=reg:linear, max_depth=6, gamma=1, total= 1.4min\n",
      "[CV] reg_alpha=0.5, colsample_bytree=0.8, silent=1, learning_rate=0.025, min_child_weight=2, n_estimators=400, subsample=0.8, reg_lambda=0.8, objective=reg:linear, max_depth=6, gamma=1 \n"
     ]
    },
    {
     "name": "stderr",
     "output_type": "stream",
     "text": [
      "/Library/Python/2.7/site-packages/sklearn/metrics/scorer.py:90: DeprecationWarning: Scoring method mean_squared_error was renamed to neg_mean_squared_error in version 0.18 and will be removed in 0.20.\n",
      "  sample_weight=sample_weight)\n",
      "/Library/Python/2.7/site-packages/sklearn/metrics/scorer.py:90: DeprecationWarning: Scoring method mean_squared_error was renamed to neg_mean_squared_error in version 0.18 and will be removed in 0.20.\n",
      "  sample_weight=sample_weight)\n",
      "/Library/Python/2.7/site-packages/sklearn/metrics/scorer.py:90: DeprecationWarning: Scoring method mean_squared_error was renamed to neg_mean_squared_error in version 0.18 and will be removed in 0.20.\n",
      "  sample_weight=sample_weight)\n",
      "/Library/Python/2.7/site-packages/sklearn/metrics/scorer.py:90: DeprecationWarning: Scoring method mean_squared_error was renamed to neg_mean_squared_error in version 0.18 and will be removed in 0.20.\n",
      "  sample_weight=sample_weight)\n"
     ]
    },
    {
     "name": "stdout",
     "output_type": "stream",
     "text": [
      "[CV]  reg_alpha=0.5, colsample_bytree=0.8, silent=1, learning_rate=0.025, min_child_weight=2, n_estimators=400, subsample=0.8, reg_lambda=0.8, objective=reg:linear, max_depth=6, gamma=1, total= 1.5min\n",
      "[CV] reg_alpha=0.5, colsample_bytree=0.8, silent=1, learning_rate=0.025, min_child_weight=2, n_estimators=400, subsample=0.8, reg_lambda=0.8, objective=reg:linear, max_depth=6, gamma=1 \n",
      "[CV]  reg_alpha=0.5, colsample_bytree=0.8, silent=1, learning_rate=0.025, min_child_weight=2, n_estimators=400, subsample=0.8, reg_lambda=0.8, objective=reg:linear, max_depth=6, gamma=1, total= 1.5min\n",
      "[CV] reg_alpha=0.5, colsample_bytree=0.8, silent=1, learning_rate=0.025, min_child_weight=2, n_estimators=400, subsample=0.8, reg_lambda=1.3, objective=reg:linear, max_depth=6, gamma=1 \n"
     ]
    },
    {
     "name": "stderr",
     "output_type": "stream",
     "text": [
      "/Library/Python/2.7/site-packages/sklearn/metrics/scorer.py:90: DeprecationWarning: Scoring method mean_squared_error was renamed to neg_mean_squared_error in version 0.18 and will be removed in 0.20.\n",
      "  sample_weight=sample_weight)\n",
      "/Library/Python/2.7/site-packages/sklearn/metrics/scorer.py:90: DeprecationWarning: Scoring method mean_squared_error was renamed to neg_mean_squared_error in version 0.18 and will be removed in 0.20.\n",
      "  sample_weight=sample_weight)\n"
     ]
    },
    {
     "name": "stdout",
     "output_type": "stream",
     "text": [
      "[CV]  reg_alpha=0.5, colsample_bytree=0.8, silent=1, learning_rate=0.025, min_child_weight=2, n_estimators=400, subsample=0.8, reg_lambda=0.8, objective=reg:linear, max_depth=6, gamma=1, total= 1.4min\n",
      "[CV] reg_alpha=0.5, colsample_bytree=0.8, silent=1, learning_rate=0.025, min_child_weight=2, n_estimators=400, subsample=0.8, reg_lambda=1.3, objective=reg:linear, max_depth=6, gamma=1 \n"
     ]
    },
    {
     "name": "stderr",
     "output_type": "stream",
     "text": [
      "/Library/Python/2.7/site-packages/sklearn/metrics/scorer.py:90: DeprecationWarning: Scoring method mean_squared_error was renamed to neg_mean_squared_error in version 0.18 and will be removed in 0.20.\n",
      "  sample_weight=sample_weight)\n",
      "/Library/Python/2.7/site-packages/sklearn/metrics/scorer.py:90: DeprecationWarning: Scoring method mean_squared_error was renamed to neg_mean_squared_error in version 0.18 and will be removed in 0.20.\n",
      "  sample_weight=sample_weight)\n"
     ]
    },
    {
     "name": "stdout",
     "output_type": "stream",
     "text": [
      "[CV]  reg_alpha=0.5, colsample_bytree=0.8, silent=1, learning_rate=0.025, min_child_weight=2, n_estimators=400, subsample=0.8, reg_lambda=1.3, objective=reg:linear, max_depth=6, gamma=1, total= 1.5min\n",
      "[CV] reg_alpha=0.5, colsample_bytree=0.8, silent=1, learning_rate=0.025, min_child_weight=2, n_estimators=400, subsample=0.8, reg_lambda=1.3, objective=reg:linear, max_depth=6, gamma=1 \n"
     ]
    },
    {
     "name": "stderr",
     "output_type": "stream",
     "text": [
      "/Library/Python/2.7/site-packages/sklearn/metrics/scorer.py:90: DeprecationWarning: Scoring method mean_squared_error was renamed to neg_mean_squared_error in version 0.18 and will be removed in 0.20.\n",
      "  sample_weight=sample_weight)\n",
      "/Library/Python/2.7/site-packages/sklearn/metrics/scorer.py:90: DeprecationWarning: Scoring method mean_squared_error was renamed to neg_mean_squared_error in version 0.18 and will be removed in 0.20.\n",
      "  sample_weight=sample_weight)\n",
      "/Library/Python/2.7/site-packages/sklearn/metrics/scorer.py:90: DeprecationWarning: Scoring method mean_squared_error was renamed to neg_mean_squared_error in version 0.18 and will be removed in 0.20.\n",
      "  sample_weight=sample_weight)\n",
      "/Library/Python/2.7/site-packages/sklearn/metrics/scorer.py:90: DeprecationWarning: Scoring method mean_squared_error was renamed to neg_mean_squared_error in version 0.18 and will be removed in 0.20.\n",
      "  sample_weight=sample_weight)\n"
     ]
    },
    {
     "name": "stdout",
     "output_type": "stream",
     "text": [
      "[CV]  reg_alpha=0.5, colsample_bytree=0.8, silent=1, learning_rate=0.025, min_child_weight=2, n_estimators=400, subsample=0.8, reg_lambda=1.3, objective=reg:linear, max_depth=6, gamma=1, total= 1.6min\n",
      "[CV] reg_alpha=0.5, colsample_bytree=0.8, silent=1, learning_rate=0.025, min_child_weight=2, n_estimators=400, subsample=0.8, reg_lambda=1.3, objective=reg:linear, max_depth=6, gamma=1 \n",
      "[CV]  reg_alpha=0.5, colsample_bytree=0.8, silent=1, learning_rate=0.025, min_child_weight=2, n_estimators=400, subsample=0.8, reg_lambda=1.3, objective=reg:linear, max_depth=6, gamma=1, total= 1.5min\n",
      "[CV] reg_alpha=0.5, colsample_bytree=0.8, silent=1, learning_rate=0.025, min_child_weight=2, n_estimators=400, subsample=0.8, reg_lambda=1.3, objective=reg:linear, max_depth=6, gamma=1 \n"
     ]
    },
    {
     "name": "stderr",
     "output_type": "stream",
     "text": [
      "/Library/Python/2.7/site-packages/sklearn/metrics/scorer.py:90: DeprecationWarning: Scoring method mean_squared_error was renamed to neg_mean_squared_error in version 0.18 and will be removed in 0.20.\n",
      "  sample_weight=sample_weight)\n",
      "/Library/Python/2.7/site-packages/sklearn/metrics/scorer.py:90: DeprecationWarning: Scoring method mean_squared_error was renamed to neg_mean_squared_error in version 0.18 and will be removed in 0.20.\n",
      "  sample_weight=sample_weight)\n",
      "/Library/Python/2.7/site-packages/sklearn/metrics/scorer.py:90: DeprecationWarning: Scoring method mean_squared_error was renamed to neg_mean_squared_error in version 0.18 and will be removed in 0.20.\n",
      "  sample_weight=sample_weight)\n",
      "/Library/Python/2.7/site-packages/sklearn/metrics/scorer.py:90: DeprecationWarning: Scoring method mean_squared_error was renamed to neg_mean_squared_error in version 0.18 and will be removed in 0.20.\n",
      "  sample_weight=sample_weight)\n"
     ]
    },
    {
     "name": "stdout",
     "output_type": "stream",
     "text": [
      "[CV]  reg_alpha=0.5, colsample_bytree=0.8, silent=1, learning_rate=0.025, min_child_weight=2, n_estimators=400, subsample=0.8, reg_lambda=1.3, objective=reg:linear, max_depth=6, gamma=1, total= 1.5min\n",
      "[CV] reg_alpha=0.8, colsample_bytree=0.8, silent=1, learning_rate=0.025, min_child_weight=2, n_estimators=400, subsample=0.8, reg_lambda=0.8, objective=reg:linear, max_depth=6, gamma=1 \n",
      "[CV]  reg_alpha=0.5, colsample_bytree=0.8, silent=1, learning_rate=0.025, min_child_weight=2, n_estimators=400, subsample=0.8, reg_lambda=1.3, objective=reg:linear, max_depth=6, gamma=1, total= 1.4min\n",
      "[CV] reg_alpha=0.8, colsample_bytree=0.8, silent=1, learning_rate=0.025, min_child_weight=2, n_estimators=400, subsample=0.8, reg_lambda=0.8, objective=reg:linear, max_depth=6, gamma=1 \n"
     ]
    },
    {
     "name": "stderr",
     "output_type": "stream",
     "text": [
      "/Library/Python/2.7/site-packages/sklearn/metrics/scorer.py:90: DeprecationWarning: Scoring method mean_squared_error was renamed to neg_mean_squared_error in version 0.18 and will be removed in 0.20.\n",
      "  sample_weight=sample_weight)\n",
      "/Library/Python/2.7/site-packages/sklearn/metrics/scorer.py:90: DeprecationWarning: Scoring method mean_squared_error was renamed to neg_mean_squared_error in version 0.18 and will be removed in 0.20.\n",
      "  sample_weight=sample_weight)\n",
      "/Library/Python/2.7/site-packages/sklearn/metrics/scorer.py:90: DeprecationWarning: Scoring method mean_squared_error was renamed to neg_mean_squared_error in version 0.18 and will be removed in 0.20.\n",
      "  sample_weight=sample_weight)\n",
      "/Library/Python/2.7/site-packages/sklearn/metrics/scorer.py:90: DeprecationWarning: Scoring method mean_squared_error was renamed to neg_mean_squared_error in version 0.18 and will be removed in 0.20.\n",
      "  sample_weight=sample_weight)\n"
     ]
    },
    {
     "name": "stdout",
     "output_type": "stream",
     "text": [
      "[CV]  reg_alpha=0.8, colsample_bytree=0.8, silent=1, learning_rate=0.025, min_child_weight=2, n_estimators=400, subsample=0.8, reg_lambda=0.8, objective=reg:linear, max_depth=6, gamma=1, total= 1.4min\n",
      "[CV] reg_alpha=0.8, colsample_bytree=0.8, silent=1, learning_rate=0.025, min_child_weight=2, n_estimators=400, subsample=0.8, reg_lambda=0.8, objective=reg:linear, max_depth=6, gamma=1 \n",
      "[CV]  reg_alpha=0.8, colsample_bytree=0.8, silent=1, learning_rate=0.025, min_child_weight=2, n_estimators=400, subsample=0.8, reg_lambda=0.8, objective=reg:linear, max_depth=6, gamma=1, total= 1.4min\n",
      "[CV] reg_alpha=0.8, colsample_bytree=0.8, silent=1, learning_rate=0.025, min_child_weight=2, n_estimators=400, subsample=0.8, reg_lambda=0.8, objective=reg:linear, max_depth=6, gamma=1 \n"
     ]
    },
    {
     "name": "stderr",
     "output_type": "stream",
     "text": [
      "/Library/Python/2.7/site-packages/sklearn/metrics/scorer.py:90: DeprecationWarning: Scoring method mean_squared_error was renamed to neg_mean_squared_error in version 0.18 and will be removed in 0.20.\n",
      "  sample_weight=sample_weight)\n",
      "/Library/Python/2.7/site-packages/sklearn/metrics/scorer.py:90: DeprecationWarning: Scoring method mean_squared_error was renamed to neg_mean_squared_error in version 0.18 and will be removed in 0.20.\n",
      "  sample_weight=sample_weight)\n",
      "/Library/Python/2.7/site-packages/sklearn/metrics/scorer.py:90: DeprecationWarning: Scoring method mean_squared_error was renamed to neg_mean_squared_error in version 0.18 and will be removed in 0.20.\n",
      "  sample_weight=sample_weight)\n",
      "/Library/Python/2.7/site-packages/sklearn/metrics/scorer.py:90: DeprecationWarning: Scoring method mean_squared_error was renamed to neg_mean_squared_error in version 0.18 and will be removed in 0.20.\n",
      "  sample_weight=sample_weight)\n"
     ]
    },
    {
     "name": "stdout",
     "output_type": "stream",
     "text": [
      "[CV]  reg_alpha=0.8, colsample_bytree=0.8, silent=1, learning_rate=0.025, min_child_weight=2, n_estimators=400, subsample=0.8, reg_lambda=0.8, objective=reg:linear, max_depth=6, gamma=1, total= 1.3min\n",
      "[CV] reg_alpha=0.8, colsample_bytree=0.8, silent=1, learning_rate=0.025, min_child_weight=2, n_estimators=400, subsample=0.8, reg_lambda=0.8, objective=reg:linear, max_depth=6, gamma=1 \n",
      "[CV]  reg_alpha=0.8, colsample_bytree=0.8, silent=1, learning_rate=0.025, min_child_weight=2, n_estimators=400, subsample=0.8, reg_lambda=0.8, objective=reg:linear, max_depth=6, gamma=1, total= 1.3min\n",
      "[CV] reg_alpha=0.8, colsample_bytree=0.8, silent=1, learning_rate=0.025, min_child_weight=2, n_estimators=400, subsample=0.8, reg_lambda=1.3, objective=reg:linear, max_depth=6, gamma=1 \n"
     ]
    },
    {
     "name": "stderr",
     "output_type": "stream",
     "text": [
      "/Library/Python/2.7/site-packages/sklearn/metrics/scorer.py:90: DeprecationWarning: Scoring method mean_squared_error was renamed to neg_mean_squared_error in version 0.18 and will be removed in 0.20.\n",
      "  sample_weight=sample_weight)\n",
      "/Library/Python/2.7/site-packages/sklearn/metrics/scorer.py:90: DeprecationWarning: Scoring method mean_squared_error was renamed to neg_mean_squared_error in version 0.18 and will be removed in 0.20.\n",
      "  sample_weight=sample_weight)\n",
      "/Library/Python/2.7/site-packages/sklearn/metrics/scorer.py:90: DeprecationWarning: Scoring method mean_squared_error was renamed to neg_mean_squared_error in version 0.18 and will be removed in 0.20.\n",
      "  sample_weight=sample_weight)\n",
      "/Library/Python/2.7/site-packages/sklearn/metrics/scorer.py:90: DeprecationWarning: Scoring method mean_squared_error was renamed to neg_mean_squared_error in version 0.18 and will be removed in 0.20.\n",
      "  sample_weight=sample_weight)\n"
     ]
    },
    {
     "name": "stdout",
     "output_type": "stream",
     "text": [
      "[CV]  reg_alpha=0.8, colsample_bytree=0.8, silent=1, learning_rate=0.025, min_child_weight=2, n_estimators=400, subsample=0.8, reg_lambda=0.8, objective=reg:linear, max_depth=6, gamma=1, total= 1.4min\n",
      "[CV] reg_alpha=0.8, colsample_bytree=0.8, silent=1, learning_rate=0.025, min_child_weight=2, n_estimators=400, subsample=0.8, reg_lambda=1.3, objective=reg:linear, max_depth=6, gamma=1 \n",
      "[CV]  reg_alpha=0.8, colsample_bytree=0.8, silent=1, learning_rate=0.025, min_child_weight=2, n_estimators=400, subsample=0.8, reg_lambda=1.3, objective=reg:linear, max_depth=6, gamma=1, total= 1.5min\n",
      "[CV] reg_alpha=0.8, colsample_bytree=0.8, silent=1, learning_rate=0.025, min_child_weight=2, n_estimators=400, subsample=0.8, reg_lambda=1.3, objective=reg:linear, max_depth=6, gamma=1 \n"
     ]
    },
    {
     "name": "stderr",
     "output_type": "stream",
     "text": [
      "/Library/Python/2.7/site-packages/sklearn/metrics/scorer.py:90: DeprecationWarning: Scoring method mean_squared_error was renamed to neg_mean_squared_error in version 0.18 and will be removed in 0.20.\n",
      "  sample_weight=sample_weight)\n",
      "/Library/Python/2.7/site-packages/sklearn/metrics/scorer.py:90: DeprecationWarning: Scoring method mean_squared_error was renamed to neg_mean_squared_error in version 0.18 and will be removed in 0.20.\n",
      "  sample_weight=sample_weight)\n",
      "/Library/Python/2.7/site-packages/sklearn/metrics/scorer.py:90: DeprecationWarning: Scoring method mean_squared_error was renamed to neg_mean_squared_error in version 0.18 and will be removed in 0.20.\n",
      "  sample_weight=sample_weight)\n",
      "/Library/Python/2.7/site-packages/sklearn/metrics/scorer.py:90: DeprecationWarning: Scoring method mean_squared_error was renamed to neg_mean_squared_error in version 0.18 and will be removed in 0.20.\n",
      "  sample_weight=sample_weight)\n"
     ]
    },
    {
     "name": "stdout",
     "output_type": "stream",
     "text": [
      "[CV]  reg_alpha=0.8, colsample_bytree=0.8, silent=1, learning_rate=0.025, min_child_weight=2, n_estimators=400, subsample=0.8, reg_lambda=1.3, objective=reg:linear, max_depth=6, gamma=1, total= 1.3min\n",
      "[CV] reg_alpha=0.8, colsample_bytree=0.8, silent=1, learning_rate=0.025, min_child_weight=2, n_estimators=400, subsample=0.8, reg_lambda=1.3, objective=reg:linear, max_depth=6, gamma=1 \n",
      "[CV]  reg_alpha=0.8, colsample_bytree=0.8, silent=1, learning_rate=0.025, min_child_weight=2, n_estimators=400, subsample=0.8, reg_lambda=1.3, objective=reg:linear, max_depth=6, gamma=1, total= 1.3min\n",
      "[CV] reg_alpha=0.8, colsample_bytree=0.8, silent=1, learning_rate=0.025, min_child_weight=2, n_estimators=400, subsample=0.8, reg_lambda=1.3, objective=reg:linear, max_depth=6, gamma=1 \n"
     ]
    },
    {
     "name": "stderr",
     "output_type": "stream",
     "text": [
      "/Library/Python/2.7/site-packages/sklearn/metrics/scorer.py:90: DeprecationWarning: Scoring method mean_squared_error was renamed to neg_mean_squared_error in version 0.18 and will be removed in 0.20.\n",
      "  sample_weight=sample_weight)\n",
      "/Library/Python/2.7/site-packages/sklearn/metrics/scorer.py:90: DeprecationWarning: Scoring method mean_squared_error was renamed to neg_mean_squared_error in version 0.18 and will be removed in 0.20.\n",
      "  sample_weight=sample_weight)\n",
      "/Library/Python/2.7/site-packages/sklearn/metrics/scorer.py:90: DeprecationWarning: Scoring method mean_squared_error was renamed to neg_mean_squared_error in version 0.18 and will be removed in 0.20.\n",
      "  sample_weight=sample_weight)\n",
      "/Library/Python/2.7/site-packages/sklearn/metrics/scorer.py:90: DeprecationWarning: Scoring method mean_squared_error was renamed to neg_mean_squared_error in version 0.18 and will be removed in 0.20.\n",
      "  sample_weight=sample_weight)\n"
     ]
    },
    {
     "name": "stdout",
     "output_type": "stream",
     "text": [
      "[CV]  reg_alpha=0.8, colsample_bytree=0.8, silent=1, learning_rate=0.025, min_child_weight=2, n_estimators=400, subsample=0.8, reg_lambda=1.3, objective=reg:linear, max_depth=6, gamma=1, total= 1.3min\n",
      "[CV] reg_alpha=0.5, colsample_bytree=0.8, silent=1, learning_rate=0.025, min_child_weight=2, n_estimators=400, subsample=0.8, reg_lambda=0.8, objective=reg:linear, max_depth=6, gamma=3 \n",
      "[CV]  reg_alpha=0.8, colsample_bytree=0.8, silent=1, learning_rate=0.025, min_child_weight=2, n_estimators=400, subsample=0.8, reg_lambda=1.3, objective=reg:linear, max_depth=6, gamma=1, total= 1.3min\n",
      "[CV] reg_alpha=0.5, colsample_bytree=0.8, silent=1, learning_rate=0.025, min_child_weight=2, n_estimators=400, subsample=0.8, reg_lambda=0.8, objective=reg:linear, max_depth=6, gamma=3 \n"
     ]
    },
    {
     "name": "stderr",
     "output_type": "stream",
     "text": [
      "/Library/Python/2.7/site-packages/sklearn/metrics/scorer.py:90: DeprecationWarning: Scoring method mean_squared_error was renamed to neg_mean_squared_error in version 0.18 and will be removed in 0.20.\n",
      "  sample_weight=sample_weight)\n",
      "/Library/Python/2.7/site-packages/sklearn/metrics/scorer.py:90: DeprecationWarning: Scoring method mean_squared_error was renamed to neg_mean_squared_error in version 0.18 and will be removed in 0.20.\n",
      "  sample_weight=sample_weight)\n",
      "/Library/Python/2.7/site-packages/sklearn/metrics/scorer.py:90: DeprecationWarning: Scoring method mean_squared_error was renamed to neg_mean_squared_error in version 0.18 and will be removed in 0.20.\n",
      "  sample_weight=sample_weight)\n",
      "/Library/Python/2.7/site-packages/sklearn/metrics/scorer.py:90: DeprecationWarning: Scoring method mean_squared_error was renamed to neg_mean_squared_error in version 0.18 and will be removed in 0.20.\n",
      "  sample_weight=sample_weight)\n"
     ]
    },
    {
     "name": "stdout",
     "output_type": "stream",
     "text": [
      "[CV]  reg_alpha=0.5, colsample_bytree=0.8, silent=1, learning_rate=0.025, min_child_weight=2, n_estimators=400, subsample=0.8, reg_lambda=0.8, objective=reg:linear, max_depth=6, gamma=3, total= 1.5min\n",
      "[CV] reg_alpha=0.5, colsample_bytree=0.8, silent=1, learning_rate=0.025, min_child_weight=2, n_estimators=400, subsample=0.8, reg_lambda=0.8, objective=reg:linear, max_depth=6, gamma=3 \n",
      "[CV]  reg_alpha=0.5, colsample_bytree=0.8, silent=1, learning_rate=0.025, min_child_weight=2, n_estimators=400, subsample=0.8, reg_lambda=0.8, objective=reg:linear, max_depth=6, gamma=3, total= 1.5min\n",
      "[CV] reg_alpha=0.5, colsample_bytree=0.8, silent=1, learning_rate=0.025, min_child_weight=2, n_estimators=400, subsample=0.8, reg_lambda=0.8, objective=reg:linear, max_depth=6, gamma=3 \n"
     ]
    },
    {
     "name": "stderr",
     "output_type": "stream",
     "text": [
      "/Library/Python/2.7/site-packages/sklearn/metrics/scorer.py:90: DeprecationWarning: Scoring method mean_squared_error was renamed to neg_mean_squared_error in version 0.18 and will be removed in 0.20.\n",
      "  sample_weight=sample_weight)\n",
      "/Library/Python/2.7/site-packages/sklearn/metrics/scorer.py:90: DeprecationWarning: Scoring method mean_squared_error was renamed to neg_mean_squared_error in version 0.18 and will be removed in 0.20.\n",
      "  sample_weight=sample_weight)\n",
      "/Library/Python/2.7/site-packages/sklearn/metrics/scorer.py:90: DeprecationWarning: Scoring method mean_squared_error was renamed to neg_mean_squared_error in version 0.18 and will be removed in 0.20.\n",
      "  sample_weight=sample_weight)\n",
      "/Library/Python/2.7/site-packages/sklearn/metrics/scorer.py:90: DeprecationWarning: Scoring method mean_squared_error was renamed to neg_mean_squared_error in version 0.18 and will be removed in 0.20.\n",
      "  sample_weight=sample_weight)\n"
     ]
    },
    {
     "name": "stdout",
     "output_type": "stream",
     "text": [
      "[CV]  reg_alpha=0.5, colsample_bytree=0.8, silent=1, learning_rate=0.025, min_child_weight=2, n_estimators=400, subsample=0.8, reg_lambda=0.8, objective=reg:linear, max_depth=6, gamma=3, total= 1.4min\n",
      "[CV] reg_alpha=0.5, colsample_bytree=0.8, silent=1, learning_rate=0.025, min_child_weight=2, n_estimators=400, subsample=0.8, reg_lambda=0.8, objective=reg:linear, max_depth=6, gamma=3 \n",
      "[CV]  reg_alpha=0.5, colsample_bytree=0.8, silent=1, learning_rate=0.025, min_child_weight=2, n_estimators=400, subsample=0.8, reg_lambda=0.8, objective=reg:linear, max_depth=6, gamma=3, total= 1.4min\n",
      "[CV] reg_alpha=0.5, colsample_bytree=0.8, silent=1, learning_rate=0.025, min_child_weight=2, n_estimators=400, subsample=0.8, reg_lambda=1.3, objective=reg:linear, max_depth=6, gamma=3 \n"
     ]
    },
    {
     "name": "stderr",
     "output_type": "stream",
     "text": [
      "/Library/Python/2.7/site-packages/sklearn/metrics/scorer.py:90: DeprecationWarning: Scoring method mean_squared_error was renamed to neg_mean_squared_error in version 0.18 and will be removed in 0.20.\n",
      "  sample_weight=sample_weight)\n",
      "/Library/Python/2.7/site-packages/sklearn/metrics/scorer.py:90: DeprecationWarning: Scoring method mean_squared_error was renamed to neg_mean_squared_error in version 0.18 and will be removed in 0.20.\n",
      "  sample_weight=sample_weight)\n",
      "/Library/Python/2.7/site-packages/sklearn/metrics/scorer.py:90: DeprecationWarning: Scoring method mean_squared_error was renamed to neg_mean_squared_error in version 0.18 and will be removed in 0.20.\n",
      "  sample_weight=sample_weight)\n"
     ]
    },
    {
     "name": "stdout",
     "output_type": "stream",
     "text": [
      "[CV]  reg_alpha=0.5, colsample_bytree=0.8, silent=1, learning_rate=0.025, min_child_weight=2, n_estimators=400, subsample=0.8, reg_lambda=0.8, objective=reg:linear, max_depth=6, gamma=3, total= 1.5min\n",
      "[CV] reg_alpha=0.5, colsample_bytree=0.8, silent=1, learning_rate=0.025, min_child_weight=2, n_estimators=400, subsample=0.8, reg_lambda=1.3, objective=reg:linear, max_depth=6, gamma=3 \n"
     ]
    },
    {
     "name": "stderr",
     "output_type": "stream",
     "text": [
      "/Library/Python/2.7/site-packages/sklearn/metrics/scorer.py:90: DeprecationWarning: Scoring method mean_squared_error was renamed to neg_mean_squared_error in version 0.18 and will be removed in 0.20.\n",
      "  sample_weight=sample_weight)\n"
     ]
    },
    {
     "name": "stdout",
     "output_type": "stream",
     "text": [
      "[CV]  reg_alpha=0.5, colsample_bytree=0.8, silent=1, learning_rate=0.025, min_child_weight=2, n_estimators=400, subsample=0.8, reg_lambda=1.3, objective=reg:linear, max_depth=6, gamma=3, total= 1.6min\n",
      "[CV] reg_alpha=0.5, colsample_bytree=0.8, silent=1, learning_rate=0.025, min_child_weight=2, n_estimators=400, subsample=0.8, reg_lambda=1.3, objective=reg:linear, max_depth=6, gamma=3 \n"
     ]
    },
    {
     "name": "stderr",
     "output_type": "stream",
     "text": [
      "/Library/Python/2.7/site-packages/sklearn/metrics/scorer.py:90: DeprecationWarning: Scoring method mean_squared_error was renamed to neg_mean_squared_error in version 0.18 and will be removed in 0.20.\n",
      "  sample_weight=sample_weight)\n",
      "/Library/Python/2.7/site-packages/sklearn/metrics/scorer.py:90: DeprecationWarning: Scoring method mean_squared_error was renamed to neg_mean_squared_error in version 0.18 and will be removed in 0.20.\n",
      "  sample_weight=sample_weight)\n",
      "/Library/Python/2.7/site-packages/sklearn/metrics/scorer.py:90: DeprecationWarning: Scoring method mean_squared_error was renamed to neg_mean_squared_error in version 0.18 and will be removed in 0.20.\n",
      "  sample_weight=sample_weight)\n",
      "/Library/Python/2.7/site-packages/sklearn/metrics/scorer.py:90: DeprecationWarning: Scoring method mean_squared_error was renamed to neg_mean_squared_error in version 0.18 and will be removed in 0.20.\n",
      "  sample_weight=sample_weight)\n"
     ]
    },
    {
     "name": "stdout",
     "output_type": "stream",
     "text": [
      "[CV]  reg_alpha=0.5, colsample_bytree=0.8, silent=1, learning_rate=0.025, min_child_weight=2, n_estimators=400, subsample=0.8, reg_lambda=1.3, objective=reg:linear, max_depth=6, gamma=3, total= 1.5min\n",
      "[CV] reg_alpha=0.5, colsample_bytree=0.8, silent=1, learning_rate=0.025, min_child_weight=2, n_estimators=400, subsample=0.8, reg_lambda=1.3, objective=reg:linear, max_depth=6, gamma=3 \n",
      "[CV]  reg_alpha=0.5, colsample_bytree=0.8, silent=1, learning_rate=0.025, min_child_weight=2, n_estimators=400, subsample=0.8, reg_lambda=1.3, objective=reg:linear, max_depth=6, gamma=3, total= 1.5min\n",
      "[CV] reg_alpha=0.5, colsample_bytree=0.8, silent=1, learning_rate=0.025, min_child_weight=2, n_estimators=400, subsample=0.8, reg_lambda=1.3, objective=reg:linear, max_depth=6, gamma=3 \n"
     ]
    },
    {
     "name": "stderr",
     "output_type": "stream",
     "text": [
      "/Library/Python/2.7/site-packages/sklearn/metrics/scorer.py:90: DeprecationWarning: Scoring method mean_squared_error was renamed to neg_mean_squared_error in version 0.18 and will be removed in 0.20.\n",
      "  sample_weight=sample_weight)\n",
      "/Library/Python/2.7/site-packages/sklearn/metrics/scorer.py:90: DeprecationWarning: Scoring method mean_squared_error was renamed to neg_mean_squared_error in version 0.18 and will be removed in 0.20.\n",
      "  sample_weight=sample_weight)\n",
      "/Library/Python/2.7/site-packages/sklearn/metrics/scorer.py:90: DeprecationWarning: Scoring method mean_squared_error was renamed to neg_mean_squared_error in version 0.18 and will be removed in 0.20.\n",
      "  sample_weight=sample_weight)\n",
      "/Library/Python/2.7/site-packages/sklearn/metrics/scorer.py:90: DeprecationWarning: Scoring method mean_squared_error was renamed to neg_mean_squared_error in version 0.18 and will be removed in 0.20.\n",
      "  sample_weight=sample_weight)\n"
     ]
    },
    {
     "name": "stdout",
     "output_type": "stream",
     "text": [
      "[CV]  reg_alpha=0.5, colsample_bytree=0.8, silent=1, learning_rate=0.025, min_child_weight=2, n_estimators=400, subsample=0.8, reg_lambda=1.3, objective=reg:linear, max_depth=6, gamma=3, total= 1.5min\n",
      "[CV] reg_alpha=0.8, colsample_bytree=0.8, silent=1, learning_rate=0.025, min_child_weight=2, n_estimators=400, subsample=0.8, reg_lambda=0.8, objective=reg:linear, max_depth=6, gamma=3 \n",
      "[CV]  reg_alpha=0.5, colsample_bytree=0.8, silent=1, learning_rate=0.025, min_child_weight=2, n_estimators=400, subsample=0.8, reg_lambda=1.3, objective=reg:linear, max_depth=6, gamma=3, total= 1.5min\n",
      "[CV] reg_alpha=0.8, colsample_bytree=0.8, silent=1, learning_rate=0.025, min_child_weight=2, n_estimators=400, subsample=0.8, reg_lambda=0.8, objective=reg:linear, max_depth=6, gamma=3 \n"
     ]
    },
    {
     "name": "stderr",
     "output_type": "stream",
     "text": [
      "/Library/Python/2.7/site-packages/sklearn/metrics/scorer.py:90: DeprecationWarning: Scoring method mean_squared_error was renamed to neg_mean_squared_error in version 0.18 and will be removed in 0.20.\n",
      "  sample_weight=sample_weight)\n",
      "/Library/Python/2.7/site-packages/sklearn/metrics/scorer.py:90: DeprecationWarning: Scoring method mean_squared_error was renamed to neg_mean_squared_error in version 0.18 and will be removed in 0.20.\n",
      "  sample_weight=sample_weight)\n",
      "/Library/Python/2.7/site-packages/sklearn/metrics/scorer.py:90: DeprecationWarning: Scoring method mean_squared_error was renamed to neg_mean_squared_error in version 0.18 and will be removed in 0.20.\n",
      "  sample_weight=sample_weight)\n",
      "/Library/Python/2.7/site-packages/sklearn/metrics/scorer.py:90: DeprecationWarning: Scoring method mean_squared_error was renamed to neg_mean_squared_error in version 0.18 and will be removed in 0.20.\n",
      "  sample_weight=sample_weight)\n"
     ]
    },
    {
     "name": "stdout",
     "output_type": "stream",
     "text": [
      "[CV]  reg_alpha=0.8, colsample_bytree=0.8, silent=1, learning_rate=0.025, min_child_weight=2, n_estimators=400, subsample=0.8, reg_lambda=0.8, objective=reg:linear, max_depth=6, gamma=3, total= 1.6min\n",
      "[CV] reg_alpha=0.8, colsample_bytree=0.8, silent=1, learning_rate=0.025, min_child_weight=2, n_estimators=400, subsample=0.8, reg_lambda=0.8, objective=reg:linear, max_depth=6, gamma=3 \n",
      "[CV]  reg_alpha=0.8, colsample_bytree=0.8, silent=1, learning_rate=0.025, min_child_weight=2, n_estimators=400, subsample=0.8, reg_lambda=0.8, objective=reg:linear, max_depth=6, gamma=3, total= 1.6min\n",
      "[CV] reg_alpha=0.8, colsample_bytree=0.8, silent=1, learning_rate=0.025, min_child_weight=2, n_estimators=400, subsample=0.8, reg_lambda=0.8, objective=reg:linear, max_depth=6, gamma=3 \n"
     ]
    },
    {
     "name": "stderr",
     "output_type": "stream",
     "text": [
      "/Library/Python/2.7/site-packages/sklearn/metrics/scorer.py:90: DeprecationWarning: Scoring method mean_squared_error was renamed to neg_mean_squared_error in version 0.18 and will be removed in 0.20.\n",
      "  sample_weight=sample_weight)\n",
      "/Library/Python/2.7/site-packages/sklearn/metrics/scorer.py:90: DeprecationWarning: Scoring method mean_squared_error was renamed to neg_mean_squared_error in version 0.18 and will be removed in 0.20.\n",
      "  sample_weight=sample_weight)\n",
      "/Library/Python/2.7/site-packages/sklearn/metrics/scorer.py:90: DeprecationWarning: Scoring method mean_squared_error was renamed to neg_mean_squared_error in version 0.18 and will be removed in 0.20.\n",
      "  sample_weight=sample_weight)\n",
      "/Library/Python/2.7/site-packages/sklearn/metrics/scorer.py:90: DeprecationWarning: Scoring method mean_squared_error was renamed to neg_mean_squared_error in version 0.18 and will be removed in 0.20.\n",
      "  sample_weight=sample_weight)\n"
     ]
    },
    {
     "name": "stdout",
     "output_type": "stream",
     "text": [
      "[CV]  reg_alpha=0.8, colsample_bytree=0.8, silent=1, learning_rate=0.025, min_child_weight=2, n_estimators=400, subsample=0.8, reg_lambda=0.8, objective=reg:linear, max_depth=6, gamma=3, total= 1.2min\n",
      "[CV] reg_alpha=0.8, colsample_bytree=0.8, silent=1, learning_rate=0.025, min_child_weight=2, n_estimators=400, subsample=0.8, reg_lambda=0.8, objective=reg:linear, max_depth=6, gamma=3 \n",
      "[CV]  reg_alpha=0.8, colsample_bytree=0.8, silent=1, learning_rate=0.025, min_child_weight=2, n_estimators=400, subsample=0.8, reg_lambda=0.8, objective=reg:linear, max_depth=6, gamma=3, total= 1.2min\n",
      "[CV] reg_alpha=0.8, colsample_bytree=0.8, silent=1, learning_rate=0.025, min_child_weight=2, n_estimators=400, subsample=0.8, reg_lambda=1.3, objective=reg:linear, max_depth=6, gamma=3 \n"
     ]
    },
    {
     "name": "stderr",
     "output_type": "stream",
     "text": [
      "/Library/Python/2.7/site-packages/sklearn/metrics/scorer.py:90: DeprecationWarning: Scoring method mean_squared_error was renamed to neg_mean_squared_error in version 0.18 and will be removed in 0.20.\n",
      "  sample_weight=sample_weight)\n",
      "/Library/Python/2.7/site-packages/sklearn/metrics/scorer.py:90: DeprecationWarning: Scoring method mean_squared_error was renamed to neg_mean_squared_error in version 0.18 and will be removed in 0.20.\n",
      "  sample_weight=sample_weight)\n",
      "/Library/Python/2.7/site-packages/sklearn/metrics/scorer.py:90: DeprecationWarning: Scoring method mean_squared_error was renamed to neg_mean_squared_error in version 0.18 and will be removed in 0.20.\n",
      "  sample_weight=sample_weight)\n"
     ]
    },
    {
     "name": "stdout",
     "output_type": "stream",
     "text": [
      "[CV]  reg_alpha=0.8, colsample_bytree=0.8, silent=1, learning_rate=0.025, min_child_weight=2, n_estimators=400, subsample=0.8, reg_lambda=0.8, objective=reg:linear, max_depth=6, gamma=3, total= 1.2min\n",
      "[CV] reg_alpha=0.8, colsample_bytree=0.8, silent=1, learning_rate=0.025, min_child_weight=2, n_estimators=400, subsample=0.8, reg_lambda=1.3, objective=reg:linear, max_depth=6, gamma=3 \n"
     ]
    },
    {
     "name": "stderr",
     "output_type": "stream",
     "text": [
      "/Library/Python/2.7/site-packages/sklearn/metrics/scorer.py:90: DeprecationWarning: Scoring method mean_squared_error was renamed to neg_mean_squared_error in version 0.18 and will be removed in 0.20.\n",
      "  sample_weight=sample_weight)\n"
     ]
    },
    {
     "name": "stdout",
     "output_type": "stream",
     "text": [
      "[CV]  reg_alpha=0.8, colsample_bytree=0.8, silent=1, learning_rate=0.025, min_child_weight=2, n_estimators=400, subsample=0.8, reg_lambda=1.3, objective=reg:linear, max_depth=6, gamma=3, total= 1.3min\n",
      "[CV] reg_alpha=0.8, colsample_bytree=0.8, silent=1, learning_rate=0.025, min_child_weight=2, n_estimators=400, subsample=0.8, reg_lambda=1.3, objective=reg:linear, max_depth=6, gamma=3 \n"
     ]
    },
    {
     "name": "stderr",
     "output_type": "stream",
     "text": [
      "/Library/Python/2.7/site-packages/sklearn/metrics/scorer.py:90: DeprecationWarning: Scoring method mean_squared_error was renamed to neg_mean_squared_error in version 0.18 and will be removed in 0.20.\n",
      "  sample_weight=sample_weight)\n",
      "/Library/Python/2.7/site-packages/sklearn/metrics/scorer.py:90: DeprecationWarning: Scoring method mean_squared_error was renamed to neg_mean_squared_error in version 0.18 and will be removed in 0.20.\n",
      "  sample_weight=sample_weight)\n",
      "/Library/Python/2.7/site-packages/sklearn/metrics/scorer.py:90: DeprecationWarning: Scoring method mean_squared_error was renamed to neg_mean_squared_error in version 0.18 and will be removed in 0.20.\n",
      "  sample_weight=sample_weight)\n",
      "/Library/Python/2.7/site-packages/sklearn/metrics/scorer.py:90: DeprecationWarning: Scoring method mean_squared_error was renamed to neg_mean_squared_error in version 0.18 and will be removed in 0.20.\n",
      "  sample_weight=sample_weight)\n"
     ]
    },
    {
     "name": "stdout",
     "output_type": "stream",
     "text": [
      "[CV]  reg_alpha=0.8, colsample_bytree=0.8, silent=1, learning_rate=0.025, min_child_weight=2, n_estimators=400, subsample=0.8, reg_lambda=1.3, objective=reg:linear, max_depth=6, gamma=3, total= 1.5min\n",
      "[CV] reg_alpha=0.8, colsample_bytree=0.8, silent=1, learning_rate=0.025, min_child_weight=2, n_estimators=400, subsample=0.8, reg_lambda=1.3, objective=reg:linear, max_depth=6, gamma=3 \n"
     ]
    },
    {
     "name": "stderr",
     "output_type": "stream",
     "text": [
      "[Parallel(n_jobs=2)]: Done  37 tasks      | elapsed: 28.4min\n"
     ]
    },
    {
     "name": "stdout",
     "output_type": "stream",
     "text": [
      "[CV]  reg_alpha=0.8, colsample_bytree=0.8, silent=1, learning_rate=0.025, min_child_weight=2, n_estimators=400, subsample=0.8, reg_lambda=1.3, objective=reg:linear, max_depth=6, gamma=3, total= 1.4min\n",
      "[CV] reg_alpha=0.8, colsample_bytree=0.8, silent=1, learning_rate=0.025, min_child_weight=2, n_estimators=400, subsample=0.8, reg_lambda=1.3, objective=reg:linear, max_depth=6, gamma=3 \n"
     ]
    },
    {
     "name": "stderr",
     "output_type": "stream",
     "text": [
      "/Library/Python/2.7/site-packages/sklearn/metrics/scorer.py:90: DeprecationWarning: Scoring method mean_squared_error was renamed to neg_mean_squared_error in version 0.18 and will be removed in 0.20.\n",
      "  sample_weight=sample_weight)\n",
      "/Library/Python/2.7/site-packages/sklearn/metrics/scorer.py:90: DeprecationWarning: Scoring method mean_squared_error was renamed to neg_mean_squared_error in version 0.18 and will be removed in 0.20.\n",
      "  sample_weight=sample_weight)\n",
      "/Library/Python/2.7/site-packages/sklearn/metrics/scorer.py:90: DeprecationWarning: Scoring method mean_squared_error was renamed to neg_mean_squared_error in version 0.18 and will be removed in 0.20.\n",
      "  sample_weight=sample_weight)\n",
      "/Library/Python/2.7/site-packages/sklearn/metrics/scorer.py:90: DeprecationWarning: Scoring method mean_squared_error was renamed to neg_mean_squared_error in version 0.18 and will be removed in 0.20.\n",
      "  sample_weight=sample_weight)\n"
     ]
    },
    {
     "name": "stdout",
     "output_type": "stream",
     "text": [
      "[CV]  reg_alpha=0.8, colsample_bytree=0.8, silent=1, learning_rate=0.025, min_child_weight=2, n_estimators=400, subsample=0.8, reg_lambda=1.3, objective=reg:linear, max_depth=6, gamma=3, total= 1.2min\n",
      "[CV]  reg_alpha=0.8, colsample_bytree=0.8, silent=1, learning_rate=0.025, min_child_weight=2, n_estimators=400, subsample=0.8, reg_lambda=1.3, objective=reg:linear, max_depth=6, gamma=3, total= 1.2min\n"
     ]
    },
    {
     "name": "stderr",
     "output_type": "stream",
     "text": [
      "[Parallel(n_jobs=2)]: Done  40 out of  40 | elapsed: 29.7min finished\n"
     ]
    }
   ],
   "source": [
    "modelXgboost = xgb.XGBRegressor()\n",
    "\n",
    "    # Run the grid search\n",
    "grid_obj_xgb = GridSearchCV(modelXgboost, xgb_params, cv=KFold(n_splits=5, shuffle=True, random_state=42), n_jobs=2, verbose=2, refit=True,scoring='mean_squared_error')\n",
    "grid_obj_xgb = grid_obj_xgb.fit(X, y)\n"
   ]
  },
  {
   "cell_type": "code",
   "execution_count": 351,
   "metadata": {},
   "outputs": [
    {
     "data": {
      "text/plain": [
       "{'colsample_bytree': 0.8,\n",
       " 'gamma': 1,\n",
       " 'learning_rate': 0.025,\n",
       " 'max_depth': 6,\n",
       " 'min_child_weight': 2,\n",
       " 'n_estimators': 400,\n",
       " 'objective': 'reg:linear',\n",
       " 'reg_alpha': 0.5,\n",
       " 'reg_lambda': 0.8,\n",
       " 'silent': 1,\n",
       " 'subsample': 0.8}"
      ]
     },
     "execution_count": 351,
     "metadata": {},
     "output_type": "execute_result"
    }
   ],
   "source": [
    "clf = grid_obj_xgb.best_estimator_\n",
    "grid_obj_xgb.best_params_"
   ]
  },
  {
   "cell_type": "code",
   "execution_count": 10,
   "metadata": {},
   "outputs": [
    {
     "data": {
      "text/plain": [
       "['age',\n",
       " 'sex',\n",
       " 'limit',\n",
       " 'active_month',\n",
       " 'active_year',\n",
       " 'active_day_of_week',\n",
       " 'consume_count',\n",
       " 'consume_amount',\n",
       " 'loan_amount',\n",
       " 'loan_count',\n",
       " 'plannum',\n",
       " 'click_count',\n",
       " 'limit_get_promoted',\n",
       " 'limit_get_promoted_ever',\n",
       " 'consume_count_cum',\n",
       " 'consume_amount_cum',\n",
       " 'loan_amount_cum',\n",
       " 'loan_count_cum',\n",
       " 'click_count_cum',\n",
       " 'plannum_cum',\n",
       " 'actived_months',\n",
       " 'avg_limit',\n",
       " 'median_limit',\n",
       " 'dev_limit',\n",
       " 'dev_median_limit',\n",
       " 'avg_consume_count',\n",
       " 'median_consume_count',\n",
       " 'dev_consume_count',\n",
       " 'dev_median_consume_count',\n",
       " 'avg_consume_amount',\n",
       " 'median_consume_amount',\n",
       " 'dev_consume_amount',\n",
       " 'dev_median_consume_amount',\n",
       " 'avg_loan_amount',\n",
       " 'dev_loan_amount',\n",
       " 'avg_loan_count',\n",
       " 'median_loan_count',\n",
       " 'dev_loan_count',\n",
       " 'dev_median_loan_count',\n",
       " 'avg_plannum',\n",
       " 'median_plannum',\n",
       " 'dev_plannum',\n",
       " 'dev_median_plannum',\n",
       " 'avg_click_count',\n",
       " 'median_click_count',\n",
       " 'dev_click_count',\n",
       " 'dev_median_click_count',\n",
       " 'avg_actived_months',\n",
       " 'median_actived_months',\n",
       " 'dev_actived_months',\n",
       " 'dev_median_actived_months',\n",
       " 'avg_consume_count_cum',\n",
       " 'median_consume_count_cum',\n",
       " 'dev_consume_count_cum',\n",
       " 'dev_median_consume_count_cum',\n",
       " 'avg_consume_amount_cum',\n",
       " 'median_consume_amount_cum',\n",
       " 'dev_consume_amount_cum',\n",
       " 'dev_median_consume_amount_cum',\n",
       " 'avg_loan_amount_cum',\n",
       " 'dev_loan_amount_cum',\n",
       " 'avg_loan_count_cum',\n",
       " 'median_loan_count_cum',\n",
       " 'dev_loan_count_cum',\n",
       " 'dev_median_loan_count_cum',\n",
       " 'avg_click_count_cum',\n",
       " 'median_click_count_cum',\n",
       " 'dev_click_count_cum',\n",
       " 'dev_median_click_count_cum',\n",
       " 'avg_plannum_cum',\n",
       " 'median_plannum_cum',\n",
       " 'dev_plannum_cum',\n",
       " 'dev_median_plannum_cum',\n",
       " 'cate_0',\n",
       " 'cate_1',\n",
       " 'cate_2',\n",
       " 'pid_param_0',\n",
       " 'pid_param_1',\n",
       " 'pid_param_2',\n",
       " 'dow_0',\n",
       " 'dow_1',\n",
       " 'dow_2',\n",
       " 'workdays',\n",
       " 'weekends']"
      ]
     },
     "execution_count": 10,
     "metadata": {},
     "output_type": "execute_result"
    }
   ],
   "source": [
    "all_features"
   ]
  },
  {
   "cell_type": "code",
   "execution_count": 33,
   "metadata": {},
   "outputs": [
    {
     "data": {
      "text/plain": [
       "['cate_0', 'cate_1', 'cate_2', 'cat_counts']"
      ]
     },
     "execution_count": 33,
     "metadata": {},
     "output_type": "execute_result"
    }
   ],
   "source": [
    "all_cols"
   ]
  },
  {
   "cell_type": "code",
   "execution_count": 35,
   "metadata": {
    "collapsed": true
   },
   "outputs": [],
   "source": [
    "plt.figure(figsize=(12,8))\n",
    "sns.distplot(train.target.values, bins=10, kde=False)\n",
    "plt.xlabel('loan_sum', fontsize=12)\n",
    "plt.show()"
   ]
  },
  {
   "cell_type": "code",
   "execution_count": 51,
   "metadata": {},
   "outputs": [
    {
     "data": {
      "text/plain": [
       "136489    0.000000\n",
       "171445    0.000000\n",
       "171448    0.000000\n",
       "171449    0.000000\n",
       "171450    0.000000\n",
       "171451    0.000000\n",
       "171452    0.000000\n",
       "171453    0.000000\n",
       "171454    0.000000\n",
       "171455    0.000000\n",
       "171456    0.000000\n",
       "171458    0.000000\n",
       "171459    0.000000\n",
       "171460    0.000000\n",
       "171461    0.000000\n",
       "171462    0.000000\n",
       "171463    0.000000\n",
       "171464    0.000000\n",
       "171465    0.000000\n",
       "171466    0.000000\n",
       "171467    0.000000\n",
       "171468    0.000000\n",
       "171469    0.000000\n",
       "171470    0.000000\n",
       "171472    0.000000\n",
       "171473    0.000000\n",
       "171444    0.000000\n",
       "171474    0.000000\n",
       "171443    0.000000\n",
       "171440    0.000000\n",
       "            ...   \n",
       "249876    7.541306\n",
       "98220     7.552192\n",
       "211715    7.552192\n",
       "221455    7.573093\n",
       "264647    7.577818\n",
       "198668    7.577818\n",
       "212867    7.584062\n",
       "237565    7.584062\n",
       "229381    7.584062\n",
       "235594    7.584062\n",
       "208766    7.584062\n",
       "37142     7.584062\n",
       "55579     7.584062\n",
       "47395     7.584062\n",
       "124181    7.596366\n",
       "16976     7.614377\n",
       "53608     7.637607\n",
       "41553     7.639883\n",
       "33407     7.643282\n",
       "215393    7.643282\n",
       "215174    7.670901\n",
       "132546    7.687165\n",
       "111007    7.697345\n",
       "221445    7.697345\n",
       "254442    7.735500\n",
       "20014     7.864726\n",
       "244430    7.895210\n",
       "39469     7.949273\n",
       "244299    7.957844\n",
       "270875    8.433019\n",
       "Name: target, Length: 272979, dtype: float64"
      ]
     },
     "execution_count": 51,
     "metadata": {},
     "output_type": "execute_result"
    }
   ],
   "source": [
    "train.sort_values(by='target', ascending=True)['target']"
   ]
  },
  {
   "cell_type": "code",
   "execution_count": 62,
   "metadata": {},
   "outputs": [
    {
     "data": {
      "text/plain": [
       "<xgboost.core.Booster at 0x10dcb3a10>"
      ]
     },
     "execution_count": 62,
     "metadata": {},
     "output_type": "execute_result"
    }
   ],
   "source": [
    "mdl"
   ]
  },
  {
   "cell_type": "code",
   "execution_count": 75,
   "metadata": {
    "collapsed": true
   },
   "outputs": [],
   "source": [
    "ver['mae'] = (ver['predict'] - ver['real']).map(lambda x: abs(x))"
   ]
  },
  {
   "cell_type": "code",
   "execution_count": 70,
   "metadata": {
    "collapsed": true
   },
   "outputs": [],
   "source": [
    "ver = pd.DataFrame()\n",
    "# ver['uid'] = X_valid['uid'].values\n"
   ]
  },
  {
   "cell_type": "code",
   "execution_count": 71,
   "metadata": {
    "collapsed": true
   },
   "outputs": [],
   "source": [
    "nd1 = mdl.predict(d_valid, ntree_limit = mdl.best_ntree_limit)\n",
    "nd2 = y_valid\n",
    "ver['predict'] =  nd1\n",
    "ver['real'] = nd2\n"
   ]
  },
  {
   "cell_type": "code",
   "execution_count": 72,
   "metadata": {},
   "outputs": [
    {
     "data": {
      "text/html": [
       "<div>\n",
       "<style>\n",
       "    .dataframe thead tr:only-child th {\n",
       "        text-align: right;\n",
       "    }\n",
       "\n",
       "    .dataframe thead th {\n",
       "        text-align: left;\n",
       "    }\n",
       "\n",
       "    .dataframe tbody tr th {\n",
       "        vertical-align: top;\n",
       "    }\n",
       "</style>\n",
       "<table border=\"1\" class=\"dataframe\">\n",
       "  <thead>\n",
       "    <tr style=\"text-align: right;\">\n",
       "      <th></th>\n",
       "      <th>predict</th>\n",
       "      <th>real</th>\n",
       "    </tr>\n",
       "  </thead>\n",
       "  <tbody>\n",
       "    <tr>\n",
       "      <th>0</th>\n",
       "      <td>3.644095</td>\n",
       "      <td>0.000000</td>\n",
       "    </tr>\n",
       "    <tr>\n",
       "      <th>1</th>\n",
       "      <td>0.243864</td>\n",
       "      <td>0.000000</td>\n",
       "    </tr>\n",
       "    <tr>\n",
       "      <th>2</th>\n",
       "      <td>0.448551</td>\n",
       "      <td>0.000000</td>\n",
       "    </tr>\n",
       "    <tr>\n",
       "      <th>3</th>\n",
       "      <td>2.068521</td>\n",
       "      <td>6.153414</td>\n",
       "    </tr>\n",
       "    <tr>\n",
       "      <th>4</th>\n",
       "      <td>3.682263</td>\n",
       "      <td>5.781982</td>\n",
       "    </tr>\n",
       "    <tr>\n",
       "      <th>5</th>\n",
       "      <td>1.645592</td>\n",
       "      <td>4.292651</td>\n",
       "    </tr>\n",
       "    <tr>\n",
       "      <th>6</th>\n",
       "      <td>0.156728</td>\n",
       "      <td>0.000000</td>\n",
       "    </tr>\n",
       "    <tr>\n",
       "      <th>7</th>\n",
       "      <td>0.334569</td>\n",
       "      <td>0.000000</td>\n",
       "    </tr>\n",
       "    <tr>\n",
       "      <th>8</th>\n",
       "      <td>0.231443</td>\n",
       "      <td>0.000000</td>\n",
       "    </tr>\n",
       "    <tr>\n",
       "      <th>9</th>\n",
       "      <td>1.761627</td>\n",
       "      <td>0.000000</td>\n",
       "    </tr>\n",
       "    <tr>\n",
       "      <th>10</th>\n",
       "      <td>0.508023</td>\n",
       "      <td>0.000000</td>\n",
       "    </tr>\n",
       "    <tr>\n",
       "      <th>11</th>\n",
       "      <td>0.053527</td>\n",
       "      <td>0.000000</td>\n",
       "    </tr>\n",
       "    <tr>\n",
       "      <th>12</th>\n",
       "      <td>3.399758</td>\n",
       "      <td>3.862595</td>\n",
       "    </tr>\n",
       "    <tr>\n",
       "      <th>13</th>\n",
       "      <td>0.359373</td>\n",
       "      <td>0.000000</td>\n",
       "    </tr>\n",
       "    <tr>\n",
       "      <th>14</th>\n",
       "      <td>0.116776</td>\n",
       "      <td>0.000000</td>\n",
       "    </tr>\n",
       "    <tr>\n",
       "      <th>15</th>\n",
       "      <td>0.723352</td>\n",
       "      <td>0.000000</td>\n",
       "    </tr>\n",
       "    <tr>\n",
       "      <th>16</th>\n",
       "      <td>0.095155</td>\n",
       "      <td>0.000000</td>\n",
       "    </tr>\n",
       "    <tr>\n",
       "      <th>17</th>\n",
       "      <td>0.620979</td>\n",
       "      <td>5.153538</td>\n",
       "    </tr>\n",
       "    <tr>\n",
       "      <th>18</th>\n",
       "      <td>2.121665</td>\n",
       "      <td>0.000000</td>\n",
       "    </tr>\n",
       "    <tr>\n",
       "      <th>19</th>\n",
       "      <td>5.570755</td>\n",
       "      <td>5.722768</td>\n",
       "    </tr>\n",
       "    <tr>\n",
       "      <th>20</th>\n",
       "      <td>1.708077</td>\n",
       "      <td>0.000000</td>\n",
       "    </tr>\n",
       "    <tr>\n",
       "      <th>21</th>\n",
       "      <td>2.967343</td>\n",
       "      <td>0.000000</td>\n",
       "    </tr>\n",
       "    <tr>\n",
       "      <th>22</th>\n",
       "      <td>0.485533</td>\n",
       "      <td>0.000000</td>\n",
       "    </tr>\n",
       "    <tr>\n",
       "      <th>23</th>\n",
       "      <td>0.643827</td>\n",
       "      <td>0.000000</td>\n",
       "    </tr>\n",
       "    <tr>\n",
       "      <th>24</th>\n",
       "      <td>1.884107</td>\n",
       "      <td>0.000000</td>\n",
       "    </tr>\n",
       "    <tr>\n",
       "      <th>25</th>\n",
       "      <td>0.097700</td>\n",
       "      <td>0.000000</td>\n",
       "    </tr>\n",
       "    <tr>\n",
       "      <th>26</th>\n",
       "      <td>0.272384</td>\n",
       "      <td>0.000000</td>\n",
       "    </tr>\n",
       "    <tr>\n",
       "      <th>27</th>\n",
       "      <td>0.378273</td>\n",
       "      <td>0.000000</td>\n",
       "    </tr>\n",
       "    <tr>\n",
       "      <th>28</th>\n",
       "      <td>0.066351</td>\n",
       "      <td>0.000000</td>\n",
       "    </tr>\n",
       "    <tr>\n",
       "      <th>29</th>\n",
       "      <td>0.316697</td>\n",
       "      <td>0.000000</td>\n",
       "    </tr>\n",
       "    <tr>\n",
       "      <th>...</th>\n",
       "      <td>...</td>\n",
       "      <td>...</td>\n",
       "    </tr>\n",
       "    <tr>\n",
       "      <th>27267</th>\n",
       "      <td>0.267926</td>\n",
       "      <td>0.000000</td>\n",
       "    </tr>\n",
       "    <tr>\n",
       "      <th>27268</th>\n",
       "      <td>1.682440</td>\n",
       "      <td>0.000000</td>\n",
       "    </tr>\n",
       "    <tr>\n",
       "      <th>27269</th>\n",
       "      <td>0.182413</td>\n",
       "      <td>5.722768</td>\n",
       "    </tr>\n",
       "    <tr>\n",
       "      <th>27270</th>\n",
       "      <td>1.008428</td>\n",
       "      <td>0.000000</td>\n",
       "    </tr>\n",
       "    <tr>\n",
       "      <th>27271</th>\n",
       "      <td>4.674632</td>\n",
       "      <td>5.455141</td>\n",
       "    </tr>\n",
       "    <tr>\n",
       "      <th>27272</th>\n",
       "      <td>0.421459</td>\n",
       "      <td>0.000000</td>\n",
       "    </tr>\n",
       "    <tr>\n",
       "      <th>27273</th>\n",
       "      <td>2.371139</td>\n",
       "      <td>5.052587</td>\n",
       "    </tr>\n",
       "    <tr>\n",
       "      <th>27274</th>\n",
       "      <td>3.997473</td>\n",
       "      <td>4.974843</td>\n",
       "    </tr>\n",
       "    <tr>\n",
       "      <th>27275</th>\n",
       "      <td>0.168730</td>\n",
       "      <td>0.000000</td>\n",
       "    </tr>\n",
       "    <tr>\n",
       "      <th>27276</th>\n",
       "      <td>0.241471</td>\n",
       "      <td>0.000000</td>\n",
       "    </tr>\n",
       "    <tr>\n",
       "      <th>27277</th>\n",
       "      <td>0.100738</td>\n",
       "      <td>0.000000</td>\n",
       "    </tr>\n",
       "    <tr>\n",
       "      <th>27278</th>\n",
       "      <td>5.754586</td>\n",
       "      <td>6.189617</td>\n",
       "    </tr>\n",
       "    <tr>\n",
       "      <th>27279</th>\n",
       "      <td>2.978355</td>\n",
       "      <td>4.974843</td>\n",
       "    </tr>\n",
       "    <tr>\n",
       "      <th>27280</th>\n",
       "      <td>0.083196</td>\n",
       "      <td>0.000000</td>\n",
       "    </tr>\n",
       "    <tr>\n",
       "      <th>27281</th>\n",
       "      <td>1.298105</td>\n",
       "      <td>0.000000</td>\n",
       "    </tr>\n",
       "    <tr>\n",
       "      <th>27282</th>\n",
       "      <td>5.089637</td>\n",
       "      <td>5.885770</td>\n",
       "    </tr>\n",
       "    <tr>\n",
       "      <th>27283</th>\n",
       "      <td>1.988684</td>\n",
       "      <td>0.000000</td>\n",
       "    </tr>\n",
       "    <tr>\n",
       "      <th>27284</th>\n",
       "      <td>3.829870</td>\n",
       "      <td>4.974843</td>\n",
       "    </tr>\n",
       "    <tr>\n",
       "      <th>27285</th>\n",
       "      <td>1.214724</td>\n",
       "      <td>4.544373</td>\n",
       "    </tr>\n",
       "    <tr>\n",
       "      <th>27286</th>\n",
       "      <td>0.255341</td>\n",
       "      <td>0.000000</td>\n",
       "    </tr>\n",
       "    <tr>\n",
       "      <th>27287</th>\n",
       "      <td>0.441895</td>\n",
       "      <td>0.000000</td>\n",
       "    </tr>\n",
       "    <tr>\n",
       "      <th>27288</th>\n",
       "      <td>0.083550</td>\n",
       "      <td>0.000000</td>\n",
       "    </tr>\n",
       "    <tr>\n",
       "      <th>27289</th>\n",
       "      <td>0.376098</td>\n",
       "      <td>0.000000</td>\n",
       "    </tr>\n",
       "    <tr>\n",
       "      <th>27290</th>\n",
       "      <td>0.399689</td>\n",
       "      <td>0.000000</td>\n",
       "    </tr>\n",
       "    <tr>\n",
       "      <th>27291</th>\n",
       "      <td>0.164678</td>\n",
       "      <td>0.000000</td>\n",
       "    </tr>\n",
       "    <tr>\n",
       "      <th>27292</th>\n",
       "      <td>1.356495</td>\n",
       "      <td>0.000000</td>\n",
       "    </tr>\n",
       "    <tr>\n",
       "      <th>27293</th>\n",
       "      <td>1.674921</td>\n",
       "      <td>0.000000</td>\n",
       "    </tr>\n",
       "    <tr>\n",
       "      <th>27294</th>\n",
       "      <td>1.361354</td>\n",
       "      <td>0.000000</td>\n",
       "    </tr>\n",
       "    <tr>\n",
       "      <th>27295</th>\n",
       "      <td>0.150644</td>\n",
       "      <td>0.000000</td>\n",
       "    </tr>\n",
       "    <tr>\n",
       "      <th>27296</th>\n",
       "      <td>0.428659</td>\n",
       "      <td>0.000000</td>\n",
       "    </tr>\n",
       "  </tbody>\n",
       "</table>\n",
       "<p>27297 rows × 2 columns</p>\n",
       "</div>"
      ],
      "text/plain": [
       "        predict      real\n",
       "0      3.644095  0.000000\n",
       "1      0.243864  0.000000\n",
       "2      0.448551  0.000000\n",
       "3      2.068521  6.153414\n",
       "4      3.682263  5.781982\n",
       "5      1.645592  4.292651\n",
       "6      0.156728  0.000000\n",
       "7      0.334569  0.000000\n",
       "8      0.231443  0.000000\n",
       "9      1.761627  0.000000\n",
       "10     0.508023  0.000000\n",
       "11     0.053527  0.000000\n",
       "12     3.399758  3.862595\n",
       "13     0.359373  0.000000\n",
       "14     0.116776  0.000000\n",
       "15     0.723352  0.000000\n",
       "16     0.095155  0.000000\n",
       "17     0.620979  5.153538\n",
       "18     2.121665  0.000000\n",
       "19     5.570755  5.722768\n",
       "20     1.708077  0.000000\n",
       "21     2.967343  0.000000\n",
       "22     0.485533  0.000000\n",
       "23     0.643827  0.000000\n",
       "24     1.884107  0.000000\n",
       "25     0.097700  0.000000\n",
       "26     0.272384  0.000000\n",
       "27     0.378273  0.000000\n",
       "28     0.066351  0.000000\n",
       "29     0.316697  0.000000\n",
       "...         ...       ...\n",
       "27267  0.267926  0.000000\n",
       "27268  1.682440  0.000000\n",
       "27269  0.182413  5.722768\n",
       "27270  1.008428  0.000000\n",
       "27271  4.674632  5.455141\n",
       "27272  0.421459  0.000000\n",
       "27273  2.371139  5.052587\n",
       "27274  3.997473  4.974843\n",
       "27275  0.168730  0.000000\n",
       "27276  0.241471  0.000000\n",
       "27277  0.100738  0.000000\n",
       "27278  5.754586  6.189617\n",
       "27279  2.978355  4.974843\n",
       "27280  0.083196  0.000000\n",
       "27281  1.298105  0.000000\n",
       "27282  5.089637  5.885770\n",
       "27283  1.988684  0.000000\n",
       "27284  3.829870  4.974843\n",
       "27285  1.214724  4.544373\n",
       "27286  0.255341  0.000000\n",
       "27287  0.441895  0.000000\n",
       "27288  0.083550  0.000000\n",
       "27289  0.376098  0.000000\n",
       "27290  0.399689  0.000000\n",
       "27291  0.164678  0.000000\n",
       "27292  1.356495  0.000000\n",
       "27293  1.674921  0.000000\n",
       "27294  1.361354  0.000000\n",
       "27295  0.150644  0.000000\n",
       "27296  0.428659  0.000000\n",
       "\n",
       "[27297 rows x 2 columns]"
      ]
     },
     "execution_count": 72,
     "metadata": {},
     "output_type": "execute_result"
    }
   ],
   "source": [
    "ver"
   ]
  },
  {
   "cell_type": "code",
   "execution_count": 76,
   "metadata": {},
   "outputs": [
    {
     "data": {
      "image/png": "[encoded data removed]",
      "text/plain": [
       "<matplotlib.figure.Figure at 0x10e224210>"
      ]
     },
     "metadata": {},
     "output_type": "display_data"
    }
   ],
   "source": [
    "plt.figure(figsize=(12,8))\n",
    "sns.distplot(ver.mae.values, bins=10, kde=False)\n",
    "plt.xlabel('mae', fontsize=12)\n",
    "plt.show()"
   ]
  },
  {
   "cell_type": "code",
   "execution_count": 77,
   "metadata": {},
   "outputs": [
    {
     "data": {
      "image/png": "[encoded data removed]",
      "text/plain": [
       "<matplotlib.figure.Figure at 0x11450eb10>"
      ]
     },
     "metadata": {},
     "output_type": "display_data"
    }
   ],
   "source": [
    "plt.figure(figsize=(12,8))\n",
    "sns.distplot(ver.real.values, bins=10, kde=False)\n",
    "plt.xlabel('real', fontsize=12)\n",
    "plt.show()"
   ]
  },
  {
   "cell_type": "code",
   "execution_count": 78,
   "metadata": {},
   "outputs": [
    {
     "data": {
      "image/png": "[encoded data removed]",
      "text/plain": [
       "<matplotlib.figure.Figure at 0x107c41e10>"
      ]
     },
     "metadata": {},
     "output_type": "display_data"
    }
   ],
   "source": [
    "plt.figure(figsize=(12,8))\n",
    "sns.distplot(ver.predict.values, bins=10, kde=False)\n",
    "plt.xlabel('predict', fontsize=12)\n",
    "plt.show()"
   ]
  },
  {
   "cell_type": "code",
   "execution_count": 69,
   "metadata": {},
   "outputs": [
    {
     "data": {
      "image/png": "[encoded data removed]",
      "text/plain": [
       "<matplotlib.figure.Figure at 0x114242450>"
      ]
     },
     "metadata": {},
     "output_type": "display_data"
    }
   ],
   "source": [
    "plt.figure(figsize=(12,8))\n",
    "sns.distplot(train.target.values, bins=10, kde=False)\n",
    "plt.xlabel('train target', fontsize=12)\n",
    "plt.show()"
   ]
  },
  {
   "cell_type": "code",
   "execution_count": 79,
   "metadata": {
    "collapsed": true
   },
   "outputs": [],
   "source": [
    "def map_res(x, thread):\n",
    "    if x <= thread:\n",
    "        return 0\n",
    "    else:\n",
    "        x"
   ]
  },
  {
   "cell_type": "code",
   "execution_count": 137,
   "metadata": {
    "collapsed": true
   },
   "outputs": [],
   "source": [
    "def using_where(x):\n",
    "    return np.where(x > 2, x, 0)"
   ]
  },
  {
   "cell_type": "code",
   "execution_count": 108,
   "metadata": {
    "collapsed": true
   },
   "outputs": [],
   "source": [
    "xx = np.array([1, 2, 3, 4, 5,0.1])"
   ]
  },
  {
   "cell_type": "code",
   "execution_count": 109,
   "metadata": {
    "collapsed": true
   },
   "outputs": [],
   "source": [
    "squares = np.array([using_where(xi) for xi in xx])"
   ]
  },
  {
   "cell_type": "code",
   "execution_count": 110,
   "metadata": {},
   "outputs": [
    {
     "data": {
      "text/plain": [
       "array([ 0.,  2.,  3.,  4.,  5.,  0.])"
      ]
     },
     "execution_count": 110,
     "metadata": {},
     "output_type": "execute_result"
    }
   ],
   "source": [
    "squares"
   ]
  },
  {
   "cell_type": "code",
   "execution_count": 138,
   "metadata": {
    "collapsed": true
   },
   "outputs": [],
   "source": [
    "valid_pred = mdl.predict(d_valid, ntree_limit = mdl.best_ntree_limit)\n",
    "valid_pred = np.array([using_where(xi) for xi in valid_pred])"
   ]
  },
  {
   "cell_type": "code",
   "execution_count": 139,
   "metadata": {},
   "outputs": [
    {
     "name": "stdout",
     "output_type": "stream",
     "text": [
      "1.89706965912\n"
     ]
    }
   ],
   "source": [
    "        score_this = np.sqrt(mean_squared_error(valid_pred, y_valid))\n",
    "        print(score_this)\n",
    "        scores.append(score_this)"
   ]
  },
  {
   "cell_type": "code",
   "execution_count": 22,
   "metadata": {
    "collapsed": true
   },
   "outputs": [],
   "source": [
    "f1 = '../output/subByLgb20171201_135533qtyfixed.csv'\n",
    "f2 = '../output/subByXgb20171201_153049dowremoved.csv'\n",
    "\n",
    "df1 = pd.read_csv(f1, header=None)\n",
    "df2 = pd.read_csv(f2, header=None)\n",
    "\n"
   ]
  },
  {
   "cell_type": "code",
   "execution_count": 23,
   "metadata": {
    "collapsed": true
   },
   "outputs": [],
   "source": [
    "sub = pd.DataFrame()\n",
    "sub['uid'] = df1[0]\n"
   ]
  },
  {
   "cell_type": "code",
   "execution_count": 24,
   "metadata": {
    "collapsed": true
   },
   "outputs": [],
   "source": [
    "w=0.2\n",
    "sub['target'] = df1[1]*w+df2[1]*(1-w)\n",
    "word=2"
   ]
  },
  {
   "cell_type": "code",
   "execution_count": 25,
   "metadata": {
    "collapsed": true
   },
   "outputs": [],
   "source": [
    "from datetime import datetime\n",
    "sub.loc[sub.target < 0, 'target'] = 0\n",
    "sub.to_csv('../output/' +\"subByLgbXgbAvg{}.csv\".format(word), index=False)"
   ]
  },
  {
   "cell_type": "code",
   "execution_count": 73,
   "metadata": {
    "collapsed": true
   },
   "outputs": [],
   "source": [
    "import numpy as np\n",
    "\n",
    "import pandas as pd\n",
    "\n",
    "\n",
    "INPUT_PATH = '../input/'\n",
    "OUTPUT_PATH = '../output/'"
   ]
  },
  {
   "cell_type": "code",
   "execution_count": 74,
   "metadata": {
    "collapsed": true
   },
   "outputs": [],
   "source": [
    "    users = pd.read_csv(INPUT_PATH + 't_user.csv')\n",
    "    loans = pd.read_csv(INPUT_PATH + 't_loan.csv')\n",
    "\n",
    "        # origin price\n",
    "    loans.loan_amount = 5**loans.loan_amount - 1\n",
    "    users.limit = 5 ** users.limit -1\n",
    "\n",
    "    # loans\n",
    "    loans['Date'] = pd.to_datetime(loans['loan_time'], errors='coerce')\n",
    "    loans['transaction_month'] = loans['Date'].dt.month"
   ]
  },
  {
   "cell_type": "code",
   "execution_count": 75,
   "metadata": {
    "collapsed": true
   },
   "outputs": [],
   "source": [
    "    loans['lam_plan'] = loans['loan_amount'] / loans['plannum']\n",
    "\n",
    "    loans['8_lmp_pay'] = 0\n",
    "    loans['9_lmp_pay'] = 0\n",
    "    loans['10_lmp_pay'] = 0\n",
    "    loans['11_lmp_pay'] = 0\n",
    "\n",
    "    loans['8_lmp_reste'] = 0\n",
    "    loans['9_lmp_reste'] = 0\n",
    "    loans['10_lmp_reste'] = 0\n",
    "    loans['11_lmp_reste'] = 0\n",
    "\n",
    "    loans.loc[loans.transaction_month == 8, '8_lmp_reste'] = loans.loan_amount\n",
    "\n",
    "    loans.loc[loans.transaction_month == 8, '9_lmp_pay'] = loans.lam_plan\n",
    "    loans.loc[(loans.transaction_month == 8) & (loans.plannum>1), '9_lmp_reste'] = (loans.plannum-1) * loans.lam_plan\n",
    "    loans.loc[loans.transaction_month == 9, '9_lmp_reste'] = loans.loan_amount\n",
    "\n",
    "    loans.loc[(loans.transaction_month == 8) & (loans.plannum>1), '10_lmp_pay'] = loans.lam_plan\n",
    "    loans.loc[loans.transaction_month == 9, '10_lmp_pay'] = loans.lam_plan\n",
    "    loans.loc[(loans.transaction_month == 8) & (loans.plannum>2), '10_lmp_reste'] =  (loans.plannum-2) * loans.lam_plan\n",
    "    loans.loc[(loans.transaction_month == 9) & (loans.plannum>1), '10_lmp_reste'] =  (loans.plannum-1) * loans.lam_plan\n",
    "    loans.loc[loans.transaction_month == 10, '10_lmp_reste'] = loans.loan_amount\n",
    "\n",
    "    loans.loc[(loans.transaction_month == 8) & (loans.plannum>2), '11_lmp_pay'] = loans.lam_plan\n",
    "    loans.loc[(loans.transaction_month == 9) & (loans.plannum>1), '11_lmp_pay'] = loans.lam_plan\n",
    "    loans.loc[loans.transaction_month == 10, '11_lmp_pay'] = loans.lam_plan\n",
    "    loans.loc[(loans.transaction_month == 8) & (loans.plannum>3), '11_lmp_reste'] =  (loans.plannum-3) * loans.lam_plan\n",
    "    loans.loc[(loans.transaction_month == 9) & (loans.plannum>2), '11_lmp_reste'] =  (loans.plannum-2) * loans.lam_plan\n",
    "    loans.loc[(loans.transaction_month == 10) & (loans.plannum>1), '11_lmp_reste'] =  (loans.plannum-1) * loans.lam_plan\n",
    "    loans.loc[loans.transaction_month == 11, '11_lmp_reste'] = loans.loan_amount\n",
    "\n",
    "    loans_new = loans.groupby(by=[\"uid\"], as_index=False)[\"8_lmp_pay\",'8_lmp_reste', \"9_lmp_pay\", '9_lmp_reste',\n",
    "    '10_lmp_pay','10_lmp_reste','11_lmp_pay','11_lmp_reste'].sum()"
   ]
  },
  {
   "cell_type": "code",
   "execution_count": 76,
   "metadata": {},
   "outputs": [
    {
     "data": {
      "text/html": [
       "<div>\n",
       "<style>\n",
       "    .dataframe thead tr:only-child th {\n",
       "        text-align: right;\n",
       "    }\n",
       "\n",
       "    .dataframe thead th {\n",
       "        text-align: left;\n",
       "    }\n",
       "\n",
       "    .dataframe tbody tr th {\n",
       "        vertical-align: top;\n",
       "    }\n",
       "</style>\n",
       "<table border=\"1\" class=\"dataframe\">\n",
       "  <thead>\n",
       "    <tr style=\"text-align: right;\">\n",
       "      <th></th>\n",
       "      <th>uid</th>\n",
       "      <th>loan_time</th>\n",
       "      <th>loan_amount</th>\n",
       "      <th>plannum</th>\n",
       "      <th>Date</th>\n",
       "      <th>transaction_month</th>\n",
       "      <th>lam_plan</th>\n",
       "      <th>8_lmp_pay</th>\n",
       "      <th>9_lmp_pay</th>\n",
       "      <th>10_lmp_pay</th>\n",
       "      <th>11_lmp_pay</th>\n",
       "      <th>8_lmp_reste</th>\n",
       "      <th>9_lmp_reste</th>\n",
       "      <th>10_lmp_reste</th>\n",
       "      <th>11_lmp_reste</th>\n",
       "    </tr>\n",
       "  </thead>\n",
       "  <tbody>\n",
       "    <tr>\n",
       "      <th>9</th>\n",
       "      <td>41227</td>\n",
       "      <td>2016-08-03 02:26:52</td>\n",
       "      <td>3500.0</td>\n",
       "      <td>3</td>\n",
       "      <td>2016-08-03 02:26:52</td>\n",
       "      <td>8</td>\n",
       "      <td>1166.666667</td>\n",
       "      <td>0</td>\n",
       "      <td>1166.666667</td>\n",
       "      <td>1166.666667</td>\n",
       "      <td>1166.666667</td>\n",
       "      <td>3500.0</td>\n",
       "      <td>2333.333333</td>\n",
       "      <td>1166.666667</td>\n",
       "      <td>0.0</td>\n",
       "    </tr>\n",
       "    <tr>\n",
       "      <th>463</th>\n",
       "      <td>41227</td>\n",
       "      <td>2016-08-04 14:15:32</td>\n",
       "      <td>500.0</td>\n",
       "      <td>1</td>\n",
       "      <td>2016-08-04 14:15:32</td>\n",
       "      <td>8</td>\n",
       "      <td>500.000000</td>\n",
       "      <td>0</td>\n",
       "      <td>500.000000</td>\n",
       "      <td>0.000000</td>\n",
       "      <td>0.000000</td>\n",
       "      <td>500.0</td>\n",
       "      <td>0.000000</td>\n",
       "      <td>0.000000</td>\n",
       "      <td>0.0</td>\n",
       "    </tr>\n",
       "    <tr>\n",
       "      <th>835</th>\n",
       "      <td>41227</td>\n",
       "      <td>2016-08-05 21:23:12</td>\n",
       "      <td>1500.0</td>\n",
       "      <td>1</td>\n",
       "      <td>2016-08-05 21:23:12</td>\n",
       "      <td>8</td>\n",
       "      <td>1500.000000</td>\n",
       "      <td>0</td>\n",
       "      <td>1500.000000</td>\n",
       "      <td>0.000000</td>\n",
       "      <td>0.000000</td>\n",
       "      <td>1500.0</td>\n",
       "      <td>0.000000</td>\n",
       "      <td>0.000000</td>\n",
       "      <td>0.0</td>\n",
       "    </tr>\n",
       "    <tr>\n",
       "      <th>6615</th>\n",
       "      <td>41227</td>\n",
       "      <td>2016-08-27 00:28:06</td>\n",
       "      <td>1000.0</td>\n",
       "      <td>1</td>\n",
       "      <td>2016-08-27 00:28:06</td>\n",
       "      <td>8</td>\n",
       "      <td>1000.000000</td>\n",
       "      <td>0</td>\n",
       "      <td>1000.000000</td>\n",
       "      <td>0.000000</td>\n",
       "      <td>0.000000</td>\n",
       "      <td>1000.0</td>\n",
       "      <td>0.000000</td>\n",
       "      <td>0.000000</td>\n",
       "      <td>0.0</td>\n",
       "    </tr>\n",
       "    <tr>\n",
       "      <th>34247</th>\n",
       "      <td>41227</td>\n",
       "      <td>2016-08-04 13:01:34</td>\n",
       "      <td>500.0</td>\n",
       "      <td>1</td>\n",
       "      <td>2016-08-04 13:01:34</td>\n",
       "      <td>8</td>\n",
       "      <td>500.000000</td>\n",
       "      <td>0</td>\n",
       "      <td>500.000000</td>\n",
       "      <td>0.000000</td>\n",
       "      <td>0.000000</td>\n",
       "      <td>500.0</td>\n",
       "      <td>0.000000</td>\n",
       "      <td>0.000000</td>\n",
       "      <td>0.0</td>\n",
       "    </tr>\n",
       "    <tr>\n",
       "      <th>71530</th>\n",
       "      <td>41227</td>\n",
       "      <td>2016-08-16 20:28:28</td>\n",
       "      <td>900.0</td>\n",
       "      <td>1</td>\n",
       "      <td>2016-08-16 20:28:28</td>\n",
       "      <td>8</td>\n",
       "      <td>900.000000</td>\n",
       "      <td>0</td>\n",
       "      <td>900.000000</td>\n",
       "      <td>0.000000</td>\n",
       "      <td>0.000000</td>\n",
       "      <td>900.0</td>\n",
       "      <td>0.000000</td>\n",
       "      <td>0.000000</td>\n",
       "      <td>0.0</td>\n",
       "    </tr>\n",
       "    <tr>\n",
       "      <th>71535</th>\n",
       "      <td>41227</td>\n",
       "      <td>2016-08-16 20:36:42</td>\n",
       "      <td>1100.0</td>\n",
       "      <td>1</td>\n",
       "      <td>2016-08-16 20:36:42</td>\n",
       "      <td>8</td>\n",
       "      <td>1100.000000</td>\n",
       "      <td>0</td>\n",
       "      <td>1100.000000</td>\n",
       "      <td>0.000000</td>\n",
       "      <td>0.000000</td>\n",
       "      <td>1100.0</td>\n",
       "      <td>0.000000</td>\n",
       "      <td>0.000000</td>\n",
       "      <td>0.0</td>\n",
       "    </tr>\n",
       "    <tr>\n",
       "      <th>108111</th>\n",
       "      <td>41227</td>\n",
       "      <td>2016-08-27 12:52:43</td>\n",
       "      <td>1000.0</td>\n",
       "      <td>1</td>\n",
       "      <td>2016-08-27 12:52:43</td>\n",
       "      <td>8</td>\n",
       "      <td>1000.000000</td>\n",
       "      <td>0</td>\n",
       "      <td>1000.000000</td>\n",
       "      <td>0.000000</td>\n",
       "      <td>0.000000</td>\n",
       "      <td>1000.0</td>\n",
       "      <td>0.000000</td>\n",
       "      <td>0.000000</td>\n",
       "      <td>0.0</td>\n",
       "    </tr>\n",
       "  </tbody>\n",
       "</table>\n",
       "</div>"
      ],
      "text/plain": [
       "          uid            loan_time  loan_amount  plannum                Date  \\\n",
       "9       41227  2016-08-03 02:26:52       3500.0        3 2016-08-03 02:26:52   \n",
       "463     41227  2016-08-04 14:15:32        500.0        1 2016-08-04 14:15:32   \n",
       "835     41227  2016-08-05 21:23:12       1500.0        1 2016-08-05 21:23:12   \n",
       "6615    41227  2016-08-27 00:28:06       1000.0        1 2016-08-27 00:28:06   \n",
       "34247   41227  2016-08-04 13:01:34        500.0        1 2016-08-04 13:01:34   \n",
       "71530   41227  2016-08-16 20:28:28        900.0        1 2016-08-16 20:28:28   \n",
       "71535   41227  2016-08-16 20:36:42       1100.0        1 2016-08-16 20:36:42   \n",
       "108111  41227  2016-08-27 12:52:43       1000.0        1 2016-08-27 12:52:43   \n",
       "\n",
       "        transaction_month     lam_plan  8_lmp_pay    9_lmp_pay   10_lmp_pay  \\\n",
       "9                       8  1166.666667          0  1166.666667  1166.666667   \n",
       "463                     8   500.000000          0   500.000000     0.000000   \n",
       "835                     8  1500.000000          0  1500.000000     0.000000   \n",
       "6615                    8  1000.000000          0  1000.000000     0.000000   \n",
       "34247                   8   500.000000          0   500.000000     0.000000   \n",
       "71530                   8   900.000000          0   900.000000     0.000000   \n",
       "71535                   8  1100.000000          0  1100.000000     0.000000   \n",
       "108111                  8  1000.000000          0  1000.000000     0.000000   \n",
       "\n",
       "         11_lmp_pay  8_lmp_reste  9_lmp_reste  10_lmp_reste  11_lmp_reste  \n",
       "9       1166.666667       3500.0  2333.333333   1166.666667           0.0  \n",
       "463        0.000000        500.0     0.000000      0.000000           0.0  \n",
       "835        0.000000       1500.0     0.000000      0.000000           0.0  \n",
       "6615       0.000000       1000.0     0.000000      0.000000           0.0  \n",
       "34247      0.000000        500.0     0.000000      0.000000           0.0  \n",
       "71530      0.000000        900.0     0.000000      0.000000           0.0  \n",
       "71535      0.000000       1100.0     0.000000      0.000000           0.0  \n",
       "108111     0.000000       1000.0     0.000000      0.000000           0.0  "
      ]
     },
     "execution_count": 76,
     "metadata": {},
     "output_type": "execute_result"
    }
   ],
   "source": [
    "loans[(loans.uid==41227) & (loans.transaction_month==8)]"
   ]
  },
  {
   "cell_type": "code",
   "execution_count": 78,
   "metadata": {},
   "outputs": [
    {
     "data": {
      "text/html": [
       "<div>\n",
       "<style>\n",
       "    .dataframe thead tr:only-child th {\n",
       "        text-align: right;\n",
       "    }\n",
       "\n",
       "    .dataframe thead th {\n",
       "        text-align: left;\n",
       "    }\n",
       "\n",
       "    .dataframe tbody tr th {\n",
       "        vertical-align: top;\n",
       "    }\n",
       "</style>\n",
       "<table border=\"1\" class=\"dataframe\">\n",
       "  <thead>\n",
       "    <tr style=\"text-align: right;\">\n",
       "      <th></th>\n",
       "      <th>uid</th>\n",
       "      <th>loan_time</th>\n",
       "      <th>loan_amount</th>\n",
       "      <th>plannum</th>\n",
       "      <th>Date</th>\n",
       "      <th>transaction_month</th>\n",
       "      <th>lam_plan</th>\n",
       "      <th>8_lmp_pay</th>\n",
       "      <th>9_lmp_pay</th>\n",
       "      <th>10_lmp_pay</th>\n",
       "      <th>11_lmp_pay</th>\n",
       "      <th>8_lmp_reste</th>\n",
       "      <th>9_lmp_reste</th>\n",
       "      <th>10_lmp_reste</th>\n",
       "      <th>11_lmp_reste</th>\n",
       "    </tr>\n",
       "  </thead>\n",
       "  <tbody>\n",
       "    <tr>\n",
       "      <th>8308</th>\n",
       "      <td>41227</td>\n",
       "      <td>2016-09-01 18:34:03</td>\n",
       "      <td>900.0</td>\n",
       "      <td>1</td>\n",
       "      <td>2016-09-01 18:34:03</td>\n",
       "      <td>9</td>\n",
       "      <td>900.0</td>\n",
       "      <td>0</td>\n",
       "      <td>0.0</td>\n",
       "      <td>900.0</td>\n",
       "      <td>0.0</td>\n",
       "      <td>0.0</td>\n",
       "      <td>900.0</td>\n",
       "      <td>0.0</td>\n",
       "      <td>0.0</td>\n",
       "    </tr>\n",
       "    <tr>\n",
       "      <th>14723</th>\n",
       "      <td>41227</td>\n",
       "      <td>2016-09-22 20:00:43</td>\n",
       "      <td>900.0</td>\n",
       "      <td>1</td>\n",
       "      <td>2016-09-22 20:00:43</td>\n",
       "      <td>9</td>\n",
       "      <td>900.0</td>\n",
       "      <td>0</td>\n",
       "      <td>0.0</td>\n",
       "      <td>900.0</td>\n",
       "      <td>0.0</td>\n",
       "      <td>0.0</td>\n",
       "      <td>900.0</td>\n",
       "      <td>0.0</td>\n",
       "      <td>0.0</td>\n",
       "    </tr>\n",
       "    <tr>\n",
       "      <th>16584</th>\n",
       "      <td>41227</td>\n",
       "      <td>2016-09-29 10:27:12</td>\n",
       "      <td>1000.0</td>\n",
       "      <td>1</td>\n",
       "      <td>2016-09-29 10:27:12</td>\n",
       "      <td>9</td>\n",
       "      <td>1000.0</td>\n",
       "      <td>0</td>\n",
       "      <td>0.0</td>\n",
       "      <td>1000.0</td>\n",
       "      <td>0.0</td>\n",
       "      <td>0.0</td>\n",
       "      <td>1000.0</td>\n",
       "      <td>0.0</td>\n",
       "      <td>0.0</td>\n",
       "    </tr>\n",
       "    <tr>\n",
       "      <th>50744</th>\n",
       "      <td>41227</td>\n",
       "      <td>2016-09-30 20:22:24</td>\n",
       "      <td>1000.0</td>\n",
       "      <td>1</td>\n",
       "      <td>2016-09-30 20:22:24</td>\n",
       "      <td>9</td>\n",
       "      <td>1000.0</td>\n",
       "      <td>0</td>\n",
       "      <td>0.0</td>\n",
       "      <td>1000.0</td>\n",
       "      <td>0.0</td>\n",
       "      <td>0.0</td>\n",
       "      <td>1000.0</td>\n",
       "      <td>0.0</td>\n",
       "      <td>0.0</td>\n",
       "    </tr>\n",
       "    <tr>\n",
       "      <th>110882</th>\n",
       "      <td>41227</td>\n",
       "      <td>2016-09-05 18:07:41</td>\n",
       "      <td>1600.0</td>\n",
       "      <td>1</td>\n",
       "      <td>2016-09-05 18:07:41</td>\n",
       "      <td>9</td>\n",
       "      <td>1600.0</td>\n",
       "      <td>0</td>\n",
       "      <td>0.0</td>\n",
       "      <td>1600.0</td>\n",
       "      <td>0.0</td>\n",
       "      <td>0.0</td>\n",
       "      <td>1600.0</td>\n",
       "      <td>0.0</td>\n",
       "      <td>0.0</td>\n",
       "    </tr>\n",
       "    <tr>\n",
       "      <th>116024</th>\n",
       "      <td>41227</td>\n",
       "      <td>2016-09-22 20:06:39</td>\n",
       "      <td>500.0</td>\n",
       "      <td>1</td>\n",
       "      <td>2016-09-22 20:06:39</td>\n",
       "      <td>9</td>\n",
       "      <td>500.0</td>\n",
       "      <td>0</td>\n",
       "      <td>0.0</td>\n",
       "      <td>500.0</td>\n",
       "      <td>0.0</td>\n",
       "      <td>0.0</td>\n",
       "      <td>500.0</td>\n",
       "      <td>0.0</td>\n",
       "      <td>0.0</td>\n",
       "    </tr>\n",
       "    <tr>\n",
       "      <th>149700</th>\n",
       "      <td>41227</td>\n",
       "      <td>2016-09-22 20:57:59</td>\n",
       "      <td>1000.0</td>\n",
       "      <td>1</td>\n",
       "      <td>2016-09-22 20:57:59</td>\n",
       "      <td>9</td>\n",
       "      <td>1000.0</td>\n",
       "      <td>0</td>\n",
       "      <td>0.0</td>\n",
       "      <td>1000.0</td>\n",
       "      <td>0.0</td>\n",
       "      <td>0.0</td>\n",
       "      <td>1000.0</td>\n",
       "      <td>0.0</td>\n",
       "      <td>0.0</td>\n",
       "    </tr>\n",
       "    <tr>\n",
       "      <th>181528</th>\n",
       "      <td>41227</td>\n",
       "      <td>2016-09-15 20:17:20</td>\n",
       "      <td>1000.0</td>\n",
       "      <td>1</td>\n",
       "      <td>2016-09-15 20:17:20</td>\n",
       "      <td>9</td>\n",
       "      <td>1000.0</td>\n",
       "      <td>0</td>\n",
       "      <td>0.0</td>\n",
       "      <td>1000.0</td>\n",
       "      <td>0.0</td>\n",
       "      <td>0.0</td>\n",
       "      <td>1000.0</td>\n",
       "      <td>0.0</td>\n",
       "      <td>0.0</td>\n",
       "    </tr>\n",
       "  </tbody>\n",
       "</table>\n",
       "</div>"
      ],
      "text/plain": [
       "          uid            loan_time  loan_amount  plannum                Date  \\\n",
       "8308    41227  2016-09-01 18:34:03        900.0        1 2016-09-01 18:34:03   \n",
       "14723   41227  2016-09-22 20:00:43        900.0        1 2016-09-22 20:00:43   \n",
       "16584   41227  2016-09-29 10:27:12       1000.0        1 2016-09-29 10:27:12   \n",
       "50744   41227  2016-09-30 20:22:24       1000.0        1 2016-09-30 20:22:24   \n",
       "110882  41227  2016-09-05 18:07:41       1600.0        1 2016-09-05 18:07:41   \n",
       "116024  41227  2016-09-22 20:06:39        500.0        1 2016-09-22 20:06:39   \n",
       "149700  41227  2016-09-22 20:57:59       1000.0        1 2016-09-22 20:57:59   \n",
       "181528  41227  2016-09-15 20:17:20       1000.0        1 2016-09-15 20:17:20   \n",
       "\n",
       "        transaction_month  lam_plan  8_lmp_pay  9_lmp_pay  10_lmp_pay  \\\n",
       "8308                    9     900.0          0        0.0       900.0   \n",
       "14723                   9     900.0          0        0.0       900.0   \n",
       "16584                   9    1000.0          0        0.0      1000.0   \n",
       "50744                   9    1000.0          0        0.0      1000.0   \n",
       "110882                  9    1600.0          0        0.0      1600.0   \n",
       "116024                  9     500.0          0        0.0       500.0   \n",
       "149700                  9    1000.0          0        0.0      1000.0   \n",
       "181528                  9    1000.0          0        0.0      1000.0   \n",
       "\n",
       "        11_lmp_pay  8_lmp_reste  9_lmp_reste  10_lmp_reste  11_lmp_reste  \n",
       "8308           0.0          0.0        900.0           0.0           0.0  \n",
       "14723          0.0          0.0        900.0           0.0           0.0  \n",
       "16584          0.0          0.0       1000.0           0.0           0.0  \n",
       "50744          0.0          0.0       1000.0           0.0           0.0  \n",
       "110882         0.0          0.0       1600.0           0.0           0.0  \n",
       "116024         0.0          0.0        500.0           0.0           0.0  \n",
       "149700         0.0          0.0       1000.0           0.0           0.0  \n",
       "181528         0.0          0.0       1000.0           0.0           0.0  "
      ]
     },
     "execution_count": 78,
     "metadata": {},
     "output_type": "execute_result"
    }
   ],
   "source": [
    "loans[(loans.uid==41227) & (loans.transaction_month==9)]"
   ]
  },
  {
   "cell_type": "code",
   "execution_count": 79,
   "metadata": {},
   "outputs": [
    {
     "data": {
      "text/html": [
       "<div>\n",
       "<style>\n",
       "    .dataframe thead tr:only-child th {\n",
       "        text-align: right;\n",
       "    }\n",
       "\n",
       "    .dataframe thead th {\n",
       "        text-align: left;\n",
       "    }\n",
       "\n",
       "    .dataframe tbody tr th {\n",
       "        vertical-align: top;\n",
       "    }\n",
       "</style>\n",
       "<table border=\"1\" class=\"dataframe\">\n",
       "  <thead>\n",
       "    <tr style=\"text-align: right;\">\n",
       "      <th></th>\n",
       "      <th>uid</th>\n",
       "      <th>loan_time</th>\n",
       "      <th>loan_amount</th>\n",
       "      <th>plannum</th>\n",
       "      <th>Date</th>\n",
       "      <th>transaction_month</th>\n",
       "      <th>lam_plan</th>\n",
       "      <th>8_lmp_pay</th>\n",
       "      <th>9_lmp_pay</th>\n",
       "      <th>10_lmp_pay</th>\n",
       "      <th>11_lmp_pay</th>\n",
       "      <th>8_lmp_reste</th>\n",
       "      <th>9_lmp_reste</th>\n",
       "      <th>10_lmp_reste</th>\n",
       "      <th>11_lmp_reste</th>\n",
       "    </tr>\n",
       "  </thead>\n",
       "  <tbody>\n",
       "    <tr>\n",
       "      <th>18496</th>\n",
       "      <td>41227</td>\n",
       "      <td>2016-10-05 17:06:29</td>\n",
       "      <td>500.0</td>\n",
       "      <td>1</td>\n",
       "      <td>2016-10-05 17:06:29</td>\n",
       "      <td>10</td>\n",
       "      <td>500.000000</td>\n",
       "      <td>0</td>\n",
       "      <td>0.0</td>\n",
       "      <td>0.0</td>\n",
       "      <td>500.000000</td>\n",
       "      <td>0.0</td>\n",
       "      <td>0.0</td>\n",
       "      <td>500.0</td>\n",
       "      <td>0.000000</td>\n",
       "    </tr>\n",
       "    <tr>\n",
       "      <th>57264</th>\n",
       "      <td>41227</td>\n",
       "      <td>2016-10-22 11:09:30</td>\n",
       "      <td>1000.0</td>\n",
       "      <td>1</td>\n",
       "      <td>2016-10-22 11:09:30</td>\n",
       "      <td>10</td>\n",
       "      <td>1000.000000</td>\n",
       "      <td>0</td>\n",
       "      <td>0.0</td>\n",
       "      <td>0.0</td>\n",
       "      <td>1000.000000</td>\n",
       "      <td>0.0</td>\n",
       "      <td>0.0</td>\n",
       "      <td>1000.0</td>\n",
       "      <td>0.000000</td>\n",
       "    </tr>\n",
       "    <tr>\n",
       "      <th>85709</th>\n",
       "      <td>41227</td>\n",
       "      <td>2016-10-04 14:29:17</td>\n",
       "      <td>1000.0</td>\n",
       "      <td>1</td>\n",
       "      <td>2016-10-04 14:29:17</td>\n",
       "      <td>10</td>\n",
       "      <td>1000.000000</td>\n",
       "      <td>0</td>\n",
       "      <td>0.0</td>\n",
       "      <td>0.0</td>\n",
       "      <td>1000.000000</td>\n",
       "      <td>0.0</td>\n",
       "      <td>0.0</td>\n",
       "      <td>1000.0</td>\n",
       "      <td>0.000000</td>\n",
       "    </tr>\n",
       "    <tr>\n",
       "      <th>153901</th>\n",
       "      <td>41227</td>\n",
       "      <td>2016-10-06 17:31:08</td>\n",
       "      <td>500.0</td>\n",
       "      <td>1</td>\n",
       "      <td>2016-10-06 17:31:08</td>\n",
       "      <td>10</td>\n",
       "      <td>500.000000</td>\n",
       "      <td>0</td>\n",
       "      <td>0.0</td>\n",
       "      <td>0.0</td>\n",
       "      <td>500.000000</td>\n",
       "      <td>0.0</td>\n",
       "      <td>0.0</td>\n",
       "      <td>500.0</td>\n",
       "      <td>0.000000</td>\n",
       "    </tr>\n",
       "    <tr>\n",
       "      <th>187179</th>\n",
       "      <td>41227</td>\n",
       "      <td>2016-10-04 11:42:59</td>\n",
       "      <td>1000.0</td>\n",
       "      <td>3</td>\n",
       "      <td>2016-10-04 11:42:59</td>\n",
       "      <td>10</td>\n",
       "      <td>333.333333</td>\n",
       "      <td>0</td>\n",
       "      <td>0.0</td>\n",
       "      <td>0.0</td>\n",
       "      <td>333.333333</td>\n",
       "      <td>0.0</td>\n",
       "      <td>0.0</td>\n",
       "      <td>1000.0</td>\n",
       "      <td>666.666667</td>\n",
       "    </tr>\n",
       "  </tbody>\n",
       "</table>\n",
       "</div>"
      ],
      "text/plain": [
       "          uid            loan_time  loan_amount  plannum                Date  \\\n",
       "18496   41227  2016-10-05 17:06:29        500.0        1 2016-10-05 17:06:29   \n",
       "57264   41227  2016-10-22 11:09:30       1000.0        1 2016-10-22 11:09:30   \n",
       "85709   41227  2016-10-04 14:29:17       1000.0        1 2016-10-04 14:29:17   \n",
       "153901  41227  2016-10-06 17:31:08        500.0        1 2016-10-06 17:31:08   \n",
       "187179  41227  2016-10-04 11:42:59       1000.0        3 2016-10-04 11:42:59   \n",
       "\n",
       "        transaction_month     lam_plan  8_lmp_pay  9_lmp_pay  10_lmp_pay  \\\n",
       "18496                  10   500.000000          0        0.0         0.0   \n",
       "57264                  10  1000.000000          0        0.0         0.0   \n",
       "85709                  10  1000.000000          0        0.0         0.0   \n",
       "153901                 10   500.000000          0        0.0         0.0   \n",
       "187179                 10   333.333333          0        0.0         0.0   \n",
       "\n",
       "         11_lmp_pay  8_lmp_reste  9_lmp_reste  10_lmp_reste  11_lmp_reste  \n",
       "18496    500.000000          0.0          0.0         500.0      0.000000  \n",
       "57264   1000.000000          0.0          0.0        1000.0      0.000000  \n",
       "85709   1000.000000          0.0          0.0        1000.0      0.000000  \n",
       "153901   500.000000          0.0          0.0         500.0      0.000000  \n",
       "187179   333.333333          0.0          0.0        1000.0    666.666667  "
      ]
     },
     "execution_count": 79,
     "metadata": {},
     "output_type": "execute_result"
    }
   ],
   "source": [
    "loans[(loans.uid==41227) & (loans.transaction_month==10)]"
   ]
  },
  {
   "cell_type": "code",
   "execution_count": 80,
   "metadata": {},
   "outputs": [
    {
     "data": {
      "text/html": [
       "<div>\n",
       "<style>\n",
       "    .dataframe thead tr:only-child th {\n",
       "        text-align: right;\n",
       "    }\n",
       "\n",
       "    .dataframe thead th {\n",
       "        text-align: left;\n",
       "    }\n",
       "\n",
       "    .dataframe tbody tr th {\n",
       "        vertical-align: top;\n",
       "    }\n",
       "</style>\n",
       "<table border=\"1\" class=\"dataframe\">\n",
       "  <thead>\n",
       "    <tr style=\"text-align: right;\">\n",
       "      <th></th>\n",
       "      <th>uid</th>\n",
       "      <th>loan_time</th>\n",
       "      <th>loan_amount</th>\n",
       "      <th>plannum</th>\n",
       "      <th>Date</th>\n",
       "      <th>transaction_month</th>\n",
       "      <th>lam_plan</th>\n",
       "      <th>8_lmp_pay</th>\n",
       "      <th>9_lmp_pay</th>\n",
       "      <th>10_lmp_pay</th>\n",
       "      <th>11_lmp_pay</th>\n",
       "      <th>8_lmp_reste</th>\n",
       "      <th>9_lmp_reste</th>\n",
       "      <th>10_lmp_reste</th>\n",
       "      <th>11_lmp_reste</th>\n",
       "    </tr>\n",
       "  </thead>\n",
       "  <tbody>\n",
       "    <tr>\n",
       "      <th>127808</th>\n",
       "      <td>41227</td>\n",
       "      <td>2016-11-04 12:33:59</td>\n",
       "      <td>2500.0</td>\n",
       "      <td>1</td>\n",
       "      <td>2016-11-04 12:33:59</td>\n",
       "      <td>11</td>\n",
       "      <td>2500.0</td>\n",
       "      <td>0</td>\n",
       "      <td>0.0</td>\n",
       "      <td>0.0</td>\n",
       "      <td>0.0</td>\n",
       "      <td>0.0</td>\n",
       "      <td>0.0</td>\n",
       "      <td>0.0</td>\n",
       "      <td>2500.0</td>\n",
       "    </tr>\n",
       "  </tbody>\n",
       "</table>\n",
       "</div>"
      ],
      "text/plain": [
       "          uid            loan_time  loan_amount  plannum                Date  \\\n",
       "127808  41227  2016-11-04 12:33:59       2500.0        1 2016-11-04 12:33:59   \n",
       "\n",
       "        transaction_month  lam_plan  8_lmp_pay  9_lmp_pay  10_lmp_pay  \\\n",
       "127808                 11    2500.0          0        0.0         0.0   \n",
       "\n",
       "        11_lmp_pay  8_lmp_reste  9_lmp_reste  10_lmp_reste  11_lmp_reste  \n",
       "127808         0.0          0.0          0.0           0.0        2500.0  "
      ]
     },
     "execution_count": 80,
     "metadata": {},
     "output_type": "execute_result"
    }
   ],
   "source": [
    "loans[(loans.uid==41227) & (loans.transaction_month==11)]"
   ]
  },
  {
   "cell_type": "code",
   "execution_count": 77,
   "metadata": {},
   "outputs": [
    {
     "data": {
      "text/html": [
       "<div>\n",
       "<style>\n",
       "    .dataframe thead tr:only-child th {\n",
       "        text-align: right;\n",
       "    }\n",
       "\n",
       "    .dataframe thead th {\n",
       "        text-align: left;\n",
       "    }\n",
       "\n",
       "    .dataframe tbody tr th {\n",
       "        vertical-align: top;\n",
       "    }\n",
       "</style>\n",
       "<table border=\"1\" class=\"dataframe\">\n",
       "  <thead>\n",
       "    <tr style=\"text-align: right;\">\n",
       "      <th></th>\n",
       "      <th>uid</th>\n",
       "      <th>8_lmp_pay</th>\n",
       "      <th>8_lmp_reste</th>\n",
       "      <th>9_lmp_pay</th>\n",
       "      <th>9_lmp_reste</th>\n",
       "      <th>10_lmp_pay</th>\n",
       "      <th>10_lmp_reste</th>\n",
       "      <th>11_lmp_pay</th>\n",
       "      <th>11_lmp_reste</th>\n",
       "    </tr>\n",
       "  </thead>\n",
       "  <tbody>\n",
       "    <tr>\n",
       "      <th>16505</th>\n",
       "      <td>41227</td>\n",
       "      <td>0</td>\n",
       "      <td>10000.0</td>\n",
       "      <td>7666.666667</td>\n",
       "      <td>10233.333333</td>\n",
       "      <td>9066.666667</td>\n",
       "      <td>5166.666667</td>\n",
       "      <td>4500.0</td>\n",
       "      <td>3166.666667</td>\n",
       "    </tr>\n",
       "  </tbody>\n",
       "</table>\n",
       "</div>"
      ],
      "text/plain": [
       "         uid  8_lmp_pay  8_lmp_reste    9_lmp_pay   9_lmp_reste   10_lmp_pay  \\\n",
       "16505  41227          0      10000.0  7666.666667  10233.333333  9066.666667   \n",
       "\n",
       "       10_lmp_reste  11_lmp_pay  11_lmp_reste  \n",
       "16505   5166.666667      4500.0   3166.666667  "
      ]
     },
     "execution_count": 77,
     "metadata": {},
     "output_type": "execute_result"
    }
   ],
   "source": [
    "loans_new[loans_new.uid==41227]"
   ]
  },
  {
   "cell_type": "code",
   "execution_count": 28,
   "metadata": {},
   "outputs": [
    {
     "data": {
      "text/plain": [
       "1     109041\n",
       "12     45759\n",
       "6      29706\n",
       "3      18396\n",
       "Name: plannum, dtype: int64"
      ]
     },
     "execution_count": 28,
     "metadata": {},
     "output_type": "execute_result"
    }
   ],
   "source": [
    "loans.plannum.value_counts()"
   ]
  },
  {
   "cell_type": "code",
   "execution_count": 82,
   "metadata": {
    "collapsed": true
   },
   "outputs": [],
   "source": [
    "    user_info = pd.read_csv(OUTPUT_PATH + 'user_info.csv')\n",
    "    lap = pd.read_csv(OUTPUT_PATH +\"loan_pay_next.csv\")\n",
    "    #add loan amount pay next month\n",
    "    user_info = user_info.merge(lap,how='left', on=\"uid\")"
   ]
  },
  {
   "cell_type": "code",
   "execution_count": 89,
   "metadata": {},
   "outputs": [
    {
     "data": {
      "text/html": [
       "<div>\n",
       "<style>\n",
       "    .dataframe thead tr:only-child th {\n",
       "        text-align: right;\n",
       "    }\n",
       "\n",
       "    .dataframe thead th {\n",
       "        text-align: left;\n",
       "    }\n",
       "\n",
       "    .dataframe tbody tr th {\n",
       "        vertical-align: top;\n",
       "    }\n",
       "</style>\n",
       "<table border=\"1\" class=\"dataframe\">\n",
       "  <thead>\n",
       "    <tr style=\"text-align: right;\">\n",
       "      <th></th>\n",
       "      <th>8_lmp_pay</th>\n",
       "      <th>8_lmp_reste</th>\n",
       "      <th>9_lmp_pay</th>\n",
       "      <th>9_lmp_reste</th>\n",
       "      <th>10_lmp_pay</th>\n",
       "      <th>10_lmp_reste</th>\n",
       "      <th>11_lmp_pay</th>\n",
       "      <th>11_lmp_reste</th>\n",
       "    </tr>\n",
       "  </thead>\n",
       "  <tbody>\n",
       "    <tr>\n",
       "      <th>61797</th>\n",
       "      <td>0.0</td>\n",
       "      <td>10000.0</td>\n",
       "      <td>7666.666667</td>\n",
       "      <td>10233.333333</td>\n",
       "      <td>9066.666667</td>\n",
       "      <td>5166.666667</td>\n",
       "      <td>4500.0</td>\n",
       "      <td>3166.666667</td>\n",
       "    </tr>\n",
       "  </tbody>\n",
       "</table>\n",
       "</div>"
      ],
      "text/plain": [
       "       8_lmp_pay  8_lmp_reste    9_lmp_pay   9_lmp_reste   10_lmp_pay  \\\n",
       "61797        0.0      10000.0  7666.666667  10233.333333  9066.666667   \n",
       "\n",
       "       10_lmp_reste  11_lmp_pay  11_lmp_reste  \n",
       "61797   5166.666667      4500.0   3166.666667  "
      ]
     },
     "execution_count": 89,
     "metadata": {},
     "output_type": "execute_result"
    }
   ],
   "source": [
    "user_info[user_info.uid==41227][[\"8_lmp_pay\",'8_lmp_reste', \"9_lmp_pay\", '9_lmp_reste',\n",
    "    '10_lmp_pay','10_lmp_reste','11_lmp_pay','11_lmp_reste']]"
   ]
  },
  {
   "cell_type": "code",
   "execution_count": 1,
   "metadata": {},
   "outputs": [
    {
     "ename": "NameError",
     "evalue": "name 'loans' is not defined",
     "output_type": "error",
     "traceback": [
      "\u001b[0;31m---------------------------------------------------------------------------\u001b[0m",
      "\u001b[0;31mNameError\u001b[0m                                 Traceback (most recent call last)",
      "\u001b[0;32m<ipython-input-1-1e31ae100955>\u001b[0m in \u001b[0;36m<module>\u001b[0;34m()\u001b[0m\n\u001b[0;32m----> 1\u001b[0;31m \u001b[0mloans_date\u001b[0m \u001b[0;34m=\u001b[0m \u001b[0mloans\u001b[0m\u001b[0;34m.\u001b[0m\u001b[0mgroupby\u001b[0m\u001b[0;34m(\u001b[0m\u001b[0mby\u001b[0m\u001b[0;34m=\u001b[0m\u001b[0;34m[\u001b[0m\u001b[0;34m\"uid\"\u001b[0m\u001b[0;34m,\u001b[0m \u001b[0;34m\"transaction_month\"\u001b[0m\u001b[0;34m]\u001b[0m\u001b[0;34m,\u001b[0m \u001b[0mas_index\u001b[0m\u001b[0;34m=\u001b[0m\u001b[0mFalse\u001b[0m\u001b[0;34m)\u001b[0m\u001b[0;34m[\u001b[0m\u001b[0;34m'loan_amount'\u001b[0m\u001b[0;34m,\u001b[0m\u001b[0;34m'plannum'\u001b[0m\u001b[0;34m]\u001b[0m\u001b[0;34m.\u001b[0m\u001b[0mmedian\u001b[0m\u001b[0;34m(\u001b[0m\u001b[0;34m)\u001b[0m\u001b[0;34m\u001b[0m\u001b[0m\n\u001b[0m\u001b[1;32m      2\u001b[0m \u001b[0mloans_date\u001b[0m \u001b[0;34m=\u001b[0m \u001b[0mloans_date\u001b[0m\u001b[0;34m.\u001b[0m\u001b[0mpivot_table\u001b[0m\u001b[0;34m(\u001b[0m\u001b[0;34m[\u001b[0m\u001b[0;34m'loan_day_active'\u001b[0m\u001b[0;34m]\u001b[0m\u001b[0;34m,\u001b[0m \u001b[0;34m[\u001b[0m\u001b[0;34m'uid'\u001b[0m\u001b[0;34m]\u001b[0m\u001b[0;34m,\u001b[0m \u001b[0;34m'transaction_month'\u001b[0m\u001b[0;34m,\u001b[0m \u001b[0mfill_value\u001b[0m\u001b[0;34m=\u001b[0m\u001b[0;36m0\u001b[0m\u001b[0;34m)\u001b[0m\u001b[0;34m\u001b[0m\u001b[0m\n\u001b[1;32m      3\u001b[0m \u001b[0mloans_date\u001b[0m\u001b[0;34m.\u001b[0m\u001b[0mreset_index\u001b[0m\u001b[0;34m(\u001b[0m\u001b[0mdrop\u001b[0m\u001b[0;34m=\u001b[0m\u001b[0mFalse\u001b[0m\u001b[0;34m,\u001b[0m \u001b[0minplace\u001b[0m\u001b[0;34m=\u001b[0m\u001b[0mTrue\u001b[0m\u001b[0;34m)\u001b[0m\u001b[0;34m\u001b[0m\u001b[0m\n\u001b[1;32m      4\u001b[0m \u001b[0mloans_date\u001b[0m\u001b[0;34m.\u001b[0m\u001b[0mcolumns\u001b[0m \u001b[0;34m=\u001b[0m \u001b[0;34m[\u001b[0m\u001b[0;34m'{}_{}'\u001b[0m\u001b[0;34m.\u001b[0m\u001b[0mformat\u001b[0m\u001b[0;34m(\u001b[0m\u001b[0mi\u001b[0m\u001b[0;34m[\u001b[0m\u001b[0;36m1\u001b[0m\u001b[0;34m]\u001b[0m\u001b[0;34m,\u001b[0m \u001b[0mi\u001b[0m\u001b[0;34m[\u001b[0m\u001b[0;36m0\u001b[0m\u001b[0;34m]\u001b[0m\u001b[0;34m)\u001b[0m \u001b[0;32mfor\u001b[0m \u001b[0mi\u001b[0m \u001b[0;32min\u001b[0m \u001b[0mloans_date\u001b[0m\u001b[0;34m.\u001b[0m\u001b[0mcolumns\u001b[0m\u001b[0;34m]\u001b[0m\u001b[0;34m\u001b[0m\u001b[0m\n\u001b[1;32m      5\u001b[0m \u001b[0mloans_date\u001b[0m \u001b[0;34m=\u001b[0m \u001b[0mloans_date\u001b[0m\u001b[0;34m.\u001b[0m\u001b[0mrename\u001b[0m\u001b[0;34m(\u001b[0m\u001b[0mindex\u001b[0m\u001b[0;34m=\u001b[0m\u001b[0mstr\u001b[0m\u001b[0;34m,\u001b[0m \u001b[0mcolumns\u001b[0m\u001b[0;34m=\u001b[0m\u001b[0;34m{\u001b[0m\u001b[0;34m\"_uid\"\u001b[0m\u001b[0;34m:\u001b[0m \u001b[0;34m\"uid\"\u001b[0m\u001b[0;34m}\u001b[0m\u001b[0;34m)\u001b[0m\u001b[0;34m\u001b[0m\u001b[0m\n",
      "\u001b[0;31mNameError\u001b[0m: name 'loans' is not defined"
     ]
    }
   ],
   "source": [
    "    loans_date = loans.groupby(by=[\"uid\", \"transaction_month\"], as_index=False)['loan_amount','plannum'].median()\n",
    "    loans_date = loans_date.pivot_table(['loan_day_active'], ['uid'], 'transaction_month', fill_value=0)\n",
    "    loans_date.reset_index(drop=False, inplace=True)\n",
    "    loans_date.columns = ['{}_{}'.format(i[1], i[0]) for i in loans_date.columns]\n",
    "    loans_date = loans_date.rename(index=str, columns={\"_uid\": \"uid\"})"
   ]
  },
  {
   "cell_type": "code",
   "execution_count": null,
   "metadata": {
    "collapsed": true
   },
   "outputs": [],
   "source": []
  }
 ],
 "metadata": {
  "kernelspec": {
   "display_name": "Python 2",
   "language": "python",
   "name": "python2"
  },
  "language_info": {
   "codemirror_mode": {
    "name": "ipython",
    "version": 2
   },
   "file_extension": ".py",
   "mimetype": "text/x-python",
   "name": "python",
   "nbconvert_exporter": "python",
   "pygments_lexer": "ipython2",
   "version": "2.7.10"
  }
 },
 "nbformat": 4,
 "nbformat_minor": 2
}
