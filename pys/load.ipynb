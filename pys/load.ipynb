{
 "cells": [
  {
   "cell_type": "code",
   "execution_count": 50,
   "metadata": {
    "collapsed": true
   },
   "outputs": [],
   "source": [
    "import pandas as pd\n",
    "import numpy as np"
   ]
  },
  {
   "cell_type": "code",
   "execution_count": 51,
   "metadata": {
    "collapsed": true
   },
   "outputs": [],
   "source": [
    "INPUT_PATH = '../input/'\n",
    "OUTPUT_PATH = '../output/'\n",
    "\n",
    "# users = pd.read_csv(INPUT_PATH + 't_user.csv')\n",
    "# orders = pd.read_csv(INPUT_PATH + 't_order.csv')\n",
    "# loans = pd.read_csv(INPUT_PATH + 't_loan.csv')\n",
    "# loans_sum = pd.read_csv(INPUT_PATH + 't_loan_sum.csv')\n",
    "# clicks = pd.read_csv(INPUT_PATH + 't_click.csv')\n",
    "\n",
    "# loans.loan_amount = 5**loans.loan_amount\n",
    "# loans_sum.loan_sum  = 5 ** loans_sum.loan_sum"
   ]
  },
  {
   "cell_type": "code",
   "execution_count": 63,
   "metadata": {
    "collapsed": true
   },
   "outputs": [],
   "source": [
    "def load_data() :\n",
    "\n",
    "\tusers = pd.read_csv(INPUT_PATH + 't_user.csv')\n",
    "\torders = pd.read_csv(INPUT_PATH + 't_order.csv')\n",
    "\tloans = pd.read_csv(INPUT_PATH + 't_loan.csv')\n",
    "\tloans_sum = pd.read_csv(INPUT_PATH + 't_loan_sum.csv')\n",
    "\tclicks = pd.read_csv(INPUT_PATH + 't_click.csv')\n",
    "\n",
    "\t# origin price\n",
    "\tloans.loan_amount = 5**loans.loan_amount\n",
    "\tloans_sum.loan_sum  = 5 ** loans_sum.loan_sum\n",
    "\torders.price = 5 ** orders.price\n",
    "\torders.discount = 5 ** orders.discount \n",
    "\tusers.limit = 5 ** users.limit\n",
    "\n",
    "\t#loans\t \n",
    "\t#data to month\n",
    "\tloans['Date'] = pd.to_datetime(loans['loan_time'], errors='coerce')\n",
    "\tloans['transaction_month'] = loans['Date'].dt.month\n",
    "\t#fill nan with 0\n",
    "\tloans[\"loan_count\"] = 1\n",
    "\tloans.loan_amount = loans.loan_amount.fillna(0)\n",
    "\n",
    "\tloans_new = loans.groupby(by=[\"uid\",\"transaction_month\"], as_index=False)[\"loan_amount\",\"loan_count\"].sum()\n",
    "\tloans_new = loans_new.pivot_table(['loan_amount',\"loan_count\"], ['uid'], 'transaction_month', fill_value=0)\n",
    "\tloans_new.reset_index( drop=False, inplace=True )\n",
    "\tloans_new.columns = ['{}_{}'.format(i[1], i[0]) for i in loans_new.columns]\n",
    "\tloans_new = loans_new.rename(index=str, columns={\"_uid\": \"uid\"})\n",
    "\n",
    "\n",
    "\t#orders\n",
    "\torders['Date'] = pd.to_datetime(orders['buy_time'], errors='coerce')\n",
    "\torders['transaction_month'] = orders['Date'].dt.month\n",
    "\torders[\"comsume_count\"] = 1\n",
    "\n",
    "\torders[\"consume_amount\"] = orders[\"price\"]*orders[\"qty\"]-orders[\"discount\"]\n",
    "\torders.consume_amount = orders.consume_amount.fillna(0)\n",
    "\n",
    "\torders_new = orders.groupby(by=[\"uid\",\"transaction_month\"], as_index=False)[\"consume_amount\",\"comsume_count\"].sum()\n",
    "\torders_new = orders_new.pivot_table(['consume_amount',\"comsume_count\"], ['uid'], 'transaction_month', fill_value=0)\n",
    "\torders_new.reset_index( drop=False, inplace=True )\n",
    "\torders_new.columns = ['{}_{}'.format(i[1], i[0]) for i in orders_new.columns]\n",
    "\torders_new = orders_new.rename(index=str, columns={\"_uid\": \"uid\"})\n",
    "\n",
    "\tclicks['Date'] = pd.to_datetime(clicks['click_time'], errors='coerce')\n",
    "\tclicks['transaction_month'] = clicks['Date'].dt.month\n",
    "\tclicks[\"click_count\"] = 1\n",
    "\tclicks_new = clicks.groupby(by=[\"uid\",\"transaction_month\"], as_index=False)[\"click_count\"].sum()\n",
    "\tclicks_new = clicks_new.pivot_table('click_count', ['uid'], 'transaction_month', fill_value=0)\n",
    "\tclicks_new.reset_index( drop=False, inplace=True )\n",
    "\tclicks_new = clicks_new.rename(index=str, columns={8: \"click_count_8\", 9: \"click_count_9\", 10 : \"click_count_10\", 11 : \"click_count_11\"})\n",
    "\n",
    "\treturn users, orders_new, loans_new, loans_sum, clicks_new\n"
   ]
  },
  {
   "cell_type": "code",
   "execution_count": 64,
   "metadata": {},
   "outputs": [],
   "source": [
    "users, orders, loans, loan_sum, clicks = load_data()"
   ]
  },
  {
   "cell_type": "code",
   "execution_count": 68,
   "metadata": {},
   "outputs": [],
   "source": [
    "users_orders = users.merge(orders ,how='left', on=\"uid\")\n",
    "users_orders_loans = users_orders.merge(loans ,how='left', on=\"uid\")\n",
    "user_info = users_orders_loans.merge(clicks ,how='left', on=\"uid\")"
   ]
  },
  {
   "cell_type": "code",
   "execution_count": 70,
   "metadata": {},
   "outputs": [
    {
     "data": {
      "text/plain": [
       "['uid',\n",
       " 'age',\n",
       " 'sex',\n",
       " 'active_date',\n",
       " 'limit',\n",
       " '8_comsume_count',\n",
       " '9_comsume_count',\n",
       " '10_comsume_count',\n",
       " '11_comsume_count',\n",
       " '8_consume_amount',\n",
       " '9_consume_amount',\n",
       " '10_consume_amount',\n",
       " '11_consume_amount',\n",
       " '8_loan_amount',\n",
       " '9_loan_amount',\n",
       " '10_loan_amount',\n",
       " '11_loan_amount',\n",
       " '8_loan_count',\n",
       " '9_loan_count',\n",
       " '10_loan_count',\n",
       " '11_loan_count',\n",
       " 'click_count_8',\n",
       " 'click_count_9',\n",
       " 'click_count_10',\n",
       " 'click_count_11']"
      ]
     },
     "execution_count": 70,
     "metadata": {},
     "output_type": "execute_result"
    }
   ],
   "source": [
    "list(user_info)"
   ]
  },
  {
   "cell_type": "code",
   "execution_count": null,
   "metadata": {
    "collapsed": true
   },
   "outputs": [],
   "source": []
  }
 ],
 "metadata": {
  "kernelspec": {
   "display_name": "Python 2",
   "language": "python",
   "name": "python2"
  },
  "language_info": {
   "codemirror_mode": {
    "name": "ipython",
    "version": 2
   },
   "file_extension": ".py",
   "mimetype": "text/x-python",
   "name": "python",
   "nbconvert_exporter": "python",
   "pygments_lexer": "ipython2",
   "version": "2.7.10"
  }
 },
 "nbformat": 4,
 "nbformat_minor": 2
}
