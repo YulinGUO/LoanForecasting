{
 "cells": [
  {
   "cell_type": "code",
   "execution_count": 17,
   "metadata": {},
   "outputs": [],
   "source": [
    "import numpy as np\n",
    "\n",
    "import pandas as pd\n",
    "\n",
    "from sklearn.model_selection import KFold\n",
    "\n",
    "from sklearn.metrics import mean_squared_error\n",
    "\n",
    "import xgboost as xgb\n",
    "\n",
    "import math\n",
    "import feature_engineering as fe"
   ]
  },
  {
   "cell_type": "code",
   "execution_count": 18,
   "metadata": {
    "collapsed": true
   },
   "outputs": [],
   "source": [
    "INPUT_PATH = '../input/'\n",
    "OUTPUT_PATH = '../output/'\n",
    "\n",
    "\n",
    "def load_data():\n",
    "    train = pd.read_csv(INPUT_PATH + 'trainv1.csv')\n",
    "    train['target'] = train['target'].map(lambda x: data_log(x))\n",
    "    submit = pd.read_csv(INPUT_PATH + 'submitv1.csv')\n",
    "    return train, submit\n",
    "\n",
    "\n",
    "def get_xgb_imp(xgb, feat_names):\n",
    "    from numpy import array\n",
    "    imp_vals = xgb.get_fscore()\n",
    "    imp_dict = {feat_names[i]:float(imp_vals.get('f'+str(i),0.)) for i in range(len(feat_names))}\n",
    "    total = array(imp_dict.values()).sum()\n",
    "    return {k:v/total for k,v in imp_dict.items()}\n",
    "\n",
    "\n",
    "def merge_dic(dicts):\n",
    "    ret = {}\n",
    "    for dict in dicts:\n",
    "        for key in dict:\n",
    "            val = dict[key]\n",
    "            ret[key] = ret[key]+val if key in ret else val\n",
    "    return ret\n",
    "\n",
    "def data_log(x):\n",
    "    if x <= 0:\n",
    "        return 0\n",
    "    else:\n",
    "        return np.math.log(x + 1, 5)"
   ]
  },
  {
   "cell_type": "code",
   "execution_count": 19,
   "metadata": {},
   "outputs": [
    {
     "name": "stdout",
     "output_type": "stream",
     "text": [
      "begin to load data\n"
     ]
    }
   ],
   "source": [
    "print('begin to load data')\n",
    "train, submit = load_data()\n",
    "train, submit = fe.add_cate_features(train, submit)\n",
    "kfold = 10\n",
    "skf = KFold(n_splits=kfold,shuffle=True, random_state=42)"
   ]
  },
  {
   "cell_type": "code",
   "execution_count": 20,
   "metadata": {
    "collapsed": true
   },
   "outputs": [],
   "source": [
    "params = {\n",
    "        'objective': 'reg:linear',\n",
    "        'max_depth': 6,\n",
    "        'colsample_bytree': 0.8,\n",
    "        'subsample': 0.8,\n",
    "        'eta': 0.025,\n",
    "        'gamma': 1,\n",
    "        'reg_alpha': 0.5,\n",
    "        'reg_lambda': 0.8,\n",
    "        'eval_metric': 'rmse',\n",
    "        'min_child_weight': 2,\n",
    "        'silent': 1,\n",
    "        'nthread': 6\n",
    "    }\n",
    "\n"
   ]
  },
  {
   "cell_type": "code",
   "execution_count": 21,
   "metadata": {
    "collapsed": true
   },
   "outputs": [],
   "source": [
    "# cum = get_column_by_cum(train)\n",
    "cum= ['comsume_counts_sum','comsume_amounts_sum','click_counts_sum']\n",
    "actives = ['dev_median_loan_amount_cum','median_loan_amount_cum','dev_median_loan_amount','median_loan_amount']\n",
    "#cum= []\n",
    "all_features = [x for x in train.columns if not x in ['uid', 'target', 'active_date' ]+cum+actives]\n",
    "\n",
    "X = train.drop(['uid', 'target', 'active_date']+cum+actives, axis=1).values\n",
    "y = train.target.values\n",
    "\n",
    "sub_id = submit.uid.values\n",
    "to_submit = submit.drop(['uid', 'active_date']+cum+actives, axis=1)\n",
    "\n",
    "sub = pd.DataFrame()\n",
    "sub['uid'] = sub_id\n",
    "sub['target'] = np.zeros_like(sub_id)\n",
    "\n",
    "scores = []\n",
    "\n",
    "importances = []"
   ]
  },
  {
   "cell_type": "code",
   "execution_count": 24,
   "metadata": {},
   "outputs": [
    {
     "name": "stdout",
     "output_type": "stream",
     "text": [
      "[0]\ttrain-rmse:2.45788\tvalid-rmse:2.47392\n",
      "Multiple eval metrics have been passed: 'valid-rmse' will be used for early stopping.\n",
      "\n",
      "Will train until valid-rmse hasn't improved in 70 rounds.\n",
      "[50]\ttrain-rmse:1.87218\tvalid-rmse:1.87603\n",
      "[100]\ttrain-rmse:1.80416\tvalid-rmse:1.81191\n",
      "[150]\ttrain-rmse:1.79075\tvalid-rmse:1.80411\n",
      "[200]\ttrain-rmse:1.78395\tvalid-rmse:1.80261\n",
      "[250]\ttrain-rmse:1.77893\tvalid-rmse:1.80229\n",
      "[300]\ttrain-rmse:1.77495\tvalid-rmse:1.8022\n",
      "[350]\ttrain-rmse:1.77122\tvalid-rmse:1.80198\n",
      "[400]\ttrain-rmse:1.76727\tvalid-rmse:1.80191\n",
      "Stopping. Best iteration:\n",
      "[366]\ttrain-rmse:1.76977\tvalid-rmse:1.80184\n",
      "\n",
      "{'avg_click_count_cum': 0.013630361630532011, 'plannum': 0.041998551774076756, 'sex': 0.00085189760190825068, 'limit_get_promoted_ever': 0.004429867529922903, 'loan_amount_cum': 0.06171998125825276, 'consume_amount': 0.033522170635089665, 'dev_loan_amount': 0.049239681390296886, 'avg_loan_amount_cum': 0.0074115091366017804, 'active_day_of_week': 0.014056310431486136, 'median_click_count': 0.0029390467265834647, 'limit_get_promoted': 0.004429867529922903, 'loan_count': 0.037185330323295143, 'limit': 0.021127060527324614, 'cate_2': 0.037739063764535501, 'dev_median_click_count_cum': 0.021169655407420027, 'cate_0': 0.041530008093027218, 'cate_1': 0.039272479447970354, 'median_consume_amount_cum': 0.016271244196447588, 'consume_amount_cum': 0.030540529028410784, 'avg_consume_amount_cum': 0.019934403884653066, 'dev_median_consume_amount_cum': 0.024534650934957616, 'comsume_count_cum': 0.030668313668697024, 'click_count_cum': 0.029092303105166761, 'median_click_count_cum': 0.012437704987860459, 'dev_consume_amount_cum': 0.024705030455339269, 'dev_click_count': 0.023512373812667717, 'avg_click_count': 0.0086041657792733321, 'plannum_cum': 0.042381905694935468, 'active_year': 0.0013630361630532009, 'dev_median_click_count': 0.019593644843889764, 'active_month': 0.020786301486561316, 'actived_months': 0.013332197469864122, 'click_count': 0.025514333177152106, 'comsume_count': 0.02053073220598884, 'age': 0.0055799292924990414, 'loan_amount': 0.052817651318311537, 'loan_count_cum': 0.044554244579801505, 'avg_loan_amount': 0.011543212505856796, 'dev_loan_amount_cum': 0.061762576138348173, 'dev_click_count_cum': 0.027686672062018147}\n",
      "1.80183603137\n",
      "[Fold 1/10 Prediciton:]\n",
      "[0]\ttrain-rmse:2.45858\tvalid-rmse:2.46787\n",
      "Multiple eval metrics have been passed: 'valid-rmse' will be used for early stopping.\n",
      "\n",
      "Will train until valid-rmse hasn't improved in 70 rounds.\n",
      "[50]\ttrain-rmse:1.87144\tvalid-rmse:1.8826\n",
      "[100]\ttrain-rmse:1.80306\tvalid-rmse:1.81987\n",
      "[150]\ttrain-rmse:1.78962\tvalid-rmse:1.81262\n",
      "[200]\ttrain-rmse:1.78304\tvalid-rmse:1.81103\n",
      "[250]\ttrain-rmse:1.77822\tvalid-rmse:1.81057\n",
      "[300]\ttrain-rmse:1.774\tvalid-rmse:1.81033\n",
      "[350]\ttrain-rmse:1.77\tvalid-rmse:1.81027\n",
      "[400]\ttrain-rmse:1.76614\tvalid-rmse:1.81015\n",
      "Stopping. Best iteration:\n",
      "[377]\ttrain-rmse:1.76805\tvalid-rmse:1.81013\n",
      "\n",
      "{'avg_click_count_cum': 0.013963258917538511, 'plannum': 0.040571711014086825, 'sex': 0.00074141197792239886, 'limit_get_promoted_ever': 0.0047367987478375484, 'loan_amount_cum': 0.056594447648076446, 'consume_amount': 0.034846362962352745, 'dev_loan_amount': 0.048521294999588106, 'avg_loan_amount_cum': 0.0075788779965400774, 'active_day_of_week': 0.014539912678144822, 'median_click_count': 0.0027185105857154626, 'limit_get_promoted': 0.0038306285525990607, 'loan_count': 0.03711178845044897, 'limit': 0.02043001894719499, 'cate_2': 0.039006507949583984, 'dev_median_click_count_cum': 0.024301837054123074, 'cate_0': 0.037400115330752118, 'cate_1': 0.039747919927506384, 'median_consume_amount_cum': 0.016846527720570062, 'consume_amount_cum': 0.027391053628799737, 'avg_consume_amount_cum': 0.018906005437021173, 'dev_median_consume_amount_cum': 0.022159980229013922, 'comsume_count_cum': 0.030274322431831289, 'click_count_cum': 0.027967707389406047, 'median_click_count_cum': 0.011162369223165006, 'dev_consume_amount_cum': 0.025125628140703519, 'dev_click_count': 0.02574347145563885, 'avg_click_count': 0.0081143422028173654, 'plannum_cum': 0.044731856001318064, 'active_year': 0.0010297388582255541, 'dev_median_click_count': 0.022530686217975122, 'active_month': 0.022118790674684901, 'actived_months': 0.014375154460828734, 'click_count': 0.025290386358019605, 'comsume_count': 0.020841914490485215, 'age': 0.0067138973556306117, 'loan_amount': 0.05239311310651619, 'loan_count_cum': 0.045308509761924375, 'avg_loan_amount': 0.013098278276629047, 'dev_loan_amount_cum': 0.065326633165829151, 'dev_click_count_cum': 0.02590822967295494}\n",
      "1.81012910563\n",
      "[Fold 2/10 Prediciton:]\n",
      "[0]\ttrain-rmse:2.4582\tvalid-rmse:2.47047\n",
      "Multiple eval metrics have been passed: 'valid-rmse' will be used for early stopping.\n",
      "\n",
      "Will train until valid-rmse hasn't improved in 70 rounds.\n",
      "[50]\ttrain-rmse:1.87048\tvalid-rmse:1.88822\n",
      "[100]\ttrain-rmse:1.80189\tvalid-rmse:1.82784\n",
      "[150]\ttrain-rmse:1.78852\tvalid-rmse:1.82094\n",
      "[200]\ttrain-rmse:1.78171\tvalid-rmse:1.81971\n",
      "[250]\ttrain-rmse:1.7771\tvalid-rmse:1.81953\n",
      "[300]\ttrain-rmse:1.77309\tvalid-rmse:1.81943\n",
      "[350]\ttrain-rmse:1.76927\tvalid-rmse:1.81946\n",
      "Stopping. Best iteration:\n",
      "[326]\ttrain-rmse:1.77117\tvalid-rmse:1.81933\n",
      "\n",
      "{'avg_click_count_cum': 0.016209246638423283, 'plannum': 0.043562350340762571, 'sex': 0.00059863694971449622, 'limit_get_promoted_ever': 0.0040983606557377051, 'loan_amount_cum': 0.059403205010130779, 'consume_amount': 0.036424755940320498, 'dev_loan_amount': 0.051897218640633631, 'avg_loan_amount_cum': 0.0081967213114754103, 'active_day_of_week': 0.01436728679314791, 'median_click_count': 0.0028089887640449437, 'limit_get_promoted': 0.0051114385706391603, 'loan_count': 0.038266715785595873, 'limit': 0.020768097255479831, 'cate_2': 0.038681156750782833, 'dev_median_click_count_cum': 0.020307607294160986, 'cate_0': 0.037345735862958189, 'cate_1': 0.039832381654079943, 'median_consume_amount_cum': 0.016439491619082702, 'consume_amount_cum': 0.029425308528274085, 'avg_consume_amount_cum': 0.022103518143304475, 'dev_median_consume_amount_cum': 0.022333763123963898, 'comsume_count_cum': 0.029931847485724812, 'click_count_cum': 0.028274083624976975, 'median_click_count_cum': 0.011972738994289925, 'dev_consume_amount_cum': 0.023024498065942162, 'dev_click_count': 0.025695339841591454, 'avg_click_count': 0.0088414072573217897, 'plannum_cum': 0.045864800147356791, 'active_year': 0.0011972738994289924, 'dev_median_click_count': 0.019985264321237796, 'active_month': 0.024083624976975502, 'actived_months': 0.013676551851169644, 'click_count': 0.024129673973107387, 'comsume_count': 0.01713022656106097, 'age': 0.0059863694971449624, 'loan_amount': 0.049272425861116229, 'loan_count_cum': 0.04388469331368576, 'avg_loan_amount': 0.011143857063916006, 'dev_loan_amount_cum': 0.061107017867010498, 'dev_click_count_cum': 0.026616319764229141}\n",
      "1.8193352298\n",
      "[Fold 3/10 Prediciton:]\n",
      "[0]\ttrain-rmse:2.4596\tvalid-rmse:2.45922\n",
      "Multiple eval metrics have been passed: 'valid-rmse' will be used for early stopping.\n",
      "\n",
      "Will train until valid-rmse hasn't improved in 70 rounds.\n",
      "[50]\ttrain-rmse:1.87243\tvalid-rmse:1.87596\n",
      "[100]\ttrain-rmse:1.80426\tvalid-rmse:1.81181\n",
      "[150]\ttrain-rmse:1.79101\tvalid-rmse:1.80334\n",
      "[200]\ttrain-rmse:1.78438\tvalid-rmse:1.80154\n",
      "[250]\ttrain-rmse:1.77955\tvalid-rmse:1.80116\n",
      "[300]\ttrain-rmse:1.77523\tvalid-rmse:1.8011\n",
      "[350]\ttrain-rmse:1.77143\tvalid-rmse:1.80102\n",
      "[400]\ttrain-rmse:1.7674\tvalid-rmse:1.80097\n",
      "[450]\ttrain-rmse:1.76347\tvalid-rmse:1.80089\n",
      "Stopping. Best iteration:\n",
      "[414]\ttrain-rmse:1.76643\tvalid-rmse:1.8008\n",
      "\n",
      "{'avg_click_count_cum': 0.013536058239174946, 'plannum': 0.039963600515659364, 'sex': 0.001023735497080458, 'limit_get_promoted_ever': 0.0043982710244938198, 'loan_amount_cum': 0.059149162053537575, 'consume_amount': 0.037119890801546977, 'dev_loan_amount': 0.050352620004549938, 'avg_loan_amount_cum': 0.0084552968832941541, 'active_day_of_week': 0.014711458254341397, 'median_click_count': 0.0026162129369833929, 'limit_get_promoted': 0.0041707742473648286, 'loan_count': 0.034503677864563584, 'limit': 0.021915522863426101, 'cate_2': 0.039963600515659364, 'dev_median_click_count_cum': 0.022143019640555092, 'cate_0': 0.038067794039584442, 'cate_1': 0.041859406991734287, 'median_consume_amount_cum': 0.016038522787593844, 'consume_amount_cum': 0.031053310078107226, 'avg_consume_amount_cum': 0.018806400242663227, 'dev_median_consume_amount_cum': 0.02343216804428604, 'comsume_count_cum': 0.031925381057101694, 'click_count_cum': 0.026579206794570411, 'median_click_count_cum': 0.010654432395541064, 'dev_consume_amount_cum': 0.026503374535527414, 'dev_click_count': 0.025138393872753469, 'avg_click_count': 0.0086827936604231444, 'plannum_cum': 0.042958974747857738, 'active_year': 0.0012891484037309471, 'dev_median_click_count': 0.019413058315007205, 'active_month': 0.021384697050125124, 'actived_months': 0.013346477591567452, 'click_count': 0.025820884204140443, 'comsume_count': 0.022029271251990598, 'age': 0.0065215742776977325, 'loan_amount': 0.051376355501630395, 'loan_count_cum': 0.041859406991734287, 'avg_loan_amount': 0.011678167892621522, 'dev_loan_amount_cum': 0.063471600818988394, 'dev_click_count_cum': 0.02608629711079093}\n"
     ]
    },
    {
     "name": "stdout",
     "output_type": "stream",
     "text": [
      "1.80079705381\n",
      "[Fold 4/10 Prediciton:]\n",
      "[0]\ttrain-rmse:2.46072\tvalid-rmse:2.44898\n",
      "Multiple eval metrics have been passed: 'valid-rmse' will be used for early stopping.\n",
      "\n",
      "Will train until valid-rmse hasn't improved in 70 rounds.\n",
      "[50]\ttrain-rmse:1.87223\tvalid-rmse:1.87428\n",
      "[100]\ttrain-rmse:1.80357\tvalid-rmse:1.81436\n",
      "[150]\ttrain-rmse:1.79015\tvalid-rmse:1.80772\n",
      "[200]\ttrain-rmse:1.78344\tvalid-rmse:1.80669\n",
      "[250]\ttrain-rmse:1.77868\tvalid-rmse:1.80619\n",
      "[300]\ttrain-rmse:1.77462\tvalid-rmse:1.80604\n",
      "[350]\ttrain-rmse:1.77066\tvalid-rmse:1.80597\n",
      "Stopping. Best iteration:\n",
      "[318]\ttrain-rmse:1.7732\tvalid-rmse:1.80595\n",
      "\n",
      "{'avg_click_count_cum': 0.016209651048722379, 'plannum': 0.042929882748633623, 'sex': 0.00098098752744429397, 'limit_get_promoted_ever': 0.0042976596440416686, 'loan_amount_cum': 0.060354089783715606, 'consume_amount': 0.032793011631709251, 'dev_loan_amount': 0.051198206194235533, 'avg_loan_amount_cum': 0.0075209043770729199, 'active_day_of_week': 0.013126547391040314, 'median_click_count': 0.0029429625823328819, 'limit_get_promoted': 0.0046246554865230997, 'loan_count': 0.037464380810015414, 'limit': 0.020647451768113233, 'cate_2': 0.03653010697435418, 'dev_median_click_count_cum': 0.022515999439435698, 'cate_0': 0.034661559303031719, 'cate_1': 0.038585509412808895, 'median_consume_amount_cum': 0.016396505815854626, 'consume_amount_cum': 0.031111318727519037, 'avg_consume_amount_cum': 0.020320455925631802, 'dev_median_consume_amount_cum': 0.023496986966879994, 'comsume_count_cum': 0.031671883028915777, 'click_count_cum': 0.026253094782080627, 'median_click_count_cum': 0.012752837856775822, 'dev_consume_amount_cum': 0.021721866679123653, 'dev_click_count': 0.024804970336805718, 'avg_click_count': 0.0092493109730461993, 'plannum_cum': 0.043910870276077915, 'active_year': 0.0013079833699257252, 'dev_median_click_count': 0.019946746391367311, 'active_month': 0.023450273275096932, 'actived_months': 0.014901667678796655, 'click_count': 0.024664829261456533, 'comsume_count': 0.021394870836642221, 'age': 0.005699070397533517, 'loan_amount': 0.050684355584621851, 'loan_count_cum': 0.043630588125379552, 'avg_loan_amount': 0.012752837856775822, 'dev_loan_amount_cum': 0.065305741112720139, 'dev_click_count_cum': 0.027187368617741861}\n",
      "1.80594649695\n",
      "[Fold 5/10 Prediciton:]\n",
      "[0]\ttrain-rmse:2.46052\tvalid-rmse:2.45104\n",
      "Multiple eval metrics have been passed: 'valid-rmse' will be used for early stopping.\n",
      "\n",
      "Will train until valid-rmse hasn't improved in 70 rounds.\n",
      "[50]\ttrain-rmse:1.87252\tvalid-rmse:1.87212\n",
      "[100]\ttrain-rmse:1.804\tvalid-rmse:1.81133\n",
      "[150]\ttrain-rmse:1.79058\tvalid-rmse:1.80398\n",
      "[200]\ttrain-rmse:1.78407\tvalid-rmse:1.8027\n",
      "[250]\ttrain-rmse:1.77918\tvalid-rmse:1.80215\n",
      "[300]\ttrain-rmse:1.77473\tvalid-rmse:1.80195\n",
      "[350]\ttrain-rmse:1.77038\tvalid-rmse:1.80184\n",
      "[400]\ttrain-rmse:1.76711\tvalid-rmse:1.80205\n",
      "Stopping. Best iteration:\n",
      "[350]\ttrain-rmse:1.77038\tvalid-rmse:1.80184\n",
      "\n",
      "{'avg_click_count_cum': 0.015855824632846682, 'plannum': 0.041805657843434561, 'sex': 0.00073647272884806996, 'limit_get_promoted_ever': 0.0059784256812372739, 'loan_amount_cum': 0.059307715634882817, 'consume_amount': 0.038036650348741499, 'dev_loan_amount': 0.049386994758047045, 'avg_loan_amount_cum': 0.0083178096434605546, 'active_day_of_week': 0.014556166876055971, 'median_click_count': 0.0028159251397132088, 'limit_get_promoted': 0.0048520556253519908, 'loan_count': 0.037256855694667072, 'limit': 0.021617640687952171, 'cate_2': 0.036607026816271718, 'dev_median_click_count_cum': 0.022310791491573886, 'cate_0': 0.037126889918988, 'cate_1': 0.038729801152363214, 'median_consume_amount_cum': 0.016115756184204827, 'consume_amount_cum': 0.0294589091539228, 'avg_consume_amount_cum': 0.020794524108651388, 'dev_median_consume_amount_cum': 0.02417363427630724, 'comsume_count_cum': 0.031928258891825149, 'click_count_cum': 0.026166442836719664, 'median_click_count_cum': 0.01104709093272105, 'dev_consume_amount_cum': 0.023697093098817311, 'dev_click_count': 0.026599662088983234, 'avg_click_count': 0.010223974353420266, 'plannum_cum': 0.045661309188580343, 'active_year': 0.0013429796820170689, 'dev_median_click_count': 0.020577914482519603, 'active_month': 0.020751202183425032, 'actived_months': 0.015249317679677686, 'click_count': 0.024953428930381667, 'comsume_count': 0.01971147597799246, 'age': 0.0061950353073690597, 'loan_amount': 0.050166789412121472, 'loan_count_cum': 0.045228089936316773, 'avg_loan_amount': 0.011133734783173765, 'dev_loan_amount_cum': 0.058224667504223886, 'dev_click_count_cum': 0.025300004332192521}\n",
      "1.80184116885\n",
      "[Fold 6/10 Prediciton:]\n",
      "[0]\ttrain-rmse:2.46082\tvalid-rmse:2.44682\n",
      "Multiple eval metrics have been passed: 'valid-rmse' will be used for early stopping.\n",
      "\n",
      "Will train until valid-rmse hasn't improved in 70 rounds.\n",
      "[50]\ttrain-rmse:1.87027\tvalid-rmse:1.88654\n",
      "[100]\ttrain-rmse:1.80171\tvalid-rmse:1.82952\n",
      "[150]\ttrain-rmse:1.78826\tvalid-rmse:1.82338\n",
      "[200]\ttrain-rmse:1.7817\tvalid-rmse:1.82227\n",
      "[250]\ttrain-rmse:1.77686\tvalid-rmse:1.82198\n",
      "[300]\ttrain-rmse:1.77266\tvalid-rmse:1.82176\n",
      "[350]\ttrain-rmse:1.76871\tvalid-rmse:1.8218\n",
      "Stopping. Best iteration:\n",
      "[297]\ttrain-rmse:1.77296\tvalid-rmse:1.82167\n",
      "\n",
      "{'avg_click_count_cum': 0.015481848023124786, 'plannum': 0.046641516829160748, 'sex': 0.0011758365587183381, 'limit_get_promoted_ever': 0.0044093870951937677, 'loan_amount_cum': 0.061731419332712756, 'consume_amount': 0.034050267012885209, 'dev_loan_amount': 0.049875067365636176, 'avg_loan_amount_cum': 0.0075449512517760031, 'active_day_of_week': 0.012640243006222135, 'median_click_count': 0.0025966390671696635, 'limit_get_promoted': 0.0051442849443927297, 'loan_count': 0.040321395326049676, 'limit': 0.021997942286022244, 'cate_2': 0.03934153152711773, 'dev_median_click_count_cum': 0.020430160207731127, 'cate_0': 0.033462348733526041, 'cate_1': 0.038704620057811966, 'median_consume_amount_cum': 0.017490568810935279, 'consume_amount_cum': 0.027877125079613933, 'avg_consume_amount_cum': 0.019842241928371956, 'dev_median_consume_amount_cum': 0.021899955906129049, 'comsume_count_cum': 0.030522757336730193, 'click_count_cum': 0.027191220420361571, 'median_click_count_cum': 0.013620106805154084, 'dev_consume_amount_cum': 0.025133506442604477, 'dev_click_count': 0.02508451325265788, 'avg_click_count': 0.0070550193523100293, 'plannum_cum': 0.045514673460389003, 'active_year': 0.0014697956983979227, 'dev_median_click_count': 0.019303316838959386, 'active_month': 0.02224290823575523, 'actived_months': 0.013228161285581304, 'click_count': 0.026064377051589829, 'comsume_count': 0.018911371319386604, 'age': 0.0054382440840723143, 'loan_amount': 0.052569692812699034, 'loan_count_cum': 0.045220714320709419, 'avg_loan_amount': 0.011415413257557199, 'dev_loan_amount_cum': 0.063152221841164077, 'dev_click_count_cum': 0.024202635833619125}\n",
      "1.82167348718\n",
      "[Fold 7/10 Prediciton:]\n",
      "[0]\ttrain-rmse:2.45985\tvalid-rmse:2.45704\n",
      "Multiple eval metrics have been passed: 'valid-rmse' will be used for early stopping.\n",
      "\n",
      "Will train until valid-rmse hasn't improved in 70 rounds.\n",
      "[50]\ttrain-rmse:1.87279\tvalid-rmse:1.87065\n",
      "[100]\ttrain-rmse:1.80474\tvalid-rmse:1.80675\n",
      "[150]\ttrain-rmse:1.79135\tvalid-rmse:1.79853\n",
      "[200]\ttrain-rmse:1.7847\tvalid-rmse:1.79691\n",
      "[250]\ttrain-rmse:1.77975\tvalid-rmse:1.79652\n",
      "[300]\ttrain-rmse:1.77543\tvalid-rmse:1.79648\n",
      "[350]\ttrain-rmse:1.77163\tvalid-rmse:1.79643\n",
      "[400]\ttrain-rmse:1.7681\tvalid-rmse:1.79641\n",
      "[450]\ttrain-rmse:1.76458\tvalid-rmse:1.79632\n",
      "[500]\ttrain-rmse:1.76101\tvalid-rmse:1.79629\n",
      "[550]\ttrain-rmse:1.75758\tvalid-rmse:1.79632\n",
      "Stopping. Best iteration:\n",
      "[484]\ttrain-rmse:1.76211\tvalid-rmse:1.79623\n",
      "\n",
      "{'avg_click_count_cum': 0.01321406789997967, 'plannum': 0.040218201531476587, 'sex': 0.00077929118384495498, 'limit_get_promoted_ever': 0.0041336314969167174, 'loan_amount_cum': 0.056210611912990448, 'consume_amount': 0.040557023785322222, 'dev_loan_amount': 0.047536762214542248, 'avg_loan_amount_cum': 0.0064715050484515819, 'active_day_of_week': 0.015247001423053467, 'median_click_count': 0.002642813579995934, 'limit_get_promoted': 0.0034559869892254523, 'loan_count': 0.034830927695331027, 'limit': 0.01944839737073931, 'cate_2': 0.04106525716609067, 'dev_median_click_count_cum': 0.021718506471505049, 'cate_0': 0.037473741275326961, 'cate_1': 0.041234668293013484, 'median_consume_amount_cum': 0.014772650267669581, 'consume_amount_cum': 0.028494951548417701, 'avg_consume_amount_cum': 0.01873687063766348, 'dev_median_consume_amount_cum': 0.024429084502270108, 'comsume_count_cum': 0.036084570034559872, 'click_count_cum': 0.029816358338415668, 'median_click_count_cum': 0.0106051365453683, 'dev_consume_amount_cum': 0.027004133631496917, 'dev_click_count': 0.027342955885342548, 'avg_click_count': 0.0077590296130649857, 'plannum_cum': 0.043301484041471841, 'active_year': 0.00098258453615233444, 'dev_median_click_count': 0.021413566443043978, 'active_month': 0.021278037541505725, 'actived_months': 0.014975943619976961, 'click_count': 0.023920851121501659, 'comsume_count': 0.0212102730907366, 'age': 0.0064037405976824554, 'loan_amount': 0.052076980416073726, 'loan_count_cum': 0.040997492715321542, 'avg_loan_amount': 0.011689367757674323, 'dev_loan_amount_cum': 0.062817645862980276, 'dev_click_count_cum': 0.027647895913803618}\n"
     ]
    },
    {
     "name": "stdout",
     "output_type": "stream",
     "text": [
      "1.79623196413\n",
      "[Fold 8/10 Prediciton:]\n",
      "[0]\ttrain-rmse:2.45989\tvalid-rmse:2.45656\n",
      "Multiple eval metrics have been passed: 'valid-rmse' will be used for early stopping.\n",
      "\n",
      "Will train until valid-rmse hasn't improved in 70 rounds.\n",
      "[50]\ttrain-rmse:1.87324\tvalid-rmse:1.86774\n",
      "[100]\ttrain-rmse:1.80506\tvalid-rmse:1.8025\n",
      "[150]\ttrain-rmse:1.79203\tvalid-rmse:1.79465\n",
      "[200]\ttrain-rmse:1.78533\tvalid-rmse:1.79324\n",
      "[250]\ttrain-rmse:1.78059\tvalid-rmse:1.79267\n",
      "[300]\ttrain-rmse:1.77632\tvalid-rmse:1.79254\n",
      "[350]\ttrain-rmse:1.77242\tvalid-rmse:1.79243\n",
      "[400]\ttrain-rmse:1.76872\tvalid-rmse:1.79242\n",
      "[450]\ttrain-rmse:1.76457\tvalid-rmse:1.79235\n",
      "Stopping. Best iteration:\n",
      "[426]\ttrain-rmse:1.76641\tvalid-rmse:1.7923\n",
      "\n",
      "{'avg_click_count_cum': 0.014119570467803664, 'plannum': 0.039683424367406087, 'sex': 0.0008174488165570542, 'limit_get_promoted_ever': 0.0042358711403410994, 'loan_amount_cum': 0.057592984802883364, 'consume_amount': 0.037825586147958237, 'dev_loan_amount': 0.047820755768587672, 'avg_loan_amount_cum': 0.0074313528777914016, 'active_day_of_week': 0.015048489577527588, 'median_click_count': 0.0031211682086723889, 'limit_get_promoted': 0.0043473414335079702, 'loan_count': 0.036265002043622041, 'limit': 0.020027496005647828, 'cate_2': 0.038271467320625717, 'dev_median_click_count_cum': 0.021327982759261323, 'cate_0': 0.038977445844015905, 'cate_1': 0.037565488797235536, 'median_consume_amount_cum': 0.015680154572139858, 'consume_amount_cum': 0.031323152379890758, 'avg_consume_amount_cum': 0.019581614832980345, 'dev_median_consume_amount_cum': 0.02337160480065396, 'comsume_count_cum': 0.033478244714450267, 'click_count_cum': 0.029613941217998738, 'median_click_count_cum': 0.01107271578790919, 'dev_consume_amount_cum': 0.02846208152194107, 'dev_click_count': 0.025675324192769293, 'avg_click_count': 0.0092891910972392518, 'plannum_cum': 0.044439490209192585, 'active_year': 0.00096607587411288228, 'dev_median_click_count': 0.020101809534425742, 'active_month': 0.021327982759261323, 'actived_months': 0.015048489577527588, 'click_count': 0.024672091554267455, 'comsume_count': 0.019358674246646602, 'age': 0.0069111581763460035, 'loan_amount': 0.051202021327982759, 'loan_count_cum': 0.042358711403410992, 'avg_loan_amount': 0.011518596960576673, 'dev_loan_amount_cum': 0.061866012707613424, 'dev_click_count_cum': 0.028201984171218369}\n",
      "1.79230105511\n",
      "[Fold 9/10 Prediciton:]\n",
      "[0]\ttrain-rmse:2.45822\tvalid-rmse:2.4631\n",
      "Multiple eval metrics have been passed: 'valid-rmse' will be used for early stopping.\n",
      "\n",
      "Will train until valid-rmse hasn't improved in 70 rounds.\n",
      "[50]\ttrain-rmse:1.87151\tvalid-rmse:1.88097\n",
      "[100]\ttrain-rmse:1.8035\tvalid-rmse:1.81672\n",
      "[150]\ttrain-rmse:1.79058\tvalid-rmse:1.80862\n",
      "[200]\ttrain-rmse:1.78375\tvalid-rmse:1.80686\n",
      "[250]\ttrain-rmse:1.77889\tvalid-rmse:1.8062\n",
      "[300]\ttrain-rmse:1.77459\tvalid-rmse:1.80585\n",
      "[350]\ttrain-rmse:1.77057\tvalid-rmse:1.80592\n",
      "Stopping. Best iteration:\n",
      "[310]\ttrain-rmse:1.77375\tvalid-rmse:1.80579\n",
      "\n",
      "{'avg_click_count_cum': 0.015378827070498048, 'plannum': 0.044396369279969899, 'sex': 0.00075248083525372711, 'limit_get_promoted_ever': 0.0042797347505055729, 'loan_amount_cum': 0.057564783896910124, 'consume_amount': 0.037765131919296431, 'dev_loan_amount': 0.047876593143018391, 'avg_loan_amount_cum': 0.0086535296054178618, 'active_day_of_week': 0.013168414616940224, 'median_click_count': 0.0027747730799981187, 'limit_get_promoted': 0.0043267648027089309, 'loan_count': 0.0402577246860744, 'limit': 0.0201288623430372, 'cate_2': 0.033673517377604288, 'dev_median_click_count_cum': 0.020740253021680855, 'cate_0': 0.037106711188449416, 'cate_1': 0.037106711188449416, 'median_consume_amount_cum': 0.016084277853548417, 'consume_amount_cum': 0.029534872783708789, 'avg_consume_amount_cum': 0.021163523491511075, 'dev_median_consume_amount_cum': 0.022433334901001741, 'comsume_count_cum': 0.033673517377604288, 'click_count_cum': 0.025725438555236797, 'median_click_count_cum': 0.012745144147110003, 'dev_consume_amount_cum': 0.026148709025067017, 'dev_click_count': 0.024314536989136059, 'avg_click_count': 0.00846540939660443, 'plannum_cum': 0.045478060480647134, 'active_year': 0.00070545078305036917, 'dev_median_click_count': 0.021868974274561446, 'active_month': 0.021257583595917791, 'actived_months': 0.014720406339651037, 'click_count': 0.027230400225744252, 'comsume_count': 0.019987772186427128, 'age': 0.0054084560033861636, 'loan_amount': 0.047735502986408315, 'loan_count_cum': 0.045242910219630346, 'avg_loan_amount': 0.010722851902365611, 'dev_loan_amount_cum': 0.064101961153176887, 'dev_click_count_cum': 0.029299722522692001}\n",
      "1.80578684569\n",
      "[Fold 10/10 Prediciton:]\n"
     ]
    }
   ],
   "source": [
    "for i, (train_index, test_index) in enumerate(skf.split(X, y)):\n",
    "    X_train, X_valid = X[train_index], X[test_index]\n",
    "    y_train, y_valid = y[train_index], y[test_index]\n",
    "    # Convert our data into XGBoost format\n",
    "    d_train = xgb.DMatrix(X_train, y_train)\n",
    "    d_valid = xgb.DMatrix(X_valid, y_valid)\n",
    "    d_submit = xgb.DMatrix(to_submit.values)\n",
    "    watchlist = [(d_train, 'train'), (d_valid, 'valid')]\n",
    "    mdl = xgb.train(params, d_train, 4000, watchlist, early_stopping_rounds = 70, verbose_eval = 50)\n",
    "\n",
    "    f_importance = get_xgb_imp(mdl,all_features)\n",
    "    print(f_importance)\n",
    "    importances.append(f_importance)\n",
    "\n",
    "    score_this = np.sqrt(mean_squared_error(mdl.predict(d_valid, ntree_limit = mdl.best_ntree_limit), y_valid))\n",
    "    print(score_this)\n",
    "    scores.append(score_this)\n",
    "\n",
    "    print('[Fold %d/%d Prediciton:]' % (i + 1, kfold))\n",
    "    # Predict on our test data\n",
    "    p_test = mdl.predict(d_submit, ntree_limit=mdl.best_ntree_limit)\n",
    "\n",
    "    sub['target'] += p_test / kfold"
   ]
  },
  {
   "cell_type": "code",
   "execution_count": 26,
   "metadata": {
    "scrolled": true
   },
   "outputs": [
    {
     "name": "stdout",
     "output_type": "stream",
     "text": [
      "[('sex', 0.0084581996772920415), ('active_year', 0.011654067268094998), ('median_click_count', 0.027977040671209458), ('limit_get_promoted', 0.044293798182236124), ('limit_get_promoted_ever', 0.044998007766228081), ('age', 0.060857474989361865), ('avg_loan_amount_cum', 0.077582458131881749), ('avg_click_count', 0.086284643685520773), ('avg_loan_amount', 0.11669631825714674), ('median_click_count_cum', 0.11807027767589492), ('active_day_of_week', 0.14146183104795995), ('actived_months', 0.1428543675546412), ('avg_click_count_cum', 0.14759871456864396), ('median_consume_amount_cum', 0.16213569982804679), ('avg_consume_amount_cum', 0.200189558632452), ('comsume_count', 0.20110658216735725), ('dev_median_click_count', 0.20473498166298737), ('limit', 0.20810849005493753), ('dev_median_click_count_cum', 0.21696581278744714), ('active_month', 0.21868140177930884), ('dev_median_consume_amount_cum', 0.23226516368546357), ('dev_consume_amount_cum', 0.25152592159656278), ('click_count', 0.25226125585736092), ('dev_click_count', 0.25391154172834624), ('dev_click_count_cum', 0.2681371300012606), ('click_count_cum', 0.27667979706493323), ('consume_amount_cum', 0.29621053093666488), ('comsume_count_cum', 0.32015909602744036), ('consume_amount', 0.36294085118522273), ('cate_0', 0.37315234958965998), ('loan_count', 0.37346379867966323), ('cate_2', 0.38087923616262592), ('cate_1', 0.3926389869229735), ('plannum', 0.42177126624466699), ('loan_count_cum', 0.43828536136791452), ('plannum_cum', 0.44424342424782687), ('dev_loan_amount', 0.49370519447913558), ('loan_amount', 0.51029488832748149), ('loan_amount_cum', 0.58962840133409256), ('dev_loan_amount_cum', 0.62713607817205486)]\n",
      "cv avg scores 1.80558784385\n"
     ]
    }
   ],
   "source": [
    "imp_sum = merge_dic(importances)\n",
    "sort_rec = sorted(imp_sum.items(), key=lambda x:x[1])\n",
    "print(sort_rec)\n",
    "\n",
    "print('cv avg scores %s' % np.mean(scores))"
   ]
  },
  {
   "cell_type": "code",
   "execution_count": 17,
   "metadata": {},
   "outputs": [
    {
     "data": {
      "text/plain": [
       "[1.8018676541459515,\n",
       " 1.8107008002628047,\n",
       " 1.8194558554226632,\n",
       " 1.7998679808241393,\n",
       " 1.8057300392566591,\n",
       " 1.8020730212166454,\n",
       " 1.8220356340339823,\n",
       " 1.7960921106684471,\n",
       " 1.7921954324533003,\n",
       " 1.8050646933697356]"
      ]
     },
     "execution_count": 17,
     "metadata": {},
     "output_type": "execute_result"
    }
   ],
   "source": [
    "scores"
   ]
  },
  {
   "cell_type": "code",
   "execution_count": 27,
   "metadata": {
    "collapsed": true
   },
   "outputs": [],
   "source": [
    "from datetime import datetime\n",
    "sub.loc[sub.target < 0, 'target'] = 0\n",
    "sub.to_csv(OUTPUT_PATH +\"sub{}.csv\".format(datetime.now().strftime('%Y%m%d_%H%M%S')), index=False)"
   ]
  },
  {
   "cell_type": "code",
   "execution_count": 326,
   "metadata": {
    "collapsed": true
   },
   "outputs": [],
   "source": [
    "all_features = [x for x in train.columns if not x in ['uid', 'target', 'active_date']]\n",
    "\n",
    "X = train.drop(['uid', 'target', 'active_date'], axis=1)\n",
    "y = train.target"
   ]
  },
  {
   "cell_type": "code",
   "execution_count": 348,
   "metadata": {
    "collapsed": true
   },
   "outputs": [],
   "source": [
    "xgb_params = {\n",
    "        'objective': ['reg:linear'],\n",
    "        'learning_rate': [0.025],\n",
    "        'max_depth': [6],\n",
    "        'min_child_weight': [2],\n",
    "        'silent': [1],\n",
    "        'subsample': [ 0.8],\n",
    "        'colsample_bytree': [0.8],\n",
    "        'n_estimators': [400],\n",
    "        'gamma': [1,3],\n",
    "        'reg_alpha': [0.5,0.8],\n",
    "        'reg_lambda': [0.8,1.3] \n",
    "    }"
   ]
  },
  {
   "cell_type": "code",
   "execution_count": 349,
   "metadata": {
    "collapsed": true
   },
   "outputs": [],
   "source": [
    "\n",
    "from sklearn.model_selection import GridSearchCV\n",
    "\n",
    "import xgboost as xgb\n"
   ]
  },
  {
   "cell_type": "code",
   "execution_count": 350,
   "metadata": {
    "scrolled": true
   },
   "outputs": [
    {
     "name": "stdout",
     "output_type": "stream",
     "text": [
      "Fitting 5 folds for each of 8 candidates, totalling 40 fits\n",
      "[CV] reg_alpha=0.5, colsample_bytree=0.8, silent=1, learning_rate=0.025, min_child_weight=2, n_estimators=400, subsample=0.8, reg_lambda=0.8, objective=reg:linear, max_depth=6, gamma=1 \n",
      "[CV] reg_alpha=0.5, colsample_bytree=0.8, silent=1, learning_rate=0.025, min_child_weight=2, n_estimators=400, subsample=0.8, reg_lambda=0.8, objective=reg:linear, max_depth=6, gamma=1 \n"
     ]
    },
    {
     "name": "stderr",
     "output_type": "stream",
     "text": [
      "/Library/Python/2.7/site-packages/sklearn/metrics/scorer.py:90: DeprecationWarning: Scoring method mean_squared_error was renamed to neg_mean_squared_error in version 0.18 and will be removed in 0.20.\n",
      "  sample_weight=sample_weight)\n",
      "/Library/Python/2.7/site-packages/sklearn/metrics/scorer.py:90: DeprecationWarning: Scoring method mean_squared_error was renamed to neg_mean_squared_error in version 0.18 and will be removed in 0.20.\n",
      "  sample_weight=sample_weight)\n",
      "/Library/Python/2.7/site-packages/sklearn/metrics/scorer.py:90: DeprecationWarning: Scoring method mean_squared_error was renamed to neg_mean_squared_error in version 0.18 and will be removed in 0.20.\n",
      "  sample_weight=sample_weight)\n",
      "/Library/Python/2.7/site-packages/sklearn/metrics/scorer.py:90: DeprecationWarning: Scoring method mean_squared_error was renamed to neg_mean_squared_error in version 0.18 and will be removed in 0.20.\n",
      "  sample_weight=sample_weight)\n"
     ]
    },
    {
     "name": "stdout",
     "output_type": "stream",
     "text": [
      "[CV]  reg_alpha=0.5, colsample_bytree=0.8, silent=1, learning_rate=0.025, min_child_weight=2, n_estimators=400, subsample=0.8, reg_lambda=0.8, objective=reg:linear, max_depth=6, gamma=1, total= 1.4min\n",
      "[CV] reg_alpha=0.5, colsample_bytree=0.8, silent=1, learning_rate=0.025, min_child_weight=2, n_estimators=400, subsample=0.8, reg_lambda=0.8, objective=reg:linear, max_depth=6, gamma=1 \n",
      "[CV]  reg_alpha=0.5, colsample_bytree=0.8, silent=1, learning_rate=0.025, min_child_weight=2, n_estimators=400, subsample=0.8, reg_lambda=0.8, objective=reg:linear, max_depth=6, gamma=1, total= 1.4min\n",
      "[CV] reg_alpha=0.5, colsample_bytree=0.8, silent=1, learning_rate=0.025, min_child_weight=2, n_estimators=400, subsample=0.8, reg_lambda=0.8, objective=reg:linear, max_depth=6, gamma=1 \n"
     ]
    },
    {
     "name": "stderr",
     "output_type": "stream",
     "text": [
      "/Library/Python/2.7/site-packages/sklearn/metrics/scorer.py:90: DeprecationWarning: Scoring method mean_squared_error was renamed to neg_mean_squared_error in version 0.18 and will be removed in 0.20.\n",
      "  sample_weight=sample_weight)\n",
      "/Library/Python/2.7/site-packages/sklearn/metrics/scorer.py:90: DeprecationWarning: Scoring method mean_squared_error was renamed to neg_mean_squared_error in version 0.18 and will be removed in 0.20.\n",
      "  sample_weight=sample_weight)\n",
      "/Library/Python/2.7/site-packages/sklearn/metrics/scorer.py:90: DeprecationWarning: Scoring method mean_squared_error was renamed to neg_mean_squared_error in version 0.18 and will be removed in 0.20.\n",
      "  sample_weight=sample_weight)\n",
      "/Library/Python/2.7/site-packages/sklearn/metrics/scorer.py:90: DeprecationWarning: Scoring method mean_squared_error was renamed to neg_mean_squared_error in version 0.18 and will be removed in 0.20.\n",
      "  sample_weight=sample_weight)\n"
     ]
    },
    {
     "name": "stdout",
     "output_type": "stream",
     "text": [
      "[CV]  reg_alpha=0.5, colsample_bytree=0.8, silent=1, learning_rate=0.025, min_child_weight=2, n_estimators=400, subsample=0.8, reg_lambda=0.8, objective=reg:linear, max_depth=6, gamma=1, total= 1.5min\n",
      "[CV] reg_alpha=0.5, colsample_bytree=0.8, silent=1, learning_rate=0.025, min_child_weight=2, n_estimators=400, subsample=0.8, reg_lambda=0.8, objective=reg:linear, max_depth=6, gamma=1 \n",
      "[CV]  reg_alpha=0.5, colsample_bytree=0.8, silent=1, learning_rate=0.025, min_child_weight=2, n_estimators=400, subsample=0.8, reg_lambda=0.8, objective=reg:linear, max_depth=6, gamma=1, total= 1.5min\n",
      "[CV] reg_alpha=0.5, colsample_bytree=0.8, silent=1, learning_rate=0.025, min_child_weight=2, n_estimators=400, subsample=0.8, reg_lambda=1.3, objective=reg:linear, max_depth=6, gamma=1 \n"
     ]
    },
    {
     "name": "stderr",
     "output_type": "stream",
     "text": [
      "/Library/Python/2.7/site-packages/sklearn/metrics/scorer.py:90: DeprecationWarning: Scoring method mean_squared_error was renamed to neg_mean_squared_error in version 0.18 and will be removed in 0.20.\n",
      "  sample_weight=sample_weight)\n",
      "/Library/Python/2.7/site-packages/sklearn/metrics/scorer.py:90: DeprecationWarning: Scoring method mean_squared_error was renamed to neg_mean_squared_error in version 0.18 and will be removed in 0.20.\n",
      "  sample_weight=sample_weight)\n"
     ]
    },
    {
     "name": "stdout",
     "output_type": "stream",
     "text": [
      "[CV]  reg_alpha=0.5, colsample_bytree=0.8, silent=1, learning_rate=0.025, min_child_weight=2, n_estimators=400, subsample=0.8, reg_lambda=0.8, objective=reg:linear, max_depth=6, gamma=1, total= 1.4min\n",
      "[CV] reg_alpha=0.5, colsample_bytree=0.8, silent=1, learning_rate=0.025, min_child_weight=2, n_estimators=400, subsample=0.8, reg_lambda=1.3, objective=reg:linear, max_depth=6, gamma=1 \n"
     ]
    },
    {
     "name": "stderr",
     "output_type": "stream",
     "text": [
      "/Library/Python/2.7/site-packages/sklearn/metrics/scorer.py:90: DeprecationWarning: Scoring method mean_squared_error was renamed to neg_mean_squared_error in version 0.18 and will be removed in 0.20.\n",
      "  sample_weight=sample_weight)\n",
      "/Library/Python/2.7/site-packages/sklearn/metrics/scorer.py:90: DeprecationWarning: Scoring method mean_squared_error was renamed to neg_mean_squared_error in version 0.18 and will be removed in 0.20.\n",
      "  sample_weight=sample_weight)\n"
     ]
    },
    {
     "name": "stdout",
     "output_type": "stream",
     "text": [
      "[CV]  reg_alpha=0.5, colsample_bytree=0.8, silent=1, learning_rate=0.025, min_child_weight=2, n_estimators=400, subsample=0.8, reg_lambda=1.3, objective=reg:linear, max_depth=6, gamma=1, total= 1.5min\n",
      "[CV] reg_alpha=0.5, colsample_bytree=0.8, silent=1, learning_rate=0.025, min_child_weight=2, n_estimators=400, subsample=0.8, reg_lambda=1.3, objective=reg:linear, max_depth=6, gamma=1 \n"
     ]
    },
    {
     "name": "stderr",
     "output_type": "stream",
     "text": [
      "/Library/Python/2.7/site-packages/sklearn/metrics/scorer.py:90: DeprecationWarning: Scoring method mean_squared_error was renamed to neg_mean_squared_error in version 0.18 and will be removed in 0.20.\n",
      "  sample_weight=sample_weight)\n",
      "/Library/Python/2.7/site-packages/sklearn/metrics/scorer.py:90: DeprecationWarning: Scoring method mean_squared_error was renamed to neg_mean_squared_error in version 0.18 and will be removed in 0.20.\n",
      "  sample_weight=sample_weight)\n",
      "/Library/Python/2.7/site-packages/sklearn/metrics/scorer.py:90: DeprecationWarning: Scoring method mean_squared_error was renamed to neg_mean_squared_error in version 0.18 and will be removed in 0.20.\n",
      "  sample_weight=sample_weight)\n",
      "/Library/Python/2.7/site-packages/sklearn/metrics/scorer.py:90: DeprecationWarning: Scoring method mean_squared_error was renamed to neg_mean_squared_error in version 0.18 and will be removed in 0.20.\n",
      "  sample_weight=sample_weight)\n"
     ]
    },
    {
     "name": "stdout",
     "output_type": "stream",
     "text": [
      "[CV]  reg_alpha=0.5, colsample_bytree=0.8, silent=1, learning_rate=0.025, min_child_weight=2, n_estimators=400, subsample=0.8, reg_lambda=1.3, objective=reg:linear, max_depth=6, gamma=1, total= 1.6min\n",
      "[CV] reg_alpha=0.5, colsample_bytree=0.8, silent=1, learning_rate=0.025, min_child_weight=2, n_estimators=400, subsample=0.8, reg_lambda=1.3, objective=reg:linear, max_depth=6, gamma=1 \n",
      "[CV]  reg_alpha=0.5, colsample_bytree=0.8, silent=1, learning_rate=0.025, min_child_weight=2, n_estimators=400, subsample=0.8, reg_lambda=1.3, objective=reg:linear, max_depth=6, gamma=1, total= 1.5min\n",
      "[CV] reg_alpha=0.5, colsample_bytree=0.8, silent=1, learning_rate=0.025, min_child_weight=2, n_estimators=400, subsample=0.8, reg_lambda=1.3, objective=reg:linear, max_depth=6, gamma=1 \n"
     ]
    },
    {
     "name": "stderr",
     "output_type": "stream",
     "text": [
      "/Library/Python/2.7/site-packages/sklearn/metrics/scorer.py:90: DeprecationWarning: Scoring method mean_squared_error was renamed to neg_mean_squared_error in version 0.18 and will be removed in 0.20.\n",
      "  sample_weight=sample_weight)\n",
      "/Library/Python/2.7/site-packages/sklearn/metrics/scorer.py:90: DeprecationWarning: Scoring method mean_squared_error was renamed to neg_mean_squared_error in version 0.18 and will be removed in 0.20.\n",
      "  sample_weight=sample_weight)\n",
      "/Library/Python/2.7/site-packages/sklearn/metrics/scorer.py:90: DeprecationWarning: Scoring method mean_squared_error was renamed to neg_mean_squared_error in version 0.18 and will be removed in 0.20.\n",
      "  sample_weight=sample_weight)\n",
      "/Library/Python/2.7/site-packages/sklearn/metrics/scorer.py:90: DeprecationWarning: Scoring method mean_squared_error was renamed to neg_mean_squared_error in version 0.18 and will be removed in 0.20.\n",
      "  sample_weight=sample_weight)\n"
     ]
    },
    {
     "name": "stdout",
     "output_type": "stream",
     "text": [
      "[CV]  reg_alpha=0.5, colsample_bytree=0.8, silent=1, learning_rate=0.025, min_child_weight=2, n_estimators=400, subsample=0.8, reg_lambda=1.3, objective=reg:linear, max_depth=6, gamma=1, total= 1.5min\n",
      "[CV] reg_alpha=0.8, colsample_bytree=0.8, silent=1, learning_rate=0.025, min_child_weight=2, n_estimators=400, subsample=0.8, reg_lambda=0.8, objective=reg:linear, max_depth=6, gamma=1 \n",
      "[CV]  reg_alpha=0.5, colsample_bytree=0.8, silent=1, learning_rate=0.025, min_child_weight=2, n_estimators=400, subsample=0.8, reg_lambda=1.3, objective=reg:linear, max_depth=6, gamma=1, total= 1.4min\n",
      "[CV] reg_alpha=0.8, colsample_bytree=0.8, silent=1, learning_rate=0.025, min_child_weight=2, n_estimators=400, subsample=0.8, reg_lambda=0.8, objective=reg:linear, max_depth=6, gamma=1 \n"
     ]
    },
    {
     "name": "stderr",
     "output_type": "stream",
     "text": [
      "/Library/Python/2.7/site-packages/sklearn/metrics/scorer.py:90: DeprecationWarning: Scoring method mean_squared_error was renamed to neg_mean_squared_error in version 0.18 and will be removed in 0.20.\n",
      "  sample_weight=sample_weight)\n",
      "/Library/Python/2.7/site-packages/sklearn/metrics/scorer.py:90: DeprecationWarning: Scoring method mean_squared_error was renamed to neg_mean_squared_error in version 0.18 and will be removed in 0.20.\n",
      "  sample_weight=sample_weight)\n",
      "/Library/Python/2.7/site-packages/sklearn/metrics/scorer.py:90: DeprecationWarning: Scoring method mean_squared_error was renamed to neg_mean_squared_error in version 0.18 and will be removed in 0.20.\n",
      "  sample_weight=sample_weight)\n",
      "/Library/Python/2.7/site-packages/sklearn/metrics/scorer.py:90: DeprecationWarning: Scoring method mean_squared_error was renamed to neg_mean_squared_error in version 0.18 and will be removed in 0.20.\n",
      "  sample_weight=sample_weight)\n"
     ]
    },
    {
     "name": "stdout",
     "output_type": "stream",
     "text": [
      "[CV]  reg_alpha=0.8, colsample_bytree=0.8, silent=1, learning_rate=0.025, min_child_weight=2, n_estimators=400, subsample=0.8, reg_lambda=0.8, objective=reg:linear, max_depth=6, gamma=1, total= 1.4min\n",
      "[CV] reg_alpha=0.8, colsample_bytree=0.8, silent=1, learning_rate=0.025, min_child_weight=2, n_estimators=400, subsample=0.8, reg_lambda=0.8, objective=reg:linear, max_depth=6, gamma=1 \n",
      "[CV]  reg_alpha=0.8, colsample_bytree=0.8, silent=1, learning_rate=0.025, min_child_weight=2, n_estimators=400, subsample=0.8, reg_lambda=0.8, objective=reg:linear, max_depth=6, gamma=1, total= 1.4min\n",
      "[CV] reg_alpha=0.8, colsample_bytree=0.8, silent=1, learning_rate=0.025, min_child_weight=2, n_estimators=400, subsample=0.8, reg_lambda=0.8, objective=reg:linear, max_depth=6, gamma=1 \n"
     ]
    },
    {
     "name": "stderr",
     "output_type": "stream",
     "text": [
      "/Library/Python/2.7/site-packages/sklearn/metrics/scorer.py:90: DeprecationWarning: Scoring method mean_squared_error was renamed to neg_mean_squared_error in version 0.18 and will be removed in 0.20.\n",
      "  sample_weight=sample_weight)\n",
      "/Library/Python/2.7/site-packages/sklearn/metrics/scorer.py:90: DeprecationWarning: Scoring method mean_squared_error was renamed to neg_mean_squared_error in version 0.18 and will be removed in 0.20.\n",
      "  sample_weight=sample_weight)\n",
      "/Library/Python/2.7/site-packages/sklearn/metrics/scorer.py:90: DeprecationWarning: Scoring method mean_squared_error was renamed to neg_mean_squared_error in version 0.18 and will be removed in 0.20.\n",
      "  sample_weight=sample_weight)\n",
      "/Library/Python/2.7/site-packages/sklearn/metrics/scorer.py:90: DeprecationWarning: Scoring method mean_squared_error was renamed to neg_mean_squared_error in version 0.18 and will be removed in 0.20.\n",
      "  sample_weight=sample_weight)\n"
     ]
    },
    {
     "name": "stdout",
     "output_type": "stream",
     "text": [
      "[CV]  reg_alpha=0.8, colsample_bytree=0.8, silent=1, learning_rate=0.025, min_child_weight=2, n_estimators=400, subsample=0.8, reg_lambda=0.8, objective=reg:linear, max_depth=6, gamma=1, total= 1.3min\n",
      "[CV] reg_alpha=0.8, colsample_bytree=0.8, silent=1, learning_rate=0.025, min_child_weight=2, n_estimators=400, subsample=0.8, reg_lambda=0.8, objective=reg:linear, max_depth=6, gamma=1 \n",
      "[CV]  reg_alpha=0.8, colsample_bytree=0.8, silent=1, learning_rate=0.025, min_child_weight=2, n_estimators=400, subsample=0.8, reg_lambda=0.8, objective=reg:linear, max_depth=6, gamma=1, total= 1.3min\n",
      "[CV] reg_alpha=0.8, colsample_bytree=0.8, silent=1, learning_rate=0.025, min_child_weight=2, n_estimators=400, subsample=0.8, reg_lambda=1.3, objective=reg:linear, max_depth=6, gamma=1 \n"
     ]
    },
    {
     "name": "stderr",
     "output_type": "stream",
     "text": [
      "/Library/Python/2.7/site-packages/sklearn/metrics/scorer.py:90: DeprecationWarning: Scoring method mean_squared_error was renamed to neg_mean_squared_error in version 0.18 and will be removed in 0.20.\n",
      "  sample_weight=sample_weight)\n",
      "/Library/Python/2.7/site-packages/sklearn/metrics/scorer.py:90: DeprecationWarning: Scoring method mean_squared_error was renamed to neg_mean_squared_error in version 0.18 and will be removed in 0.20.\n",
      "  sample_weight=sample_weight)\n",
      "/Library/Python/2.7/site-packages/sklearn/metrics/scorer.py:90: DeprecationWarning: Scoring method mean_squared_error was renamed to neg_mean_squared_error in version 0.18 and will be removed in 0.20.\n",
      "  sample_weight=sample_weight)\n",
      "/Library/Python/2.7/site-packages/sklearn/metrics/scorer.py:90: DeprecationWarning: Scoring method mean_squared_error was renamed to neg_mean_squared_error in version 0.18 and will be removed in 0.20.\n",
      "  sample_weight=sample_weight)\n"
     ]
    },
    {
     "name": "stdout",
     "output_type": "stream",
     "text": [
      "[CV]  reg_alpha=0.8, colsample_bytree=0.8, silent=1, learning_rate=0.025, min_child_weight=2, n_estimators=400, subsample=0.8, reg_lambda=0.8, objective=reg:linear, max_depth=6, gamma=1, total= 1.4min\n",
      "[CV] reg_alpha=0.8, colsample_bytree=0.8, silent=1, learning_rate=0.025, min_child_weight=2, n_estimators=400, subsample=0.8, reg_lambda=1.3, objective=reg:linear, max_depth=6, gamma=1 \n",
      "[CV]  reg_alpha=0.8, colsample_bytree=0.8, silent=1, learning_rate=0.025, min_child_weight=2, n_estimators=400, subsample=0.8, reg_lambda=1.3, objective=reg:linear, max_depth=6, gamma=1, total= 1.5min\n",
      "[CV] reg_alpha=0.8, colsample_bytree=0.8, silent=1, learning_rate=0.025, min_child_weight=2, n_estimators=400, subsample=0.8, reg_lambda=1.3, objective=reg:linear, max_depth=6, gamma=1 \n"
     ]
    },
    {
     "name": "stderr",
     "output_type": "stream",
     "text": [
      "/Library/Python/2.7/site-packages/sklearn/metrics/scorer.py:90: DeprecationWarning: Scoring method mean_squared_error was renamed to neg_mean_squared_error in version 0.18 and will be removed in 0.20.\n",
      "  sample_weight=sample_weight)\n",
      "/Library/Python/2.7/site-packages/sklearn/metrics/scorer.py:90: DeprecationWarning: Scoring method mean_squared_error was renamed to neg_mean_squared_error in version 0.18 and will be removed in 0.20.\n",
      "  sample_weight=sample_weight)\n",
      "/Library/Python/2.7/site-packages/sklearn/metrics/scorer.py:90: DeprecationWarning: Scoring method mean_squared_error was renamed to neg_mean_squared_error in version 0.18 and will be removed in 0.20.\n",
      "  sample_weight=sample_weight)\n",
      "/Library/Python/2.7/site-packages/sklearn/metrics/scorer.py:90: DeprecationWarning: Scoring method mean_squared_error was renamed to neg_mean_squared_error in version 0.18 and will be removed in 0.20.\n",
      "  sample_weight=sample_weight)\n"
     ]
    },
    {
     "name": "stdout",
     "output_type": "stream",
     "text": [
      "[CV]  reg_alpha=0.8, colsample_bytree=0.8, silent=1, learning_rate=0.025, min_child_weight=2, n_estimators=400, subsample=0.8, reg_lambda=1.3, objective=reg:linear, max_depth=6, gamma=1, total= 1.3min\n",
      "[CV] reg_alpha=0.8, colsample_bytree=0.8, silent=1, learning_rate=0.025, min_child_weight=2, n_estimators=400, subsample=0.8, reg_lambda=1.3, objective=reg:linear, max_depth=6, gamma=1 \n",
      "[CV]  reg_alpha=0.8, colsample_bytree=0.8, silent=1, learning_rate=0.025, min_child_weight=2, n_estimators=400, subsample=0.8, reg_lambda=1.3, objective=reg:linear, max_depth=6, gamma=1, total= 1.3min\n",
      "[CV] reg_alpha=0.8, colsample_bytree=0.8, silent=1, learning_rate=0.025, min_child_weight=2, n_estimators=400, subsample=0.8, reg_lambda=1.3, objective=reg:linear, max_depth=6, gamma=1 \n"
     ]
    },
    {
     "name": "stderr",
     "output_type": "stream",
     "text": [
      "/Library/Python/2.7/site-packages/sklearn/metrics/scorer.py:90: DeprecationWarning: Scoring method mean_squared_error was renamed to neg_mean_squared_error in version 0.18 and will be removed in 0.20.\n",
      "  sample_weight=sample_weight)\n",
      "/Library/Python/2.7/site-packages/sklearn/metrics/scorer.py:90: DeprecationWarning: Scoring method mean_squared_error was renamed to neg_mean_squared_error in version 0.18 and will be removed in 0.20.\n",
      "  sample_weight=sample_weight)\n",
      "/Library/Python/2.7/site-packages/sklearn/metrics/scorer.py:90: DeprecationWarning: Scoring method mean_squared_error was renamed to neg_mean_squared_error in version 0.18 and will be removed in 0.20.\n",
      "  sample_weight=sample_weight)\n",
      "/Library/Python/2.7/site-packages/sklearn/metrics/scorer.py:90: DeprecationWarning: Scoring method mean_squared_error was renamed to neg_mean_squared_error in version 0.18 and will be removed in 0.20.\n",
      "  sample_weight=sample_weight)\n"
     ]
    },
    {
     "name": "stdout",
     "output_type": "stream",
     "text": [
      "[CV]  reg_alpha=0.8, colsample_bytree=0.8, silent=1, learning_rate=0.025, min_child_weight=2, n_estimators=400, subsample=0.8, reg_lambda=1.3, objective=reg:linear, max_depth=6, gamma=1, total= 1.3min\n",
      "[CV] reg_alpha=0.5, colsample_bytree=0.8, silent=1, learning_rate=0.025, min_child_weight=2, n_estimators=400, subsample=0.8, reg_lambda=0.8, objective=reg:linear, max_depth=6, gamma=3 \n",
      "[CV]  reg_alpha=0.8, colsample_bytree=0.8, silent=1, learning_rate=0.025, min_child_weight=2, n_estimators=400, subsample=0.8, reg_lambda=1.3, objective=reg:linear, max_depth=6, gamma=1, total= 1.3min\n",
      "[CV] reg_alpha=0.5, colsample_bytree=0.8, silent=1, learning_rate=0.025, min_child_weight=2, n_estimators=400, subsample=0.8, reg_lambda=0.8, objective=reg:linear, max_depth=6, gamma=3 \n"
     ]
    },
    {
     "name": "stderr",
     "output_type": "stream",
     "text": [
      "/Library/Python/2.7/site-packages/sklearn/metrics/scorer.py:90: DeprecationWarning: Scoring method mean_squared_error was renamed to neg_mean_squared_error in version 0.18 and will be removed in 0.20.\n",
      "  sample_weight=sample_weight)\n",
      "/Library/Python/2.7/site-packages/sklearn/metrics/scorer.py:90: DeprecationWarning: Scoring method mean_squared_error was renamed to neg_mean_squared_error in version 0.18 and will be removed in 0.20.\n",
      "  sample_weight=sample_weight)\n",
      "/Library/Python/2.7/site-packages/sklearn/metrics/scorer.py:90: DeprecationWarning: Scoring method mean_squared_error was renamed to neg_mean_squared_error in version 0.18 and will be removed in 0.20.\n",
      "  sample_weight=sample_weight)\n",
      "/Library/Python/2.7/site-packages/sklearn/metrics/scorer.py:90: DeprecationWarning: Scoring method mean_squared_error was renamed to neg_mean_squared_error in version 0.18 and will be removed in 0.20.\n",
      "  sample_weight=sample_weight)\n"
     ]
    },
    {
     "name": "stdout",
     "output_type": "stream",
     "text": [
      "[CV]  reg_alpha=0.5, colsample_bytree=0.8, silent=1, learning_rate=0.025, min_child_weight=2, n_estimators=400, subsample=0.8, reg_lambda=0.8, objective=reg:linear, max_depth=6, gamma=3, total= 1.5min\n",
      "[CV] reg_alpha=0.5, colsample_bytree=0.8, silent=1, learning_rate=0.025, min_child_weight=2, n_estimators=400, subsample=0.8, reg_lambda=0.8, objective=reg:linear, max_depth=6, gamma=3 \n",
      "[CV]  reg_alpha=0.5, colsample_bytree=0.8, silent=1, learning_rate=0.025, min_child_weight=2, n_estimators=400, subsample=0.8, reg_lambda=0.8, objective=reg:linear, max_depth=6, gamma=3, total= 1.5min\n",
      "[CV] reg_alpha=0.5, colsample_bytree=0.8, silent=1, learning_rate=0.025, min_child_weight=2, n_estimators=400, subsample=0.8, reg_lambda=0.8, objective=reg:linear, max_depth=6, gamma=3 \n"
     ]
    },
    {
     "name": "stderr",
     "output_type": "stream",
     "text": [
      "/Library/Python/2.7/site-packages/sklearn/metrics/scorer.py:90: DeprecationWarning: Scoring method mean_squared_error was renamed to neg_mean_squared_error in version 0.18 and will be removed in 0.20.\n",
      "  sample_weight=sample_weight)\n",
      "/Library/Python/2.7/site-packages/sklearn/metrics/scorer.py:90: DeprecationWarning: Scoring method mean_squared_error was renamed to neg_mean_squared_error in version 0.18 and will be removed in 0.20.\n",
      "  sample_weight=sample_weight)\n",
      "/Library/Python/2.7/site-packages/sklearn/metrics/scorer.py:90: DeprecationWarning: Scoring method mean_squared_error was renamed to neg_mean_squared_error in version 0.18 and will be removed in 0.20.\n",
      "  sample_weight=sample_weight)\n",
      "/Library/Python/2.7/site-packages/sklearn/metrics/scorer.py:90: DeprecationWarning: Scoring method mean_squared_error was renamed to neg_mean_squared_error in version 0.18 and will be removed in 0.20.\n",
      "  sample_weight=sample_weight)\n"
     ]
    },
    {
     "name": "stdout",
     "output_type": "stream",
     "text": [
      "[CV]  reg_alpha=0.5, colsample_bytree=0.8, silent=1, learning_rate=0.025, min_child_weight=2, n_estimators=400, subsample=0.8, reg_lambda=0.8, objective=reg:linear, max_depth=6, gamma=3, total= 1.4min\n",
      "[CV] reg_alpha=0.5, colsample_bytree=0.8, silent=1, learning_rate=0.025, min_child_weight=2, n_estimators=400, subsample=0.8, reg_lambda=0.8, objective=reg:linear, max_depth=6, gamma=3 \n",
      "[CV]  reg_alpha=0.5, colsample_bytree=0.8, silent=1, learning_rate=0.025, min_child_weight=2, n_estimators=400, subsample=0.8, reg_lambda=0.8, objective=reg:linear, max_depth=6, gamma=3, total= 1.4min\n",
      "[CV] reg_alpha=0.5, colsample_bytree=0.8, silent=1, learning_rate=0.025, min_child_weight=2, n_estimators=400, subsample=0.8, reg_lambda=1.3, objective=reg:linear, max_depth=6, gamma=3 \n"
     ]
    },
    {
     "name": "stderr",
     "output_type": "stream",
     "text": [
      "/Library/Python/2.7/site-packages/sklearn/metrics/scorer.py:90: DeprecationWarning: Scoring method mean_squared_error was renamed to neg_mean_squared_error in version 0.18 and will be removed in 0.20.\n",
      "  sample_weight=sample_weight)\n",
      "/Library/Python/2.7/site-packages/sklearn/metrics/scorer.py:90: DeprecationWarning: Scoring method mean_squared_error was renamed to neg_mean_squared_error in version 0.18 and will be removed in 0.20.\n",
      "  sample_weight=sample_weight)\n",
      "/Library/Python/2.7/site-packages/sklearn/metrics/scorer.py:90: DeprecationWarning: Scoring method mean_squared_error was renamed to neg_mean_squared_error in version 0.18 and will be removed in 0.20.\n",
      "  sample_weight=sample_weight)\n"
     ]
    },
    {
     "name": "stdout",
     "output_type": "stream",
     "text": [
      "[CV]  reg_alpha=0.5, colsample_bytree=0.8, silent=1, learning_rate=0.025, min_child_weight=2, n_estimators=400, subsample=0.8, reg_lambda=0.8, objective=reg:linear, max_depth=6, gamma=3, total= 1.5min\n",
      "[CV] reg_alpha=0.5, colsample_bytree=0.8, silent=1, learning_rate=0.025, min_child_weight=2, n_estimators=400, subsample=0.8, reg_lambda=1.3, objective=reg:linear, max_depth=6, gamma=3 \n"
     ]
    },
    {
     "name": "stderr",
     "output_type": "stream",
     "text": [
      "/Library/Python/2.7/site-packages/sklearn/metrics/scorer.py:90: DeprecationWarning: Scoring method mean_squared_error was renamed to neg_mean_squared_error in version 0.18 and will be removed in 0.20.\n",
      "  sample_weight=sample_weight)\n"
     ]
    },
    {
     "name": "stdout",
     "output_type": "stream",
     "text": [
      "[CV]  reg_alpha=0.5, colsample_bytree=0.8, silent=1, learning_rate=0.025, min_child_weight=2, n_estimators=400, subsample=0.8, reg_lambda=1.3, objective=reg:linear, max_depth=6, gamma=3, total= 1.6min\n",
      "[CV] reg_alpha=0.5, colsample_bytree=0.8, silent=1, learning_rate=0.025, min_child_weight=2, n_estimators=400, subsample=0.8, reg_lambda=1.3, objective=reg:linear, max_depth=6, gamma=3 \n"
     ]
    },
    {
     "name": "stderr",
     "output_type": "stream",
     "text": [
      "/Library/Python/2.7/site-packages/sklearn/metrics/scorer.py:90: DeprecationWarning: Scoring method mean_squared_error was renamed to neg_mean_squared_error in version 0.18 and will be removed in 0.20.\n",
      "  sample_weight=sample_weight)\n",
      "/Library/Python/2.7/site-packages/sklearn/metrics/scorer.py:90: DeprecationWarning: Scoring method mean_squared_error was renamed to neg_mean_squared_error in version 0.18 and will be removed in 0.20.\n",
      "  sample_weight=sample_weight)\n",
      "/Library/Python/2.7/site-packages/sklearn/metrics/scorer.py:90: DeprecationWarning: Scoring method mean_squared_error was renamed to neg_mean_squared_error in version 0.18 and will be removed in 0.20.\n",
      "  sample_weight=sample_weight)\n",
      "/Library/Python/2.7/site-packages/sklearn/metrics/scorer.py:90: DeprecationWarning: Scoring method mean_squared_error was renamed to neg_mean_squared_error in version 0.18 and will be removed in 0.20.\n",
      "  sample_weight=sample_weight)\n"
     ]
    },
    {
     "name": "stdout",
     "output_type": "stream",
     "text": [
      "[CV]  reg_alpha=0.5, colsample_bytree=0.8, silent=1, learning_rate=0.025, min_child_weight=2, n_estimators=400, subsample=0.8, reg_lambda=1.3, objective=reg:linear, max_depth=6, gamma=3, total= 1.5min\n",
      "[CV] reg_alpha=0.5, colsample_bytree=0.8, silent=1, learning_rate=0.025, min_child_weight=2, n_estimators=400, subsample=0.8, reg_lambda=1.3, objective=reg:linear, max_depth=6, gamma=3 \n",
      "[CV]  reg_alpha=0.5, colsample_bytree=0.8, silent=1, learning_rate=0.025, min_child_weight=2, n_estimators=400, subsample=0.8, reg_lambda=1.3, objective=reg:linear, max_depth=6, gamma=3, total= 1.5min\n",
      "[CV] reg_alpha=0.5, colsample_bytree=0.8, silent=1, learning_rate=0.025, min_child_weight=2, n_estimators=400, subsample=0.8, reg_lambda=1.3, objective=reg:linear, max_depth=6, gamma=3 \n"
     ]
    },
    {
     "name": "stderr",
     "output_type": "stream",
     "text": [
      "/Library/Python/2.7/site-packages/sklearn/metrics/scorer.py:90: DeprecationWarning: Scoring method mean_squared_error was renamed to neg_mean_squared_error in version 0.18 and will be removed in 0.20.\n",
      "  sample_weight=sample_weight)\n",
      "/Library/Python/2.7/site-packages/sklearn/metrics/scorer.py:90: DeprecationWarning: Scoring method mean_squared_error was renamed to neg_mean_squared_error in version 0.18 and will be removed in 0.20.\n",
      "  sample_weight=sample_weight)\n",
      "/Library/Python/2.7/site-packages/sklearn/metrics/scorer.py:90: DeprecationWarning: Scoring method mean_squared_error was renamed to neg_mean_squared_error in version 0.18 and will be removed in 0.20.\n",
      "  sample_weight=sample_weight)\n",
      "/Library/Python/2.7/site-packages/sklearn/metrics/scorer.py:90: DeprecationWarning: Scoring method mean_squared_error was renamed to neg_mean_squared_error in version 0.18 and will be removed in 0.20.\n",
      "  sample_weight=sample_weight)\n"
     ]
    },
    {
     "name": "stdout",
     "output_type": "stream",
     "text": [
      "[CV]  reg_alpha=0.5, colsample_bytree=0.8, silent=1, learning_rate=0.025, min_child_weight=2, n_estimators=400, subsample=0.8, reg_lambda=1.3, objective=reg:linear, max_depth=6, gamma=3, total= 1.5min\n",
      "[CV] reg_alpha=0.8, colsample_bytree=0.8, silent=1, learning_rate=0.025, min_child_weight=2, n_estimators=400, subsample=0.8, reg_lambda=0.8, objective=reg:linear, max_depth=6, gamma=3 \n",
      "[CV]  reg_alpha=0.5, colsample_bytree=0.8, silent=1, learning_rate=0.025, min_child_weight=2, n_estimators=400, subsample=0.8, reg_lambda=1.3, objective=reg:linear, max_depth=6, gamma=3, total= 1.5min\n",
      "[CV] reg_alpha=0.8, colsample_bytree=0.8, silent=1, learning_rate=0.025, min_child_weight=2, n_estimators=400, subsample=0.8, reg_lambda=0.8, objective=reg:linear, max_depth=6, gamma=3 \n"
     ]
    },
    {
     "name": "stderr",
     "output_type": "stream",
     "text": [
      "/Library/Python/2.7/site-packages/sklearn/metrics/scorer.py:90: DeprecationWarning: Scoring method mean_squared_error was renamed to neg_mean_squared_error in version 0.18 and will be removed in 0.20.\n",
      "  sample_weight=sample_weight)\n",
      "/Library/Python/2.7/site-packages/sklearn/metrics/scorer.py:90: DeprecationWarning: Scoring method mean_squared_error was renamed to neg_mean_squared_error in version 0.18 and will be removed in 0.20.\n",
      "  sample_weight=sample_weight)\n",
      "/Library/Python/2.7/site-packages/sklearn/metrics/scorer.py:90: DeprecationWarning: Scoring method mean_squared_error was renamed to neg_mean_squared_error in version 0.18 and will be removed in 0.20.\n",
      "  sample_weight=sample_weight)\n",
      "/Library/Python/2.7/site-packages/sklearn/metrics/scorer.py:90: DeprecationWarning: Scoring method mean_squared_error was renamed to neg_mean_squared_error in version 0.18 and will be removed in 0.20.\n",
      "  sample_weight=sample_weight)\n"
     ]
    },
    {
     "name": "stdout",
     "output_type": "stream",
     "text": [
      "[CV]  reg_alpha=0.8, colsample_bytree=0.8, silent=1, learning_rate=0.025, min_child_weight=2, n_estimators=400, subsample=0.8, reg_lambda=0.8, objective=reg:linear, max_depth=6, gamma=3, total= 1.6min\n",
      "[CV] reg_alpha=0.8, colsample_bytree=0.8, silent=1, learning_rate=0.025, min_child_weight=2, n_estimators=400, subsample=0.8, reg_lambda=0.8, objective=reg:linear, max_depth=6, gamma=3 \n",
      "[CV]  reg_alpha=0.8, colsample_bytree=0.8, silent=1, learning_rate=0.025, min_child_weight=2, n_estimators=400, subsample=0.8, reg_lambda=0.8, objective=reg:linear, max_depth=6, gamma=3, total= 1.6min\n",
      "[CV] reg_alpha=0.8, colsample_bytree=0.8, silent=1, learning_rate=0.025, min_child_weight=2, n_estimators=400, subsample=0.8, reg_lambda=0.8, objective=reg:linear, max_depth=6, gamma=3 \n"
     ]
    },
    {
     "name": "stderr",
     "output_type": "stream",
     "text": [
      "/Library/Python/2.7/site-packages/sklearn/metrics/scorer.py:90: DeprecationWarning: Scoring method mean_squared_error was renamed to neg_mean_squared_error in version 0.18 and will be removed in 0.20.\n",
      "  sample_weight=sample_weight)\n",
      "/Library/Python/2.7/site-packages/sklearn/metrics/scorer.py:90: DeprecationWarning: Scoring method mean_squared_error was renamed to neg_mean_squared_error in version 0.18 and will be removed in 0.20.\n",
      "  sample_weight=sample_weight)\n",
      "/Library/Python/2.7/site-packages/sklearn/metrics/scorer.py:90: DeprecationWarning: Scoring method mean_squared_error was renamed to neg_mean_squared_error in version 0.18 and will be removed in 0.20.\n",
      "  sample_weight=sample_weight)\n",
      "/Library/Python/2.7/site-packages/sklearn/metrics/scorer.py:90: DeprecationWarning: Scoring method mean_squared_error was renamed to neg_mean_squared_error in version 0.18 and will be removed in 0.20.\n",
      "  sample_weight=sample_weight)\n"
     ]
    },
    {
     "name": "stdout",
     "output_type": "stream",
     "text": [
      "[CV]  reg_alpha=0.8, colsample_bytree=0.8, silent=1, learning_rate=0.025, min_child_weight=2, n_estimators=400, subsample=0.8, reg_lambda=0.8, objective=reg:linear, max_depth=6, gamma=3, total= 1.2min\n",
      "[CV] reg_alpha=0.8, colsample_bytree=0.8, silent=1, learning_rate=0.025, min_child_weight=2, n_estimators=400, subsample=0.8, reg_lambda=0.8, objective=reg:linear, max_depth=6, gamma=3 \n",
      "[CV]  reg_alpha=0.8, colsample_bytree=0.8, silent=1, learning_rate=0.025, min_child_weight=2, n_estimators=400, subsample=0.8, reg_lambda=0.8, objective=reg:linear, max_depth=6, gamma=3, total= 1.2min\n",
      "[CV] reg_alpha=0.8, colsample_bytree=0.8, silent=1, learning_rate=0.025, min_child_weight=2, n_estimators=400, subsample=0.8, reg_lambda=1.3, objective=reg:linear, max_depth=6, gamma=3 \n"
     ]
    },
    {
     "name": "stderr",
     "output_type": "stream",
     "text": [
      "/Library/Python/2.7/site-packages/sklearn/metrics/scorer.py:90: DeprecationWarning: Scoring method mean_squared_error was renamed to neg_mean_squared_error in version 0.18 and will be removed in 0.20.\n",
      "  sample_weight=sample_weight)\n",
      "/Library/Python/2.7/site-packages/sklearn/metrics/scorer.py:90: DeprecationWarning: Scoring method mean_squared_error was renamed to neg_mean_squared_error in version 0.18 and will be removed in 0.20.\n",
      "  sample_weight=sample_weight)\n",
      "/Library/Python/2.7/site-packages/sklearn/metrics/scorer.py:90: DeprecationWarning: Scoring method mean_squared_error was renamed to neg_mean_squared_error in version 0.18 and will be removed in 0.20.\n",
      "  sample_weight=sample_weight)\n"
     ]
    },
    {
     "name": "stdout",
     "output_type": "stream",
     "text": [
      "[CV]  reg_alpha=0.8, colsample_bytree=0.8, silent=1, learning_rate=0.025, min_child_weight=2, n_estimators=400, subsample=0.8, reg_lambda=0.8, objective=reg:linear, max_depth=6, gamma=3, total= 1.2min\n",
      "[CV] reg_alpha=0.8, colsample_bytree=0.8, silent=1, learning_rate=0.025, min_child_weight=2, n_estimators=400, subsample=0.8, reg_lambda=1.3, objective=reg:linear, max_depth=6, gamma=3 \n"
     ]
    },
    {
     "name": "stderr",
     "output_type": "stream",
     "text": [
      "/Library/Python/2.7/site-packages/sklearn/metrics/scorer.py:90: DeprecationWarning: Scoring method mean_squared_error was renamed to neg_mean_squared_error in version 0.18 and will be removed in 0.20.\n",
      "  sample_weight=sample_weight)\n"
     ]
    },
    {
     "name": "stdout",
     "output_type": "stream",
     "text": [
      "[CV]  reg_alpha=0.8, colsample_bytree=0.8, silent=1, learning_rate=0.025, min_child_weight=2, n_estimators=400, subsample=0.8, reg_lambda=1.3, objective=reg:linear, max_depth=6, gamma=3, total= 1.3min\n",
      "[CV] reg_alpha=0.8, colsample_bytree=0.8, silent=1, learning_rate=0.025, min_child_weight=2, n_estimators=400, subsample=0.8, reg_lambda=1.3, objective=reg:linear, max_depth=6, gamma=3 \n"
     ]
    },
    {
     "name": "stderr",
     "output_type": "stream",
     "text": [
      "/Library/Python/2.7/site-packages/sklearn/metrics/scorer.py:90: DeprecationWarning: Scoring method mean_squared_error was renamed to neg_mean_squared_error in version 0.18 and will be removed in 0.20.\n",
      "  sample_weight=sample_weight)\n",
      "/Library/Python/2.7/site-packages/sklearn/metrics/scorer.py:90: DeprecationWarning: Scoring method mean_squared_error was renamed to neg_mean_squared_error in version 0.18 and will be removed in 0.20.\n",
      "  sample_weight=sample_weight)\n",
      "/Library/Python/2.7/site-packages/sklearn/metrics/scorer.py:90: DeprecationWarning: Scoring method mean_squared_error was renamed to neg_mean_squared_error in version 0.18 and will be removed in 0.20.\n",
      "  sample_weight=sample_weight)\n",
      "/Library/Python/2.7/site-packages/sklearn/metrics/scorer.py:90: DeprecationWarning: Scoring method mean_squared_error was renamed to neg_mean_squared_error in version 0.18 and will be removed in 0.20.\n",
      "  sample_weight=sample_weight)\n"
     ]
    },
    {
     "name": "stdout",
     "output_type": "stream",
     "text": [
      "[CV]  reg_alpha=0.8, colsample_bytree=0.8, silent=1, learning_rate=0.025, min_child_weight=2, n_estimators=400, subsample=0.8, reg_lambda=1.3, objective=reg:linear, max_depth=6, gamma=3, total= 1.5min\n",
      "[CV] reg_alpha=0.8, colsample_bytree=0.8, silent=1, learning_rate=0.025, min_child_weight=2, n_estimators=400, subsample=0.8, reg_lambda=1.3, objective=reg:linear, max_depth=6, gamma=3 \n"
     ]
    },
    {
     "name": "stderr",
     "output_type": "stream",
     "text": [
      "[Parallel(n_jobs=2)]: Done  37 tasks      | elapsed: 28.4min\n"
     ]
    },
    {
     "name": "stdout",
     "output_type": "stream",
     "text": [
      "[CV]  reg_alpha=0.8, colsample_bytree=0.8, silent=1, learning_rate=0.025, min_child_weight=2, n_estimators=400, subsample=0.8, reg_lambda=1.3, objective=reg:linear, max_depth=6, gamma=3, total= 1.4min\n",
      "[CV] reg_alpha=0.8, colsample_bytree=0.8, silent=1, learning_rate=0.025, min_child_weight=2, n_estimators=400, subsample=0.8, reg_lambda=1.3, objective=reg:linear, max_depth=6, gamma=3 \n"
     ]
    },
    {
     "name": "stderr",
     "output_type": "stream",
     "text": [
      "/Library/Python/2.7/site-packages/sklearn/metrics/scorer.py:90: DeprecationWarning: Scoring method mean_squared_error was renamed to neg_mean_squared_error in version 0.18 and will be removed in 0.20.\n",
      "  sample_weight=sample_weight)\n",
      "/Library/Python/2.7/site-packages/sklearn/metrics/scorer.py:90: DeprecationWarning: Scoring method mean_squared_error was renamed to neg_mean_squared_error in version 0.18 and will be removed in 0.20.\n",
      "  sample_weight=sample_weight)\n",
      "/Library/Python/2.7/site-packages/sklearn/metrics/scorer.py:90: DeprecationWarning: Scoring method mean_squared_error was renamed to neg_mean_squared_error in version 0.18 and will be removed in 0.20.\n",
      "  sample_weight=sample_weight)\n",
      "/Library/Python/2.7/site-packages/sklearn/metrics/scorer.py:90: DeprecationWarning: Scoring method mean_squared_error was renamed to neg_mean_squared_error in version 0.18 and will be removed in 0.20.\n",
      "  sample_weight=sample_weight)\n"
     ]
    },
    {
     "name": "stdout",
     "output_type": "stream",
     "text": [
      "[CV]  reg_alpha=0.8, colsample_bytree=0.8, silent=1, learning_rate=0.025, min_child_weight=2, n_estimators=400, subsample=0.8, reg_lambda=1.3, objective=reg:linear, max_depth=6, gamma=3, total= 1.2min\n",
      "[CV]  reg_alpha=0.8, colsample_bytree=0.8, silent=1, learning_rate=0.025, min_child_weight=2, n_estimators=400, subsample=0.8, reg_lambda=1.3, objective=reg:linear, max_depth=6, gamma=3, total= 1.2min\n"
     ]
    },
    {
     "name": "stderr",
     "output_type": "stream",
     "text": [
      "[Parallel(n_jobs=2)]: Done  40 out of  40 | elapsed: 29.7min finished\n"
     ]
    }
   ],
   "source": [
    "modelXgboost = xgb.XGBRegressor()\n",
    "\n",
    "    # Run the grid search\n",
    "grid_obj_xgb = GridSearchCV(modelXgboost, xgb_params, cv=KFold(n_splits=5, shuffle=True, random_state=42), n_jobs=2, verbose=2, refit=True,scoring='mean_squared_error')\n",
    "grid_obj_xgb = grid_obj_xgb.fit(X, y)\n"
   ]
  },
  {
   "cell_type": "code",
   "execution_count": 351,
   "metadata": {},
   "outputs": [
    {
     "data": {
      "text/plain": [
       "{'colsample_bytree': 0.8,\n",
       " 'gamma': 1,\n",
       " 'learning_rate': 0.025,\n",
       " 'max_depth': 6,\n",
       " 'min_child_weight': 2,\n",
       " 'n_estimators': 400,\n",
       " 'objective': 'reg:linear',\n",
       " 'reg_alpha': 0.5,\n",
       " 'reg_lambda': 0.8,\n",
       " 'silent': 1,\n",
       " 'subsample': 0.8}"
      ]
     },
     "execution_count": 351,
     "metadata": {},
     "output_type": "execute_result"
    }
   ],
   "source": [
    "clf = grid_obj_xgb.best_estimator_\n",
    "grid_obj_xgb.best_params_"
   ]
  },
  {
   "cell_type": "code",
   "execution_count": 22,
   "metadata": {},
   "outputs": [
    {
     "data": {
      "text/plain": [
       "['age',\n",
       " 'sex',\n",
       " 'limit',\n",
       " 'active_month',\n",
       " 'active_year',\n",
       " 'active_day_of_week',\n",
       " 'comsume_count',\n",
       " 'consume_amount',\n",
       " 'loan_amount',\n",
       " 'loan_count',\n",
       " 'plannum',\n",
       " 'click_count',\n",
       " 'limit_get_promoted',\n",
       " 'limit_get_promoted_ever',\n",
       " 'comsume_count_cum',\n",
       " 'consume_amount_cum',\n",
       " 'loan_amount_cum',\n",
       " 'loan_count_cum',\n",
       " 'click_count_cum',\n",
       " 'plannum_cum',\n",
       " 'actived_months',\n",
       " 'avg_consume_amount_cum',\n",
       " 'median_consume_amount_cum',\n",
       " 'dev_consume_amount_cum',\n",
       " 'dev_median_consume_amount_cum',\n",
       " 'avg_loan_amount_cum',\n",
       " 'dev_loan_amount_cum',\n",
       " 'avg_loan_amount',\n",
       " 'dev_loan_amount',\n",
       " 'avg_click_count_cum',\n",
       " 'median_click_count_cum',\n",
       " 'dev_click_count_cum',\n",
       " 'dev_median_click_count_cum',\n",
       " 'avg_click_count',\n",
       " 'median_click_count',\n",
       " 'dev_click_count',\n",
       " 'dev_median_click_count',\n",
       " 'cate_0',\n",
       " 'cate_1',\n",
       " 'cate_2']"
      ]
     },
     "execution_count": 22,
     "metadata": {},
     "output_type": "execute_result"
    }
   ],
   "source": [
    "all_features"
   ]
  },
  {
   "cell_type": "code",
   "execution_count": 6,
   "metadata": {},
   "outputs": [
    {
     "data": {
      "text/plain": [
       "['uid',\n",
       " 'age',\n",
       " 'sex',\n",
       " 'active_date',\n",
       " 'limit',\n",
       " 'active_month',\n",
       " 'active_year',\n",
       " 'comsume_count',\n",
       " 'consume_amount',\n",
       " 'loan_amount',\n",
       " 'loan_count',\n",
       " 'plannum',\n",
       " 'click_count',\n",
       " 'limit_get_promoted',\n",
       " 'limit_get_promoted_ever',\n",
       " 'comsume_count_cum',\n",
       " 'consume_amount_cum',\n",
       " 'loan_amount_cum',\n",
       " 'loan_count_cum',\n",
       " 'click_count_cum',\n",
       " 'plannum_cum',\n",
       " 'actived_months',\n",
       " 'comsume_counts_sum',\n",
       " 'comsume_amounts_sum',\n",
       " 'click_counts_sum',\n",
       " 'target',\n",
       " 'avg_consume_amount_cum',\n",
       " 'median_consume_amount_cum',\n",
       " 'dev_consume_amount_cum',\n",
       " 'dev_median_consume_amount_cum',\n",
       " 'avg_loan_amount_cum',\n",
       " 'median_loan_amount_cum',\n",
       " 'dev_loan_amount_cum',\n",
       " 'dev_median_loan_amount_cum',\n",
       " 'avg_loan_amount',\n",
       " 'median_loan_amount',\n",
       " 'dev_loan_amount',\n",
       " 'dev_median_loan_amount',\n",
       " 'avg_click_count_cum',\n",
       " 'median_click_count_cum',\n",
       " 'dev_click_count_cum',\n",
       " 'dev_median_click_count_cum',\n",
       " 'avg_click_count',\n",
       " 'median_click_count',\n",
       " 'dev_click_count',\n",
       " 'dev_median_click_count',\n",
       " 'cate_0',\n",
       " 'cate_1',\n",
       " 'cate_2']"
      ]
     },
     "execution_count": 6,
     "metadata": {},
     "output_type": "execute_result"
    }
   ],
   "source": [
    "list(train)"
   ]
  },
  {
   "cell_type": "code",
   "execution_count": 29,
   "metadata": {
    "collapsed": true
   },
   "outputs": [],
   "source": [
    "    train_cat = pd.read_csv(INPUT_PATH + \"train_cate_id.csv\")\n",
    "    submit_cat = pd.read_csv(INPUT_PATH + \"submit_cate_id.csv\")\n",
    "    col_num = 3\n",
    "    name_basic = 'cate_{}'"
   ]
  },
  {
   "cell_type": "code",
   "execution_count": 30,
   "metadata": {
    "collapsed": true
   },
   "outputs": [],
   "source": [
    "cols_svd_name = map(lambda x: name_basic.format(x), range(0, col_num))"
   ]
  },
  {
   "cell_type": "code",
   "execution_count": 31,
   "metadata": {},
   "outputs": [
    {
     "data": {
      "text/plain": [
       "['cate_0', 'cate_1', 'cate_2']"
      ]
     },
     "execution_count": 31,
     "metadata": {},
     "output_type": "execute_result"
    }
   ],
   "source": [
    "cols_svd_name"
   ]
  },
  {
   "cell_type": "code",
   "execution_count": 32,
   "metadata": {
    "collapsed": true
   },
   "outputs": [],
   "source": [
    "    all_cols = cols_svd_name + ['cat_counts']\n"
   ]
  },
  {
   "cell_type": "code",
   "execution_count": 33,
   "metadata": {},
   "outputs": [
    {
     "data": {
      "text/plain": [
       "['cate_0', 'cate_1', 'cate_2', 'cat_counts']"
      ]
     },
     "execution_count": 33,
     "metadata": {},
     "output_type": "execute_result"
    }
   ],
   "source": [
    "all_cols"
   ]
  },
  {
   "cell_type": "code",
   "execution_count": 23,
   "metadata": {},
   "outputs": [
    {
     "data": {
      "text/plain": [
       "0         1\n",
       "1         6\n",
       "2         1\n",
       "3         5\n",
       "4         1\n",
       "5         3\n",
       "6         5\n",
       "7         3\n",
       "8         3\n",
       "9         1\n",
       "10        4\n",
       "11        2\n",
       "12        3\n",
       "13        2\n",
       "14        1\n",
       "15        0\n",
       "16        3\n",
       "17        3\n",
       "18        1\n",
       "19        3\n",
       "20        1\n",
       "21        4\n",
       "22        4\n",
       "23        4\n",
       "24        2\n",
       "25        5\n",
       "26        5\n",
       "27        1\n",
       "28        3\n",
       "29        6\n",
       "         ..\n",
       "272949    2\n",
       "272950    1\n",
       "272951    0\n",
       "272952    2\n",
       "272953    2\n",
       "272954    2\n",
       "272955    1\n",
       "272956    1\n",
       "272957    6\n",
       "272958    6\n",
       "272959    3\n",
       "272960    1\n",
       "272961    1\n",
       "272962    1\n",
       "272963    2\n",
       "272964    2\n",
       "272965    6\n",
       "272966    0\n",
       "272967    1\n",
       "272968    1\n",
       "272969    0\n",
       "272970    5\n",
       "272971    2\n",
       "272972    4\n",
       "272973    2\n",
       "272974    6\n",
       "272975    6\n",
       "272976    2\n",
       "272977    0\n",
       "272978    3\n",
       "Name: active_day_of_week, Length: 272979, dtype: int64"
      ]
     },
     "execution_count": 23,
     "metadata": {},
     "output_type": "execute_result"
    }
   ],
   "source": [
    "train['active_day_of_week']"
   ]
  },
  {
   "cell_type": "code",
   "execution_count": null,
   "metadata": {
    "collapsed": true
   },
   "outputs": [],
   "source": []
  }
 ],
 "metadata": {
  "kernelspec": {
   "display_name": "Python 2",
   "language": "python",
   "name": "python2"
  },
  "language_info": {
   "codemirror_mode": {
    "name": "ipython",
    "version": 2
   },
   "file_extension": ".py",
   "mimetype": "text/x-python",
   "name": "python",
   "nbconvert_exporter": "python",
   "pygments_lexer": "ipython2",
   "version": "2.7.10"
  }
 },
 "nbformat": 4,
 "nbformat_minor": 2
}
