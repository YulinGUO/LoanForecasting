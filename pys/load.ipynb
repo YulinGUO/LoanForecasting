{
 "cells": [
  {
   "cell_type": "code",
   "execution_count": 1,
   "metadata": {},
   "outputs": [
    {
     "name": "stderr",
     "output_type": "stream",
     "text": [
      "/Library/Python/2.7/site-packages/sklearn/cross_validation.py:44: DeprecationWarning: This module was deprecated in version 0.18 in favor of the model_selection module into which all the refactored classes and functions are moved. Also note that the interface of the new CV iterators are different from that of this module. This module will be removed in 0.20.\n",
      "  \"This module will be removed in 0.20.\", DeprecationWarning)\n"
     ]
    }
   ],
   "source": [
    "import numpy as np\n",
    "\n",
    "import pandas as pd\n",
    "\n",
    "from sklearn.model_selection import KFold\n",
    "\n",
    "from sklearn.metrics import mean_squared_error\n",
    "\n",
    "import xgboost as xgb\n",
    "\n",
    "import math"
   ]
  },
  {
   "cell_type": "code",
   "execution_count": 2,
   "metadata": {
    "collapsed": true
   },
   "outputs": [],
   "source": [
    "INPUT_PATH = '../input/'\n",
    "OUTPUT_PATH = '../output/'\n",
    "\n",
    "\n",
    "def load_data():\n",
    "    train = pd.read_csv(INPUT_PATH + 'trainv1.csv')\n",
    "    train['target'] = train['target'].map(lambda x: data_log(x))\n",
    "    submit = pd.read_csv(INPUT_PATH + 'submitv1.csv')\n",
    "    return train, submit\n",
    "\n",
    "\n",
    "def get_xgb_imp(xgb, feat_names):\n",
    "    from numpy import array\n",
    "    imp_vals = xgb.get_fscore()\n",
    "    imp_dict = {feat_names[i]:float(imp_vals.get('f'+str(i),0.)) for i in range(len(feat_names))}\n",
    "    total = array(imp_dict.values()).sum()\n",
    "    return {k:v/total for k,v in imp_dict.items()}\n",
    "\n",
    "\n",
    "def merge_dic(dicts):\n",
    "    ret = {}\n",
    "    for dict in dicts:\n",
    "        for key in dict:\n",
    "            val = dict[key]\n",
    "            ret[key] = ret[key]+val if key in ret else val\n",
    "    return ret\n",
    "\n",
    "def data_log(x):\n",
    "    if x <= 0:\n",
    "        return 0\n",
    "    else:\n",
    "        return np.math.log(x + 1, 5)"
   ]
  },
  {
   "cell_type": "code",
   "execution_count": 3,
   "metadata": {},
   "outputs": [
    {
     "name": "stdout",
     "output_type": "stream",
     "text": [
      "begin to load data\n"
     ]
    }
   ],
   "source": [
    "print('begin to load data')\n",
    "train, submit = load_data()\n",
    "\n",
    "kfold = 10\n",
    "skf = KFold(n_splits=kfold,shuffle=True, random_state=42)"
   ]
  },
  {
   "cell_type": "code",
   "execution_count": 4,
   "metadata": {
    "collapsed": true
   },
   "outputs": [],
   "source": [
    "params = {\n",
    "        'objective': 'reg:linear',\n",
    "        'max_depth': 6,\n",
    "        'colsample_bytree': 0.8,\n",
    "        'subsample': 0.8,\n",
    "        'eta': 0.025,\n",
    "        'gamma': 1,\n",
    "        'reg_alpha': 0.5,\n",
    "        'reg_lambda': 0.8,\n",
    "        'eval_metric': 'rmse',\n",
    "        'min_child_weight': 2,\n",
    "        'silent': 1,\n",
    "        'nthread': 6\n",
    "    }\n",
    "\n"
   ]
  },
  {
   "cell_type": "code",
   "execution_count": 5,
   "metadata": {
    "collapsed": true
   },
   "outputs": [],
   "source": [
    "# cum = get_column_by_cum(train)\n",
    "cum= ['comsume_counts_sum',\n",
    " 'comsume_amounts_sum',\n",
    " 'click_counts_sum']\n",
    "\n",
    "# cum= []\n",
    "\n",
    "all_features = [x for x in train.columns if not x in ['uid', 'target', 'active_date' ]+cum]\n",
    "\n",
    "X = train.drop(['uid', 'target', 'active_date']+cum, axis=1).values\n",
    "y = train.target.values\n",
    "\n",
    "sub_id = submit.uid.values\n",
    "submit = submit.drop(['uid', 'active_date']+cum, axis=1)\n",
    "\n",
    "sub = pd.DataFrame()\n",
    "sub['uid'] = sub_id\n",
    "sub['target'] = np.zeros_like(sub_id)\n",
    "\n",
    "scores = []\n",
    "\n",
    "importances = []"
   ]
  },
  {
   "cell_type": "code",
   "execution_count": 37,
   "metadata": {},
   "outputs": [
    {
     "name": "stdout",
     "output_type": "stream",
     "text": [
      "[0]\ttrain-rmse:2.45882\tvalid-rmse:2.47471\n",
      "Multiple eval metrics have been passed: 'valid-rmse' will be used for early stopping.\n",
      "\n",
      "Will train until valid-rmse hasn't improved in 70 rounds.\n",
      "[50]\ttrain-rmse:1.91881\tvalid-rmse:1.91747\n",
      "[100]\ttrain-rmse:1.85429\tvalid-rmse:1.85253\n",
      "[150]\ttrain-rmse:1.84221\tvalid-rmse:1.84421\n",
      "[200]\ttrain-rmse:1.83605\tvalid-rmse:1.84232\n",
      "[250]\ttrain-rmse:1.83177\tvalid-rmse:1.84156\n",
      "[300]\ttrain-rmse:1.82812\tvalid-rmse:1.84133\n",
      "[350]\ttrain-rmse:1.82484\tvalid-rmse:1.84118\n",
      "[400]\ttrain-rmse:1.82159\tvalid-rmse:1.84122\n",
      "[450]\ttrain-rmse:1.81857\tvalid-rmse:1.8411\n",
      "[500]\ttrain-rmse:1.81551\tvalid-rmse:1.84102\n",
      "[550]\ttrain-rmse:1.81273\tvalid-rmse:1.84098\n",
      "Stopping. Best iteration:\n",
      "[508]\ttrain-rmse:1.81506\tvalid-rmse:1.84093\n",
      "\n",
      "{'consume_amount_cum': 0.087933703082677672, 'active_month': 0.037211402037920803, 'actived_months': 0.03827550625564298, 'click_count': 0.083032374564684638, 'comsume_count': 0.065619760092867283, 'age': 0.026634851025409519, 'click_count_cum': 0.072939507287501607, 'plannum': 0.051334967109505997, 'sex': 0.0050303108474139043, 'loan_count': 0.042693151038307751, 'loan_amount': 0.10663614084870372, 'limit': 0.033728879143557336, 'comsume_count_cum': 0.060653940410163809, 'loan_count_cum': 0.035534631755449506, 'loan_amount_cum': 0.10686185992519025, 'consume_amount': 0.092835031600670706, 'plannum_cum': 0.050786792209467302, 'active_year': 0.0022571907648652133}\n",
      "1.84092639504\n",
      "[Fold 1/10 Prediciton:]\n",
      "[0]\ttrain-rmse:2.45948\tvalid-rmse:2.46892\n",
      "Multiple eval metrics have been passed: 'valid-rmse' will be used for early stopping.\n",
      "\n",
      "Will train until valid-rmse hasn't improved in 70 rounds.\n",
      "[50]\ttrain-rmse:1.917\tvalid-rmse:1.92973\n",
      "[100]\ttrain-rmse:1.85204\tvalid-rmse:1.86973\n",
      "[150]\ttrain-rmse:1.83968\tvalid-rmse:1.86247\n",
      "[200]\ttrain-rmse:1.83392\tvalid-rmse:1.86076\n",
      "[250]\ttrain-rmse:1.82961\tvalid-rmse:1.85978\n",
      "[300]\ttrain-rmse:1.82612\tvalid-rmse:1.85949\n",
      "[350]\ttrain-rmse:1.8226\tvalid-rmse:1.85911\n",
      "[400]\ttrain-rmse:1.81933\tvalid-rmse:1.85883\n",
      "[450]\ttrain-rmse:1.81643\tvalid-rmse:1.85873\n",
      "[500]\ttrain-rmse:1.8134\tvalid-rmse:1.85838\n",
      "[550]\ttrain-rmse:1.81031\tvalid-rmse:1.85835\n",
      "[600]\ttrain-rmse:1.80758\tvalid-rmse:1.85838\n",
      "Stopping. Best iteration:\n",
      "[569]\ttrain-rmse:1.80928\tvalid-rmse:1.85822\n",
      "\n",
      "{'consume_amount_cum': 0.087412484986964287, 'active_month': 0.037290916014881215, 'actived_months': 0.037085859917391689, 'click_count': 0.084570993350323698, 'comsume_count': 0.062688578375369827, 'age': 0.027623985704660632, 'click_count_cum': 0.07481618185546475, 'plannum': 0.050912499633828399, 'sex': 0.0053607522629405043, 'loan_count': 0.043149661657439144, 'loan_amount': 0.10194217418050795, 'limit': 0.031520051556961658, 'comsume_count_cum': 0.062659284647157046, 'loan_count_cum': 0.036558572809561471, 'loan_amount_cum': 0.10616047104314966, 'consume_amount': 0.098778451533526671, 'plannum_cum': 0.048949819843571489, 'active_year': 0.0025192606262999092}\n",
      "1.85822080154\n",
      "[Fold 2/10 Prediciton:]\n",
      "[0]\ttrain-rmse:2.45913\tvalid-rmse:2.4715\n",
      "Multiple eval metrics have been passed: 'valid-rmse' will be used for early stopping.\n",
      "\n",
      "Will train until valid-rmse hasn't improved in 70 rounds.\n",
      "[50]\ttrain-rmse:1.91645\tvalid-rmse:1.9331\n",
      "[100]\ttrain-rmse:1.85167\tvalid-rmse:1.87459\n",
      "[150]\ttrain-rmse:1.83964\tvalid-rmse:1.86782\n",
      "[200]\ttrain-rmse:1.83382\tvalid-rmse:1.86621\n",
      "[250]\ttrain-rmse:1.82921\tvalid-rmse:1.86517\n",
      "[300]\ttrain-rmse:1.82571\tvalid-rmse:1.86491\n",
      "[350]\ttrain-rmse:1.82236\tvalid-rmse:1.86478\n",
      "[400]\ttrain-rmse:1.8192\tvalid-rmse:1.86456\n",
      "[450]\ttrain-rmse:1.81631\tvalid-rmse:1.86471\n",
      "Stopping. Best iteration:\n",
      "[413]\ttrain-rmse:1.81845\tvalid-rmse:1.8645\n",
      "\n",
      "{'consume_amount_cum': 0.084575776206578537, 'active_month': 0.038964033200122962, 'actived_months': 0.040308945588687368, 'click_count': 0.082385490316630797, 'comsume_count': 0.061827543805717797, 'age': 0.027436212726713802, 'click_count_cum': 0.073739624961573935, 'plannum': 0.051529357516138949, 'sex': 0.004880110667076545, 'loan_count': 0.046418690439594221, 'loan_amount': 0.10547955733169383, 'limit': 0.035620965262834307, 'comsume_count_cum': 0.059637257915770056, 'loan_count_cum': 0.039732554565016905, 'loan_amount_cum': 0.10459575776206578, 'consume_amount': 0.085843836458653552, 'plannum_cum': 0.053642791269597298, 'active_year': 0.0033814940055333538}\n",
      "1.86449847542\n",
      "[Fold 3/10 Prediciton:]\n",
      "[0]\ttrain-rmse:2.46055\tvalid-rmse:2.46023\n",
      "Multiple eval metrics have been passed: 'valid-rmse' will be used for early stopping.\n",
      "\n",
      "Will train until valid-rmse hasn't improved in 70 rounds.\n",
      "[50]\ttrain-rmse:1.91858\tvalid-rmse:1.91999\n",
      "[100]\ttrain-rmse:1.85379\tvalid-rmse:1.85756\n",
      "[150]\ttrain-rmse:1.84195\tvalid-rmse:1.84921\n",
      "[200]\ttrain-rmse:1.83582\tvalid-rmse:1.84694\n",
      "[250]\ttrain-rmse:1.83179\tvalid-rmse:1.84593\n",
      "[300]\ttrain-rmse:1.82865\tvalid-rmse:1.84559\n",
      "[350]\ttrain-rmse:1.82508\tvalid-rmse:1.84512\n",
      "[400]\ttrain-rmse:1.82223\tvalid-rmse:1.84476\n",
      "[450]\ttrain-rmse:1.81919\tvalid-rmse:1.84459\n",
      "[500]\ttrain-rmse:1.8162\tvalid-rmse:1.84459\n",
      "[550]\ttrain-rmse:1.81315\tvalid-rmse:1.84455\n",
      "[600]\ttrain-rmse:1.81015\tvalid-rmse:1.84434\n",
      "[650]\ttrain-rmse:1.80718\tvalid-rmse:1.84424\n",
      "[700]\ttrain-rmse:1.80452\tvalid-rmse:1.84409\n",
      "[750]\ttrain-rmse:1.80199\tvalid-rmse:1.84405\n",
      "[800]\ttrain-rmse:1.79941\tvalid-rmse:1.84412\n",
      "Stopping. Best iteration:\n",
      "[771]\ttrain-rmse:1.80093\tvalid-rmse:1.84403\n",
      "\n",
      "{'consume_amount_cum': 0.091251560195166226, 'active_month': 0.035946896629978443, 'actived_months': 0.036582321570407354, 'click_count': 0.080880517417451489, 'comsume_count': 0.066583456257800974, 'age': 0.028344491092703959, 'click_count_cum': 0.073731986837626232, 'plannum': 0.049358901622602973, 'sex': 0.005514580733008056, 'loan_count': 0.04132531487575173, 'loan_amount': 0.099648246907976856, 'limit': 0.031340065811868829, 'comsume_count_cum': 0.064563712697151929, 'loan_count_cum': 0.03472143424486554, 'loan_amount_cum': 0.10384659026438216, 'consume_amount': 0.10164529672075344, 'plannum_cum': 0.052445251333257691, 'active_year': 0.0022693747872461136}\n",
      "1.84403005261\n",
      "[Fold 4/10 Prediciton:]\n",
      "[0]\ttrain-rmse:2.46162\tvalid-rmse:2.45019\n",
      "Multiple eval metrics have been passed: 'valid-rmse' will be used for early stopping.\n",
      "\n",
      "Will train until valid-rmse hasn't improved in 70 rounds.\n",
      "[50]\ttrain-rmse:1.91748\tvalid-rmse:1.92314\n",
      "[100]\ttrain-rmse:1.85241\tvalid-rmse:1.86597\n",
      "[150]\ttrain-rmse:1.84067\tvalid-rmse:1.85955\n",
      "[200]\ttrain-rmse:1.83468\tvalid-rmse:1.8577\n",
      "[250]\ttrain-rmse:1.83051\tvalid-rmse:1.85659\n",
      "[300]\ttrain-rmse:1.8271\tvalid-rmse:1.8562\n",
      "[350]\ttrain-rmse:1.82392\tvalid-rmse:1.85586\n",
      "[400]\ttrain-rmse:1.82062\tvalid-rmse:1.85548\n",
      "[450]\ttrain-rmse:1.81723\tvalid-rmse:1.85524\n",
      "[500]\ttrain-rmse:1.81411\tvalid-rmse:1.85516\n",
      "[550]\ttrain-rmse:1.8112\tvalid-rmse:1.855\n",
      "[600]\ttrain-rmse:1.80845\tvalid-rmse:1.85499\n",
      "[650]\ttrain-rmse:1.80553\tvalid-rmse:1.85498\n",
      "Stopping. Best iteration:\n",
      "[590]\ttrain-rmse:1.80903\tvalid-rmse:1.85494\n",
      "\n",
      "{'consume_amount_cum': 0.086728325011348167, 'active_month': 0.036342487517022244, 'actived_months': 0.03886745347253745, 'click_count': 0.082813209260099857, 'comsume_count': 0.063124148887880163, 'age': 0.028228551974580119, 'click_count_cum': 0.073507716749886515, 'plannum': 0.051463912846118925, 'sex': 0.0063549704947798453, 'loan_count': 0.042186790739900136, 'loan_amount': 0.10516908760780753, 'limit': 0.032597594189741265, 'comsume_count_cum': 0.060514071720381299, 'loan_count_cum': 0.036257376305038586, 'loan_amount_cum': 0.10738197911938266, 'consume_amount': 0.095438039037675892, 'plannum_cum': 0.050158874262369493, 'active_year': 0.002865410803449841}\n",
      "1.85494162327\n",
      "[Fold 5/10 Prediciton:]\n",
      "[0]\ttrain-rmse:2.46144\tvalid-rmse:2.45175\n",
      "Multiple eval metrics have been passed: 'valid-rmse' will be used for early stopping.\n",
      "\n",
      "Will train until valid-rmse hasn't improved in 70 rounds.\n",
      "[50]\ttrain-rmse:1.91883\tvalid-rmse:1.91264\n",
      "[100]\ttrain-rmse:1.85387\tvalid-rmse:1.8524\n",
      "[150]\ttrain-rmse:1.84178\tvalid-rmse:1.84515\n",
      "[200]\ttrain-rmse:1.83567\tvalid-rmse:1.84326\n",
      "[250]\ttrain-rmse:1.83142\tvalid-rmse:1.84266\n",
      "[300]\ttrain-rmse:1.8279\tvalid-rmse:1.84227\n",
      "[350]\ttrain-rmse:1.82473\tvalid-rmse:1.84213\n",
      "[400]\ttrain-rmse:1.8215\tvalid-rmse:1.84223\n",
      "Stopping. Best iteration:\n",
      "[373]\ttrain-rmse:1.82322\tvalid-rmse:1.84204\n",
      "\n",
      "{'consume_amount_cum': 0.083309071247348501, 'active_month': 0.039970053653870151, 'actived_months': 0.040801896601921558, 'click_count': 0.083142702657738224, 'comsume_count': 0.060599758765545068, 'age': 0.026494197895437343, 'click_count_cum': 0.073867653786965026, 'plannum': 0.05182381566360271, 'sex': 0.0048662812461007362, 'loan_count': 0.04666638938568398, 'loan_amount': 0.1064758973505802, 'limit': 0.034396705901925714, 'comsume_count_cum': 0.058395374953208831, 'loan_count_cum': 0.040178014390883005, 'loan_amount_cum': 0.10880505760512416, 'consume_amount': 0.082685189036309947, 'plannum_cum': 0.05473526598178264, 'active_year': 0.0027866738759722166}\n"
     ]
    },
    {
     "name": "stdout",
     "output_type": "stream",
     "text": [
      "1.84204528819\n",
      "[Fold 6/10 Prediciton:]\n",
      "[0]\ttrain-rmse:2.46181\tvalid-rmse:2.44763\n",
      "Multiple eval metrics have been passed: 'valid-rmse' will be used for early stopping.\n",
      "\n",
      "Will train until valid-rmse hasn't improved in 70 rounds.\n",
      "[50]\ttrain-rmse:1.91654\tvalid-rmse:1.92955\n",
      "[100]\ttrain-rmse:1.85122\tvalid-rmse:1.87543\n",
      "[150]\ttrain-rmse:1.83905\tvalid-rmse:1.86992\n",
      "[200]\ttrain-rmse:1.83318\tvalid-rmse:1.86877\n",
      "[250]\ttrain-rmse:1.82885\tvalid-rmse:1.86799\n",
      "[300]\ttrain-rmse:1.82535\tvalid-rmse:1.86769\n",
      "[350]\ttrain-rmse:1.82201\tvalid-rmse:1.86744\n",
      "[400]\ttrain-rmse:1.81881\tvalid-rmse:1.86742\n",
      "Stopping. Best iteration:\n",
      "[373]\ttrain-rmse:1.82051\tvalid-rmse:1.86718\n",
      "\n",
      "{'consume_amount_cum': 0.08169528074977192, 'active_month': 0.04138674628846313, 'actived_months': 0.039562080119432692, 'click_count': 0.077589781869453436, 'comsume_count': 0.061292195405158831, 'age': 0.025545326366426143, 'click_count_cum': 0.075682176329103429, 'plannum': 0.052334743302645766, 'sex': 0.0048934229078543582, 'loan_count': 0.046404578253296837, 'loan_amount': 0.10674297088828066, 'limit': 0.036659202123247907, 'comsume_count_cum': 0.060628680434602303, 'loan_count_cum': 0.041303806917143568, 'loan_amount_cum': 0.10819440988637306, 'consume_amount': 0.083768765032761053, 'plannum_cum': 0.053164137015841419, 'active_year': 0.0031516961101434853}\n",
      "1.86718376823\n",
      "[Fold 7/10 Prediciton:]\n",
      "[0]\ttrain-rmse:2.46069\tvalid-rmse:2.4577\n",
      "Multiple eval metrics have been passed: 'valid-rmse' will be used for early stopping.\n",
      "\n",
      "Will train until valid-rmse hasn't improved in 70 rounds.\n",
      "[50]\ttrain-rmse:1.91844\tvalid-rmse:1.91724\n",
      "[100]\ttrain-rmse:1.8537\tvalid-rmse:1.85615\n",
      "[150]\ttrain-rmse:1.84155\tvalid-rmse:1.84833\n",
      "[200]\ttrain-rmse:1.83552\tvalid-rmse:1.84605\n",
      "[250]\ttrain-rmse:1.83164\tvalid-rmse:1.84515\n",
      "[300]\ttrain-rmse:1.82801\tvalid-rmse:1.84465\n",
      "[350]\ttrain-rmse:1.82443\tvalid-rmse:1.84418\n",
      "[400]\ttrain-rmse:1.82146\tvalid-rmse:1.84385\n",
      "[450]\ttrain-rmse:1.81852\tvalid-rmse:1.84358\n",
      "[500]\ttrain-rmse:1.81546\tvalid-rmse:1.84346\n",
      "[550]\ttrain-rmse:1.81269\tvalid-rmse:1.84356\n",
      "Stopping. Best iteration:\n",
      "[495]\ttrain-rmse:1.81579\tvalid-rmse:1.84338\n",
      "\n",
      "{'consume_amount_cum': 0.084822318166722019, 'active_month': 0.039920292261707076, 'actived_months': 0.03942211889737629, 'click_count': 0.08369312520757223, 'comsume_count': 0.065592826303553634, 'age': 0.026203918963799401, 'click_count_cum': 0.072201926270342082, 'plannum': 0.052407837927598802, 'sex': 0.0056791763533709733, 'loan_count': 0.044935237462637001, 'loan_amount': 0.10335436731982731, 'limit': 0.032945865161076053, 'comsume_count_cum': 0.06117568913982066, 'loan_count_cum': 0.040418465626037861, 'loan_amount_cum': 0.10358684822318166, 'consume_amount': 0.090102955828628359, 'plannum_cum': 0.050979740949850548, 'active_year': 0.0025572899368980404}\n",
      "1.84338441603\n",
      "[Fold 8/10 Prediciton:]\n",
      "[0]\ttrain-rmse:2.46078\tvalid-rmse:2.45742\n",
      "Multiple eval metrics have been passed: 'valid-rmse' will be used for early stopping.\n",
      "\n",
      "Will train until valid-rmse hasn't improved in 70 rounds.\n",
      "[50]\ttrain-rmse:1.91908\tvalid-rmse:1.91403\n",
      "[100]\ttrain-rmse:1.85412\tvalid-rmse:1.85175\n",
      "[150]\ttrain-rmse:1.842\tvalid-rmse:1.84385\n",
      "[200]\ttrain-rmse:1.83599\tvalid-rmse:1.84167\n",
      "[250]\ttrain-rmse:1.83208\tvalid-rmse:1.84124\n",
      "[300]\ttrain-rmse:1.82826\tvalid-rmse:1.84069\n",
      "[350]\ttrain-rmse:1.82503\tvalid-rmse:1.84033\n",
      "[400]\ttrain-rmse:1.82169\tvalid-rmse:1.84037\n",
      "[450]\ttrain-rmse:1.81862\tvalid-rmse:1.8401\n",
      "[500]\ttrain-rmse:1.81571\tvalid-rmse:1.84013\n",
      "Stopping. Best iteration:\n",
      "[455]\ttrain-rmse:1.81829\tvalid-rmse:1.84006\n",
      "\n",
      "{'consume_amount_cum': 0.085481682496607869, 'active_month': 0.038920231378990214, 'actived_months': 0.040169963579233019, 'click_count': 0.080054274084124827, 'comsume_count': 0.061772477326287226, 'age': 0.025708776690709135, 'click_count_cum': 0.074948225380275652, 'plannum': 0.050596300792687281, 'sex': 0.0043919160179961437, 'loan_count': 0.043883453545668784, 'loan_amount': 0.10454902520888382, 'limit': 0.033635649503677784, 'comsume_count_cum': 0.06027279868599586, 'loan_count_cum': 0.038456045133185748, 'loan_amount_cum': 0.10815539527244163, 'consume_amount': 0.092765835892308787, 'plannum_cum': 0.053238591730343496, 'active_year': 0.0029993572805827322}\n",
      "1.84006279908\n",
      "[Fold 9/10 Prediciton:]\n",
      "[0]\ttrain-rmse:2.46009\tvalid-rmse:2.465\n",
      "Multiple eval metrics have been passed: 'valid-rmse' will be used for early stopping.\n",
      "\n",
      "Will train until valid-rmse hasn't improved in 70 rounds.\n",
      "[50]\ttrain-rmse:1.91527\tvalid-rmse:1.92487\n",
      "[100]\ttrain-rmse:1.85271\tvalid-rmse:1.86598\n",
      "[150]\ttrain-rmse:1.84086\tvalid-rmse:1.85816\n",
      "[200]\ttrain-rmse:1.83527\tvalid-rmse:1.85601\n",
      "[250]\ttrain-rmse:1.83084\tvalid-rmse:1.85442\n",
      "[300]\ttrain-rmse:1.82722\tvalid-rmse:1.85385\n",
      "[350]\ttrain-rmse:1.82417\tvalid-rmse:1.85358\n",
      "[400]\ttrain-rmse:1.82097\tvalid-rmse:1.85345\n",
      "[450]\ttrain-rmse:1.81782\tvalid-rmse:1.85308\n",
      "[500]\ttrain-rmse:1.81522\tvalid-rmse:1.85298\n",
      "[550]\ttrain-rmse:1.81221\tvalid-rmse:1.85282\n",
      "[600]\ttrain-rmse:1.80919\tvalid-rmse:1.85272\n",
      "[650]\ttrain-rmse:1.80637\tvalid-rmse:1.85283\n",
      "Stopping. Best iteration:\n",
      "[587]\ttrain-rmse:1.81001\tvalid-rmse:1.85261\n",
      "\n",
      "{'consume_amount_cum': 0.088824634957351448, 'active_month': 0.037097007373138646, 'actived_months': 0.038571635101922797, 'click_count': 0.086598236229579295, 'comsume_count': 0.063755963568020824, 'age': 0.027179413040335405, 'click_count_cum': 0.072198930172039905, 'plannum': 0.051438484892294349, 'sex': 0.0052913112621078501, 'loan_count': 0.040624548214543879, 'loan_amount': 0.098800057828538387, 'limit': 0.033974266300419255, 'comsume_count_cum': 0.062512649992771438, 'loan_count_cum': 0.035622379644354489, 'loan_amount_cum': 0.10730085297094116, 'consume_amount': 0.097036287407835764, 'plannum_cum': 0.051120427931184043, 'active_year': 0.0020529131126210787}\n",
      "1.8526122783\n",
      "[Fold 10/10 Prediciton:]\n"
     ]
    }
   ],
   "source": [
    "for i, (train_index, test_index) in enumerate(skf.split(X, y)):\n",
    "    X_train, X_valid = X[train_index], X[test_index]\n",
    "    y_train, y_valid = y[train_index], y[test_index]\n",
    "    # Convert our data into XGBoost format\n",
    "    d_train = xgb.DMatrix(X_train, y_train)\n",
    "    d_valid = xgb.DMatrix(X_valid, y_valid)\n",
    "    d_submit = xgb.DMatrix(submit.values)\n",
    "    watchlist = [(d_train, 'train'), (d_valid, 'valid')]\n",
    "    mdl = xgb.train(params, d_train, 4000, watchlist, early_stopping_rounds = 70, verbose_eval = 50)\n",
    "\n",
    "    f_importance = get_xgb_imp(mdl,all_features)\n",
    "    print(f_importance)\n",
    "    importances.append(f_importance)\n",
    "\n",
    "    score_this = np.sqrt(mean_squared_error(mdl.predict(d_valid, ntree_limit = mdl.best_ntree_limit), y_valid))\n",
    "    print(score_this)\n",
    "    scores.append(score_this)\n",
    "\n",
    "    print('[Fold %d/%d Prediciton:]' % (i + 1, kfold))\n",
    "    # Predict on our test data\n",
    "    p_test = mdl.predict(d_submit, ntree_limit=mdl.best_ntree_limit)\n",
    "\n",
    "    sub['target'] += p_test / kfold"
   ]
  },
  {
   "cell_type": "code",
   "execution_count": 38,
   "metadata": {
    "scrolled": true
   },
   "outputs": [
    {
     "name": "stdout",
     "output_type": "stream",
     "text": [
      "[('active_year', 0.026840661303611985), ('sex', 0.052262832792648914), ('age', 0.26939972548077545), ('limit', 0.33641924495531011), ('loan_count_cum', 0.37878328139153666), ('active_month', 0.38305006635609484), ('actived_months', 0.38964778110455323), ('loan_count', 0.43828781561282348), ('plannum', 0.51320082130702416), ('plannum_cum', 0.51922169252726547), ('comsume_count_cum', 0.61101346059702322), ('comsume_count', 0.63285670878820166), ('click_count_cum', 0.73763392963077923), ('click_count', 0.82476070495765852), ('consume_amount_cum', 0.86203483710053674), ('consume_amount', 0.92089968854912418), ('loan_amount', 1.0387975254728001), ('loan_amount_cum', 1.0648892220722321)]\n",
      "cv avg scores 1.85079058977\n"
     ]
    }
   ],
   "source": [
    "imp_sum = merge_dic(importances)\n",
    "sort_rec = sorted(imp_sum.items(), key=lambda x:x[1])\n",
    "print(sort_rec)\n",
    "\n",
    "print('cv avg scores %s' % np.mean(scores))"
   ]
  },
  {
   "cell_type": "code",
   "execution_count": 53,
   "metadata": {},
   "outputs": [
    {
     "data": {
      "text/plain": [
       "[1.9582315980044378,\n",
       " 1.9469649895881047,\n",
       " 1.961923709968435,\n",
       " 1.9509096657266631,\n",
       " 1.9717851262963768,\n",
       " 1.9482733523629558,\n",
       " 1.9507409453458249,\n",
       " 1.9283989172430984,\n",
       " 1.9324870916566361,\n",
       " 1.9217251948081049]"
      ]
     },
     "execution_count": 53,
     "metadata": {},
     "output_type": "execute_result"
    }
   ],
   "source": [
    "scores"
   ]
  },
  {
   "cell_type": "code",
   "execution_count": 39,
   "metadata": {
    "collapsed": true
   },
   "outputs": [],
   "source": [
    "from datetime import datetime\n",
    "sub.to_csv(OUTPUT_PATH +\"submission{}.csv\".format(datetime.now().strftime('%Y%m%d_%H%M%S')), index=False)"
   ]
  },
  {
   "cell_type": "code",
   "execution_count": 326,
   "metadata": {
    "collapsed": true
   },
   "outputs": [],
   "source": [
    "all_features = [x for x in train.columns if not x in ['uid', 'target', 'active_date']]\n",
    "\n",
    "X = train.drop(['uid', 'target', 'active_date'], axis=1)\n",
    "y = train.target"
   ]
  },
  {
   "cell_type": "code",
   "execution_count": 348,
   "metadata": {
    "collapsed": true
   },
   "outputs": [],
   "source": [
    "xgb_params = {\n",
    "        'objective': ['reg:linear'],\n",
    "        'learning_rate': [0.025],\n",
    "        'max_depth': [6],\n",
    "        'min_child_weight': [2],\n",
    "        'silent': [1],\n",
    "        'subsample': [ 0.8],\n",
    "        'colsample_bytree': [0.8],\n",
    "        'n_estimators': [400],\n",
    "        'gamma': [1,3],\n",
    "        'reg_alpha': [0.5,0.8],\n",
    "        'reg_lambda': [0.8,1.3] \n",
    "    }"
   ]
  },
  {
   "cell_type": "code",
   "execution_count": 349,
   "metadata": {
    "collapsed": true
   },
   "outputs": [],
   "source": [
    "\n",
    "from sklearn.model_selection import GridSearchCV\n",
    "\n",
    "import xgboost as xgb\n"
   ]
  },
  {
   "cell_type": "code",
   "execution_count": 350,
   "metadata": {
    "scrolled": true
   },
   "outputs": [
    {
     "name": "stdout",
     "output_type": "stream",
     "text": [
      "Fitting 5 folds for each of 8 candidates, totalling 40 fits\n",
      "[CV] reg_alpha=0.5, colsample_bytree=0.8, silent=1, learning_rate=0.025, min_child_weight=2, n_estimators=400, subsample=0.8, reg_lambda=0.8, objective=reg:linear, max_depth=6, gamma=1 \n",
      "[CV] reg_alpha=0.5, colsample_bytree=0.8, silent=1, learning_rate=0.025, min_child_weight=2, n_estimators=400, subsample=0.8, reg_lambda=0.8, objective=reg:linear, max_depth=6, gamma=1 \n"
     ]
    },
    {
     "name": "stderr",
     "output_type": "stream",
     "text": [
      "/Library/Python/2.7/site-packages/sklearn/metrics/scorer.py:90: DeprecationWarning: Scoring method mean_squared_error was renamed to neg_mean_squared_error in version 0.18 and will be removed in 0.20.\n",
      "  sample_weight=sample_weight)\n",
      "/Library/Python/2.7/site-packages/sklearn/metrics/scorer.py:90: DeprecationWarning: Scoring method mean_squared_error was renamed to neg_mean_squared_error in version 0.18 and will be removed in 0.20.\n",
      "  sample_weight=sample_weight)\n",
      "/Library/Python/2.7/site-packages/sklearn/metrics/scorer.py:90: DeprecationWarning: Scoring method mean_squared_error was renamed to neg_mean_squared_error in version 0.18 and will be removed in 0.20.\n",
      "  sample_weight=sample_weight)\n",
      "/Library/Python/2.7/site-packages/sklearn/metrics/scorer.py:90: DeprecationWarning: Scoring method mean_squared_error was renamed to neg_mean_squared_error in version 0.18 and will be removed in 0.20.\n",
      "  sample_weight=sample_weight)\n"
     ]
    },
    {
     "name": "stdout",
     "output_type": "stream",
     "text": [
      "[CV]  reg_alpha=0.5, colsample_bytree=0.8, silent=1, learning_rate=0.025, min_child_weight=2, n_estimators=400, subsample=0.8, reg_lambda=0.8, objective=reg:linear, max_depth=6, gamma=1, total= 1.4min\n",
      "[CV] reg_alpha=0.5, colsample_bytree=0.8, silent=1, learning_rate=0.025, min_child_weight=2, n_estimators=400, subsample=0.8, reg_lambda=0.8, objective=reg:linear, max_depth=6, gamma=1 \n",
      "[CV]  reg_alpha=0.5, colsample_bytree=0.8, silent=1, learning_rate=0.025, min_child_weight=2, n_estimators=400, subsample=0.8, reg_lambda=0.8, objective=reg:linear, max_depth=6, gamma=1, total= 1.4min\n",
      "[CV] reg_alpha=0.5, colsample_bytree=0.8, silent=1, learning_rate=0.025, min_child_weight=2, n_estimators=400, subsample=0.8, reg_lambda=0.8, objective=reg:linear, max_depth=6, gamma=1 \n"
     ]
    },
    {
     "name": "stderr",
     "output_type": "stream",
     "text": [
      "/Library/Python/2.7/site-packages/sklearn/metrics/scorer.py:90: DeprecationWarning: Scoring method mean_squared_error was renamed to neg_mean_squared_error in version 0.18 and will be removed in 0.20.\n",
      "  sample_weight=sample_weight)\n",
      "/Library/Python/2.7/site-packages/sklearn/metrics/scorer.py:90: DeprecationWarning: Scoring method mean_squared_error was renamed to neg_mean_squared_error in version 0.18 and will be removed in 0.20.\n",
      "  sample_weight=sample_weight)\n",
      "/Library/Python/2.7/site-packages/sklearn/metrics/scorer.py:90: DeprecationWarning: Scoring method mean_squared_error was renamed to neg_mean_squared_error in version 0.18 and will be removed in 0.20.\n",
      "  sample_weight=sample_weight)\n",
      "/Library/Python/2.7/site-packages/sklearn/metrics/scorer.py:90: DeprecationWarning: Scoring method mean_squared_error was renamed to neg_mean_squared_error in version 0.18 and will be removed in 0.20.\n",
      "  sample_weight=sample_weight)\n"
     ]
    },
    {
     "name": "stdout",
     "output_type": "stream",
     "text": [
      "[CV]  reg_alpha=0.5, colsample_bytree=0.8, silent=1, learning_rate=0.025, min_child_weight=2, n_estimators=400, subsample=0.8, reg_lambda=0.8, objective=reg:linear, max_depth=6, gamma=1, total= 1.5min\n",
      "[CV] reg_alpha=0.5, colsample_bytree=0.8, silent=1, learning_rate=0.025, min_child_weight=2, n_estimators=400, subsample=0.8, reg_lambda=0.8, objective=reg:linear, max_depth=6, gamma=1 \n",
      "[CV]  reg_alpha=0.5, colsample_bytree=0.8, silent=1, learning_rate=0.025, min_child_weight=2, n_estimators=400, subsample=0.8, reg_lambda=0.8, objective=reg:linear, max_depth=6, gamma=1, total= 1.5min\n",
      "[CV] reg_alpha=0.5, colsample_bytree=0.8, silent=1, learning_rate=0.025, min_child_weight=2, n_estimators=400, subsample=0.8, reg_lambda=1.3, objective=reg:linear, max_depth=6, gamma=1 \n"
     ]
    },
    {
     "name": "stderr",
     "output_type": "stream",
     "text": [
      "/Library/Python/2.7/site-packages/sklearn/metrics/scorer.py:90: DeprecationWarning: Scoring method mean_squared_error was renamed to neg_mean_squared_error in version 0.18 and will be removed in 0.20.\n",
      "  sample_weight=sample_weight)\n",
      "/Library/Python/2.7/site-packages/sklearn/metrics/scorer.py:90: DeprecationWarning: Scoring method mean_squared_error was renamed to neg_mean_squared_error in version 0.18 and will be removed in 0.20.\n",
      "  sample_weight=sample_weight)\n"
     ]
    },
    {
     "name": "stdout",
     "output_type": "stream",
     "text": [
      "[CV]  reg_alpha=0.5, colsample_bytree=0.8, silent=1, learning_rate=0.025, min_child_weight=2, n_estimators=400, subsample=0.8, reg_lambda=0.8, objective=reg:linear, max_depth=6, gamma=1, total= 1.4min\n",
      "[CV] reg_alpha=0.5, colsample_bytree=0.8, silent=1, learning_rate=0.025, min_child_weight=2, n_estimators=400, subsample=0.8, reg_lambda=1.3, objective=reg:linear, max_depth=6, gamma=1 \n"
     ]
    },
    {
     "name": "stderr",
     "output_type": "stream",
     "text": [
      "/Library/Python/2.7/site-packages/sklearn/metrics/scorer.py:90: DeprecationWarning: Scoring method mean_squared_error was renamed to neg_mean_squared_error in version 0.18 and will be removed in 0.20.\n",
      "  sample_weight=sample_weight)\n",
      "/Library/Python/2.7/site-packages/sklearn/metrics/scorer.py:90: DeprecationWarning: Scoring method mean_squared_error was renamed to neg_mean_squared_error in version 0.18 and will be removed in 0.20.\n",
      "  sample_weight=sample_weight)\n"
     ]
    },
    {
     "name": "stdout",
     "output_type": "stream",
     "text": [
      "[CV]  reg_alpha=0.5, colsample_bytree=0.8, silent=1, learning_rate=0.025, min_child_weight=2, n_estimators=400, subsample=0.8, reg_lambda=1.3, objective=reg:linear, max_depth=6, gamma=1, total= 1.5min\n",
      "[CV] reg_alpha=0.5, colsample_bytree=0.8, silent=1, learning_rate=0.025, min_child_weight=2, n_estimators=400, subsample=0.8, reg_lambda=1.3, objective=reg:linear, max_depth=6, gamma=1 \n"
     ]
    },
    {
     "name": "stderr",
     "output_type": "stream",
     "text": [
      "/Library/Python/2.7/site-packages/sklearn/metrics/scorer.py:90: DeprecationWarning: Scoring method mean_squared_error was renamed to neg_mean_squared_error in version 0.18 and will be removed in 0.20.\n",
      "  sample_weight=sample_weight)\n",
      "/Library/Python/2.7/site-packages/sklearn/metrics/scorer.py:90: DeprecationWarning: Scoring method mean_squared_error was renamed to neg_mean_squared_error in version 0.18 and will be removed in 0.20.\n",
      "  sample_weight=sample_weight)\n",
      "/Library/Python/2.7/site-packages/sklearn/metrics/scorer.py:90: DeprecationWarning: Scoring method mean_squared_error was renamed to neg_mean_squared_error in version 0.18 and will be removed in 0.20.\n",
      "  sample_weight=sample_weight)\n",
      "/Library/Python/2.7/site-packages/sklearn/metrics/scorer.py:90: DeprecationWarning: Scoring method mean_squared_error was renamed to neg_mean_squared_error in version 0.18 and will be removed in 0.20.\n",
      "  sample_weight=sample_weight)\n"
     ]
    },
    {
     "name": "stdout",
     "output_type": "stream",
     "text": [
      "[CV]  reg_alpha=0.5, colsample_bytree=0.8, silent=1, learning_rate=0.025, min_child_weight=2, n_estimators=400, subsample=0.8, reg_lambda=1.3, objective=reg:linear, max_depth=6, gamma=1, total= 1.6min\n",
      "[CV] reg_alpha=0.5, colsample_bytree=0.8, silent=1, learning_rate=0.025, min_child_weight=2, n_estimators=400, subsample=0.8, reg_lambda=1.3, objective=reg:linear, max_depth=6, gamma=1 \n",
      "[CV]  reg_alpha=0.5, colsample_bytree=0.8, silent=1, learning_rate=0.025, min_child_weight=2, n_estimators=400, subsample=0.8, reg_lambda=1.3, objective=reg:linear, max_depth=6, gamma=1, total= 1.5min\n",
      "[CV] reg_alpha=0.5, colsample_bytree=0.8, silent=1, learning_rate=0.025, min_child_weight=2, n_estimators=400, subsample=0.8, reg_lambda=1.3, objective=reg:linear, max_depth=6, gamma=1 \n"
     ]
    },
    {
     "name": "stderr",
     "output_type": "stream",
     "text": [
      "/Library/Python/2.7/site-packages/sklearn/metrics/scorer.py:90: DeprecationWarning: Scoring method mean_squared_error was renamed to neg_mean_squared_error in version 0.18 and will be removed in 0.20.\n",
      "  sample_weight=sample_weight)\n",
      "/Library/Python/2.7/site-packages/sklearn/metrics/scorer.py:90: DeprecationWarning: Scoring method mean_squared_error was renamed to neg_mean_squared_error in version 0.18 and will be removed in 0.20.\n",
      "  sample_weight=sample_weight)\n",
      "/Library/Python/2.7/site-packages/sklearn/metrics/scorer.py:90: DeprecationWarning: Scoring method mean_squared_error was renamed to neg_mean_squared_error in version 0.18 and will be removed in 0.20.\n",
      "  sample_weight=sample_weight)\n",
      "/Library/Python/2.7/site-packages/sklearn/metrics/scorer.py:90: DeprecationWarning: Scoring method mean_squared_error was renamed to neg_mean_squared_error in version 0.18 and will be removed in 0.20.\n",
      "  sample_weight=sample_weight)\n"
     ]
    },
    {
     "name": "stdout",
     "output_type": "stream",
     "text": [
      "[CV]  reg_alpha=0.5, colsample_bytree=0.8, silent=1, learning_rate=0.025, min_child_weight=2, n_estimators=400, subsample=0.8, reg_lambda=1.3, objective=reg:linear, max_depth=6, gamma=1, total= 1.5min\n",
      "[CV] reg_alpha=0.8, colsample_bytree=0.8, silent=1, learning_rate=0.025, min_child_weight=2, n_estimators=400, subsample=0.8, reg_lambda=0.8, objective=reg:linear, max_depth=6, gamma=1 \n",
      "[CV]  reg_alpha=0.5, colsample_bytree=0.8, silent=1, learning_rate=0.025, min_child_weight=2, n_estimators=400, subsample=0.8, reg_lambda=1.3, objective=reg:linear, max_depth=6, gamma=1, total= 1.4min\n",
      "[CV] reg_alpha=0.8, colsample_bytree=0.8, silent=1, learning_rate=0.025, min_child_weight=2, n_estimators=400, subsample=0.8, reg_lambda=0.8, objective=reg:linear, max_depth=6, gamma=1 \n"
     ]
    },
    {
     "name": "stderr",
     "output_type": "stream",
     "text": [
      "/Library/Python/2.7/site-packages/sklearn/metrics/scorer.py:90: DeprecationWarning: Scoring method mean_squared_error was renamed to neg_mean_squared_error in version 0.18 and will be removed in 0.20.\n",
      "  sample_weight=sample_weight)\n",
      "/Library/Python/2.7/site-packages/sklearn/metrics/scorer.py:90: DeprecationWarning: Scoring method mean_squared_error was renamed to neg_mean_squared_error in version 0.18 and will be removed in 0.20.\n",
      "  sample_weight=sample_weight)\n",
      "/Library/Python/2.7/site-packages/sklearn/metrics/scorer.py:90: DeprecationWarning: Scoring method mean_squared_error was renamed to neg_mean_squared_error in version 0.18 and will be removed in 0.20.\n",
      "  sample_weight=sample_weight)\n",
      "/Library/Python/2.7/site-packages/sklearn/metrics/scorer.py:90: DeprecationWarning: Scoring method mean_squared_error was renamed to neg_mean_squared_error in version 0.18 and will be removed in 0.20.\n",
      "  sample_weight=sample_weight)\n"
     ]
    },
    {
     "name": "stdout",
     "output_type": "stream",
     "text": [
      "[CV]  reg_alpha=0.8, colsample_bytree=0.8, silent=1, learning_rate=0.025, min_child_weight=2, n_estimators=400, subsample=0.8, reg_lambda=0.8, objective=reg:linear, max_depth=6, gamma=1, total= 1.4min\n",
      "[CV] reg_alpha=0.8, colsample_bytree=0.8, silent=1, learning_rate=0.025, min_child_weight=2, n_estimators=400, subsample=0.8, reg_lambda=0.8, objective=reg:linear, max_depth=6, gamma=1 \n",
      "[CV]  reg_alpha=0.8, colsample_bytree=0.8, silent=1, learning_rate=0.025, min_child_weight=2, n_estimators=400, subsample=0.8, reg_lambda=0.8, objective=reg:linear, max_depth=6, gamma=1, total= 1.4min\n",
      "[CV] reg_alpha=0.8, colsample_bytree=0.8, silent=1, learning_rate=0.025, min_child_weight=2, n_estimators=400, subsample=0.8, reg_lambda=0.8, objective=reg:linear, max_depth=6, gamma=1 \n"
     ]
    },
    {
     "name": "stderr",
     "output_type": "stream",
     "text": [
      "/Library/Python/2.7/site-packages/sklearn/metrics/scorer.py:90: DeprecationWarning: Scoring method mean_squared_error was renamed to neg_mean_squared_error in version 0.18 and will be removed in 0.20.\n",
      "  sample_weight=sample_weight)\n",
      "/Library/Python/2.7/site-packages/sklearn/metrics/scorer.py:90: DeprecationWarning: Scoring method mean_squared_error was renamed to neg_mean_squared_error in version 0.18 and will be removed in 0.20.\n",
      "  sample_weight=sample_weight)\n",
      "/Library/Python/2.7/site-packages/sklearn/metrics/scorer.py:90: DeprecationWarning: Scoring method mean_squared_error was renamed to neg_mean_squared_error in version 0.18 and will be removed in 0.20.\n",
      "  sample_weight=sample_weight)\n",
      "/Library/Python/2.7/site-packages/sklearn/metrics/scorer.py:90: DeprecationWarning: Scoring method mean_squared_error was renamed to neg_mean_squared_error in version 0.18 and will be removed in 0.20.\n",
      "  sample_weight=sample_weight)\n"
     ]
    },
    {
     "name": "stdout",
     "output_type": "stream",
     "text": [
      "[CV]  reg_alpha=0.8, colsample_bytree=0.8, silent=1, learning_rate=0.025, min_child_weight=2, n_estimators=400, subsample=0.8, reg_lambda=0.8, objective=reg:linear, max_depth=6, gamma=1, total= 1.3min\n",
      "[CV] reg_alpha=0.8, colsample_bytree=0.8, silent=1, learning_rate=0.025, min_child_weight=2, n_estimators=400, subsample=0.8, reg_lambda=0.8, objective=reg:linear, max_depth=6, gamma=1 \n",
      "[CV]  reg_alpha=0.8, colsample_bytree=0.8, silent=1, learning_rate=0.025, min_child_weight=2, n_estimators=400, subsample=0.8, reg_lambda=0.8, objective=reg:linear, max_depth=6, gamma=1, total= 1.3min\n",
      "[CV] reg_alpha=0.8, colsample_bytree=0.8, silent=1, learning_rate=0.025, min_child_weight=2, n_estimators=400, subsample=0.8, reg_lambda=1.3, objective=reg:linear, max_depth=6, gamma=1 \n"
     ]
    },
    {
     "name": "stderr",
     "output_type": "stream",
     "text": [
      "/Library/Python/2.7/site-packages/sklearn/metrics/scorer.py:90: DeprecationWarning: Scoring method mean_squared_error was renamed to neg_mean_squared_error in version 0.18 and will be removed in 0.20.\n",
      "  sample_weight=sample_weight)\n",
      "/Library/Python/2.7/site-packages/sklearn/metrics/scorer.py:90: DeprecationWarning: Scoring method mean_squared_error was renamed to neg_mean_squared_error in version 0.18 and will be removed in 0.20.\n",
      "  sample_weight=sample_weight)\n",
      "/Library/Python/2.7/site-packages/sklearn/metrics/scorer.py:90: DeprecationWarning: Scoring method mean_squared_error was renamed to neg_mean_squared_error in version 0.18 and will be removed in 0.20.\n",
      "  sample_weight=sample_weight)\n",
      "/Library/Python/2.7/site-packages/sklearn/metrics/scorer.py:90: DeprecationWarning: Scoring method mean_squared_error was renamed to neg_mean_squared_error in version 0.18 and will be removed in 0.20.\n",
      "  sample_weight=sample_weight)\n"
     ]
    },
    {
     "name": "stdout",
     "output_type": "stream",
     "text": [
      "[CV]  reg_alpha=0.8, colsample_bytree=0.8, silent=1, learning_rate=0.025, min_child_weight=2, n_estimators=400, subsample=0.8, reg_lambda=0.8, objective=reg:linear, max_depth=6, gamma=1, total= 1.4min\n",
      "[CV] reg_alpha=0.8, colsample_bytree=0.8, silent=1, learning_rate=0.025, min_child_weight=2, n_estimators=400, subsample=0.8, reg_lambda=1.3, objective=reg:linear, max_depth=6, gamma=1 \n",
      "[CV]  reg_alpha=0.8, colsample_bytree=0.8, silent=1, learning_rate=0.025, min_child_weight=2, n_estimators=400, subsample=0.8, reg_lambda=1.3, objective=reg:linear, max_depth=6, gamma=1, total= 1.5min\n",
      "[CV] reg_alpha=0.8, colsample_bytree=0.8, silent=1, learning_rate=0.025, min_child_weight=2, n_estimators=400, subsample=0.8, reg_lambda=1.3, objective=reg:linear, max_depth=6, gamma=1 \n"
     ]
    },
    {
     "name": "stderr",
     "output_type": "stream",
     "text": [
      "/Library/Python/2.7/site-packages/sklearn/metrics/scorer.py:90: DeprecationWarning: Scoring method mean_squared_error was renamed to neg_mean_squared_error in version 0.18 and will be removed in 0.20.\n",
      "  sample_weight=sample_weight)\n",
      "/Library/Python/2.7/site-packages/sklearn/metrics/scorer.py:90: DeprecationWarning: Scoring method mean_squared_error was renamed to neg_mean_squared_error in version 0.18 and will be removed in 0.20.\n",
      "  sample_weight=sample_weight)\n",
      "/Library/Python/2.7/site-packages/sklearn/metrics/scorer.py:90: DeprecationWarning: Scoring method mean_squared_error was renamed to neg_mean_squared_error in version 0.18 and will be removed in 0.20.\n",
      "  sample_weight=sample_weight)\n",
      "/Library/Python/2.7/site-packages/sklearn/metrics/scorer.py:90: DeprecationWarning: Scoring method mean_squared_error was renamed to neg_mean_squared_error in version 0.18 and will be removed in 0.20.\n",
      "  sample_weight=sample_weight)\n"
     ]
    },
    {
     "name": "stdout",
     "output_type": "stream",
     "text": [
      "[CV]  reg_alpha=0.8, colsample_bytree=0.8, silent=1, learning_rate=0.025, min_child_weight=2, n_estimators=400, subsample=0.8, reg_lambda=1.3, objective=reg:linear, max_depth=6, gamma=1, total= 1.3min\n",
      "[CV] reg_alpha=0.8, colsample_bytree=0.8, silent=1, learning_rate=0.025, min_child_weight=2, n_estimators=400, subsample=0.8, reg_lambda=1.3, objective=reg:linear, max_depth=6, gamma=1 \n",
      "[CV]  reg_alpha=0.8, colsample_bytree=0.8, silent=1, learning_rate=0.025, min_child_weight=2, n_estimators=400, subsample=0.8, reg_lambda=1.3, objective=reg:linear, max_depth=6, gamma=1, total= 1.3min\n",
      "[CV] reg_alpha=0.8, colsample_bytree=0.8, silent=1, learning_rate=0.025, min_child_weight=2, n_estimators=400, subsample=0.8, reg_lambda=1.3, objective=reg:linear, max_depth=6, gamma=1 \n"
     ]
    },
    {
     "name": "stderr",
     "output_type": "stream",
     "text": [
      "/Library/Python/2.7/site-packages/sklearn/metrics/scorer.py:90: DeprecationWarning: Scoring method mean_squared_error was renamed to neg_mean_squared_error in version 0.18 and will be removed in 0.20.\n",
      "  sample_weight=sample_weight)\n",
      "/Library/Python/2.7/site-packages/sklearn/metrics/scorer.py:90: DeprecationWarning: Scoring method mean_squared_error was renamed to neg_mean_squared_error in version 0.18 and will be removed in 0.20.\n",
      "  sample_weight=sample_weight)\n",
      "/Library/Python/2.7/site-packages/sklearn/metrics/scorer.py:90: DeprecationWarning: Scoring method mean_squared_error was renamed to neg_mean_squared_error in version 0.18 and will be removed in 0.20.\n",
      "  sample_weight=sample_weight)\n",
      "/Library/Python/2.7/site-packages/sklearn/metrics/scorer.py:90: DeprecationWarning: Scoring method mean_squared_error was renamed to neg_mean_squared_error in version 0.18 and will be removed in 0.20.\n",
      "  sample_weight=sample_weight)\n"
     ]
    },
    {
     "name": "stdout",
     "output_type": "stream",
     "text": [
      "[CV]  reg_alpha=0.8, colsample_bytree=0.8, silent=1, learning_rate=0.025, min_child_weight=2, n_estimators=400, subsample=0.8, reg_lambda=1.3, objective=reg:linear, max_depth=6, gamma=1, total= 1.3min\n",
      "[CV] reg_alpha=0.5, colsample_bytree=0.8, silent=1, learning_rate=0.025, min_child_weight=2, n_estimators=400, subsample=0.8, reg_lambda=0.8, objective=reg:linear, max_depth=6, gamma=3 \n",
      "[CV]  reg_alpha=0.8, colsample_bytree=0.8, silent=1, learning_rate=0.025, min_child_weight=2, n_estimators=400, subsample=0.8, reg_lambda=1.3, objective=reg:linear, max_depth=6, gamma=1, total= 1.3min\n",
      "[CV] reg_alpha=0.5, colsample_bytree=0.8, silent=1, learning_rate=0.025, min_child_weight=2, n_estimators=400, subsample=0.8, reg_lambda=0.8, objective=reg:linear, max_depth=6, gamma=3 \n"
     ]
    },
    {
     "name": "stderr",
     "output_type": "stream",
     "text": [
      "/Library/Python/2.7/site-packages/sklearn/metrics/scorer.py:90: DeprecationWarning: Scoring method mean_squared_error was renamed to neg_mean_squared_error in version 0.18 and will be removed in 0.20.\n",
      "  sample_weight=sample_weight)\n",
      "/Library/Python/2.7/site-packages/sklearn/metrics/scorer.py:90: DeprecationWarning: Scoring method mean_squared_error was renamed to neg_mean_squared_error in version 0.18 and will be removed in 0.20.\n",
      "  sample_weight=sample_weight)\n",
      "/Library/Python/2.7/site-packages/sklearn/metrics/scorer.py:90: DeprecationWarning: Scoring method mean_squared_error was renamed to neg_mean_squared_error in version 0.18 and will be removed in 0.20.\n",
      "  sample_weight=sample_weight)\n",
      "/Library/Python/2.7/site-packages/sklearn/metrics/scorer.py:90: DeprecationWarning: Scoring method mean_squared_error was renamed to neg_mean_squared_error in version 0.18 and will be removed in 0.20.\n",
      "  sample_weight=sample_weight)\n"
     ]
    },
    {
     "name": "stdout",
     "output_type": "stream",
     "text": [
      "[CV]  reg_alpha=0.5, colsample_bytree=0.8, silent=1, learning_rate=0.025, min_child_weight=2, n_estimators=400, subsample=0.8, reg_lambda=0.8, objective=reg:linear, max_depth=6, gamma=3, total= 1.5min\n",
      "[CV] reg_alpha=0.5, colsample_bytree=0.8, silent=1, learning_rate=0.025, min_child_weight=2, n_estimators=400, subsample=0.8, reg_lambda=0.8, objective=reg:linear, max_depth=6, gamma=3 \n",
      "[CV]  reg_alpha=0.5, colsample_bytree=0.8, silent=1, learning_rate=0.025, min_child_weight=2, n_estimators=400, subsample=0.8, reg_lambda=0.8, objective=reg:linear, max_depth=6, gamma=3, total= 1.5min\n",
      "[CV] reg_alpha=0.5, colsample_bytree=0.8, silent=1, learning_rate=0.025, min_child_weight=2, n_estimators=400, subsample=0.8, reg_lambda=0.8, objective=reg:linear, max_depth=6, gamma=3 \n"
     ]
    },
    {
     "name": "stderr",
     "output_type": "stream",
     "text": [
      "/Library/Python/2.7/site-packages/sklearn/metrics/scorer.py:90: DeprecationWarning: Scoring method mean_squared_error was renamed to neg_mean_squared_error in version 0.18 and will be removed in 0.20.\n",
      "  sample_weight=sample_weight)\n",
      "/Library/Python/2.7/site-packages/sklearn/metrics/scorer.py:90: DeprecationWarning: Scoring method mean_squared_error was renamed to neg_mean_squared_error in version 0.18 and will be removed in 0.20.\n",
      "  sample_weight=sample_weight)\n",
      "/Library/Python/2.7/site-packages/sklearn/metrics/scorer.py:90: DeprecationWarning: Scoring method mean_squared_error was renamed to neg_mean_squared_error in version 0.18 and will be removed in 0.20.\n",
      "  sample_weight=sample_weight)\n",
      "/Library/Python/2.7/site-packages/sklearn/metrics/scorer.py:90: DeprecationWarning: Scoring method mean_squared_error was renamed to neg_mean_squared_error in version 0.18 and will be removed in 0.20.\n",
      "  sample_weight=sample_weight)\n"
     ]
    },
    {
     "name": "stdout",
     "output_type": "stream",
     "text": [
      "[CV]  reg_alpha=0.5, colsample_bytree=0.8, silent=1, learning_rate=0.025, min_child_weight=2, n_estimators=400, subsample=0.8, reg_lambda=0.8, objective=reg:linear, max_depth=6, gamma=3, total= 1.4min\n",
      "[CV] reg_alpha=0.5, colsample_bytree=0.8, silent=1, learning_rate=0.025, min_child_weight=2, n_estimators=400, subsample=0.8, reg_lambda=0.8, objective=reg:linear, max_depth=6, gamma=3 \n",
      "[CV]  reg_alpha=0.5, colsample_bytree=0.8, silent=1, learning_rate=0.025, min_child_weight=2, n_estimators=400, subsample=0.8, reg_lambda=0.8, objective=reg:linear, max_depth=6, gamma=3, total= 1.4min\n",
      "[CV] reg_alpha=0.5, colsample_bytree=0.8, silent=1, learning_rate=0.025, min_child_weight=2, n_estimators=400, subsample=0.8, reg_lambda=1.3, objective=reg:linear, max_depth=6, gamma=3 \n"
     ]
    },
    {
     "name": "stderr",
     "output_type": "stream",
     "text": [
      "/Library/Python/2.7/site-packages/sklearn/metrics/scorer.py:90: DeprecationWarning: Scoring method mean_squared_error was renamed to neg_mean_squared_error in version 0.18 and will be removed in 0.20.\n",
      "  sample_weight=sample_weight)\n",
      "/Library/Python/2.7/site-packages/sklearn/metrics/scorer.py:90: DeprecationWarning: Scoring method mean_squared_error was renamed to neg_mean_squared_error in version 0.18 and will be removed in 0.20.\n",
      "  sample_weight=sample_weight)\n",
      "/Library/Python/2.7/site-packages/sklearn/metrics/scorer.py:90: DeprecationWarning: Scoring method mean_squared_error was renamed to neg_mean_squared_error in version 0.18 and will be removed in 0.20.\n",
      "  sample_weight=sample_weight)\n"
     ]
    },
    {
     "name": "stdout",
     "output_type": "stream",
     "text": [
      "[CV]  reg_alpha=0.5, colsample_bytree=0.8, silent=1, learning_rate=0.025, min_child_weight=2, n_estimators=400, subsample=0.8, reg_lambda=0.8, objective=reg:linear, max_depth=6, gamma=3, total= 1.5min\n",
      "[CV] reg_alpha=0.5, colsample_bytree=0.8, silent=1, learning_rate=0.025, min_child_weight=2, n_estimators=400, subsample=0.8, reg_lambda=1.3, objective=reg:linear, max_depth=6, gamma=3 \n"
     ]
    },
    {
     "name": "stderr",
     "output_type": "stream",
     "text": [
      "/Library/Python/2.7/site-packages/sklearn/metrics/scorer.py:90: DeprecationWarning: Scoring method mean_squared_error was renamed to neg_mean_squared_error in version 0.18 and will be removed in 0.20.\n",
      "  sample_weight=sample_weight)\n"
     ]
    },
    {
     "name": "stdout",
     "output_type": "stream",
     "text": [
      "[CV]  reg_alpha=0.5, colsample_bytree=0.8, silent=1, learning_rate=0.025, min_child_weight=2, n_estimators=400, subsample=0.8, reg_lambda=1.3, objective=reg:linear, max_depth=6, gamma=3, total= 1.6min\n",
      "[CV] reg_alpha=0.5, colsample_bytree=0.8, silent=1, learning_rate=0.025, min_child_weight=2, n_estimators=400, subsample=0.8, reg_lambda=1.3, objective=reg:linear, max_depth=6, gamma=3 \n"
     ]
    },
    {
     "name": "stderr",
     "output_type": "stream",
     "text": [
      "/Library/Python/2.7/site-packages/sklearn/metrics/scorer.py:90: DeprecationWarning: Scoring method mean_squared_error was renamed to neg_mean_squared_error in version 0.18 and will be removed in 0.20.\n",
      "  sample_weight=sample_weight)\n",
      "/Library/Python/2.7/site-packages/sklearn/metrics/scorer.py:90: DeprecationWarning: Scoring method mean_squared_error was renamed to neg_mean_squared_error in version 0.18 and will be removed in 0.20.\n",
      "  sample_weight=sample_weight)\n",
      "/Library/Python/2.7/site-packages/sklearn/metrics/scorer.py:90: DeprecationWarning: Scoring method mean_squared_error was renamed to neg_mean_squared_error in version 0.18 and will be removed in 0.20.\n",
      "  sample_weight=sample_weight)\n",
      "/Library/Python/2.7/site-packages/sklearn/metrics/scorer.py:90: DeprecationWarning: Scoring method mean_squared_error was renamed to neg_mean_squared_error in version 0.18 and will be removed in 0.20.\n",
      "  sample_weight=sample_weight)\n"
     ]
    },
    {
     "name": "stdout",
     "output_type": "stream",
     "text": [
      "[CV]  reg_alpha=0.5, colsample_bytree=0.8, silent=1, learning_rate=0.025, min_child_weight=2, n_estimators=400, subsample=0.8, reg_lambda=1.3, objective=reg:linear, max_depth=6, gamma=3, total= 1.5min\n",
      "[CV] reg_alpha=0.5, colsample_bytree=0.8, silent=1, learning_rate=0.025, min_child_weight=2, n_estimators=400, subsample=0.8, reg_lambda=1.3, objective=reg:linear, max_depth=6, gamma=3 \n",
      "[CV]  reg_alpha=0.5, colsample_bytree=0.8, silent=1, learning_rate=0.025, min_child_weight=2, n_estimators=400, subsample=0.8, reg_lambda=1.3, objective=reg:linear, max_depth=6, gamma=3, total= 1.5min\n",
      "[CV] reg_alpha=0.5, colsample_bytree=0.8, silent=1, learning_rate=0.025, min_child_weight=2, n_estimators=400, subsample=0.8, reg_lambda=1.3, objective=reg:linear, max_depth=6, gamma=3 \n"
     ]
    },
    {
     "name": "stderr",
     "output_type": "stream",
     "text": [
      "/Library/Python/2.7/site-packages/sklearn/metrics/scorer.py:90: DeprecationWarning: Scoring method mean_squared_error was renamed to neg_mean_squared_error in version 0.18 and will be removed in 0.20.\n",
      "  sample_weight=sample_weight)\n",
      "/Library/Python/2.7/site-packages/sklearn/metrics/scorer.py:90: DeprecationWarning: Scoring method mean_squared_error was renamed to neg_mean_squared_error in version 0.18 and will be removed in 0.20.\n",
      "  sample_weight=sample_weight)\n",
      "/Library/Python/2.7/site-packages/sklearn/metrics/scorer.py:90: DeprecationWarning: Scoring method mean_squared_error was renamed to neg_mean_squared_error in version 0.18 and will be removed in 0.20.\n",
      "  sample_weight=sample_weight)\n",
      "/Library/Python/2.7/site-packages/sklearn/metrics/scorer.py:90: DeprecationWarning: Scoring method mean_squared_error was renamed to neg_mean_squared_error in version 0.18 and will be removed in 0.20.\n",
      "  sample_weight=sample_weight)\n"
     ]
    },
    {
     "name": "stdout",
     "output_type": "stream",
     "text": [
      "[CV]  reg_alpha=0.5, colsample_bytree=0.8, silent=1, learning_rate=0.025, min_child_weight=2, n_estimators=400, subsample=0.8, reg_lambda=1.3, objective=reg:linear, max_depth=6, gamma=3, total= 1.5min\n",
      "[CV] reg_alpha=0.8, colsample_bytree=0.8, silent=1, learning_rate=0.025, min_child_weight=2, n_estimators=400, subsample=0.8, reg_lambda=0.8, objective=reg:linear, max_depth=6, gamma=3 \n",
      "[CV]  reg_alpha=0.5, colsample_bytree=0.8, silent=1, learning_rate=0.025, min_child_weight=2, n_estimators=400, subsample=0.8, reg_lambda=1.3, objective=reg:linear, max_depth=6, gamma=3, total= 1.5min\n",
      "[CV] reg_alpha=0.8, colsample_bytree=0.8, silent=1, learning_rate=0.025, min_child_weight=2, n_estimators=400, subsample=0.8, reg_lambda=0.8, objective=reg:linear, max_depth=6, gamma=3 \n"
     ]
    },
    {
     "name": "stderr",
     "output_type": "stream",
     "text": [
      "/Library/Python/2.7/site-packages/sklearn/metrics/scorer.py:90: DeprecationWarning: Scoring method mean_squared_error was renamed to neg_mean_squared_error in version 0.18 and will be removed in 0.20.\n",
      "  sample_weight=sample_weight)\n",
      "/Library/Python/2.7/site-packages/sklearn/metrics/scorer.py:90: DeprecationWarning: Scoring method mean_squared_error was renamed to neg_mean_squared_error in version 0.18 and will be removed in 0.20.\n",
      "  sample_weight=sample_weight)\n",
      "/Library/Python/2.7/site-packages/sklearn/metrics/scorer.py:90: DeprecationWarning: Scoring method mean_squared_error was renamed to neg_mean_squared_error in version 0.18 and will be removed in 0.20.\n",
      "  sample_weight=sample_weight)\n",
      "/Library/Python/2.7/site-packages/sklearn/metrics/scorer.py:90: DeprecationWarning: Scoring method mean_squared_error was renamed to neg_mean_squared_error in version 0.18 and will be removed in 0.20.\n",
      "  sample_weight=sample_weight)\n"
     ]
    },
    {
     "name": "stdout",
     "output_type": "stream",
     "text": [
      "[CV]  reg_alpha=0.8, colsample_bytree=0.8, silent=1, learning_rate=0.025, min_child_weight=2, n_estimators=400, subsample=0.8, reg_lambda=0.8, objective=reg:linear, max_depth=6, gamma=3, total= 1.6min\n",
      "[CV] reg_alpha=0.8, colsample_bytree=0.8, silent=1, learning_rate=0.025, min_child_weight=2, n_estimators=400, subsample=0.8, reg_lambda=0.8, objective=reg:linear, max_depth=6, gamma=3 \n",
      "[CV]  reg_alpha=0.8, colsample_bytree=0.8, silent=1, learning_rate=0.025, min_child_weight=2, n_estimators=400, subsample=0.8, reg_lambda=0.8, objective=reg:linear, max_depth=6, gamma=3, total= 1.6min\n",
      "[CV] reg_alpha=0.8, colsample_bytree=0.8, silent=1, learning_rate=0.025, min_child_weight=2, n_estimators=400, subsample=0.8, reg_lambda=0.8, objective=reg:linear, max_depth=6, gamma=3 \n"
     ]
    },
    {
     "name": "stderr",
     "output_type": "stream",
     "text": [
      "/Library/Python/2.7/site-packages/sklearn/metrics/scorer.py:90: DeprecationWarning: Scoring method mean_squared_error was renamed to neg_mean_squared_error in version 0.18 and will be removed in 0.20.\n",
      "  sample_weight=sample_weight)\n",
      "/Library/Python/2.7/site-packages/sklearn/metrics/scorer.py:90: DeprecationWarning: Scoring method mean_squared_error was renamed to neg_mean_squared_error in version 0.18 and will be removed in 0.20.\n",
      "  sample_weight=sample_weight)\n",
      "/Library/Python/2.7/site-packages/sklearn/metrics/scorer.py:90: DeprecationWarning: Scoring method mean_squared_error was renamed to neg_mean_squared_error in version 0.18 and will be removed in 0.20.\n",
      "  sample_weight=sample_weight)\n",
      "/Library/Python/2.7/site-packages/sklearn/metrics/scorer.py:90: DeprecationWarning: Scoring method mean_squared_error was renamed to neg_mean_squared_error in version 0.18 and will be removed in 0.20.\n",
      "  sample_weight=sample_weight)\n"
     ]
    },
    {
     "name": "stdout",
     "output_type": "stream",
     "text": [
      "[CV]  reg_alpha=0.8, colsample_bytree=0.8, silent=1, learning_rate=0.025, min_child_weight=2, n_estimators=400, subsample=0.8, reg_lambda=0.8, objective=reg:linear, max_depth=6, gamma=3, total= 1.2min\n",
      "[CV] reg_alpha=0.8, colsample_bytree=0.8, silent=1, learning_rate=0.025, min_child_weight=2, n_estimators=400, subsample=0.8, reg_lambda=0.8, objective=reg:linear, max_depth=6, gamma=3 \n",
      "[CV]  reg_alpha=0.8, colsample_bytree=0.8, silent=1, learning_rate=0.025, min_child_weight=2, n_estimators=400, subsample=0.8, reg_lambda=0.8, objective=reg:linear, max_depth=6, gamma=3, total= 1.2min\n",
      "[CV] reg_alpha=0.8, colsample_bytree=0.8, silent=1, learning_rate=0.025, min_child_weight=2, n_estimators=400, subsample=0.8, reg_lambda=1.3, objective=reg:linear, max_depth=6, gamma=3 \n"
     ]
    },
    {
     "name": "stderr",
     "output_type": "stream",
     "text": [
      "/Library/Python/2.7/site-packages/sklearn/metrics/scorer.py:90: DeprecationWarning: Scoring method mean_squared_error was renamed to neg_mean_squared_error in version 0.18 and will be removed in 0.20.\n",
      "  sample_weight=sample_weight)\n",
      "/Library/Python/2.7/site-packages/sklearn/metrics/scorer.py:90: DeprecationWarning: Scoring method mean_squared_error was renamed to neg_mean_squared_error in version 0.18 and will be removed in 0.20.\n",
      "  sample_weight=sample_weight)\n",
      "/Library/Python/2.7/site-packages/sklearn/metrics/scorer.py:90: DeprecationWarning: Scoring method mean_squared_error was renamed to neg_mean_squared_error in version 0.18 and will be removed in 0.20.\n",
      "  sample_weight=sample_weight)\n"
     ]
    },
    {
     "name": "stdout",
     "output_type": "stream",
     "text": [
      "[CV]  reg_alpha=0.8, colsample_bytree=0.8, silent=1, learning_rate=0.025, min_child_weight=2, n_estimators=400, subsample=0.8, reg_lambda=0.8, objective=reg:linear, max_depth=6, gamma=3, total= 1.2min\n",
      "[CV] reg_alpha=0.8, colsample_bytree=0.8, silent=1, learning_rate=0.025, min_child_weight=2, n_estimators=400, subsample=0.8, reg_lambda=1.3, objective=reg:linear, max_depth=6, gamma=3 \n"
     ]
    },
    {
     "name": "stderr",
     "output_type": "stream",
     "text": [
      "/Library/Python/2.7/site-packages/sklearn/metrics/scorer.py:90: DeprecationWarning: Scoring method mean_squared_error was renamed to neg_mean_squared_error in version 0.18 and will be removed in 0.20.\n",
      "  sample_weight=sample_weight)\n"
     ]
    },
    {
     "name": "stdout",
     "output_type": "stream",
     "text": [
      "[CV]  reg_alpha=0.8, colsample_bytree=0.8, silent=1, learning_rate=0.025, min_child_weight=2, n_estimators=400, subsample=0.8, reg_lambda=1.3, objective=reg:linear, max_depth=6, gamma=3, total= 1.3min\n",
      "[CV] reg_alpha=0.8, colsample_bytree=0.8, silent=1, learning_rate=0.025, min_child_weight=2, n_estimators=400, subsample=0.8, reg_lambda=1.3, objective=reg:linear, max_depth=6, gamma=3 \n"
     ]
    },
    {
     "name": "stderr",
     "output_type": "stream",
     "text": [
      "/Library/Python/2.7/site-packages/sklearn/metrics/scorer.py:90: DeprecationWarning: Scoring method mean_squared_error was renamed to neg_mean_squared_error in version 0.18 and will be removed in 0.20.\n",
      "  sample_weight=sample_weight)\n",
      "/Library/Python/2.7/site-packages/sklearn/metrics/scorer.py:90: DeprecationWarning: Scoring method mean_squared_error was renamed to neg_mean_squared_error in version 0.18 and will be removed in 0.20.\n",
      "  sample_weight=sample_weight)\n",
      "/Library/Python/2.7/site-packages/sklearn/metrics/scorer.py:90: DeprecationWarning: Scoring method mean_squared_error was renamed to neg_mean_squared_error in version 0.18 and will be removed in 0.20.\n",
      "  sample_weight=sample_weight)\n",
      "/Library/Python/2.7/site-packages/sklearn/metrics/scorer.py:90: DeprecationWarning: Scoring method mean_squared_error was renamed to neg_mean_squared_error in version 0.18 and will be removed in 0.20.\n",
      "  sample_weight=sample_weight)\n"
     ]
    },
    {
     "name": "stdout",
     "output_type": "stream",
     "text": [
      "[CV]  reg_alpha=0.8, colsample_bytree=0.8, silent=1, learning_rate=0.025, min_child_weight=2, n_estimators=400, subsample=0.8, reg_lambda=1.3, objective=reg:linear, max_depth=6, gamma=3, total= 1.5min\n",
      "[CV] reg_alpha=0.8, colsample_bytree=0.8, silent=1, learning_rate=0.025, min_child_weight=2, n_estimators=400, subsample=0.8, reg_lambda=1.3, objective=reg:linear, max_depth=6, gamma=3 \n"
     ]
    },
    {
     "name": "stderr",
     "output_type": "stream",
     "text": [
      "[Parallel(n_jobs=2)]: Done  37 tasks      | elapsed: 28.4min\n"
     ]
    },
    {
     "name": "stdout",
     "output_type": "stream",
     "text": [
      "[CV]  reg_alpha=0.8, colsample_bytree=0.8, silent=1, learning_rate=0.025, min_child_weight=2, n_estimators=400, subsample=0.8, reg_lambda=1.3, objective=reg:linear, max_depth=6, gamma=3, total= 1.4min\n",
      "[CV] reg_alpha=0.8, colsample_bytree=0.8, silent=1, learning_rate=0.025, min_child_weight=2, n_estimators=400, subsample=0.8, reg_lambda=1.3, objective=reg:linear, max_depth=6, gamma=3 \n"
     ]
    },
    {
     "name": "stderr",
     "output_type": "stream",
     "text": [
      "/Library/Python/2.7/site-packages/sklearn/metrics/scorer.py:90: DeprecationWarning: Scoring method mean_squared_error was renamed to neg_mean_squared_error in version 0.18 and will be removed in 0.20.\n",
      "  sample_weight=sample_weight)\n",
      "/Library/Python/2.7/site-packages/sklearn/metrics/scorer.py:90: DeprecationWarning: Scoring method mean_squared_error was renamed to neg_mean_squared_error in version 0.18 and will be removed in 0.20.\n",
      "  sample_weight=sample_weight)\n",
      "/Library/Python/2.7/site-packages/sklearn/metrics/scorer.py:90: DeprecationWarning: Scoring method mean_squared_error was renamed to neg_mean_squared_error in version 0.18 and will be removed in 0.20.\n",
      "  sample_weight=sample_weight)\n",
      "/Library/Python/2.7/site-packages/sklearn/metrics/scorer.py:90: DeprecationWarning: Scoring method mean_squared_error was renamed to neg_mean_squared_error in version 0.18 and will be removed in 0.20.\n",
      "  sample_weight=sample_weight)\n"
     ]
    },
    {
     "name": "stdout",
     "output_type": "stream",
     "text": [
      "[CV]  reg_alpha=0.8, colsample_bytree=0.8, silent=1, learning_rate=0.025, min_child_weight=2, n_estimators=400, subsample=0.8, reg_lambda=1.3, objective=reg:linear, max_depth=6, gamma=3, total= 1.2min\n",
      "[CV]  reg_alpha=0.8, colsample_bytree=0.8, silent=1, learning_rate=0.025, min_child_weight=2, n_estimators=400, subsample=0.8, reg_lambda=1.3, objective=reg:linear, max_depth=6, gamma=3, total= 1.2min\n"
     ]
    },
    {
     "name": "stderr",
     "output_type": "stream",
     "text": [
      "[Parallel(n_jobs=2)]: Done  40 out of  40 | elapsed: 29.7min finished\n"
     ]
    }
   ],
   "source": [
    "modelXgboost = xgb.XGBRegressor()\n",
    "\n",
    "    # Run the grid search\n",
    "grid_obj_xgb = GridSearchCV(modelXgboost, xgb_params, cv=KFold(n_splits=5, shuffle=True, random_state=42), n_jobs=2, verbose=2, refit=True,scoring='mean_squared_error')\n",
    "grid_obj_xgb = grid_obj_xgb.fit(X, y)\n"
   ]
  },
  {
   "cell_type": "code",
   "execution_count": 351,
   "metadata": {},
   "outputs": [
    {
     "data": {
      "text/plain": [
       "{'colsample_bytree': 0.8,\n",
       " 'gamma': 1,\n",
       " 'learning_rate': 0.025,\n",
       " 'max_depth': 6,\n",
       " 'min_child_weight': 2,\n",
       " 'n_estimators': 400,\n",
       " 'objective': 'reg:linear',\n",
       " 'reg_alpha': 0.5,\n",
       " 'reg_lambda': 0.8,\n",
       " 'silent': 1,\n",
       " 'subsample': 0.8}"
      ]
     },
     "execution_count": 351,
     "metadata": {},
     "output_type": "execute_result"
    }
   ],
   "source": [
    "clf = grid_obj_xgb.best_estimator_\n",
    "grid_obj_xgb.best_params_"
   ]
  },
  {
   "cell_type": "code",
   "execution_count": 59,
   "metadata": {
    "collapsed": true
   },
   "outputs": [],
   "source": [
    "\n",
    "users = pd.read_csv(INPUT_PATH + 't_user.csv')\n",
    "orders = pd.read_csv(INPUT_PATH + 't_order.csv')\n",
    "loans = pd.read_csv(INPUT_PATH + 't_loan.csv')\n",
    "loans_sum = pd.read_csv(INPUT_PATH + 't_loan_sum.csv')\n",
    "clicks = pd.read_csv(INPUT_PATH + 't_click.csv')"
   ]
  },
  {
   "cell_type": "code",
   "execution_count": 64,
   "metadata": {
    "collapsed": true
   },
   "outputs": [],
   "source": [
    "loans.loan_amount = 5**loans.loan_amount\n",
    "loans_sum.loan_sum = 5 ** loans_sum.loan_sum - 1\n",
    "orders.price = 5 ** orders.price\n",
    "orders.discount = 5 ** orders.discount - 1\n",
    "users.limit = 5 ** users.limit -1\n"
   ]
  },
  {
   "cell_type": "code",
   "execution_count": 65,
   "metadata": {
    "collapsed": true
   },
   "outputs": [],
   "source": [
    "orders[\"consume_amount\"] = orders[\"price\"] * orders[\"qty\"] - orders[\"discount\"]"
   ]
  },
  {
   "cell_type": "code",
   "execution_count": 68,
   "metadata": {
    "collapsed": true
   },
   "outputs": [],
   "source": [
    "import matplotlib.pyplot as plt"
   ]
  },
  {
   "cell_type": "code",
   "execution_count": 69,
   "metadata": {},
   "outputs": [
    {
     "name": "stderr",
     "output_type": "stream",
     "text": [
      "/System/Library/Frameworks/Python.framework/Versions/2.7/Extras/lib/python/matplotlib/collections.py:548: FutureWarning: elementwise comparison failed; returning scalar instead, but in the future will perform elementwise comparison\n",
      "  if self._edgecolors == 'face':\n"
     ]
    }
   ],
   "source": [
    "plt.figure(figsize=(8,6))\n",
    "plt.scatter(range(orders.shape[0]), np.sort(orders.consume_amount.values))\n",
    "plt.xlabel('index', fontsize=12)\n",
    "plt.ylabel('consume_amount', fontsize=12)\n",
    "plt.show()"
   ]
  },
  {
   "cell_type": "code",
   "execution_count": 91,
   "metadata": {
    "collapsed": true
   },
   "outputs": [],
   "source": [
    "ulimit = np.percentile(orders.consume_amount.values, 99.9)\n",
    "llimit = 0\n"
   ]
  },
  {
   "cell_type": "code",
   "execution_count": 81,
   "metadata": {},
   "outputs": [
    {
     "data": {
      "text/plain": [
       "False"
      ]
     },
     "execution_count": 81,
     "metadata": {},
     "output_type": "execute_result"
    }
   ],
   "source": [
    "orders.consume_amount.isnull().values.any()"
   ]
  },
  {
   "cell_type": "code",
   "execution_count": 94,
   "metadata": {
    "collapsed": true
   },
   "outputs": [],
   "source": [
    "orders = orders[ orders.consume_amount > llimit ]\n",
    "orders = orders[ orders.consume_amount < ulimit ]"
   ]
  },
  {
   "cell_type": "code",
   "execution_count": 80,
   "metadata": {
    "collapsed": true
   },
   "outputs": [],
   "source": [
    "orders.consume_amount = orders.consume_amount.fillna(0)"
   ]
  },
  {
   "cell_type": "code",
   "execution_count": 79,
   "metadata": {},
   "outputs": [
    {
     "data": {
      "text/plain": [
       "count    395972.000000\n",
       "mean        999.471488\n",
       "std        1802.303636\n",
       "min           1.000000\n",
       "25%          30.000000\n",
       "50%          89.000000\n",
       "75%        1100.000000\n",
       "max       69888.999996\n",
       "Name: price, dtype: float64"
      ]
     },
     "execution_count": 79,
     "metadata": {},
     "output_type": "execute_result"
    }
   ],
   "source": [
    "orders[orders.cate_id==33].price.describe()"
   ]
  },
  {
   "cell_type": "code",
   "execution_count": 92,
   "metadata": {},
   "outputs": [
    {
     "data": {
      "text/plain": [
       "44036.000002161658"
      ]
     },
     "execution_count": 92,
     "metadata": {},
     "output_type": "execute_result"
    }
   ],
   "source": [
    "ulimit"
   ]
  },
  {
   "cell_type": "code",
   "execution_count": 93,
   "metadata": {},
   "outputs": [
    {
     "data": {
      "text/plain": [
       "0"
      ]
     },
     "execution_count": 93,
     "metadata": {},
     "output_type": "execute_result"
    }
   ],
   "source": [
    "llimit"
   ]
  },
  {
   "cell_type": "code",
   "execution_count": 96,
   "metadata": {},
   "outputs": [
    {
     "data": {
      "text/plain": [
       "(5384276, 7)"
      ]
     },
     "execution_count": 96,
     "metadata": {},
     "output_type": "execute_result"
    }
   ],
   "source": [
    "orders.shape"
   ]
  },
  {
   "cell_type": "code",
   "execution_count": 97,
   "metadata": {},
   "outputs": [
    {
     "data": {
      "text/plain": [
       "16502"
      ]
     },
     "execution_count": 97,
     "metadata": {},
     "output_type": "execute_result"
    }
   ],
   "source": [
    "5400778-5384276"
   ]
  },
  {
   "cell_type": "code",
   "execution_count": 113,
   "metadata": {
    "collapsed": true
   },
   "outputs": [],
   "source": [
    "user_info = pd.read_csv(OUTPUT_PATH + 'user_info.csv')"
   ]
  },
  {
   "cell_type": "code",
   "execution_count": 119,
   "metadata": {
    "collapsed": true
   },
   "outputs": [],
   "source": [
    "for c in user_info.columns:\n",
    "        user_info[c] = user_info[c].fillna(0)"
   ]
  },
  {
   "cell_type": "code",
   "execution_count": 122,
   "metadata": {
    "collapsed": true
   },
   "outputs": [],
   "source": [
    "for month in [8, 9, 10, 11, 12]:\n",
    "        user_info = cummulate_data_by_month(user_info, month)"
   ]
  },
  {
   "cell_type": "code",
   "execution_count": 121,
   "metadata": {
    "collapsed": true
   },
   "outputs": [],
   "source": [
    "CC = '{}_comsume_count'\n",
    "CM = '{}_consume_amount'\n",
    "LM = '{}_loan_amount'\n",
    "LC = '{}_loan_count'\n",
    "CKC = '{}_click_count'\n",
    "CUM = '_cum'\n",
    "basic = ['uid', 'age', 'sex', 'active_date', 'limit']\n",
    "TARGET = 'target'"
   ]
  },
  {
   "cell_type": "code",
   "execution_count": 123,
   "metadata": {},
   "outputs": [
    {
     "data": {
      "text/plain": [
       "['uid',\n",
       " 'age',\n",
       " 'sex',\n",
       " 'active_date',\n",
       " 'limit',\n",
       " '8_comsume_count',\n",
       " '9_comsume_count',\n",
       " '10_comsume_count',\n",
       " '11_comsume_count',\n",
       " '8_consume_amount',\n",
       " '9_consume_amount',\n",
       " '10_consume_amount',\n",
       " '11_consume_amount',\n",
       " '8_loan_amount',\n",
       " '9_loan_amount',\n",
       " '10_loan_amount',\n",
       " '11_loan_amount',\n",
       " '8_loan_count',\n",
       " '9_loan_count',\n",
       " '10_loan_count',\n",
       " '11_loan_count',\n",
       " '8_click_count',\n",
       " '9_click_count',\n",
       " '10_click_count',\n",
       " '11_click_count',\n",
       " '8_comsume_count_cum',\n",
       " '8_consume_amount_cum',\n",
       " '8_loan_amount_cum',\n",
       " '8_loan_count_cum',\n",
       " '8_click_count_cum',\n",
       " '9_comsume_count_cum',\n",
       " '9_consume_amount_cum',\n",
       " '9_loan_amount_cum',\n",
       " '9_loan_count_cum',\n",
       " '9_click_count_cum',\n",
       " '10_comsume_count_cum',\n",
       " '10_consume_amount_cum',\n",
       " '10_loan_amount_cum',\n",
       " '10_loan_count_cum',\n",
       " '10_click_count_cum',\n",
       " '11_comsume_count_cum',\n",
       " '11_consume_amount_cum',\n",
       " '11_loan_amount_cum',\n",
       " '11_loan_count_cum',\n",
       " '11_click_count_cum',\n",
       " '12_comsume_count_cum',\n",
       " '12_consume_amount_cum',\n",
       " '12_loan_amount_cum',\n",
       " '12_loan_count_cum',\n",
       " '12_click_count_cum']"
      ]
     },
     "execution_count": 123,
     "metadata": {},
     "output_type": "execute_result"
    }
   ],
   "source": [
    "list(user_info)"
   ]
  },
  {
   "cell_type": "code",
   "execution_count": 44,
   "metadata": {},
   "outputs": [
    {
     "data": {
      "text/plain": [
       "['age',\n",
       " 'sex',\n",
       " 'limit',\n",
       " 'comsume_count',\n",
       " 'consume_amount',\n",
       " 'loan_amount',\n",
       " 'loan_count',\n",
       " 'plannum',\n",
       " 'click_count',\n",
       " 'comsume_count_cum',\n",
       " 'consume_amount_cum',\n",
       " 'loan_amount_cum',\n",
       " 'loan_count_cum',\n",
       " 'click_count_cum',\n",
       " 'plannum_cum',\n",
       " 'active_month',\n",
       " 'active_year',\n",
       " 'actived_months']"
      ]
     },
     "execution_count": 44,
     "metadata": {},
     "output_type": "execute_result"
    }
   ],
   "source": [
    "all_features"
   ]
  },
  {
   "cell_type": "code",
   "execution_count": 43,
   "metadata": {},
   "outputs": [
    {
     "data": {
      "text/html": [
       "<div>\n",
       "<style>\n",
       "    .dataframe thead tr:only-child th {\n",
       "        text-align: right;\n",
       "    }\n",
       "\n",
       "    .dataframe thead th {\n",
       "        text-align: left;\n",
       "    }\n",
       "\n",
       "    .dataframe tbody tr th {\n",
       "        vertical-align: top;\n",
       "    }\n",
       "</style>\n",
       "<table border=\"1\" class=\"dataframe\">\n",
       "  <thead>\n",
       "    <tr style=\"text-align: right;\">\n",
       "      <th></th>\n",
       "      <th>uid</th>\n",
       "      <th>age</th>\n",
       "      <th>sex</th>\n",
       "      <th>active_date</th>\n",
       "      <th>limit</th>\n",
       "      <th>active_month</th>\n",
       "      <th>active_year</th>\n",
       "      <th>comsume_count</th>\n",
       "      <th>consume_amount</th>\n",
       "      <th>loan_amount</th>\n",
       "      <th>...</th>\n",
       "      <th>consume_amount_cum</th>\n",
       "      <th>loan_amount_cum</th>\n",
       "      <th>loan_count_cum</th>\n",
       "      <th>click_count_cum</th>\n",
       "      <th>plannum_cum</th>\n",
       "      <th>actived_months</th>\n",
       "      <th>comsume_counts_sum</th>\n",
       "      <th>comsume_amounts_sum</th>\n",
       "      <th>click_counts_sum</th>\n",
       "      <th>target</th>\n",
       "    </tr>\n",
       "  </thead>\n",
       "  <tbody>\n",
       "    <tr>\n",
       "      <th>0</th>\n",
       "      <td>26308</td>\n",
       "      <td>30</td>\n",
       "      <td>1</td>\n",
       "      <td>2016-02-16</td>\n",
       "      <td>15000.000001</td>\n",
       "      <td>2</td>\n",
       "      <td>1</td>\n",
       "      <td>1.0</td>\n",
       "      <td>700.000000</td>\n",
       "      <td>2500.0</td>\n",
       "      <td>...</td>\n",
       "      <td>0.0</td>\n",
       "      <td>0.0</td>\n",
       "      <td>0.0</td>\n",
       "      <td>0.0</td>\n",
       "      <td>0.0</td>\n",
       "      <td>6</td>\n",
       "      <td>3.0</td>\n",
       "      <td>1283.000000</td>\n",
       "      <td>213.0</td>\n",
       "      <td>5.070593</td>\n",
       "    </tr>\n",
       "    <tr>\n",
       "      <th>1</th>\n",
       "      <td>78209</td>\n",
       "      <td>40</td>\n",
       "      <td>1</td>\n",
       "      <td>2016-02-21</td>\n",
       "      <td>5000.000000</td>\n",
       "      <td>2</td>\n",
       "      <td>1</td>\n",
       "      <td>38.0</td>\n",
       "      <td>8429.100000</td>\n",
       "      <td>0.0</td>\n",
       "      <td>...</td>\n",
       "      <td>0.0</td>\n",
       "      <td>0.0</td>\n",
       "      <td>0.0</td>\n",
       "      <td>0.0</td>\n",
       "      <td>0.0</td>\n",
       "      <td>6</td>\n",
       "      <td>86.0</td>\n",
       "      <td>12510.600000</td>\n",
       "      <td>0.0</td>\n",
       "      <td>0.000000</td>\n",
       "    </tr>\n",
       "    <tr>\n",
       "      <th>2</th>\n",
       "      <td>51930</td>\n",
       "      <td>35</td>\n",
       "      <td>1</td>\n",
       "      <td>2016-04-19</td>\n",
       "      <td>24999.999999</td>\n",
       "      <td>4</td>\n",
       "      <td>1</td>\n",
       "      <td>2.0</td>\n",
       "      <td>790.000000</td>\n",
       "      <td>0.0</td>\n",
       "      <td>...</td>\n",
       "      <td>0.0</td>\n",
       "      <td>0.0</td>\n",
       "      <td>0.0</td>\n",
       "      <td>0.0</td>\n",
       "      <td>0.0</td>\n",
       "      <td>4</td>\n",
       "      <td>3.0</td>\n",
       "      <td>830.900000</td>\n",
       "      <td>35.0</td>\n",
       "      <td>6.405333</td>\n",
       "    </tr>\n",
       "    <tr>\n",
       "      <th>3</th>\n",
       "      <td>10113</td>\n",
       "      <td>25</td>\n",
       "      <td>1</td>\n",
       "      <td>2016-03-12</td>\n",
       "      <td>24999.999999</td>\n",
       "      <td>3</td>\n",
       "      <td>1</td>\n",
       "      <td>23.0</td>\n",
       "      <td>2251.800000</td>\n",
       "      <td>0.0</td>\n",
       "      <td>...</td>\n",
       "      <td>0.0</td>\n",
       "      <td>0.0</td>\n",
       "      <td>0.0</td>\n",
       "      <td>0.0</td>\n",
       "      <td>0.0</td>\n",
       "      <td>5</td>\n",
       "      <td>34.0</td>\n",
       "      <td>2775.000000</td>\n",
       "      <td>154.0</td>\n",
       "      <td>0.000000</td>\n",
       "    </tr>\n",
       "    <tr>\n",
       "      <th>4</th>\n",
       "      <td>17067</td>\n",
       "      <td>35</td>\n",
       "      <td>1</td>\n",
       "      <td>2016-02-16</td>\n",
       "      <td>15000.000001</td>\n",
       "      <td>2</td>\n",
       "      <td>1</td>\n",
       "      <td>51.0</td>\n",
       "      <td>19244.299999</td>\n",
       "      <td>0.0</td>\n",
       "      <td>...</td>\n",
       "      <td>0.0</td>\n",
       "      <td>0.0</td>\n",
       "      <td>0.0</td>\n",
       "      <td>0.0</td>\n",
       "      <td>0.0</td>\n",
       "      <td>6</td>\n",
       "      <td>148.0</td>\n",
       "      <td>33788.489999</td>\n",
       "      <td>62.0</td>\n",
       "      <td>0.000000</td>\n",
       "    </tr>\n",
       "  </tbody>\n",
       "</table>\n",
       "<p>5 rows × 24 columns</p>\n",
       "</div>"
      ],
      "text/plain": [
       "     uid  age  sex active_date         limit  active_month  active_year  \\\n",
       "0  26308   30    1  2016-02-16  15000.000001             2            1   \n",
       "1  78209   40    1  2016-02-21   5000.000000             2            1   \n",
       "2  51930   35    1  2016-04-19  24999.999999             4            1   \n",
       "3  10113   25    1  2016-03-12  24999.999999             3            1   \n",
       "4  17067   35    1  2016-02-16  15000.000001             2            1   \n",
       "\n",
       "   comsume_count  consume_amount  loan_amount    ...     consume_amount_cum  \\\n",
       "0            1.0      700.000000       2500.0    ...                    0.0   \n",
       "1           38.0     8429.100000          0.0    ...                    0.0   \n",
       "2            2.0      790.000000          0.0    ...                    0.0   \n",
       "3           23.0     2251.800000          0.0    ...                    0.0   \n",
       "4           51.0    19244.299999          0.0    ...                    0.0   \n",
       "\n",
       "   loan_amount_cum  loan_count_cum  click_count_cum  plannum_cum  \\\n",
       "0              0.0             0.0              0.0          0.0   \n",
       "1              0.0             0.0              0.0          0.0   \n",
       "2              0.0             0.0              0.0          0.0   \n",
       "3              0.0             0.0              0.0          0.0   \n",
       "4              0.0             0.0              0.0          0.0   \n",
       "\n",
       "   actived_months  comsume_counts_sum  comsume_amounts_sum  click_counts_sum  \\\n",
       "0               6                 3.0          1283.000000             213.0   \n",
       "1               6                86.0         12510.600000               0.0   \n",
       "2               4                 3.0           830.900000              35.0   \n",
       "3               5                34.0          2775.000000             154.0   \n",
       "4               6               148.0         33788.489999              62.0   \n",
       "\n",
       "     target  \n",
       "0  5.070593  \n",
       "1  0.000000  \n",
       "2  6.405333  \n",
       "3  0.000000  \n",
       "4  0.000000  \n",
       "\n",
       "[5 rows x 24 columns]"
      ]
     },
     "execution_count": 43,
     "metadata": {},
     "output_type": "execute_result"
    }
   ],
   "source": [
    "train.head()"
   ]
  },
  {
   "cell_type": "code",
   "execution_count": 45,
   "metadata": {},
   "outputs": [
    {
     "data": {
      "text/plain": [
       "['uid',\n",
       " 'age',\n",
       " 'sex',\n",
       " 'active_date',\n",
       " 'limit',\n",
       " 'active_month',\n",
       " 'active_year',\n",
       " 'comsume_count',\n",
       " 'consume_amount',\n",
       " 'loan_amount',\n",
       " 'loan_count',\n",
       " 'plannum',\n",
       " 'click_count',\n",
       " 'comsume_count_cum',\n",
       " 'consume_amount_cum',\n",
       " 'loan_amount_cum',\n",
       " 'loan_count_cum',\n",
       " 'click_count_cum',\n",
       " 'plannum_cum',\n",
       " 'actived_months',\n",
       " 'comsume_counts_sum',\n",
       " 'comsume_amounts_sum',\n",
       " 'click_counts_sum',\n",
       " 'target']"
      ]
     },
     "execution_count": 45,
     "metadata": {},
     "output_type": "execute_result"
    }
   ],
   "source": [
    "list(train)"
   ]
  },
  {
   "cell_type": "code",
   "execution_count": 50,
   "metadata": {},
   "outputs": [
    {
     "data": {
      "text/html": [
       "<div>\n",
       "<style>\n",
       "    .dataframe thead tr:only-child th {\n",
       "        text-align: right;\n",
       "    }\n",
       "\n",
       "    .dataframe thead th {\n",
       "        text-align: left;\n",
       "    }\n",
       "\n",
       "    .dataframe tbody tr th {\n",
       "        vertical-align: top;\n",
       "    }\n",
       "</style>\n",
       "<table border=\"1\" class=\"dataframe\">\n",
       "  <thead>\n",
       "    <tr style=\"text-align: right;\">\n",
       "      <th></th>\n",
       "      <th>uid</th>\n",
       "      <th>age</th>\n",
       "      <th>sex</th>\n",
       "      <th>active_date</th>\n",
       "      <th>limit</th>\n",
       "      <th>active_month</th>\n",
       "      <th>active_year</th>\n",
       "      <th>comsume_count</th>\n",
       "      <th>consume_amount</th>\n",
       "      <th>loan_amount</th>\n",
       "      <th>...</th>\n",
       "      <th>consume_amount_cum</th>\n",
       "      <th>loan_amount_cum</th>\n",
       "      <th>loan_count_cum</th>\n",
       "      <th>click_count_cum</th>\n",
       "      <th>plannum_cum</th>\n",
       "      <th>actived_months</th>\n",
       "      <th>comsume_counts_sum</th>\n",
       "      <th>comsume_amounts_sum</th>\n",
       "      <th>click_counts_sum</th>\n",
       "      <th>target</th>\n",
       "    </tr>\n",
       "  </thead>\n",
       "  <tbody>\n",
       "    <tr>\n",
       "      <th>0</th>\n",
       "      <td>26308</td>\n",
       "      <td>30</td>\n",
       "      <td>1</td>\n",
       "      <td>2016-02-16</td>\n",
       "      <td>15000.000001</td>\n",
       "      <td>2</td>\n",
       "      <td>1</td>\n",
       "      <td>1.0</td>\n",
       "      <td>700.0</td>\n",
       "      <td>2500.000000</td>\n",
       "      <td>...</td>\n",
       "      <td>0.0</td>\n",
       "      <td>0.0</td>\n",
       "      <td>0.0</td>\n",
       "      <td>0.0</td>\n",
       "      <td>0.0</td>\n",
       "      <td>6</td>\n",
       "      <td>3.0</td>\n",
       "      <td>1283.0</td>\n",
       "      <td>213.0</td>\n",
       "      <td>5.070593</td>\n",
       "    </tr>\n",
       "    <tr>\n",
       "      <th>90993</th>\n",
       "      <td>26308</td>\n",
       "      <td>30</td>\n",
       "      <td>1</td>\n",
       "      <td>2016-02-16</td>\n",
       "      <td>15000.000001</td>\n",
       "      <td>2</td>\n",
       "      <td>1</td>\n",
       "      <td>0.0</td>\n",
       "      <td>0.0</td>\n",
       "      <td>3500.000000</td>\n",
       "      <td>...</td>\n",
       "      <td>700.0</td>\n",
       "      <td>2502.0</td>\n",
       "      <td>2.0</td>\n",
       "      <td>55.0</td>\n",
       "      <td>2.0</td>\n",
       "      <td>7</td>\n",
       "      <td>3.0</td>\n",
       "      <td>1283.0</td>\n",
       "      <td>213.0</td>\n",
       "      <td>6.033893</td>\n",
       "    </tr>\n",
       "    <tr>\n",
       "      <th>181986</th>\n",
       "      <td>26308</td>\n",
       "      <td>30</td>\n",
       "      <td>1</td>\n",
       "      <td>2016-02-16</td>\n",
       "      <td>15000.000001</td>\n",
       "      <td>2</td>\n",
       "      <td>1</td>\n",
       "      <td>2.0</td>\n",
       "      <td>583.0</td>\n",
       "      <td>16500.000001</td>\n",
       "      <td>...</td>\n",
       "      <td>700.0</td>\n",
       "      <td>6004.0</td>\n",
       "      <td>4.0</td>\n",
       "      <td>87.0</td>\n",
       "      <td>4.0</td>\n",
       "      <td>8</td>\n",
       "      <td>3.0</td>\n",
       "      <td>1283.0</td>\n",
       "      <td>213.0</td>\n",
       "      <td>5.501180</td>\n",
       "    </tr>\n",
       "  </tbody>\n",
       "</table>\n",
       "<p>3 rows × 24 columns</p>\n",
       "</div>"
      ],
      "text/plain": [
       "          uid  age  sex active_date         limit  active_month  active_year  \\\n",
       "0       26308   30    1  2016-02-16  15000.000001             2            1   \n",
       "90993   26308   30    1  2016-02-16  15000.000001             2            1   \n",
       "181986  26308   30    1  2016-02-16  15000.000001             2            1   \n",
       "\n",
       "        comsume_count  consume_amount   loan_amount    ...     \\\n",
       "0                 1.0           700.0   2500.000000    ...      \n",
       "90993             0.0             0.0   3500.000000    ...      \n",
       "181986            2.0           583.0  16500.000001    ...      \n",
       "\n",
       "        consume_amount_cum  loan_amount_cum  loan_count_cum  click_count_cum  \\\n",
       "0                      0.0              0.0             0.0              0.0   \n",
       "90993                700.0           2502.0             2.0             55.0   \n",
       "181986               700.0           6004.0             4.0             87.0   \n",
       "\n",
       "        plannum_cum  actived_months  comsume_counts_sum  comsume_amounts_sum  \\\n",
       "0               0.0               6                 3.0               1283.0   \n",
       "90993           2.0               7                 3.0               1283.0   \n",
       "181986          4.0               8                 3.0               1283.0   \n",
       "\n",
       "        click_counts_sum    target  \n",
       "0                  213.0  5.070593  \n",
       "90993              213.0  6.033893  \n",
       "181986             213.0  5.501180  \n",
       "\n",
       "[3 rows x 24 columns]"
      ]
     },
     "execution_count": 50,
     "metadata": {},
     "output_type": "execute_result"
    }
   ],
   "source": [
    "train[train['uid']==26308]"
   ]
  },
  {
   "cell_type": "code",
   "execution_count": null,
   "metadata": {
    "collapsed": true
   },
   "outputs": [],
   "source": []
  }
 ],
 "metadata": {
  "kernelspec": {
   "display_name": "Python 2",
   "language": "python",
   "name": "python2"
  },
  "language_info": {
   "codemirror_mode": {
    "name": "ipython",
    "version": 2
   },
   "file_extension": ".py",
   "mimetype": "text/x-python",
   "name": "python",
   "nbconvert_exporter": "python",
   "pygments_lexer": "ipython2",
   "version": "2.7.10"
  }
 },
 "nbformat": 4,
 "nbformat_minor": 2
}
